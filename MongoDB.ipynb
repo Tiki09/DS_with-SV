{
 "cells": [
  {
   "cell_type": "markdown",
   "id": "d6f06d2b",
   "metadata": {},
   "source": [
    "3 points\n",
    "\n",
    "1) in No SQL,we can use master slave arch\n",
    "\n",
    "2) no need to use table structure\n",
    "\n",
    "3) in no sql data stored in document based"
   ]
  },
  {
   "cell_type": "code",
   "execution_count": 1,
   "id": "baa2a6c9",
   "metadata": {},
   "outputs": [
    {
     "name": "stdout",
     "output_type": "stream",
     "text": [
      "Collecting pymongo\n",
      "  Downloading pymongo-4.1.1-cp39-cp39-win_amd64.whl (365 kB)\n",
      "Installing collected packages: pymongo\n",
      "Successfully installed pymongo-4.1.1\n"
     ]
    }
   ],
   "source": [
    "!python -m pip install pymongo"
   ]
  },
  {
   "cell_type": "markdown",
   "id": "34f1fe76-4a29-459d-8ecc-c0132ca01790",
   "metadata": {},
   "source": [
    "### Create a DB"
   ]
  },
  {
   "cell_type": "code",
   "execution_count": 1,
   "id": "2799cf06",
   "metadata": {},
   "outputs": [],
   "source": [
    "import pymongo"
   ]
  },
  {
   "cell_type": "code",
   "execution_count": 2,
   "id": "dba001f8-3e2b-497c-b243-b9e9ec2bc533",
   "metadata": {},
   "outputs": [],
   "source": [
    "DEFAULT_CONNECTION_URL='mongodb://localhost:27017/'\n",
    "DB_NAME='Mongo'\n",
    "\n",
    "#establish a connection with mongodb\n",
    "client=pymongo.MongoClient(DEFAULT_CONNECTION_URL)\n",
    "\n",
    "#CREATE A DB\n",
    "database=client[DB_NAME]"
   ]
  },
  {
   "cell_type": "code",
   "execution_count": 3,
   "id": "5fe8033c-0f9e-4d91-909d-24f2c9d9b583",
   "metadata": {},
   "outputs": [
    {
     "data": {
      "text/plain": [
       "Database(MongoClient(host=['localhost:27017'], document_class=dict, tz_aware=False, connect=True), 'Mongo')"
      ]
     },
     "execution_count": 3,
     "metadata": {},
     "output_type": "execute_result"
    }
   ],
   "source": [
    "database"
   ]
  },
  {
   "cell_type": "code",
   "execution_count": 4,
   "id": "7d204b42-402c-4fb3-b3a3-2095b2c4cbb6",
   "metadata": {},
   "outputs": [
    {
     "data": {
      "text/plain": [
       "MongoClient(host=['localhost:27017'], document_class=dict, tz_aware=False, connect=True)"
      ]
     },
     "execution_count": 4,
     "metadata": {},
     "output_type": "execute_result"
    }
   ],
   "source": [
    "client"
   ]
  },
  {
   "cell_type": "code",
   "execution_count": 5,
   "id": "462a370d-1d2e-4919-81fa-ef1e9264d0bd",
   "metadata": {},
   "outputs": [
    {
     "data": {
      "text/plain": [
       "['admin', 'config', 'local']"
      ]
     },
     "execution_count": 5,
     "metadata": {},
     "output_type": "execute_result"
    }
   ],
   "source": [
    "#existing list of db names\n",
    "client.list_database_names()"
   ]
  },
  {
   "cell_type": "code",
   "execution_count": 7,
   "id": "2dfe2e31-24ff-40b7-b85a-36c84f485a93",
   "metadata": {},
   "outputs": [
    {
     "data": {
      "text/plain": [
       "[{'name': 'admin', 'sizeOnDisk': 40960, 'empty': False},\n",
       " {'name': 'config', 'sizeOnDisk': 36864, 'empty': False},\n",
       " {'name': 'local', 'sizeOnDisk': 106496, 'empty': False}]"
      ]
     },
     "execution_count": 7,
     "metadata": {},
     "output_type": "execute_result"
    }
   ],
   "source": [
    "list(client.list_databases())"
   ]
  },
  {
   "cell_type": "markdown",
   "id": "821562af",
   "metadata": {},
   "source": [
    "### write data in the db"
   ]
  },
  {
   "cell_type": "code",
   "execution_count": 8,
   "id": "c8936db3",
   "metadata": {},
   "outputs": [
    {
     "data": {
      "text/plain": [
       "MongoClient(host=['localhost:27017'], document_class=dict, tz_aware=False, connect=True)"
      ]
     },
     "execution_count": 8,
     "metadata": {},
     "output_type": "execute_result"
    }
   ],
   "source": [
    "import pymongo\n",
    "clnt=pymongo.MongoClient('mongodb://localhost:27017/')\n",
    "clnt"
   ]
  },
  {
   "cell_type": "code",
   "execution_count": 9,
   "id": "fad8d443",
   "metadata": {},
   "outputs": [],
   "source": [
    "# create db\n",
    "db_1=clnt['mongo1']"
   ]
  },
  {
   "cell_type": "code",
   "execution_count": 10,
   "id": "ad68eeb7",
   "metadata": {},
   "outputs": [
    {
     "data": {
      "text/plain": [
       "Database(MongoClient(host=['localhost:27017'], document_class=dict, tz_aware=False, connect=True), 'mongo1')"
      ]
     },
     "execution_count": 10,
     "metadata": {},
     "output_type": "execute_result"
    }
   ],
   "source": [
    "db_1"
   ]
  },
  {
   "cell_type": "markdown",
   "id": "6e3d4061",
   "metadata": {},
   "source": [
    "### in mongo db will not showing ,its already created still. so you have to write the data."
   ]
  },
  {
   "cell_type": "code",
   "execution_count": 11,
   "id": "68efb19d",
   "metadata": {},
   "outputs": [
    {
     "data": {
      "text/plain": [
       "['admin', 'config', 'local']"
      ]
     },
     "execution_count": 11,
     "metadata": {},
     "output_type": "execute_result"
    }
   ],
   "source": [
    "clnt.list_database_names()"
   ]
  },
  {
   "cell_type": "markdown",
   "id": "331f7549",
   "metadata": {},
   "source": [
    "### insert record in collection (table)"
   ]
  },
  {
   "cell_type": "code",
   "execution_count": 12,
   "id": "0b8827d8",
   "metadata": {},
   "outputs": [
    {
     "data": {
      "text/plain": [
       "Database(MongoClient(host=['localhost:27017'], document_class=dict, tz_aware=False, connect=True), 'mongo1')"
      ]
     },
     "execution_count": 12,
     "metadata": {},
     "output_type": "execute_result"
    }
   ],
   "source": [
    "db_1"
   ]
  },
  {
   "cell_type": "code",
   "execution_count": 13,
   "id": "274279bf",
   "metadata": {},
   "outputs": [],
   "source": [
    "collection=db_1['Wipro_Products']"
   ]
  },
  {
   "cell_type": "code",
   "execution_count": 19,
   "id": "2a35b7ec",
   "metadata": {},
   "outputs": [
    {
     "data": {
      "text/plain": [
       "<pymongo.results.InsertOneResult at 0x19e428d6b80>"
      ]
     },
     "execution_count": 19,
     "metadata": {},
     "output_type": "execute_result"
    }
   ],
   "source": [
    "collection.insert_one({\n",
    "    'company' : 'wipro',\n",
    "    'product' : 'handwash',\n",
    "    'courseOffered' : 'java'\n",
    "})"
   ]
  },
  {
   "cell_type": "code",
   "execution_count": 17,
   "id": "b2df724c",
   "metadata": {},
   "outputs": [
    {
     "data": {
      "text/plain": [
       "<pymongo.results.DeleteResult at 0x19e4297bf40>"
      ]
     },
     "execution_count": 17,
     "metadata": {},
     "output_type": "execute_result"
    }
   ],
   "source": [
    "collection.delete_one({'product':'bulb'})"
   ]
  },
  {
   "cell_type": "code",
   "execution_count": 20,
   "id": "4c85eb1a",
   "metadata": {},
   "outputs": [
    {
     "data": {
      "text/plain": [
       "<pymongo.results.InsertOneResult at 0x19e42447070>"
      ]
     },
     "execution_count": 20,
     "metadata": {},
     "output_type": "execute_result"
    }
   ],
   "source": [
    "# to insert data in list\n",
    "collection.insert_one({\n",
    "    'company' : 'wipro',\n",
    "    'product' : 'desktop',\n",
    "    'courseOffered' : 'java',\n",
    "    'location' :['bangalore','mumbai','pune']\n",
    "})"
   ]
  },
  {
   "cell_type": "code",
   "execution_count": 21,
   "id": "04da0248",
   "metadata": {},
   "outputs": [
    {
     "data": {
      "text/plain": [
       "<pymongo.results.InsertOneResult at 0x19e428dcbb0>"
      ]
     },
     "execution_count": 21,
     "metadata": {},
     "output_type": "execute_result"
    }
   ],
   "source": [
    "# to insert data in dict\n",
    "collection.insert_one({\n",
    "    'company' : 'wipro',\n",
    "    'product' : 'desktop',\n",
    "    'courseOffered' : 'java',\n",
    "    'location' :['bangalore','mumbai','pune'],\n",
    "    'record_dict':{'name':'tiki','email':'tiki@wipro.com'}\n",
    "})"
   ]
  },
  {
   "cell_type": "code",
   "execution_count": 22,
   "id": "43479e03",
   "metadata": {},
   "outputs": [],
   "source": [
    "coll=database['Employee']"
   ]
  },
  {
   "cell_type": "markdown",
   "id": "ba2192b1",
   "metadata": {},
   "source": [
    "### if you are going to insert multiple records, put that inside a list"
   ]
  },
  {
   "cell_type": "code",
   "execution_count": 33,
   "id": "a92dec6a",
   "metadata": {},
   "outputs": [],
   "source": [
    "record = coll.insert_many([{\n",
    "    'eid':'e1',\n",
    "    'enm':'tiki',\n",
    "    'skills':['java','python','sql']\n",
    "},\n",
    "{\n",
    "    'eid':'e2',\n",
    "    'enm':'sudh',\n",
    "    'skills':['java','hibernate']},\n",
    "{\n",
    "    'eid':'e3',\n",
    "    'enm':'tikeswari',\n",
    "    'skills':['python','sql','spark','hive']}\n",
    "])"
   ]
  },
  {
   "cell_type": "code",
   "execution_count": 34,
   "id": "b7591fea",
   "metadata": {},
   "outputs": [
    {
     "data": {
      "text/plain": [
       "[ObjectId('62b4265c1c4bd22657a69458'),\n",
       " ObjectId('62b4265c1c4bd22657a69459'),\n",
       " ObjectId('62b4265c1c4bd22657a6945a')]"
      ]
     },
     "execution_count": 34,
     "metadata": {},
     "output_type": "execute_result"
    }
   ],
   "source": [
    "### to get the id's of all the data that we hv inserted\n",
    "insert_data=record.inserted_ids\n",
    "insert_data"
   ]
  },
  {
   "cell_type": "code",
   "execution_count": 36,
   "id": "f74c277e",
   "metadata": {},
   "outputs": [
    {
     "name": "stdout",
     "output_type": "stream",
     "text": [
      "(0, ObjectId('62b4265c1c4bd22657a69458'))\n",
      "(1, ObjectId('62b4265c1c4bd22657a69459'))\n",
      "(2, ObjectId('62b4265c1c4bd22657a6945a'))\n"
     ]
    }
   ],
   "source": [
    "for i in enumerate(insert_data):\n",
    "    print(i)"
   ]
  },
  {
   "cell_type": "markdown",
   "id": "d4e7f95c",
   "metadata": {},
   "source": [
    "### Methods\n",
    "\n",
    "create own id using '_id'"
   ]
  },
  {
   "cell_type": "code",
   "execution_count": 44,
   "id": "1e6d9222",
   "metadata": {},
   "outputs": [],
   "source": [
    "# to find first record ---> find_one()\n",
    "frst_rcd=collection.find_one()"
   ]
  },
  {
   "cell_type": "code",
   "execution_count": 45,
   "id": "6a878339",
   "metadata": {},
   "outputs": [
    {
     "data": {
      "text/plain": [
       "{'_id': ObjectId('62b418e01c4bd22657a6944d'),\n",
       " 'company': 'wipro',\n",
       " 'product': 'handwash',\n",
       " 'courseOffered': 'java'}"
      ]
     },
     "execution_count": 45,
     "metadata": {},
     "output_type": "execute_result"
    }
   ],
   "source": [
    "frst_rcd"
   ]
  },
  {
   "cell_type": "code",
   "execution_count": 46,
   "id": "da4da9dd",
   "metadata": {},
   "outputs": [
    {
     "data": {
      "text/plain": [
       "5"
      ]
     },
     "execution_count": 46,
     "metadata": {},
     "output_type": "execute_result"
    }
   ],
   "source": [
    "collection.estimated_document_count()"
   ]
  },
  {
   "cell_type": "code",
   "execution_count": 47,
   "id": "0a1486a0",
   "metadata": {},
   "outputs": [
    {
     "data": {
      "text/plain": [
       "<pymongo.cursor.Cursor at 0x19e43ad6880>"
      ]
     },
     "execution_count": 47,
     "metadata": {},
     "output_type": "execute_result"
    }
   ],
   "source": [
    "collection.find()"
   ]
  },
  {
   "cell_type": "code",
   "execution_count": 50,
   "id": "59bcded7",
   "metadata": {},
   "outputs": [
    {
     "name": "stdout",
     "output_type": "stream",
     "text": [
      "{'_id': ObjectId('62b418e01c4bd22657a6944d'), 'company': 'wipro', 'product': 'handwash', 'courseOffered': 'java'}\n",
      "{'_id': ObjectId('62b41a0e1c4bd22657a6944e'), 'company': 'wipro', 'product': 'soap', 'courseOffered': 'java'}\n",
      "{'_id': ObjectId('62b41a151c4bd22657a6944f'), 'company': 'wipro', 'product': 'laptop', 'courseOffered': 'java'}\n",
      "{'_id': ObjectId('62b41a8f1c4bd22657a69450'), 'company': 'wipro', 'product': 'desktop', 'courseOffered': 'java', 'location': ['bangalore', 'mumbai', 'pune']}\n",
      "{'_id': ObjectId('62b41ba21c4bd22657a69451'), 'company': 'wipro', 'product': 'desktop', 'courseOffered': 'java', 'location': ['bangalore', 'mumbai', 'pune'], 'record_dict': {'name': 'tiki', 'email': 'tiki@wipro.com'}}\n"
     ]
    }
   ],
   "source": [
    "for i in collection.find():\n",
    "    print(i)"
   ]
  },
  {
   "cell_type": "code",
   "execution_count": 53,
   "id": "1d8d9128",
   "metadata": {},
   "outputs": [
    {
     "name": "stdout",
     "output_type": "stream",
     "text": [
      "{'_id': ObjectId('62b41a8f1c4bd22657a69450'), 'company': 'wipro', 'product': 'desktop', 'courseOffered': 'java', 'location': ['bangalore', 'mumbai', 'pune']}\n",
      "{'_id': ObjectId('62b41ba21c4bd22657a69451'), 'company': 'wipro', 'product': 'desktop', 'courseOffered': 'java', 'location': ['bangalore', 'mumbai', 'pune'], 'record_dict': {'name': 'tiki', 'email': 'tiki@wipro.com'}}\n"
     ]
    }
   ],
   "source": [
    "for i in collection.find():\n",
    "    if i['product']=='desktop':\n",
    "        print(i)"
   ]
  },
  {
   "cell_type": "code",
   "execution_count": 55,
   "id": "7e072039",
   "metadata": {},
   "outputs": [
    {
     "name": "stdout",
     "output_type": "stream",
     "text": [
      "{'_id': ObjectId('62b41a0e1c4bd22657a6944e'), 'company': 'wipro', 'product': 'soap', 'courseOffered': 'java'}\n"
     ]
    }
   ],
   "source": [
    "for i in collection.find({'product':'soap'}):\n",
    "     print(i)"
   ]
  },
  {
   "cell_type": "code",
   "execution_count": 64,
   "id": "b75f2408",
   "metadata": {},
   "outputs": [],
   "source": [
    "clct=db_1['emp']"
   ]
  },
  {
   "cell_type": "code",
   "execution_count": 65,
   "id": "654a3cc5",
   "metadata": {},
   "outputs": [
    {
     "data": {
      "text/plain": [
       "<pymongo.results.InsertManyResult at 0x19e434080a0>"
      ]
     },
     "execution_count": 65,
     "metadata": {},
     "output_type": "execute_result"
    }
   ],
   "source": [
    "clct.insert_many([{'_id':'101','name':'verma','age':122,'class':'iii'},\n",
    "                    {'_id':'10','name':'behera','age':12,'class':'ii'}])"
   ]
  },
  {
   "cell_type": "code",
   "execution_count": 76,
   "id": "c67343de",
   "metadata": {},
   "outputs": [
    {
     "name": "stdout",
     "output_type": "stream",
     "text": [
      "verma\n",
      "behera\n"
     ]
    }
   ],
   "source": [
    "for i in clct.find():\n",
    "    if i['_id']=='10' or i['_id']=='101':\n",
    "        print(i['name'])"
   ]
  },
  {
   "cell_type": "code",
   "execution_count": 77,
   "id": "d041c502",
   "metadata": {},
   "outputs": [
    {
     "data": {
      "text/plain": [
       "Collection(Database(MongoClient(host=['localhost:27017'], document_class=dict, tz_aware=False, connect=True), 'mongo1'), 'emp')"
      ]
     },
     "execution_count": 77,
     "metadata": {},
     "output_type": "execute_result"
    }
   ],
   "source": [
    "clct"
   ]
  },
  {
   "cell_type": "code",
   "execution_count": 80,
   "id": "8ed47ee2",
   "metadata": {},
   "outputs": [
    {
     "name": "stdout",
     "output_type": "stream",
     "text": [
      "verma iii\n"
     ]
    }
   ],
   "source": [
    "# greater than\n",
    "for i in clct.find({'_id':{'$gt':'10'}}):\n",
    "    print(i['name'],i['class'])"
   ]
  },
  {
   "cell_type": "code",
   "execution_count": 86,
   "id": "b5b2283c",
   "metadata": {},
   "outputs": [
    {
     "name": "stdout",
     "output_type": "stream",
     "text": [
      "behera ii\n",
      "xyz iii\n"
     ]
    }
   ],
   "source": [
    "# less than\n",
    "for i in clct.find({'_id':{'$lt':'101'}}):\n",
    "    print(i['name'],i['class'])"
   ]
  },
  {
   "cell_type": "code",
   "execution_count": null,
   "id": "6468acf9",
   "metadata": {},
   "outputs": [],
   "source": [
    "clct.insert_many([\n",
    "    {'_id':'103','name':'pqr','age':142,'class':'iii'},\n",
    "    {'_id':'15','name':'abc','age':13,'class':'ii'},\n",
    "    {'_id':'100','name':'xyz','age':102,'class':'iii'},\n",
    "    {'_id':'21','name':'abc','age':20,'class':'ii'}\n",
    "    ])"
   ]
  },
  {
   "cell_type": "markdown",
   "id": "9fedc1e6",
   "metadata": {},
   "source": [
    "### delete()"
   ]
  },
  {
   "cell_type": "code",
   "execution_count": 94,
   "id": "70c009c6",
   "metadata": {
    "scrolled": true
   },
   "outputs": [
    {
     "data": {
      "text/plain": [
       "<pymongo.results.DeleteResult at 0x19e43b5c460>"
      ]
     },
     "execution_count": 94,
     "metadata": {},
     "output_type": "execute_result"
    }
   ],
   "source": [
    "#delete_one()\n",
    "clct.delete_one({'_id':'11'})"
   ]
  },
  {
   "cell_type": "code",
   "execution_count": 95,
   "id": "1dae4f77",
   "metadata": {},
   "outputs": [
    {
     "name": "stdout",
     "output_type": "stream",
     "text": [
      "101\n",
      "10\n",
      "102\n",
      "103\n",
      "15\n",
      "100\n",
      "21\n"
     ]
    }
   ],
   "source": [
    "for i in clct.find():\n",
    "    print(i['_id'])"
   ]
  },
  {
   "cell_type": "code",
   "execution_count": null,
   "id": "caeb7f19",
   "metadata": {},
   "outputs": [],
   "source": [
    "# delete_many()\n",
    "clct.delete_many({'name':'abc'})"
   ]
  },
  {
   "cell_type": "code",
   "execution_count": 101,
   "id": "33289f6c",
   "metadata": {},
   "outputs": [
    {
     "name": "stdout",
     "output_type": "stream",
     "text": [
      "{'_id': '10', 'name': 'behera', 'age': 12, 'class': 'ii'}\n"
     ]
    }
   ],
   "source": [
    "for i in clct.find({'_id':{'$lt':'100'}}):\n",
    "    print(i)"
   ]
  },
  {
   "cell_type": "markdown",
   "id": "10f2b507",
   "metadata": {},
   "source": [
    "### update()\n",
    "\n",
    "_id we can't update because its immutable."
   ]
  },
  {
   "cell_type": "code",
   "execution_count": 110,
   "id": "53ed5001",
   "metadata": {},
   "outputs": [
    {
     "ename": "WriteError",
     "evalue": "Performing an update on the path '_id' would modify the immutable field '_id', full error: {'index': 0, 'code': 66, 'errmsg': \"Performing an update on the path '_id' would modify the immutable field '_id'\"}",
     "output_type": "error",
     "traceback": [
      "\u001b[1;31m---------------------------------------------------------------------------\u001b[0m",
      "\u001b[1;31mWriteError\u001b[0m                                Traceback (most recent call last)",
      "Input \u001b[1;32mIn [110]\u001b[0m, in \u001b[0;36m<cell line: 1>\u001b[1;34m()\u001b[0m\n\u001b[1;32m----> 1\u001b[0m \u001b[43mclct\u001b[49m\u001b[38;5;241;43m.\u001b[39;49m\u001b[43mupdate_one\u001b[49m\u001b[43m(\u001b[49m\u001b[43m{\u001b[49m\u001b[38;5;124;43m'\u001b[39;49m\u001b[38;5;124;43m_id\u001b[39;49m\u001b[38;5;124;43m'\u001b[39;49m\u001b[43m:\u001b[49m\u001b[38;5;124;43m'\u001b[39;49m\u001b[38;5;124;43m103\u001b[39;49m\u001b[38;5;124;43m'\u001b[39;49m\u001b[43m}\u001b[49m\u001b[43m,\u001b[49m\u001b[43m{\u001b[49m\u001b[38;5;124;43m'\u001b[39;49m\u001b[38;5;124;43m$set\u001b[39;49m\u001b[38;5;124;43m'\u001b[39;49m\u001b[43m:\u001b[49m\u001b[43m{\u001b[49m\u001b[38;5;124;43m'\u001b[39;49m\u001b[38;5;124;43m_id\u001b[39;49m\u001b[38;5;124;43m'\u001b[39;49m\u001b[43m:\u001b[49m\u001b[38;5;124;43m'\u001b[39;49m\u001b[38;5;124;43m51\u001b[39;49m\u001b[38;5;124;43m'\u001b[39;49m\u001b[43m}\u001b[49m\u001b[43m}\u001b[49m\u001b[43m)\u001b[49m\n",
      "File \u001b[1;32m~\\anaconda3\\lib\\site-packages\\pymongo\\collection.py:1007\u001b[0m, in \u001b[0;36mCollection.update_one\u001b[1;34m(self, filter, update, upsert, bypass_document_validation, collation, array_filters, hint, session, let, comment)\u001b[0m\n\u001b[0;32m   1003\u001b[0m common\u001b[38;5;241m.\u001b[39mvalidate_list_or_none(\u001b[38;5;124m\"\u001b[39m\u001b[38;5;124marray_filters\u001b[39m\u001b[38;5;124m\"\u001b[39m, array_filters)\n\u001b[0;32m   1005\u001b[0m write_concern \u001b[38;5;241m=\u001b[39m \u001b[38;5;28mself\u001b[39m\u001b[38;5;241m.\u001b[39m_write_concern_for(session)\n\u001b[0;32m   1006\u001b[0m \u001b[38;5;28;01mreturn\u001b[39;00m UpdateResult(\n\u001b[1;32m-> 1007\u001b[0m     \u001b[38;5;28;43mself\u001b[39;49m\u001b[38;5;241;43m.\u001b[39;49m\u001b[43m_update_retryable\u001b[49m\u001b[43m(\u001b[49m\n\u001b[0;32m   1008\u001b[0m \u001b[43m        \u001b[49m\u001b[38;5;28;43mfilter\u001b[39;49m\u001b[43m,\u001b[49m\n\u001b[0;32m   1009\u001b[0m \u001b[43m        \u001b[49m\u001b[43mupdate\u001b[49m\u001b[43m,\u001b[49m\n\u001b[0;32m   1010\u001b[0m \u001b[43m        \u001b[49m\u001b[43mupsert\u001b[49m\u001b[43m,\u001b[49m\n\u001b[0;32m   1011\u001b[0m \u001b[43m        \u001b[49m\u001b[43mwrite_concern\u001b[49m\u001b[38;5;241;43m=\u001b[39;49m\u001b[43mwrite_concern\u001b[49m\u001b[43m,\u001b[49m\n\u001b[0;32m   1012\u001b[0m \u001b[43m        \u001b[49m\u001b[43mbypass_doc_val\u001b[49m\u001b[38;5;241;43m=\u001b[39;49m\u001b[43mbypass_document_validation\u001b[49m\u001b[43m,\u001b[49m\n\u001b[0;32m   1013\u001b[0m \u001b[43m        \u001b[49m\u001b[43mcollation\u001b[49m\u001b[38;5;241;43m=\u001b[39;49m\u001b[43mcollation\u001b[49m\u001b[43m,\u001b[49m\n\u001b[0;32m   1014\u001b[0m \u001b[43m        \u001b[49m\u001b[43marray_filters\u001b[49m\u001b[38;5;241;43m=\u001b[39;49m\u001b[43marray_filters\u001b[49m\u001b[43m,\u001b[49m\n\u001b[0;32m   1015\u001b[0m \u001b[43m        \u001b[49m\u001b[43mhint\u001b[49m\u001b[38;5;241;43m=\u001b[39;49m\u001b[43mhint\u001b[49m\u001b[43m,\u001b[49m\n\u001b[0;32m   1016\u001b[0m \u001b[43m        \u001b[49m\u001b[43msession\u001b[49m\u001b[38;5;241;43m=\u001b[39;49m\u001b[43msession\u001b[49m\u001b[43m,\u001b[49m\n\u001b[0;32m   1017\u001b[0m \u001b[43m        \u001b[49m\u001b[43mlet\u001b[49m\u001b[38;5;241;43m=\u001b[39;49m\u001b[43mlet\u001b[49m\u001b[43m,\u001b[49m\n\u001b[0;32m   1018\u001b[0m \u001b[43m        \u001b[49m\u001b[43mcomment\u001b[49m\u001b[38;5;241;43m=\u001b[39;49m\u001b[43mcomment\u001b[49m\u001b[43m,\u001b[49m\n\u001b[0;32m   1019\u001b[0m \u001b[43m    \u001b[49m\u001b[43m)\u001b[49m,\n\u001b[0;32m   1020\u001b[0m     write_concern\u001b[38;5;241m.\u001b[39macknowledged,\n\u001b[0;32m   1021\u001b[0m )\n",
      "File \u001b[1;32m~\\anaconda3\\lib\\site-packages\\pymongo\\collection.py:815\u001b[0m, in \u001b[0;36mCollection._update_retryable\u001b[1;34m(self, criteria, document, upsert, multi, write_concern, op_id, ordered, bypass_doc_val, collation, array_filters, hint, session, let, comment)\u001b[0m\n\u001b[0;32m    795\u001b[0m \u001b[38;5;28;01mdef\u001b[39;00m \u001b[38;5;21m_update\u001b[39m(session, sock_info, retryable_write):\n\u001b[0;32m    796\u001b[0m     \u001b[38;5;28;01mreturn\u001b[39;00m \u001b[38;5;28mself\u001b[39m\u001b[38;5;241m.\u001b[39m_update(\n\u001b[0;32m    797\u001b[0m         sock_info,\n\u001b[0;32m    798\u001b[0m         criteria,\n\u001b[1;32m   (...)\u001b[0m\n\u001b[0;32m    812\u001b[0m         comment\u001b[38;5;241m=\u001b[39mcomment,\n\u001b[0;32m    813\u001b[0m     )\n\u001b[1;32m--> 815\u001b[0m \u001b[38;5;28;01mreturn\u001b[39;00m \u001b[38;5;28;43mself\u001b[39;49m\u001b[38;5;241;43m.\u001b[39;49m\u001b[43m__database\u001b[49m\u001b[38;5;241;43m.\u001b[39;49m\u001b[43mclient\u001b[49m\u001b[38;5;241;43m.\u001b[39;49m\u001b[43m_retryable_write\u001b[49m\u001b[43m(\u001b[49m\n\u001b[0;32m    816\u001b[0m \u001b[43m    \u001b[49m\u001b[43m(\u001b[49m\u001b[43mwrite_concern\u001b[49m\u001b[43m \u001b[49m\u001b[38;5;129;43;01mor\u001b[39;49;00m\u001b[43m \u001b[49m\u001b[38;5;28;43mself\u001b[39;49m\u001b[38;5;241;43m.\u001b[39;49m\u001b[43mwrite_concern\u001b[49m\u001b[43m)\u001b[49m\u001b[38;5;241;43m.\u001b[39;49m\u001b[43macknowledged\u001b[49m\u001b[43m \u001b[49m\u001b[38;5;129;43;01mand\u001b[39;49;00m\u001b[43m \u001b[49m\u001b[38;5;129;43;01mnot\u001b[39;49;00m\u001b[43m \u001b[49m\u001b[43mmulti\u001b[49m\u001b[43m,\u001b[49m\u001b[43m \u001b[49m\u001b[43m_update\u001b[49m\u001b[43m,\u001b[49m\u001b[43m \u001b[49m\u001b[43msession\u001b[49m\n\u001b[0;32m    817\u001b[0m \u001b[43m\u001b[49m\u001b[43m)\u001b[49m\n",
      "File \u001b[1;32m~\\anaconda3\\lib\\site-packages\\pymongo\\mongo_client.py:1399\u001b[0m, in \u001b[0;36mMongoClient._retryable_write\u001b[1;34m(self, retryable, func, session)\u001b[0m\n\u001b[0;32m   1397\u001b[0m \u001b[38;5;124;03m\"\"\"Internal retryable write helper.\"\"\"\u001b[39;00m\n\u001b[0;32m   1398\u001b[0m \u001b[38;5;28;01mwith\u001b[39;00m \u001b[38;5;28mself\u001b[39m\u001b[38;5;241m.\u001b[39m_tmp_session(session) \u001b[38;5;28;01mas\u001b[39;00m s:\n\u001b[1;32m-> 1399\u001b[0m     \u001b[38;5;28;01mreturn\u001b[39;00m \u001b[38;5;28;43mself\u001b[39;49m\u001b[38;5;241;43m.\u001b[39;49m\u001b[43m_retry_with_session\u001b[49m\u001b[43m(\u001b[49m\u001b[43mretryable\u001b[49m\u001b[43m,\u001b[49m\u001b[43m \u001b[49m\u001b[43mfunc\u001b[49m\u001b[43m,\u001b[49m\u001b[43m \u001b[49m\u001b[43ms\u001b[49m\u001b[43m,\u001b[49m\u001b[43m \u001b[49m\u001b[38;5;28;43;01mNone\u001b[39;49;00m\u001b[43m)\u001b[49m\n",
      "File \u001b[1;32m~\\anaconda3\\lib\\site-packages\\pymongo\\mongo_client.py:1286\u001b[0m, in \u001b[0;36mMongoClient._retry_with_session\u001b[1;34m(self, retryable, func, session, bulk)\u001b[0m\n\u001b[0;32m   1276\u001b[0m \u001b[38;5;124;03m\"\"\"Execute an operation with at most one consecutive retries\u001b[39;00m\n\u001b[0;32m   1277\u001b[0m \n\u001b[0;32m   1278\u001b[0m \u001b[38;5;124;03mReturns func()'s return value on success. On error retries the same\u001b[39;00m\n\u001b[1;32m   (...)\u001b[0m\n\u001b[0;32m   1281\u001b[0m \u001b[38;5;124;03mRe-raises any exception thrown by func().\u001b[39;00m\n\u001b[0;32m   1282\u001b[0m \u001b[38;5;124;03m\"\"\"\u001b[39;00m\n\u001b[0;32m   1283\u001b[0m retryable \u001b[38;5;241m=\u001b[39m (\n\u001b[0;32m   1284\u001b[0m     retryable \u001b[38;5;129;01mand\u001b[39;00m \u001b[38;5;28mself\u001b[39m\u001b[38;5;241m.\u001b[39moptions\u001b[38;5;241m.\u001b[39mretry_writes \u001b[38;5;129;01mand\u001b[39;00m session \u001b[38;5;129;01mand\u001b[39;00m \u001b[38;5;129;01mnot\u001b[39;00m session\u001b[38;5;241m.\u001b[39min_transaction\n\u001b[0;32m   1285\u001b[0m )\n\u001b[1;32m-> 1286\u001b[0m \u001b[38;5;28;01mreturn\u001b[39;00m \u001b[38;5;28;43mself\u001b[39;49m\u001b[38;5;241;43m.\u001b[39;49m\u001b[43m_retry_internal\u001b[49m\u001b[43m(\u001b[49m\u001b[43mretryable\u001b[49m\u001b[43m,\u001b[49m\u001b[43m \u001b[49m\u001b[43mfunc\u001b[49m\u001b[43m,\u001b[49m\u001b[43m \u001b[49m\u001b[43msession\u001b[49m\u001b[43m,\u001b[49m\u001b[43m \u001b[49m\u001b[43mbulk\u001b[49m\u001b[43m)\u001b[49m\n",
      "File \u001b[1;32m~\\anaconda3\\lib\\site-packages\\pymongo\\mongo_client.py:1320\u001b[0m, in \u001b[0;36mMongoClient._retry_internal\u001b[1;34m(self, retryable, func, session, bulk)\u001b[0m\n\u001b[0;32m   1318\u001b[0m                 \u001b[38;5;28;01mraise\u001b[39;00m last_error\n\u001b[0;32m   1319\u001b[0m             retryable \u001b[38;5;241m=\u001b[39m \u001b[38;5;28;01mFalse\u001b[39;00m\n\u001b[1;32m-> 1320\u001b[0m         \u001b[38;5;28;01mreturn\u001b[39;00m \u001b[43mfunc\u001b[49m\u001b[43m(\u001b[49m\u001b[43msession\u001b[49m\u001b[43m,\u001b[49m\u001b[43m \u001b[49m\u001b[43msock_info\u001b[49m\u001b[43m,\u001b[49m\u001b[43m \u001b[49m\u001b[43mretryable\u001b[49m\u001b[43m)\u001b[49m\n\u001b[0;32m   1321\u001b[0m \u001b[38;5;28;01mexcept\u001b[39;00m ServerSelectionTimeoutError:\n\u001b[0;32m   1322\u001b[0m     \u001b[38;5;28;01mif\u001b[39;00m is_retrying():\n\u001b[0;32m   1323\u001b[0m         \u001b[38;5;66;03m# The application may think the write was never attempted\u001b[39;00m\n\u001b[0;32m   1324\u001b[0m         \u001b[38;5;66;03m# if we raise ServerSelectionTimeoutError on the retry\u001b[39;00m\n\u001b[0;32m   1325\u001b[0m         \u001b[38;5;66;03m# attempt. Raise the original exception instead.\u001b[39;00m\n",
      "File \u001b[1;32m~\\anaconda3\\lib\\site-packages\\pymongo\\collection.py:796\u001b[0m, in \u001b[0;36mCollection._update_retryable.<locals>._update\u001b[1;34m(session, sock_info, retryable_write)\u001b[0m\n\u001b[0;32m    795\u001b[0m \u001b[38;5;28;01mdef\u001b[39;00m \u001b[38;5;21m_update\u001b[39m(session, sock_info, retryable_write):\n\u001b[1;32m--> 796\u001b[0m     \u001b[38;5;28;01mreturn\u001b[39;00m \u001b[38;5;28;43mself\u001b[39;49m\u001b[38;5;241;43m.\u001b[39;49m\u001b[43m_update\u001b[49m\u001b[43m(\u001b[49m\n\u001b[0;32m    797\u001b[0m \u001b[43m        \u001b[49m\u001b[43msock_info\u001b[49m\u001b[43m,\u001b[49m\n\u001b[0;32m    798\u001b[0m \u001b[43m        \u001b[49m\u001b[43mcriteria\u001b[49m\u001b[43m,\u001b[49m\n\u001b[0;32m    799\u001b[0m \u001b[43m        \u001b[49m\u001b[43mdocument\u001b[49m\u001b[43m,\u001b[49m\n\u001b[0;32m    800\u001b[0m \u001b[43m        \u001b[49m\u001b[43mupsert\u001b[49m\u001b[38;5;241;43m=\u001b[39;49m\u001b[43mupsert\u001b[49m\u001b[43m,\u001b[49m\n\u001b[0;32m    801\u001b[0m \u001b[43m        \u001b[49m\u001b[43mmulti\u001b[49m\u001b[38;5;241;43m=\u001b[39;49m\u001b[43mmulti\u001b[49m\u001b[43m,\u001b[49m\n\u001b[0;32m    802\u001b[0m \u001b[43m        \u001b[49m\u001b[43mwrite_concern\u001b[49m\u001b[38;5;241;43m=\u001b[39;49m\u001b[43mwrite_concern\u001b[49m\u001b[43m,\u001b[49m\n\u001b[0;32m    803\u001b[0m \u001b[43m        \u001b[49m\u001b[43mop_id\u001b[49m\u001b[38;5;241;43m=\u001b[39;49m\u001b[43mop_id\u001b[49m\u001b[43m,\u001b[49m\n\u001b[0;32m    804\u001b[0m \u001b[43m        \u001b[49m\u001b[43mordered\u001b[49m\u001b[38;5;241;43m=\u001b[39;49m\u001b[43mordered\u001b[49m\u001b[43m,\u001b[49m\n\u001b[0;32m    805\u001b[0m \u001b[43m        \u001b[49m\u001b[43mbypass_doc_val\u001b[49m\u001b[38;5;241;43m=\u001b[39;49m\u001b[43mbypass_doc_val\u001b[49m\u001b[43m,\u001b[49m\n\u001b[0;32m    806\u001b[0m \u001b[43m        \u001b[49m\u001b[43mcollation\u001b[49m\u001b[38;5;241;43m=\u001b[39;49m\u001b[43mcollation\u001b[49m\u001b[43m,\u001b[49m\n\u001b[0;32m    807\u001b[0m \u001b[43m        \u001b[49m\u001b[43marray_filters\u001b[49m\u001b[38;5;241;43m=\u001b[39;49m\u001b[43marray_filters\u001b[49m\u001b[43m,\u001b[49m\n\u001b[0;32m    808\u001b[0m \u001b[43m        \u001b[49m\u001b[43mhint\u001b[49m\u001b[38;5;241;43m=\u001b[39;49m\u001b[43mhint\u001b[49m\u001b[43m,\u001b[49m\n\u001b[0;32m    809\u001b[0m \u001b[43m        \u001b[49m\u001b[43msession\u001b[49m\u001b[38;5;241;43m=\u001b[39;49m\u001b[43msession\u001b[49m\u001b[43m,\u001b[49m\n\u001b[0;32m    810\u001b[0m \u001b[43m        \u001b[49m\u001b[43mretryable_write\u001b[49m\u001b[38;5;241;43m=\u001b[39;49m\u001b[43mretryable_write\u001b[49m\u001b[43m,\u001b[49m\n\u001b[0;32m    811\u001b[0m \u001b[43m        \u001b[49m\u001b[43mlet\u001b[49m\u001b[38;5;241;43m=\u001b[39;49m\u001b[43mlet\u001b[49m\u001b[43m,\u001b[49m\n\u001b[0;32m    812\u001b[0m \u001b[43m        \u001b[49m\u001b[43mcomment\u001b[49m\u001b[38;5;241;43m=\u001b[39;49m\u001b[43mcomment\u001b[49m\u001b[43m,\u001b[49m\n\u001b[0;32m    813\u001b[0m \u001b[43m    \u001b[49m\u001b[43m)\u001b[49m\n",
      "File \u001b[1;32m~\\anaconda3\\lib\\site-packages\\pymongo\\collection.py:761\u001b[0m, in \u001b[0;36mCollection._update\u001b[1;34m(self, sock_info, criteria, document, upsert, multi, write_concern, op_id, ordered, bypass_doc_val, collation, array_filters, hint, session, retryable_write, let, comment)\u001b[0m\n\u001b[0;32m    750\u001b[0m \u001b[38;5;66;03m# The command result has to be published for APM unmodified\u001b[39;00m\n\u001b[0;32m    751\u001b[0m \u001b[38;5;66;03m# so we make a shallow copy here before adding updatedExisting.\u001b[39;00m\n\u001b[0;32m    752\u001b[0m result \u001b[38;5;241m=\u001b[39m sock_info\u001b[38;5;241m.\u001b[39mcommand(\n\u001b[0;32m    753\u001b[0m     \u001b[38;5;28mself\u001b[39m\u001b[38;5;241m.\u001b[39m__database\u001b[38;5;241m.\u001b[39mname,\n\u001b[0;32m    754\u001b[0m     command,\n\u001b[1;32m   (...)\u001b[0m\n\u001b[0;32m    759\u001b[0m     retryable_write\u001b[38;5;241m=\u001b[39mretryable_write,\n\u001b[0;32m    760\u001b[0m )\u001b[38;5;241m.\u001b[39mcopy()\n\u001b[1;32m--> 761\u001b[0m \u001b[43m_check_write_command_response\u001b[49m\u001b[43m(\u001b[49m\u001b[43mresult\u001b[49m\u001b[43m)\u001b[49m\n\u001b[0;32m    762\u001b[0m \u001b[38;5;66;03m# Add the updatedExisting field for compatibility.\u001b[39;00m\n\u001b[0;32m    763\u001b[0m \u001b[38;5;28;01mif\u001b[39;00m result\u001b[38;5;241m.\u001b[39mget(\u001b[38;5;124m\"\u001b[39m\u001b[38;5;124mn\u001b[39m\u001b[38;5;124m\"\u001b[39m) \u001b[38;5;129;01mand\u001b[39;00m \u001b[38;5;124m\"\u001b[39m\u001b[38;5;124mupserted\u001b[39m\u001b[38;5;124m\"\u001b[39m \u001b[38;5;129;01mnot\u001b[39;00m \u001b[38;5;129;01min\u001b[39;00m result:\n",
      "File \u001b[1;32m~\\anaconda3\\lib\\site-packages\\pymongo\\helpers.py:216\u001b[0m, in \u001b[0;36m_check_write_command_response\u001b[1;34m(result)\u001b[0m\n\u001b[0;32m    214\u001b[0m write_errors \u001b[38;5;241m=\u001b[39m result\u001b[38;5;241m.\u001b[39mget(\u001b[38;5;124m\"\u001b[39m\u001b[38;5;124mwriteErrors\u001b[39m\u001b[38;5;124m\"\u001b[39m)\n\u001b[0;32m    215\u001b[0m \u001b[38;5;28;01mif\u001b[39;00m write_errors:\n\u001b[1;32m--> 216\u001b[0m     \u001b[43m_raise_last_write_error\u001b[49m\u001b[43m(\u001b[49m\u001b[43mwrite_errors\u001b[49m\u001b[43m)\u001b[49m\n\u001b[0;32m    218\u001b[0m wce \u001b[38;5;241m=\u001b[39m _get_wce_doc(result)\n\u001b[0;32m    219\u001b[0m \u001b[38;5;28;01mif\u001b[39;00m wce:\n",
      "File \u001b[1;32m~\\anaconda3\\lib\\site-packages\\pymongo\\helpers.py:189\u001b[0m, in \u001b[0;36m_raise_last_write_error\u001b[1;34m(write_errors)\u001b[0m\n\u001b[0;32m    187\u001b[0m \u001b[38;5;28;01mif\u001b[39;00m error\u001b[38;5;241m.\u001b[39mget(\u001b[38;5;124m\"\u001b[39m\u001b[38;5;124mcode\u001b[39m\u001b[38;5;124m\"\u001b[39m) \u001b[38;5;241m==\u001b[39m \u001b[38;5;241m11000\u001b[39m:\n\u001b[0;32m    188\u001b[0m     \u001b[38;5;28;01mraise\u001b[39;00m DuplicateKeyError(error\u001b[38;5;241m.\u001b[39mget(\u001b[38;5;124m\"\u001b[39m\u001b[38;5;124merrmsg\u001b[39m\u001b[38;5;124m\"\u001b[39m), \u001b[38;5;241m11000\u001b[39m, error)\n\u001b[1;32m--> 189\u001b[0m \u001b[38;5;28;01mraise\u001b[39;00m WriteError(error\u001b[38;5;241m.\u001b[39mget(\u001b[38;5;124m\"\u001b[39m\u001b[38;5;124merrmsg\u001b[39m\u001b[38;5;124m\"\u001b[39m), error\u001b[38;5;241m.\u001b[39mget(\u001b[38;5;124m\"\u001b[39m\u001b[38;5;124mcode\u001b[39m\u001b[38;5;124m\"\u001b[39m), error)\n",
      "\u001b[1;31mWriteError\u001b[0m: Performing an update on the path '_id' would modify the immutable field '_id', full error: {'index': 0, 'code': 66, 'errmsg': \"Performing an update on the path '_id' would modify the immutable field '_id'\"}"
     ]
    }
   ],
   "source": [
    "clct.update_one({'_id':'103'},{'$set':{'_id':'51'}})"
   ]
  },
  {
   "cell_type": "code",
   "execution_count": 109,
   "id": "e13b6b7f",
   "metadata": {},
   "outputs": [
    {
     "name": "stdout",
     "output_type": "stream",
     "text": [
      "{'_id': '51', 'name': 'pqr', 'age': 142, 'class': 'iii'}\n"
     ]
    }
   ],
   "source": [
    "for i in clct.find({'_id':'103'}):\n",
    "    i['_id']='51'\n",
    "    print(i)"
   ]
  },
  {
   "cell_type": "code",
   "execution_count": null,
   "id": "e26b643c",
   "metadata": {},
   "outputs": [],
   "source": []
  }
 ],
 "metadata": {
  "kernelspec": {
   "display_name": "Python 3 (ipykernel)",
   "language": "python",
   "name": "python3"
  },
  "language_info": {
   "codemirror_mode": {
    "name": "ipython",
    "version": 3
   },
   "file_extension": ".py",
   "mimetype": "text/x-python",
   "name": "python",
   "nbconvert_exporter": "python",
   "pygments_lexer": "ipython3",
   "version": "3.9.12"
  }
 },
 "nbformat": 4,
 "nbformat_minor": 5
}
