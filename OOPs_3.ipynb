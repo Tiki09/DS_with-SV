{
 "cells": [
  {
   "cell_type": "markdown",
   "id": "5c2783b4-85c7-48f9-a836-e01d4bbcebd1",
   "metadata": {},
   "source": [
    "### Encapsulation\n",
    "\n",
    "call the class through the object, by taking obj as an arg in final class."
   ]
  },
  {
   "cell_type": "code",
   "execution_count": 25,
   "id": "e79606de-9597-4fee-828d-45d975f0aa95",
   "metadata": {},
   "outputs": [],
   "source": [
    "class Dog:\n",
    "    def __init__(s,nm,YOB,brd):\n",
    "        s._nm=nm\n",
    "        s._YOB=YOB\n",
    "        s._brd=brd\n",
    "    \n",
    "    def __str__(s):\n",
    "        return '%s is born %d, %s.' %(s._nm,s._YOB,s._brd)\n",
    "    \n",
    "d=Dog('puppy',1992,'rfd')\n",
    "d1=Dog('tommy',1982,'dfd')\n",
    "d2=Dog('swt',1962,'cfd')"
   ]
  },
  {
   "cell_type": "code",
   "execution_count": 26,
   "id": "b15afa56-4805-45d4-8708-3462aace752f",
   "metadata": {},
   "outputs": [
    {
     "name": "stdout",
     "output_type": "stream",
     "text": [
      "puppy is born 1992, rfd.\n"
     ]
    }
   ],
   "source": [
    "print(d)\n"
   ]
  },
  {
   "cell_type": "code",
   "execution_count": 27,
   "id": "9e267f0f-2878-4541-9272-be87b20b32a1",
   "metadata": {},
   "outputs": [],
   "source": [
    "class Std:\n",
    "    def __init__(s,nm,id,add):\n",
    "        s.nm=nm\n",
    "        s.id=id\n",
    "        s.add=add\n",
    "        \n",
    "    def __str__(s):\n",
    "        return str(s.nm)+ \" \"+ str(s.id)+ \" \"+str(s.add)"
   ]
  },
  {
   "cell_type": "code",
   "execution_count": 28,
   "id": "9eb47c32-b85e-46a1-928d-578be4617af5",
   "metadata": {},
   "outputs": [],
   "source": [
    "st=Std('tiki',45,'bgh')"
   ]
  },
  {
   "cell_type": "code",
   "execution_count": 29,
   "id": "9d5a6357-fe12-49ed-98cd-c41b23a355f3",
   "metadata": {},
   "outputs": [
    {
     "name": "stdout",
     "output_type": "stream",
     "text": [
      "tiki 45 bgh\n"
     ]
    }
   ],
   "source": [
    "print(st)"
   ]
  },
  {
   "cell_type": "code",
   "execution_count": 32,
   "id": "0d815390-e051-49e6-ae84-f9ad2bfbab50",
   "metadata": {},
   "outputs": [],
   "source": [
    "st1=Std(d,11,'sbp')"
   ]
  },
  {
   "cell_type": "code",
   "execution_count": 33,
   "id": "f14fe28c-b9e3-496f-9e5e-fb8ffd7549c7",
   "metadata": {},
   "outputs": [
    {
     "name": "stdout",
     "output_type": "stream",
     "text": [
      "puppy is born 1992, rfd. 11 sbp\n"
     ]
    }
   ],
   "source": [
    "print(st1)"
   ]
  },
  {
   "cell_type": "code",
   "execution_count": 34,
   "id": "57cf37d0-6b74-4448-aeb5-88de7f71cfe8",
   "metadata": {},
   "outputs": [],
   "source": [
    "st2=Std(d2,13,'sbp')"
   ]
  },
  {
   "cell_type": "code",
   "execution_count": 35,
   "id": "74acde27-f39d-414b-9125-a4ac95ef2a16",
   "metadata": {},
   "outputs": [
    {
     "name": "stdout",
     "output_type": "stream",
     "text": [
      "swt is born 1962, cfd. 13 sbp\n"
     ]
    }
   ],
   "source": [
    "print(st2)"
   ]
  },
  {
   "cell_type": "code",
   "execution_count": 40,
   "id": "bb97e31f-b125-47c7-8e80-0f5a0d158f7c",
   "metadata": {},
   "outputs": [],
   "source": [
    "class mul:\n",
    "    def __init__(s,a):\n",
    "        s.a=a"
   ]
  },
  {
   "cell_type": "code",
   "execution_count": 43,
   "id": "62c81908-210a-4927-84da-d64429db7dc1",
   "metadata": {},
   "outputs": [],
   "source": [
    "m1=mul(9)\n",
    "m2=mul(2)"
   ]
  },
  {
   "cell_type": "code",
   "execution_count": 44,
   "id": "35bab89e-0b03-4cb5-b68a-9dc134f84f82",
   "metadata": {},
   "outputs": [
    {
     "ename": "TypeError",
     "evalue": "unsupported operand type(s) for *: 'mul' and 'mul'",
     "output_type": "error",
     "traceback": [
      "\u001b[1;31m---------------------------------------------------------------------------\u001b[0m",
      "\u001b[1;31mTypeError\u001b[0m                                 Traceback (most recent call last)",
      "Input \u001b[1;32mIn [44]\u001b[0m, in \u001b[0;36m<cell line: 1>\u001b[1;34m()\u001b[0m\n\u001b[1;32m----> 1\u001b[0m \u001b[43mm1\u001b[49m\u001b[38;5;241;43m*\u001b[39;49m\u001b[43mm2\u001b[49m\n",
      "\u001b[1;31mTypeError\u001b[0m: unsupported operand type(s) for *: 'mul' and 'mul'"
     ]
    }
   ],
   "source": [
    "m1*m2 #its not possible"
   ]
  },
  {
   "cell_type": "code",
   "execution_count": 45,
   "id": "baa4a01c-244d-460c-89a4-6d3476942de6",
   "metadata": {},
   "outputs": [
    {
     "data": {
      "text/plain": [
       "18"
      ]
     },
     "execution_count": 45,
     "metadata": {},
     "output_type": "execute_result"
    }
   ],
   "source": [
    "m1.a*m2.a"
   ]
  },
  {
   "cell_type": "code",
   "execution_count": 67,
   "id": "addc3fb5-1fd1-422c-b4ad-7a5274b37132",
   "metadata": {},
   "outputs": [],
   "source": [
    "class mult:\n",
    "    def __init__(s,a):\n",
    "        s.a=a\n",
    "    def __mul__(s,other):\n",
    "        return s.a + other.a #operator overloading"
   ]
  },
  {
   "cell_type": "code",
   "execution_count": 68,
   "id": "baacbad9-363a-451b-bba7-3daac90c1b37",
   "metadata": {},
   "outputs": [],
   "source": [
    "m3=mult(10)\n",
    "m4=mult(5)"
   ]
  },
  {
   "cell_type": "code",
   "execution_count": 69,
   "id": "72fa7867-e873-4a02-90b4-fa91b031cad3",
   "metadata": {},
   "outputs": [
    {
     "data": {
      "text/plain": [
       "15"
      ]
     },
     "execution_count": 69,
     "metadata": {},
     "output_type": "execute_result"
    }
   ],
   "source": [
    "m3*m4"
   ]
  },
  {
   "cell_type": "markdown",
   "id": "0825f654-d6ac-4973-b195-f8936ac927d7",
   "metadata": {},
   "source": [
    "### Polymorphism\n",
    "\n",
    "Acts as diff form but obj is same "
   ]
  },
  {
   "cell_type": "code",
   "execution_count": 79,
   "id": "8b8a001c-1598-489c-b1bd-369938117ec2",
   "metadata": {},
   "outputs": [],
   "source": [
    "def test(a,b):\n",
    "    return a+b"
   ]
  },
  {
   "cell_type": "code",
   "execution_count": 80,
   "id": "b03fe9a6-24c8-402a-98dd-04594dceab5a",
   "metadata": {},
   "outputs": [
    {
     "name": "stdout",
     "output_type": "stream",
     "text": [
      "7\n"
     ]
    }
   ],
   "source": [
    "print(test(3,4)) #addition "
   ]
  },
  {
   "cell_type": "code",
   "execution_count": 81,
   "id": "43f1f273-44d5-4c6d-a1f9-7a64bc6a7902",
   "metadata": {},
   "outputs": [
    {
     "name": "stdout",
     "output_type": "stream",
     "text": [
      "[1, 2, 3, 4, 5, 6, 7, 'uik', 7.8]\n"
     ]
    }
   ],
   "source": [
    "print(test([1,2,3,4],[5,6,7,'uik',7.8])) #appending"
   ]
  },
  {
   "cell_type": "code",
   "execution_count": 82,
   "id": "ce89a852-deb4-46d4-8551-b705ba5e65d0",
   "metadata": {},
   "outputs": [
    {
     "name": "stdout",
     "output_type": "stream",
     "text": [
      "jj uik\n"
     ]
    }
   ],
   "source": [
    "print(test('jj ','uik')) #concatenation"
   ]
  },
  {
   "cell_type": "code",
   "execution_count": 83,
   "id": "a86ebc5f-4d41-4782-ac88-14d3af980124",
   "metadata": {},
   "outputs": [],
   "source": [
    "class ineuron:\n",
    "    def msg(s):\n",
    "        print('ineuron msg')\n",
    "\n",
    "class xyz:\n",
    "    def msg(s):\n",
    "        print('xyz msg')\n",
    "\n"
   ]
  },
  {
   "cell_type": "code",
   "execution_count": 84,
   "id": "7aabbdd4-f43a-4683-b50d-984c657b21e5",
   "metadata": {},
   "outputs": [],
   "source": [
    "def test(notes):\n",
    "    notes.msg()"
   ]
  },
  {
   "cell_type": "code",
   "execution_count": 85,
   "id": "de7555ee-d196-4ca9-a5a8-988d8e1adfcf",
   "metadata": {},
   "outputs": [],
   "source": [
    "i=ineuron()\n",
    "x=xyz()"
   ]
  },
  {
   "cell_type": "code",
   "execution_count": 86,
   "id": "0135a175-2bfd-43c6-b8f9-6c1ffe353b8c",
   "metadata": {},
   "outputs": [
    {
     "name": "stdout",
     "output_type": "stream",
     "text": [
      "ineuron msg\n"
     ]
    }
   ],
   "source": [
    "i.msg()"
   ]
  },
  {
   "cell_type": "code",
   "execution_count": 87,
   "id": "7b5e0ad2-3bd3-4e1d-abb4-655363ee67ea",
   "metadata": {},
   "outputs": [
    {
     "name": "stdout",
     "output_type": "stream",
     "text": [
      "xyz msg\n"
     ]
    }
   ],
   "source": [
    "x.msg()"
   ]
  },
  {
   "cell_type": "code",
   "execution_count": 89,
   "id": "a50bf631-9970-4281-b430-4398149420eb",
   "metadata": {},
   "outputs": [
    {
     "name": "stdout",
     "output_type": "stream",
     "text": [
      "ineuron msg\n",
      "xyz msg\n"
     ]
    },
    {
     "data": {
      "text/plain": [
       "(None, None)"
      ]
     },
     "execution_count": 89,
     "metadata": {},
     "output_type": "execute_result"
    }
   ],
   "source": [
    "test(i),test(x)"
   ]
  },
  {
   "cell_type": "code",
   "execution_count": null,
   "id": "affa7d1e-68e4-42a7-8d18-a905a124f321",
   "metadata": {},
   "outputs": [],
   "source": []
  }
 ],
 "metadata": {
  "kernelspec": {
   "display_name": "Python 3 (ipykernel)",
   "language": "python",
   "name": "python3"
  },
  "language_info": {
   "codemirror_mode": {
    "name": "ipython",
    "version": 3
   },
   "file_extension": ".py",
   "mimetype": "text/x-python",
   "name": "python",
   "nbconvert_exporter": "python",
   "pygments_lexer": "ipython3",
   "version": "3.10.4"
  }
 },
 "nbformat": 4,
 "nbformat_minor": 5
}
