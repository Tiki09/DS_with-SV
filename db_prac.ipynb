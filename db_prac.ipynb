{
 "cells": [
  {
   "cell_type": "code",
   "execution_count": 1,
   "id": "a3ae88cb",
   "metadata": {},
   "outputs": [],
   "source": [
    "import mysql.connector as cn"
   ]
  },
  {
   "cell_type": "code",
   "execution_count": 4,
   "id": "80361326",
   "metadata": {},
   "outputs": [
    {
     "name": "stdout",
     "output_type": "stream",
     "text": [
      "True\n",
      "enter number of query :5\n",
      "enter the query:CREATE TABLE Employee(Emp_id int(10),Name varchar(20),Email varchar(25), PhoneNo int(20),Salary int(10))\n",
      "[]\n",
      "enter the query:insert into Employee values(101,'tiki','t123@gmail.com',9938,10000)\n",
      "[]\n",
      "enter the query:insert into Employee values(102,'riki','r23@gmail.com',7938,7000)\n",
      "[]\n",
      "enter the query:insert into Employee values(103,'sudh','su3@gmail.com',8988,1800)\n",
      "[]\n",
      "enter the query:insert into Employee values(104,'tiki','tiki@gmail.com',7978,15000)\n",
      "[]\n"
     ]
    }
   ],
   "source": [
    "try:\n",
    "    d1=cn.connect(host='localhost',database='db1',user='root',passwd='tikeswari')\n",
    "    print(d1.is_connected())\n",
    "    crs=d1.cursor()\n",
    "    \n",
    "    n=int(input('enter number of query :'))\n",
    "    for i in range(n):\n",
    "        q=input('enter the query:')\n",
    "        crs.execute(q)\n",
    "        d1.commit()\n",
    "        print(crs.fetchall())\n",
    "except Exception as e:\n",
    "    d1.close()\n",
    "    print(str(e))"
   ]
  },
  {
   "cell_type": "code",
   "execution_count": 5,
   "id": "bc3db007",
   "metadata": {},
   "outputs": [],
   "source": [
    "import pandas as pd\n",
    "import csv"
   ]
  },
  {
   "cell_type": "code",
   "execution_count": 8,
   "id": "c791d1b0",
   "metadata": {},
   "outputs": [
    {
     "name": "stderr",
     "output_type": "stream",
     "text": [
      "C:\\Users\\lenovo\\anaconda3\\lib\\site-packages\\pandas\\io\\sql.py:761: UserWarning: pandas only support SQLAlchemy connectable(engine/connection) ordatabase string URI or sqlite3 DBAPI2 connectionother DBAPI2 objects are not tested, please consider using SQLAlchemy\n",
      "  warnings.warn(\n"
     ]
    }
   ],
   "source": [
    "data=pd.read_sql('select Emp_id,PhoneNo,Salary from Employee',d1)"
   ]
  },
  {
   "cell_type": "code",
   "execution_count": 10,
   "id": "a8acb429",
   "metadata": {},
   "outputs": [],
   "source": [
    "data.to_csv('emp_data.csv')"
   ]
  },
  {
   "cell_type": "code",
   "execution_count": 11,
   "id": "80a1da12",
   "metadata": {},
   "outputs": [],
   "source": [
    "dt=pd.read_csv('emp_data.csv')"
   ]
  },
  {
   "cell_type": "code",
   "execution_count": 12,
   "id": "77aeabc8",
   "metadata": {},
   "outputs": [
    {
     "data": {
      "text/html": [
       "<div>\n",
       "<style scoped>\n",
       "    .dataframe tbody tr th:only-of-type {\n",
       "        vertical-align: middle;\n",
       "    }\n",
       "\n",
       "    .dataframe tbody tr th {\n",
       "        vertical-align: top;\n",
       "    }\n",
       "\n",
       "    .dataframe thead th {\n",
       "        text-align: right;\n",
       "    }\n",
       "</style>\n",
       "<table border=\"1\" class=\"dataframe\">\n",
       "  <thead>\n",
       "    <tr style=\"text-align: right;\">\n",
       "      <th></th>\n",
       "      <th>Unnamed: 0</th>\n",
       "      <th>Emp_id</th>\n",
       "      <th>PhoneNo</th>\n",
       "      <th>Salary</th>\n",
       "    </tr>\n",
       "  </thead>\n",
       "  <tbody>\n",
       "    <tr>\n",
       "      <th>0</th>\n",
       "      <td>0</td>\n",
       "      <td>101</td>\n",
       "      <td>9938</td>\n",
       "      <td>10000</td>\n",
       "    </tr>\n",
       "    <tr>\n",
       "      <th>1</th>\n",
       "      <td>1</td>\n",
       "      <td>102</td>\n",
       "      <td>7938</td>\n",
       "      <td>7000</td>\n",
       "    </tr>\n",
       "    <tr>\n",
       "      <th>2</th>\n",
       "      <td>2</td>\n",
       "      <td>103</td>\n",
       "      <td>8988</td>\n",
       "      <td>1800</td>\n",
       "    </tr>\n",
       "    <tr>\n",
       "      <th>3</th>\n",
       "      <td>3</td>\n",
       "      <td>104</td>\n",
       "      <td>7978</td>\n",
       "      <td>15000</td>\n",
       "    </tr>\n",
       "  </tbody>\n",
       "</table>\n",
       "</div>"
      ],
      "text/plain": [
       "   Unnamed: 0  Emp_id  PhoneNo  Salary\n",
       "0           0     101     9938   10000\n",
       "1           1     102     7938    7000\n",
       "2           2     103     8988    1800\n",
       "3           3     104     7978   15000"
      ]
     },
     "execution_count": 12,
     "metadata": {},
     "output_type": "execute_result"
    }
   ],
   "source": [
    "dt"
   ]
  },
  {
   "cell_type": "code",
   "execution_count": 13,
   "id": "7c335ca8",
   "metadata": {},
   "outputs": [],
   "source": [
    "crs.execute('create table emp_csv(id int(10),ph int(20),sal int(20))')"
   ]
  },
  {
   "cell_type": "code",
   "execution_count": 17,
   "id": "df3b3688",
   "metadata": {},
   "outputs": [
    {
     "name": "stdout",
     "output_type": "stream",
     "text": [
      "data inserted\n"
     ]
    }
   ],
   "source": [
    "#inserting data from a csv file to a table\n",
    "with open('emp_data.csv','r') as emp:\n",
    "    next(emp)\n",
    "    d_csv=csv.reader(emp,delimiter='\\n')\n",
    "    for i in enumerate(d_csv):\n",
    "        crs.execute('insert into emp_csv values({})'.format(i[1][0]))\n",
    "    print('data inserted')\n",
    "d1.commit()"
   ]
  },
  {
   "cell_type": "markdown",
   "id": "8c251fc8",
   "metadata": {},
   "source": [
    "#### Homework"
   ]
  },
  {
   "cell_type": "code",
   "execution_count": 55,
   "id": "dbfd6a2f",
   "metadata": {},
   "outputs": [],
   "source": [
    "import mysql.connector as conn\n",
    "import csv"
   ]
  },
  {
   "cell_type": "code",
   "execution_count": 56,
   "id": "1f9ca418",
   "metadata": {},
   "outputs": [
    {
     "name": "stdout",
     "output_type": "stream",
     "text": [
      "True\n"
     ]
    }
   ],
   "source": [
    "try:\n",
    "    d2=conn.connect(host='localhost',database='tiku',user='root',passwd='tikeswari')\n",
    "    print(d2.is_connected())\n",
    "    crs=d2.cursor()\n",
    "except Exception as e:\n",
    "    d2.commit()\n",
    "    print(str(e))"
   ]
  },
  {
   "cell_type": "code",
   "execution_count": 57,
   "id": "fa31f081",
   "metadata": {},
   "outputs": [],
   "source": [
    "crs.execute('create table carbon4(a int(20),b int(20),c int(20),d int(20),e int(20),f int(20),g int(20),h int(20),i int(20),j int(20),k int(20),l int(20),m int(20),n int(20))')"
   ]
  },
  {
   "cell_type": "code",
   "execution_count": 58,
   "id": "22ea5bea",
   "metadata": {},
   "outputs": [
    {
     "name": "stdout",
     "output_type": "stream",
     "text": [
      "all data inserted\n"
     ]
    }
   ],
   "source": [
    "'''with open('carbon_nanotubes.csv','r') as carb:\n",
    "    next(carb)\n",
    "    c=csv.reader(carb,delimiter='\\n')\n",
    "    for i in c:\n",
    "        p=i[0]\n",
    "        #print(p)\n",
    "        x=p.replace(';',',')\n",
    "        r=x.split(',')\n",
    "        #print(x)\n",
    "        q=\"insert into carbon2 values(\"+x+\")\"\n",
    "        crs.execute(q)\n",
    "        d2.commit()\n",
    "    print('data inserted-->')\n",
    "d2.close()'''\n",
    "with open('carbon_nanotubes.csv','r') as f:\n",
    "    next(f)\n",
    "    data=csv.reader(f,delimiter='\\n')\n",
    "    for i in data:\n",
    "        j=i[0]\n",
    "        j=j.replace(';',',')\n",
    "        k=j.split(',')\n",
    "        if k[13]=='':\n",
    "            k[13]='-1'\n",
    "            l=','.join(k)\n",
    "            qry=\"insert into carbon4 values(\"+l+\")\"\n",
    "            crs.execute(qry)\n",
    "            d2.commit()\n",
    "        else:\n",
    "            qry=\"insert into carbon4 values(\"+j+\")\"\n",
    "            crs.execute(qry)\n",
    "            d2.commit()            \n",
    "print('all data inserted')\n",
    "d2.close()"
   ]
  },
  {
   "cell_type": "code",
   "execution_count": 59,
   "id": "772a55d5",
   "metadata": {},
   "outputs": [],
   "source": [
    "d2.close()"
   ]
  },
  {
   "cell_type": "code",
   "execution_count": 51,
   "id": "e13dcb38",
   "metadata": {},
   "outputs": [
    {
     "data": {
      "text/plain": [
       "['7;3;0,235578;0,615865;0,795605;0,232297;0,617997;1']"
      ]
     },
     "execution_count": 51,
     "metadata": {},
     "output_type": "execute_result"
    }
   ],
   "source": [
    "i"
   ]
  },
  {
   "cell_type": "code",
   "execution_count": 52,
   "id": "1ddbdc7e",
   "metadata": {},
   "outputs": [
    {
     "data": {
      "text/plain": [
       "'7,3,0,235578,0,615865,0,795605,0,232297,0,617997,1'"
      ]
     },
     "execution_count": 52,
     "metadata": {},
     "output_type": "execute_result"
    }
   ],
   "source": [
    "j"
   ]
  },
  {
   "cell_type": "code",
   "execution_count": 53,
   "id": "694eae03",
   "metadata": {},
   "outputs": [
    {
     "data": {
      "text/plain": [
       "['7',\n",
       " '3',\n",
       " '0',\n",
       " '235578',\n",
       " '0',\n",
       " '615865',\n",
       " '0',\n",
       " '795605',\n",
       " '0',\n",
       " '232297',\n",
       " '0',\n",
       " '617997',\n",
       " '1']"
      ]
     },
     "execution_count": 53,
     "metadata": {},
     "output_type": "execute_result"
    }
   ],
   "source": [
    "k"
   ]
  },
  {
   "cell_type": "code",
   "execution_count": 54,
   "id": "531d2c0c",
   "metadata": {},
   "outputs": [
    {
     "ename": "NameError",
     "evalue": "name 'l' is not defined",
     "output_type": "error",
     "traceback": [
      "\u001b[1;31m---------------------------------------------------------------------------\u001b[0m",
      "\u001b[1;31mNameError\u001b[0m                                 Traceback (most recent call last)",
      "Input \u001b[1;32mIn [54]\u001b[0m, in \u001b[0;36m<cell line: 1>\u001b[1;34m()\u001b[0m\n\u001b[1;32m----> 1\u001b[0m \u001b[43ml\u001b[49m\n",
      "\u001b[1;31mNameError\u001b[0m: name 'l' is not defined"
     ]
    }
   ],
   "source": [
    "l"
   ]
  },
  {
   "cell_type": "code",
   "execution_count": null,
   "id": "788a0cfe",
   "metadata": {},
   "outputs": [],
   "source": []
  }
 ],
 "metadata": {
  "kernelspec": {
   "display_name": "Python 3 (ipykernel)",
   "language": "python",
   "name": "python3"
  },
  "language_info": {
   "codemirror_mode": {
    "name": "ipython",
    "version": 3
   },
   "file_extension": ".py",
   "mimetype": "text/x-python",
   "name": "python",
   "nbconvert_exporter": "python",
   "pygments_lexer": "ipython3",
   "version": "3.9.12"
  }
 },
 "nbformat": 4,
 "nbformat_minor": 5
}
