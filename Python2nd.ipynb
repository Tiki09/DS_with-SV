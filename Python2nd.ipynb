{
 "cells": [
  {
   "cell_type": "code",
   "execution_count": 23,
   "id": "83140495-b47c-4a3f-9fbc-34b1ea01fb32",
   "metadata": {},
   "outputs": [
    {
     "name": "stdout",
     "output_type": "stream",
     "text": [
      "valid elif stmnt\n"
     ]
    }
   ],
   "source": [
    "# multiple condn in if stmnt(and)\n",
    "a=10\n",
    "b=20\n",
    "\n",
    "if a==10 and b>20:\n",
    "    print(\"valid stmnt\")\n",
    "elif a==10 and b<=20:\n",
    "    print(\"valid elif stmnt\")\n",
    "else:\n",
    "    print(\"not valid condn\")"
   ]
  },
  {
   "cell_type": "code",
   "execution_count": 4,
   "id": "0814a30f-f653-4b5b-8b40-a059ea867657",
   "metadata": {},
   "outputs": [
    {
     "data": {
      "text/plain": [
       "True"
      ]
     },
     "execution_count": 4,
     "metadata": {},
     "output_type": "execute_result"
    }
   ],
   "source": [
    "a==10 and b>=20"
   ]
  },
  {
   "cell_type": "code",
   "execution_count": 21,
   "id": "68195019-5e9f-4de1-a8ac-c573ad232ed9",
   "metadata": {},
   "outputs": [
    {
     "name": "stdout",
     "output_type": "stream",
     "text": [
      "heelo\n"
     ]
    }
   ],
   "source": [
    "# if stmnt in one line\n",
    "if a==10:print(\"heelo\")"
   ]
  },
  {
   "cell_type": "code",
   "execution_count": 1,
   "id": "77a72588-847c-4ed0-9e0c-d1cfe53b4cd9",
   "metadata": {},
   "outputs": [
    {
     "name": "stdout",
     "output_type": "stream",
     "text": [
      "valid elif stmnt\n"
     ]
    }
   ],
   "source": [
    "# multiple condn in if stmnt(or)\n",
    "a=10\n",
    "b=20\n",
    "\n",
    "if a>10 or b>20:\n",
    "    print(\"valid stmnt\")\n",
    "elif a==10 or b<20:\n",
    "    print(\"valid elif stmnt\")\n",
    "else:\n",
    "    print(\"not valid condn\")"
   ]
  },
  {
   "cell_type": "code",
   "execution_count": 9,
   "id": "fe6df203-4e18-4065-96b4-37ef6fa9c12f",
   "metadata": {},
   "outputs": [
    {
     "name": "stdin",
     "output_type": "stream",
     "text": [
      "enter frst nm: tiKi\n",
      "enter lst nm: beHEra\n"
     ]
    },
    {
     "name": "stdout",
     "output_type": "stream",
     "text": [
      "hi tiki\n"
     ]
    }
   ],
   "source": [
    "fnm=input(\"enter frst nm:\").capitalize()\n",
    "lnm=input(\"enter lst nm:\").capitalize()\n",
    "if fnm=='Cuty' and lnm=='Sahu':\n",
    "    print(\"hi cuty\")\n",
    "elif lnm=='Behera' and fnm=='Tiki':\n",
    "    print('hi tiki')\n",
    "else:\n",
    "    print('vago idhar se')\n",
    "    "
   ]
  },
  {
   "cell_type": "code",
   "execution_count": 8,
   "id": "0be0efcc-7e41-4db1-9d5c-7fd96b87ba17",
   "metadata": {},
   "outputs": [
    {
     "name": "stdin",
     "output_type": "stream",
     "text": [
      "enter frst nm: tiKi\n",
      "enter lst nm: bEhera\n"
     ]
    },
    {
     "name": "stdout",
     "output_type": "stream",
     "text": [
      "Tiki Behera\n"
     ]
    }
   ],
   "source": [
    "fnm=input(\"enter frst nm:\").capitalize()\n",
    "lnm=input(\"enter lst nm:\").capitalize()\n",
    "print(fnm,lnm)"
   ]
  },
  {
   "cell_type": "code",
   "execution_count": 28,
   "id": "113fb551-7e36-493d-8ed3-621bd7135550",
   "metadata": {},
   "outputs": [
    {
     "name": "stdin",
     "output_type": "stream",
     "text": [
      "enter name tiki\n"
     ]
    }
   ],
   "source": [
    "x=y=input('enter name')"
   ]
  },
  {
   "cell_type": "code",
   "execution_count": 29,
   "id": "f798d558-2453-4005-9811-5c3f67b015ab",
   "metadata": {},
   "outputs": [
    {
     "data": {
      "text/plain": [
       "('tiki', 'tiki')"
      ]
     },
     "execution_count": 29,
     "metadata": {},
     "output_type": "execute_result"
    }
   ],
   "source": [
    "x,y"
   ]
  },
  {
   "cell_type": "code",
   "execution_count": 11,
   "id": "5ecbc2c6-3e88-4a28-891a-a488a1420897",
   "metadata": {},
   "outputs": [
    {
     "name": "stdin",
     "output_type": "stream",
     "text": [
      " tiki\n",
      " cuty\n"
     ]
    }
   ],
   "source": [
    "p,q=input(),input()"
   ]
  },
  {
   "cell_type": "code",
   "execution_count": 12,
   "id": "da5ef7e0-ce8a-4814-8fc9-dc1a4905d871",
   "metadata": {},
   "outputs": [
    {
     "data": {
      "text/plain": [
       "('tiki', 'cuty')"
      ]
     },
     "execution_count": 12,
     "metadata": {},
     "output_type": "execute_result"
    }
   ],
   "source": [
    "p,q"
   ]
  },
  {
   "cell_type": "code",
   "execution_count": 22,
   "id": "25644873-1490-405e-9b57-26bd89100ab0",
   "metadata": {},
   "outputs": [
    {
     "name": "stdin",
     "output_type": "stream",
     "text": [
      "Enter 1st name 12\n",
      "Enter 2nd 34\n"
     ]
    }
   ],
   "source": [
    "# multiple user input statement in same line\n",
    "a,b=input(\"Enter 1st name\"),input(\"Enter 2nd\")"
   ]
  },
  {
   "cell_type": "code",
   "execution_count": 19,
   "id": "402f7987-bf1a-4ebd-8643-f480fe85633c",
   "metadata": {},
   "outputs": [
    {
     "name": "stdin",
     "output_type": "stream",
     "text": [
      "enter num: 3\n"
     ]
    },
    {
     "name": "stdout",
     "output_type": "stream",
     "text": [
      "3\n",
      "6\n",
      "12\n",
      "24\n",
      "48\n",
      "kuch bhi\n"
     ]
    }
   ],
   "source": [
    "#while stmnt\n",
    "n=int(input(\"enter num:\"))\n",
    "while n<=100:\n",
    "    print(n)\n",
    "    n=n*2\n",
    "    if n>50:\n",
    "        print('kuch bhi')\n",
    "        break"
   ]
  },
  {
   "cell_type": "code",
   "execution_count": 52,
   "id": "e14bf57d-2c99-48c7-8703-459f9b0d63f9",
   "metadata": {},
   "outputs": [
    {
     "name": "stdin",
     "output_type": "stream",
     "text": [
      "enter num 3\n"
     ]
    },
    {
     "name": "stdout",
     "output_type": "stream",
     "text": [
      "3 * 1 = 3\n",
      "3 * 2 = 6\n",
      "3 * 3 = 9\n",
      "3 * 4 = 12\n"
     ]
    }
   ],
   "source": [
    "n=int(input('enter num'))\n",
    "i=1\n",
    "while i<=10:\n",
    "    r=n*i\n",
    "    print('{} * {} = {}'.format(n,i,r))\n",
    "    i+=1\n",
    "    if i==5:\n",
    "        break"
   ]
  },
  {
   "cell_type": "code",
   "execution_count": 43,
   "id": "d2b37e70-1a95-4b68-896b-ba358a292b41",
   "metadata": {},
   "outputs": [
    {
     "data": {
      "text/plain": [
       "False"
      ]
     },
     "execution_count": 43,
     "metadata": {},
     "output_type": "execute_result"
    }
   ],
   "source": [
    "15>15"
   ]
  },
  {
   "cell_type": "code",
   "execution_count": 10,
   "id": "c2752d7b-069e-467b-8101-ff2918382d58",
   "metadata": {},
   "outputs": [
    {
     "name": "stdout",
     "output_type": "stream",
     "text": [
      "my speed\n",
      "my speed\n",
      "my speed\n",
      "my speed\n"
     ]
    }
   ],
   "source": [
    "init_spd=0\n",
    "final_spd=100\n",
    "c=1\n",
    "while init_spd< final_spd:\n",
    "    print(\"my speed\")\n",
    "    c=c+1\n",
    "    if c==5:\n",
    "        break"
   ]
  },
  {
   "cell_type": "code",
   "execution_count": 54,
   "id": "af030d5c-d5e3-42db-8bb1-759658134a23",
   "metadata": {},
   "outputs": [
    {
     "name": "stdin",
     "output_type": "stream",
     "text": [
      "enter num: 5\n"
     ]
    },
    {
     "name": "stdout",
     "output_type": "stream",
     "text": [
      "5\n",
      "6\n",
      "7\n",
      "8\n",
      "9\n",
      "10\n"
     ]
    }
   ],
   "source": [
    "m=int(input(\"enter num:\"))\n",
    "while m<=10:\n",
    "    print(m)\n",
    "    m=m+1"
   ]
  },
  {
   "cell_type": "code",
   "execution_count": 55,
   "id": "a35aaf7d-f904-4c37-b333-e9e0dbee5ded",
   "metadata": {},
   "outputs": [
    {
     "name": "stdout",
     "output_type": "stream",
     "text": [
      "1\n",
      "2\n",
      "3\n",
      "4\n",
      "5\n",
      "1\n",
      "rs 10 notes are available\n"
     ]
    }
   ],
   "source": [
    "notes=5\n",
    "i=1\n",
    "j=1\n",
    "while i <= notes:\n",
    "    print(i)\n",
    "    i +=1\n",
    "else:\n",
    "    while j<2:\n",
    "        print(j)\n",
    "        j=j+1\n",
    "    print('rs 10 notes are available')"
   ]
  },
  {
   "cell_type": "code",
   "execution_count": 56,
   "id": "53992fa2-af84-4cdd-b2b9-da3e793357b7",
   "metadata": {},
   "outputs": [
    {
     "data": {
      "text/plain": [
       "'k'"
      ]
     },
     "execution_count": 56,
     "metadata": {},
     "output_type": "execute_result"
    }
   ],
   "source": [
    "# extract data from string\n",
    "s='tike'\n",
    "s[2]\n",
    "\n",
    "# or->\n",
    "#for i in s:\n",
    "#if i=='k':\n",
    "#print(i)"
   ]
  },
  {
   "cell_type": "code",
   "execution_count": 59,
   "id": "440db8d6-9c4b-4fc8-bab8-31bc98cc6bb4",
   "metadata": {},
   "outputs": [
    {
     "name": "stdout",
     "output_type": "stream",
     "text": [
      "tiki\n"
     ]
    }
   ],
   "source": [
    "l=[1,2,3,4,['tiki',1,2]]\n",
    "for i in l:\n",
    "    if type(i)==list:\n",
    "        for j in i:\n",
    "            if type(j)==str:\n",
    "                if j=='tiki':\n",
    "                    print(j)"
   ]
  },
  {
   "cell_type": "code",
   "execution_count": 1,
   "id": "46ca6795-4e60-4dad-9d06-2baf1ebeca88",
   "metadata": {},
   "outputs": [
    {
     "data": {
      "text/plain": [
       "'name is'"
      ]
     },
     "execution_count": 1,
     "metadata": {},
     "output_type": "execute_result"
    }
   ],
   "source": [
    "# string slicing\n",
    "s1='my name is tikeswari'\n",
    "s1[3:10]"
   ]
  },
  {
   "cell_type": "code",
   "execution_count": 2,
   "id": "5c449609-bb12-44f7-9f89-2d0b5f262f98",
   "metadata": {},
   "outputs": [
    {
     "data": {
      "text/plain": [
       "'nm s'"
      ]
     },
     "execution_count": 2,
     "metadata": {},
     "output_type": "execute_result"
    }
   ],
   "source": [
    "#it takes first index,last index and jump step\n",
    "s1[3:10:2]"
   ]
  },
  {
   "cell_type": "code",
   "execution_count": 6,
   "id": "328806f3-4e0d-4c59-bad6-8c3101853ada",
   "metadata": {},
   "outputs": [
    {
     "data": {
      "text/plain": [
       "''"
      ]
     },
     "execution_count": 6,
     "metadata": {},
     "output_type": "execute_result"
    }
   ],
   "source": [
    "s1[-15:10]\n",
    "s1[10:-15] or s1[10:3] # this both is not valid"
   ]
  },
  {
   "cell_type": "code",
   "execution_count": 7,
   "id": "3dc768d1-6aff-4a98-8f64-87f361fb5a6c",
   "metadata": {},
   "outputs": [
    {
     "data": {
      "text/plain": [
       "'my name is tikeswari'"
      ]
     },
     "execution_count": 7,
     "metadata": {},
     "output_type": "execute_result"
    }
   ],
   "source": [
    "s1[:]"
   ]
  },
  {
   "cell_type": "code",
   "execution_count": 11,
   "id": "b9686796-c0ea-47eb-8431-4ee86342dc76",
   "metadata": {},
   "outputs": [
    {
     "data": {
      "text/plain": [
       "' si eman'"
      ]
     },
     "execution_count": 11,
     "metadata": {},
     "output_type": "execute_result"
    }
   ],
   "source": [
    "# revers string\n",
    "s1[10:2:-1]"
   ]
  },
  {
   "cell_type": "code",
   "execution_count": 10,
   "id": "f679a3c1-30c3-495c-bfcd-682db796c35c",
   "metadata": {},
   "outputs": [
    {
     "data": {
      "text/plain": [
       "'irawsekit si eman ym'"
      ]
     },
     "execution_count": 10,
     "metadata": {},
     "output_type": "execute_result"
    }
   ],
   "source": [
    "#reverse of complete string\n",
    "s1[::-1]"
   ]
  },
  {
   "cell_type": "code",
   "execution_count": 12,
   "id": "4f48bb59-13b0-4275-b07b-e3e1b13b87e5",
   "metadata": {},
   "outputs": [
    {
     "data": {
      "text/plain": [
       "' tik'"
      ]
     },
     "execution_count": 12,
     "metadata": {},
     "output_type": "execute_result"
    }
   ],
   "source": [
    "s1[10:-6]"
   ]
  },
  {
   "cell_type": "code",
   "execution_count": 28,
   "id": "c5a79f25-8785-4e06-92ea-3fb72f5ae1d5",
   "metadata": {},
   "outputs": [
    {
     "name": "stdout",
     "output_type": "stream",
     "text": [
      "t\n",
      "i\n",
      "k\n",
      "e\n"
     ]
    }
   ],
   "source": [
    "# for loop\n",
    "for i in s:\n",
    "    print(i)"
   ]
  },
  {
   "cell_type": "code",
   "execution_count": 33,
   "id": "e6c4a398-30d1-49fd-ae0e-802941440045",
   "metadata": {},
   "outputs": [
    {
     "name": "stdout",
     "output_type": "stream",
     "text": [
      "k --> 2\n"
     ]
    }
   ],
   "source": [
    "for i in s:\n",
    "    if i=='k':\n",
    "        print(i,'-->',s.index('k'))"
   ]
  },
  {
   "cell_type": "code",
   "execution_count": 37,
   "id": "2be3e2d9-6281-4dad-b9da-8d38011b3447",
   "metadata": {},
   "outputs": [
    {
     "name": "stdout",
     "output_type": "stream",
     "text": [
      "m\n",
      "y\n",
      " \n",
      "n\n",
      "a\n",
      "m\n",
      "e\n",
      " \n",
      "got it!!\n",
      "i\n",
      "s\n",
      " \n",
      "t\n",
      "got it!!\n",
      "i\n",
      "k\n",
      "e\n",
      "s\n",
      "w\n",
      "a\n",
      "r\n",
      "got it!!\n",
      "i\n"
     ]
    }
   ],
   "source": [
    "for i in s1:\n",
    "    if i=='i':\n",
    "        print('got it!!')\n",
    "    print(i)"
   ]
  },
  {
   "cell_type": "code",
   "execution_count": 46,
   "id": "c528b0a2-7b64-487a-8e07-6fa5c7b6e218",
   "metadata": {},
   "outputs": [
    {
     "name": "stdout",
     "output_type": "stream",
     "text": [
      "m\n",
      "y\n",
      "n\n",
      "a\n",
      "m\n",
      "e\n",
      "i\n",
      "s\n",
      "t\n",
      "i\n",
      "k\n",
      "e\n",
      "s\n",
      "w\n",
      "a\n",
      "r\n",
      "i\n",
      "last character\n",
      "else wala part\n"
     ]
    }
   ],
   "source": [
    "# once for completed , else will execute in for-else condn\n",
    "#using break and continue also\n",
    "for i in s1:\n",
    "    if i==' ':\n",
    "        continue\n",
    "        #break\n",
    "    print(i)\n",
    "else:\n",
    "    if i=='i':\n",
    "        print('last character')\n",
    "    print('else wala part')"
   ]
  },
  {
   "cell_type": "code",
   "execution_count": 15,
   "id": "e6c11a93-48cf-4486-a63e-5381b36f2dd8",
   "metadata": {},
   "outputs": [
    {
     "name": "stdout",
     "output_type": "stream",
     "text": [
      "ieuro\n"
     ]
    }
   ],
   "source": [
    "# continue stmnt\n",
    "s2,ss='ineuron',\"\"\n",
    "#ss=\"\"\n",
    "for i in range(len(s2)): # range will try to generate the data starting from 0 to n-1\n",
    "    if s2[i]=='n':\n",
    "        continue\n",
    "    else:\n",
    "        ss=ss+s2[i]\n",
    "print(ss)"
   ]
  },
  {
   "cell_type": "code",
   "execution_count": 16,
   "id": "5fafb607-0aa2-4f0e-8925-9f86da441414",
   "metadata": {},
   "outputs": [
    {
     "name": "stdout",
     "output_type": "stream",
     "text": [
      "{0, 1, 2, 3, 4, 5, 6}\n"
     ]
    },
    {
     "data": {
      "text/plain": [
       "'ieuron'"
      ]
     },
     "execution_count": 16,
     "metadata": {},
     "output_type": "execute_result"
    }
   ],
   "source": [
    "print(set(range(len(s2))))\n",
    "ss=ss+s2[i]\n",
    "ss"
   ]
  },
  {
   "cell_type": "code",
   "execution_count": 13,
   "id": "82ea0787-f9fa-4710-bafd-afbda4cbe480",
   "metadata": {},
   "outputs": [
    {
     "name": "stdout",
     "output_type": "stream",
     "text": [
      "+ \n",
      "+ + \n",
      "+ + + \n",
      "+ + + + \n",
      "+ + + + + \n",
      "+ + + + + + \n"
     ]
    }
   ],
   "source": [
    "# nested for\n",
    "n=7\n",
    "for i in range(0,n-1):\n",
    "    for j in range(0,i+1):\n",
    "        print('+ ' , end=\"\")\n",
    "    print('\\r') # used for carrage return ,moving the cursor to 1st line"
   ]
  },
  {
   "cell_type": "code",
   "execution_count": 7,
   "id": "f7b7d583-b629-4560-94f5-26758405b41b",
   "metadata": {},
   "outputs": [
    {
     "name": "stdout",
     "output_type": "stream",
     "text": [
      "+\n",
      "++\n",
      "+++\n",
      "++++\n",
      "+++++\n",
      "++++++\n",
      "CPU times: total: 0 ns\n",
      "Wall time: 0 ns\n"
     ]
    }
   ],
   "source": [
    "%%time\n",
    "line='+'\n",
    "max=7\n",
    "while len(line)<max:\n",
    "    print(line)\n",
    "    line+=\"+\""
   ]
  },
  {
   "cell_type": "code",
   "execution_count": 79,
   "id": "f31a6a1f-a109-487d-b424-c2b9cd07f094",
   "metadata": {},
   "outputs": [
    {
     "name": "stdout",
     "output_type": "stream",
     "text": [
      "\n",
      "+\n",
      "++\n",
      "+++\n",
      "++++\n",
      "+++++\n",
      "++++++\n",
      "CPU times: total: 0 ns\n",
      "Wall time: 0 ns\n"
     ]
    }
   ],
   "source": [
    "%%time\n",
    "l='+'\n",
    "for i in range(0,7):\n",
    "    print(l*i)"
   ]
  },
  {
   "cell_type": "code",
   "execution_count": 97,
   "id": "530d28da-c69e-4c1a-ae42-2dde39020c82",
   "metadata": {},
   "outputs": [
    {
     "name": "stdin",
     "output_type": "stream",
     "text": [
      "enter num: 5\n"
     ]
    },
    {
     "name": "stdout",
     "output_type": "stream",
     "text": [
      "        * * * * * * \n",
      "         * * * * * \n",
      "          * * * * \n",
      "           * * * \n",
      "            * * \n",
      "             * \n"
     ]
    }
   ],
   "source": [
    "n=int(input('enter num:'))\n",
    "m=2*n-2\n",
    "for i in range(n,-1,-1):\n",
    "    for j in range(m,0,-1):\n",
    "        print(end=' ')\n",
    "    m=m+1\n",
    "    for j in range(0,i+1):\n",
    "        print('*',end=' ')\n",
    "    print(\"\")\n"
   ]
  },
  {
   "cell_type": "code",
   "execution_count": 29,
   "id": "f92438cd-053f-42f5-97b0-ce1a8a214ea2",
   "metadata": {},
   "outputs": [
    {
     "data": {
      "text/plain": [
       "[5, 4, 3, 2]"
      ]
     },
     "execution_count": 29,
     "metadata": {},
     "output_type": "execute_result"
    }
   ],
   "source": [
    "list(range(5,1,-1))\n",
    "#list(range(6,0,-1))"
   ]
  },
  {
   "cell_type": "code",
   "execution_count": 102,
   "id": "711f401e-ce51-4689-b4d1-ac2b173a92d4",
   "metadata": {},
   "outputs": [
    {
     "data": {
      "text/plain": [
       "list"
      ]
     },
     "execution_count": 102,
     "metadata": {},
     "output_type": "execute_result"
    }
   ],
   "source": [
    "# list (in python there is no array concept, we can use list)\n",
    "l=list() #empty list\n",
    "l\n",
    "type(l)"
   ]
  },
  {
   "cell_type": "code",
   "execution_count": 101,
   "id": "6e04f4d4-ad69-45be-a4fb-2b81895ee17c",
   "metadata": {},
   "outputs": [
    {
     "data": {
      "text/plain": [
       "'tiki'"
      ]
     },
     "execution_count": 101,
     "metadata": {},
     "output_type": "execute_result"
    }
   ],
   "source": [
    "l=['tiki',543535345,'bgh']\n",
    "l[0]"
   ]
  },
  {
   "cell_type": "code",
   "execution_count": 25,
   "id": "8f416e84-1b8c-4328-b200-da30e1fc0fe9",
   "metadata": {},
   "outputs": [
    {
     "name": "stdin",
     "output_type": "stream",
     "text": [
      " [45,'ui',78.9]\n",
      " (89,0,89.8,'iki')\n",
      " {90,78.9,'iii',[89,76]}\n",
      " 78,\n",
      " tiki\n"
     ]
    },
    {
     "name": "stdout",
     "output_type": "stream",
     "text": [
      "[\"[45,'ui',78.9]\", \"(89,0,89.8,'iki')\", \"{90,78.9,'iii',[89,76]}\", '78,', 'tiki']\n",
      "(\"[45,'ui',78.9]\", \"(89,0,89.8,'iki')\", \"{90,78.9,'iii',[89,76]}\", '78,', 'tiki')\n"
     ]
    }
   ],
   "source": [
    "l1=list()\n",
    "for i in range(5):\n",
    "    n=input() #user input in list\n",
    "    l1.append(n)\n",
    "print(l1)\n",
    "#convert list to tuple\n",
    "print(tuple(l1))"
   ]
  },
  {
   "cell_type": "code",
   "execution_count": 27,
   "id": "6a3ecfbc-dbdb-4d2c-a30b-9261c7b1f24c",
   "metadata": {},
   "outputs": [
    {
     "name": "stdout",
     "output_type": "stream",
     "text": [
      "<class 'int'> \t 12\n",
      "<class 'str'> \t tiki\n",
      "<class 'bool'> \t True\n",
      "<class 'complex'> \t (45+8j)\n",
      "<class 'dict'> \t {'a': 67}\n",
      "<class 'tuple'> \t (4, 5, 'tikiki')\n",
      "<class 'list'> \t [12, 45, 'tjj']\n",
      "<class 'set'> \t {89, 'ggj', 767}\n"
     ]
    }
   ],
   "source": [
    "l2=[12,'tiki',True,45+8j,{'a':67},(4,5,'tikiki'),[12,45,'tjj'],{767,89,'ggj'}]\n",
    "for i in l2:\n",
    "    print(type(i),\"\\t\",i)"
   ]
  },
  {
   "cell_type": "code",
   "execution_count": 28,
   "id": "c23818c1-e9d6-4438-ac0b-43a9af23699b",
   "metadata": {},
   "outputs": [
    {
     "name": "stdout",
     "output_type": "stream",
     "text": [
      "57\n",
      "<class 'str'>\n"
     ]
    }
   ],
   "source": [
    "for i in l2:\n",
    "    if type(i)==list:\n",
    "        n=0\n",
    "        for j in i: #fetching list inside list elem\n",
    "            if type(j)== int:\n",
    "                n=n+j\n",
    "        print(n) # summation of list\n",
    "        print(type(j))"
   ]
  },
  {
   "cell_type": "code",
   "execution_count": 126,
   "id": "053bc1f3-dcf7-47b5-8ff4-99c6a020e075",
   "metadata": {},
   "outputs": [
    {
     "name": "stdout",
     "output_type": "stream",
     "text": [
      "[12, 'tiki', True, (45+8j), {'a': 67}, (4, 5, 'tikiki'), [12, 45, 'tjj'], {89, 'ggj', 767}]\n"
     ]
    },
    {
     "data": {
      "text/plain": [
       "[{767, 89, 'ggj'}, [12, 45, 'tjj'], (4, 5, 'tikiki'), {'a': 67}]"
      ]
     },
     "execution_count": 126,
     "metadata": {},
     "output_type": "execute_result"
    }
   ],
   "source": [
    "print(l2)\n",
    "l2[8:3:-1]"
   ]
  },
  {
   "cell_type": "code",
   "execution_count": 127,
   "id": "18987b31-4507-42cd-84d4-f28c2988aece",
   "metadata": {},
   "outputs": [
    {
     "data": {
      "text/plain": [
       "[{767, 89, 'ggj'}, (4, 5, 'tikiki')]"
      ]
     },
     "execution_count": 127,
     "metadata": {},
     "output_type": "execute_result"
    }
   ],
   "source": [
    "l2[8:3:-2]"
   ]
  },
  {
   "cell_type": "code",
   "execution_count": 128,
   "id": "7a87cfcc-fd82-4357-98bd-24b28ad5c117",
   "metadata": {},
   "outputs": [
    {
     "data": {
      "text/plain": [
       "[0, 1, 2, 3, 4, 5, 6, 7, 8, 9]"
      ]
     },
     "execution_count": 128,
     "metadata": {},
     "output_type": "execute_result"
    }
   ],
   "source": [
    "list(range(10))"
   ]
  },
  {
   "cell_type": "code",
   "execution_count": 129,
   "id": "4f36ce85-b045-4760-99b3-91bf2e57190b",
   "metadata": {},
   "outputs": [
    {
     "data": {
      "text/plain": [
       "8"
      ]
     },
     "execution_count": 129,
     "metadata": {},
     "output_type": "execute_result"
    }
   ],
   "source": [
    "#check length of list\n",
    "len(l2)"
   ]
  },
  {
   "cell_type": "code",
   "execution_count": null,
   "id": "2565878a-c6da-4cce-8b81-df3794c8f2ea",
   "metadata": {},
   "outputs": [],
   "source": []
  }
 ],
 "metadata": {
  "kernelspec": {
   "display_name": "Python 3 (ipykernel)",
   "language": "python",
   "name": "python3"
  },
  "language_info": {
   "codemirror_mode": {
    "name": "ipython",
    "version": 3
   },
   "file_extension": ".py",
   "mimetype": "text/x-python",
   "name": "python",
   "nbconvert_exporter": "python",
   "pygments_lexer": "ipython3",
   "version": "3.10.4"
  }
 },
 "nbformat": 4,
 "nbformat_minor": 5
}
