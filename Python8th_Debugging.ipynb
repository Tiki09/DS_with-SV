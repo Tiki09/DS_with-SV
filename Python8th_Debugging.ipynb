{
 "cells": [
  {
   "cell_type": "raw",
   "id": "b034b8bd-35f0-4b22-923e-6fc8ac2c02db",
   "metadata": {},
   "source": [
    "### Logging\n",
    "\n",
    "Importance of Logging:\n",
    "Whatever activity we are doing, that all we are logged/captured.\n",
    "\n",
    "**Information of logging IN A SYSTEM**\n",
    "A) DEBUG\n",
    "B) INFO\n",
    "C) WARNING\n",
    "D) ERROR\n",
    "E) CRITICAL"
   ]
  },
  {
   "cell_type": "code",
   "execution_count": 1,
   "id": "dd886140-a43f-4989-9303-fd099fb14ad9",
   "metadata": {},
   "outputs": [],
   "source": [
    "def tst():\n",
    "    '''hey this is a method'''\n",
    "    print('welcome to DocString')"
   ]
  },
  {
   "cell_type": "code",
   "execution_count": 2,
   "id": "97c55662-4c39-4c82-b396-00d64885e93e",
   "metadata": {},
   "outputs": [
    {
     "name": "stdout",
     "output_type": "stream",
     "text": [
      "welcome to DocString\n"
     ]
    }
   ],
   "source": [
    "tst()"
   ]
  },
  {
   "cell_type": "code",
   "execution_count": 1,
   "id": "c6bae5fc-53f6-4af1-89fb-1b36868f16e4",
   "metadata": {},
   "outputs": [],
   "source": [
    "import logging as lg\n",
    "# with the help of this we will be able to log"
   ]
  },
  {
   "cell_type": "code",
   "execution_count": 2,
   "id": "b8eb5d3d-cac2-4c8c-8007-81d0a981a9ba",
   "metadata": {},
   "outputs": [],
   "source": [
    "import os"
   ]
  },
  {
   "cell_type": "code",
   "execution_count": 3,
   "id": "b791e04f-415c-4786-9a93-951137925167",
   "metadata": {},
   "outputs": [
    {
     "data": {
      "text/plain": [
       "'C:\\\\Users\\\\lenovo\\\\Desktop\\\\Python\\\\dataAnalysis'"
      ]
     },
     "execution_count": 3,
     "metadata": {},
     "output_type": "execute_result"
    }
   ],
   "source": [
    "os.getcwd()"
   ]
  },
  {
   "cell_type": "code",
   "execution_count": 7,
   "id": "b62e3b8e-622f-4c4d-8536-a6c7355a837c",
   "metadata": {},
   "outputs": [],
   "source": [
    "os.mkdir('logging_prac')"
   ]
  },
  {
   "cell_type": "code",
   "execution_count": 11,
   "id": "597f3b97",
   "metadata": {},
   "outputs": [
    {
     "data": {
      "text/plain": [
       "'C:\\\\Users\\\\lenovo\\\\Desktop\\\\Python\\\\dataAnalysis\\\\tiki_loggings\\\\logging_prac'"
      ]
     },
     "execution_count": 11,
     "metadata": {},
     "output_type": "execute_result"
    }
   ],
   "source": [
    "os.getcwd()"
   ]
  },
  {
   "cell_type": "code",
   "execution_count": 4,
   "id": "8136f132-e12b-433c-a5e0-77f0bf0a676b",
   "metadata": {},
   "outputs": [],
   "source": [
    "os.chdir('C:\\\\Users\\\\lenovo\\\\Desktop\\\\Python\\\\dataAnalysis\\\\tiki_loggings\\\\logging_prac')"
   ]
  },
  {
   "cell_type": "code",
   "execution_count": 5,
   "id": "1642dbaa-c11b-46b9-ac1c-eb2d1d8b59fa",
   "metadata": {},
   "outputs": [],
   "source": [
    "lg.basicConfig(filename='prac.log',level=lg.INFO,format= '%(levelname)s,%(asctime)s,%(name)s,%(message)s')"
   ]
  },
  {
   "cell_type": "code",
   "execution_count": 6,
   "id": "f48b5361-5985-4ef7-bdc3-1bce77a5b4c7",
   "metadata": {},
   "outputs": [
    {
     "data": {
      "text/plain": [
       "'C:\\\\Users\\\\lenovo\\\\Desktop\\\\Python\\\\dataAnalysis\\\\tiki_loggings\\\\logging_prac'"
      ]
     },
     "execution_count": 6,
     "metadata": {},
     "output_type": "execute_result"
    }
   ],
   "source": [
    "pwd()"
   ]
  },
  {
   "cell_type": "code",
   "execution_count": 7,
   "id": "456b961a-4a3a-420b-b0b1-c546eaea0f4d",
   "metadata": {},
   "outputs": [],
   "source": [
    "lg.info('hey , welcome to the logging')"
   ]
  },
  {
   "cell_type": "code",
   "execution_count": 8,
   "id": "e46149d7-0225-4980-bade-378a9b36a0fe",
   "metadata": {},
   "outputs": [],
   "source": [
    "lg.warning('this is first warning')"
   ]
  },
  {
   "cell_type": "code",
   "execution_count": 9,
   "id": "d0532203-0158-46c6-a85a-d3c9809c3ec0",
   "metadata": {},
   "outputs": [],
   "source": [
    "lg.error('error message')"
   ]
  },
  {
   "cell_type": "code",
   "execution_count": 10,
   "id": "2031eedb-a067-40be-8cf5-4d2768115c7a",
   "metadata": {},
   "outputs": [
    {
     "ename": "TypeError",
     "evalue": "can only concatenate str (not \"int\") to str",
     "output_type": "error",
     "traceback": [
      "\u001b[1;31m---------------------------------------------------------------------------\u001b[0m",
      "\u001b[1;31mTypeError\u001b[0m                                 Traceback (most recent call last)",
      "Input \u001b[1;32mIn [10]\u001b[0m, in \u001b[0;36m<cell line: 1>\u001b[1;34m()\u001b[0m\n\u001b[1;32m----> 1\u001b[0m \u001b[38;5;124;43m'\u001b[39;49m\u001b[38;5;124;43mggygygyg\u001b[39;49m\u001b[38;5;124;43m'\u001b[39;49m\u001b[38;5;241;43m+\u001b[39;49m\u001b[38;5;241;43m345\u001b[39;49m\n",
      "\u001b[1;31mTypeError\u001b[0m: can only concatenate str (not \"int\") to str"
     ]
    }
   ],
   "source": [
    "'ggygygyg'+345"
   ]
  },
  {
   "cell_type": "code",
   "execution_count": 11,
   "id": "44d26e86-93ad-4756-ad81-3bf8b1f98a58",
   "metadata": {},
   "outputs": [
    {
     "name": "stdout",
     "output_type": "stream",
     "text": [
      "its an arithmetic exception, check log\n"
     ]
    }
   ],
   "source": [
    "def test1(a,b):\n",
    "    try:\n",
    "        div=a/b\n",
    "       # return div\n",
    "    except Exception as e:\n",
    "        print('its an arithmetic exception, check log')\n",
    "        lg.error('zero divison error occured')\n",
    "        lg.exception(str(e))\n",
    "\n",
    "test1(4,0)"
   ]
  },
  {
   "cell_type": "code",
   "execution_count": 12,
   "id": "5b667dad-2809-4e13-b52b-1d5ce1874b72",
   "metadata": {},
   "outputs": [],
   "source": [
    "def test1(a,b):\n",
    "    try:\n",
    "        lg.info(str(a)+str(b))\n",
    "        sum=a+b\n",
    "       # return sum\n",
    "    except Exception as e:\n",
    "        print('its an exception, check log')\n",
    "        lg.error(' error occured')\n",
    "        lg.exception(str(e))"
   ]
  },
  {
   "cell_type": "code",
   "execution_count": 13,
   "id": "f31c63cf-aad5-4615-90ec-a741ede988c5",
   "metadata": {},
   "outputs": [
    {
     "name": "stdout",
     "output_type": "stream",
     "text": [
      "its an exception, check log\n"
     ]
    }
   ],
   "source": [
    "test1(98,'tyhh')"
   ]
  },
  {
   "cell_type": "code",
   "execution_count": 1,
   "id": "e0ab7f80-2332-4487-8519-e5ed0418c413",
   "metadata": {},
   "outputs": [],
   "source": [
    "import logging\n",
    "logging.basicConfig(filename='C:\\\\Users\\\\lenovo\\\\Desktop\\\\Python\\\\dataAnalysis\\\\tiki_loggings\\\\logging_prac\\\\test1.log',level=logging.INFO)\n",
    "def test2(c,d):\n",
    "    logging.info('details about test2')\n",
    "    return c+d"
   ]
  },
  {
   "cell_type": "code",
   "execution_count": 2,
   "id": "42720588-3e2e-4b1a-87fc-02a2c80883c1",
   "metadata": {},
   "outputs": [
    {
     "data": {
      "text/plain": [
       "11"
      ]
     },
     "execution_count": 2,
     "metadata": {},
     "output_type": "execute_result"
    }
   ],
   "source": [
    "test2(5,6)"
   ]
  },
  {
   "cell_type": "code",
   "execution_count": 3,
   "id": "4e84e238-072c-4f67-9d76-811c78717a03",
   "metadata": {},
   "outputs": [],
   "source": [
    "logging.shutdown()"
   ]
  },
  {
   "cell_type": "code",
   "execution_count": 4,
   "id": "23ceffd3-d0eb-4b6c-acb1-a566f1beaf48",
   "metadata": {},
   "outputs": [],
   "source": [
    "logging.debug('this is for debugging')"
   ]
  },
  {
   "cell_type": "code",
   "execution_count": 5,
   "id": "8ec7675c-3a3d-4be4-ba06-688e4d009747",
   "metadata": {},
   "outputs": [],
   "source": [
    "logging.info('info log')"
   ]
  },
  {
   "cell_type": "code",
   "execution_count": 6,
   "id": "7306c990-9c7a-4be9-8ea1-a6b38213868e",
   "metadata": {},
   "outputs": [],
   "source": [
    "logging.warning('warning log')\n"
   ]
  },
  {
   "cell_type": "code",
   "execution_count": 7,
   "id": "b172ea16-6ff8-4640-bdee-62511ae6d00a",
   "metadata": {},
   "outputs": [],
   "source": [
    "logging.exception('exception log')\n",
    "logging.critical('critical log')"
   ]
  },
  {
   "cell_type": "markdown",
   "id": "41242256-404e-4899-a954-342103705076",
   "metadata": {},
   "source": [
    "### Homework"
   ]
  },
  {
   "cell_type": "code",
   "execution_count": 1,
   "id": "ebc05e59-136e-41d9-94ad-163902bfd373",
   "metadata": {},
   "outputs": [],
   "source": [
    "import logging as logg"
   ]
  },
  {
   "cell_type": "code",
   "execution_count": 2,
   "id": "28418b29-b100-4085-bd34-988c9b4e3f6e",
   "metadata": {},
   "outputs": [],
   "source": [
    "logg.basicConfig(filename='C:\\\\Users\\\\lenovo\\\\Desktop\\\\Python\\\\dataAnalysis\\\\tiki_loggings\\\\logging_prac\\\\assn.log',level=logg.INFO,format= '%(asctime)s %(message)s')\n"
   ]
  },
  {
   "cell_type": "code",
   "execution_count": 15,
   "id": "c73994a8-b405-4f19-ba94-06839ed3faae",
   "metadata": {},
   "outputs": [],
   "source": [
    "def fun(*arg):\n",
    "    logg.info('multiple args')\n",
    "    sum=0\n",
    "    try:\n",
    "        for i in arg:\n",
    "            logg.info(str(i))\n",
    "            #logg.info('elements {}'.format(i))\n",
    "            sum=sum+i\n",
    "        return sum\n",
    "    except Exception as ex:\n",
    "        logg.error('error found')\n",
    "        logg.exception(str(ex))"
   ]
  },
  {
   "cell_type": "code",
   "execution_count": 16,
   "id": "39a950ca-3433-440d-8870-da76a8b82f1f",
   "metadata": {},
   "outputs": [
    {
     "data": {
      "text/plain": [
       "10"
      ]
     },
     "execution_count": 16,
     "metadata": {},
     "output_type": "execute_result"
    }
   ],
   "source": [
    "fun(1,2,3,4)"
   ]
  },
  {
   "cell_type": "code",
   "execution_count": 17,
   "id": "be7fe8f3-80b5-45eb-b272-9b225e2acae4",
   "metadata": {},
   "outputs": [],
   "source": [
    "fun(1,6,'ti')"
   ]
  },
  {
   "cell_type": "code",
   "execution_count": 18,
   "id": "3abdadd9-605d-4eef-bca5-e514bbcd43e3",
   "metadata": {},
   "outputs": [
    {
     "data": {
      "text/plain": [
       "'C:\\\\Users\\\\lenovo\\\\Desktop\\\\Python\\\\dataAnalysis\\\\tiki_loggings\\\\logging_prac'"
      ]
     },
     "execution_count": 18,
     "metadata": {},
     "output_type": "execute_result"
    }
   ],
   "source": [
    "pwd()"
   ]
  },
  {
   "cell_type": "code",
   "execution_count": 7,
   "id": "e29edd43-9ce0-45a7-89d2-65b2a82b439e",
   "metadata": {},
   "outputs": [],
   "source": [
    "import os\n",
    "os.chdir('C:\\\\Users\\\\lenovo\\\\Desktop\\\\Python\\\\dataAnalysis\\\\tiki_loggings\\\\logging_prac')"
   ]
  },
  {
   "cell_type": "code",
   "execution_count": 8,
   "id": "df99c1d2-d54d-4770-a04d-8e3495522c61",
   "metadata": {},
   "outputs": [
    {
     "data": {
      "text/plain": [
       "'C:\\\\Users\\\\lenovo\\\\Desktop\\\\Python\\\\dataAnalysis\\\\tiki_loggings\\\\logging_prac'"
      ]
     },
     "execution_count": 8,
     "metadata": {},
     "output_type": "execute_result"
    }
   ],
   "source": [
    "pwd()"
   ]
  },
  {
   "cell_type": "code",
   "execution_count": 19,
   "id": "e8e9ca3e-8dd9-4192-a23f-fad116b8edf3",
   "metadata": {},
   "outputs": [],
   "source": [
    "f=open('assn.log','r')"
   ]
  },
  {
   "cell_type": "code",
   "execution_count": 20,
   "id": "a1a7a56f-eaa0-415f-a5e6-78d2d3cb3937",
   "metadata": {},
   "outputs": [
    {
     "data": {
      "text/plain": [
       "'hey2022-07-10 16:38:59,388 multiple args\\n2022-07-10 16:38:59,388 1\\n2022-07-10 16:38:59,389 2\\n2022-07-10 16:38:59,389 3\\n2022-07-10 16:38:59,389 4\\n2022-07-10 16:39:12,061 multiple args\\n2022-07-10 16:39:12,061 1\\n2022-07-10 16:39:12,062 6\\n2022-07-10 16:39:12,062 ti\\n2022-07-10 16:39:12,062 error found\\n2022-07-10 16:39:12,062 unsupported operand type(s) for +: \\'int\\' and \\'str\\'\\nTraceback (most recent call last):\\n  File \"C:\\\\Users\\\\lenovo\\\\AppData\\\\Local\\\\Temp\\\\ipykernel_7112\\\\1249549337.py\", line 8, in fun\\n    sum=sum+i\\nTypeError: unsupported operand type(s) for +: \\'int\\' and \\'str\\'\\n'"
      ]
     },
     "execution_count": 20,
     "metadata": {},
     "output_type": "execute_result"
    }
   ],
   "source": [
    "f.read()"
   ]
  },
  {
   "cell_type": "code",
   "execution_count": 11,
   "id": "a8df3ccb-effe-4b93-8233-30e98fca58c5",
   "metadata": {},
   "outputs": [],
   "source": [
    "f=open('assn.log','w')"
   ]
  },
  {
   "cell_type": "code",
   "execution_count": 12,
   "id": "23c5b8ac-50d5-4143-bb36-cb55afb67ac2",
   "metadata": {},
   "outputs": [
    {
     "data": {
      "text/plain": [
       "3"
      ]
     },
     "execution_count": 12,
     "metadata": {},
     "output_type": "execute_result"
    }
   ],
   "source": [
    "f.write('hey')"
   ]
  },
  {
   "cell_type": "markdown",
   "id": "63baf479-2efb-4f3b-ab45-bcd8ab8e41ab",
   "metadata": {},
   "source": [
    "### use of console_log"
   ]
  },
  {
   "cell_type": "code",
   "execution_count": 1,
   "id": "e0177f39-5dad-4cf9-a7ea-e75199922348",
   "metadata": {},
   "outputs": [],
   "source": [
    "import logging"
   ]
  },
  {
   "cell_type": "markdown",
   "id": "ef8befe3-3f1f-4b70-9d39-96ba3237cd7a",
   "metadata": {},
   "source": [
    "**to print in console, we can remove the filename**\"\n",
    "logging.basicConfig(level=logging.DEBUG,format='%(asctime)s %(levelname)s %(message)s') "
   ]
  },
  {
   "cell_type": "code",
   "execution_count": 2,
   "id": "dabd08a3-bc43-4962-a7e8-9ae3c4a18ad4",
   "metadata": {},
   "outputs": [],
   "source": [
    "logging.basicConfig(filename='C:\\\\Users\\\\lenovo\\\\Desktop\\\\Python\\\\dataAnalysis\\\\tiki_loggings\\\\logging_prac\\\\debug_tst.log',level=logging.DEBUG,format='%(asctime)s %(name)s %(levelname)s %(message)s') "
   ]
  },
  {
   "cell_type": "code",
   "execution_count": 3,
   "id": "3134745f-f14f-4d8a-b750-bd481e32b852",
   "metadata": {},
   "outputs": [],
   "source": [
    "console_log = logging.StreamHandler()\n",
    "console_log.setLevel(logging.INFO)"
   ]
  },
  {
   "cell_type": "markdown",
   "id": "968b276f-f73c-4d69-a3bd-b7275fda120c",
   "metadata": {},
   "source": [
    "StreamHandler() : whatever info log generate it store that in a console"
   ]
  },
  {
   "cell_type": "code",
   "execution_count": 4,
   "id": "3b9f0851-1902-4d6c-b57a-49738abff170",
   "metadata": {},
   "outputs": [],
   "source": [
    "format='%(asctime)s %(name)s %(levelname)s %(message)s'"
   ]
  },
  {
   "cell_type": "code",
   "execution_count": 5,
   "id": "c19e4ddd-17c7-42d5-b993-b41bed00b162",
   "metadata": {},
   "outputs": [],
   "source": [
    "console_log.setFormatter(format)"
   ]
  },
  {
   "cell_type": "code",
   "execution_count": 6,
   "id": "84764416-e504-41f3-aaed-113914bf3963",
   "metadata": {},
   "outputs": [],
   "source": [
    "logging.getLogger('').addHandler(console_log)"
   ]
  },
  {
   "cell_type": "code",
   "execution_count": 7,
   "id": "f83ef5b9-d64d-4656-9d37-b2f0c0fb1b99",
   "metadata": {},
   "outputs": [
    {
     "name": "stderr",
     "output_type": "stream",
     "text": [
      "%(asctime)s %(name)s %(levelname)s %(message)s\n"
     ]
    }
   ],
   "source": [
    "logging.info('my first test code for log')"
   ]
  },
  {
   "cell_type": "code",
   "execution_count": 8,
   "id": "75fc662f-e0ad-4fa2-a13c-2686c0558119",
   "metadata": {},
   "outputs": [],
   "source": [
    "logger1=logging.getLogger('logger1.area1')"
   ]
  },
  {
   "cell_type": "code",
   "execution_count": 9,
   "id": "e1480bb5-3901-4c42-8e74-99852edf9adc",
   "metadata": {},
   "outputs": [],
   "source": [
    "logger2=logging.getLogger('logger2.area2')\n",
    "logger3=logging.getLogger('logger3.area3')\n",
    "logger4=logging.getLogger('logger4.area4')"
   ]
  },
  {
   "cell_type": "code",
   "execution_count": 10,
   "id": "08dd83c4-164c-4c0d-bf5b-6b37cf89e00a",
   "metadata": {},
   "outputs": [
    {
     "name": "stderr",
     "output_type": "stream",
     "text": [
      "%(asctime)s %(name)s %(levelname)s %(message)s\n",
      "%(asctime)s %(name)s %(levelname)s %(message)s\n",
      "%(asctime)s %(name)s %(levelname)s %(message)s\n",
      "%(asctime)s %(name)s %(levelname)s %(message)s\n"
     ]
    }
   ],
   "source": [
    "logger1.info('logger1')\n",
    "logger2.debug('debug logger2')\n",
    "logger2.info('logger2')\n",
    "logger3.info('logger3')\n",
    "logger4.debug('debug logger4')\n",
    "logger4.error('logger4 error')"
   ]
  },
  {
   "cell_type": "code",
   "execution_count": 11,
   "id": "ad8e38cf-3292-4b3b-bbed-c32d6cfd22d7",
   "metadata": {},
   "outputs": [
    {
     "name": "stderr",
     "output_type": "stream",
     "text": [
      "%(asctime)s %(name)s %(levelname)s %(message)s\n"
     ]
    }
   ],
   "source": [
    "logger4.error('its error')"
   ]
  },
  {
   "cell_type": "code",
   "execution_count": 12,
   "id": "0f40eba6-8814-4268-a5d6-014a210dacaf",
   "metadata": {},
   "outputs": [
    {
     "name": "stderr",
     "output_type": "stream",
     "text": [
      "%(asctime)s %(name)s %(levelname)s %(message)s\n"
     ]
    }
   ],
   "source": [
    "logger4.warning('its warning of logger4')"
   ]
  },
  {
   "cell_type": "code",
   "execution_count": 13,
   "id": "3a11b287-10dd-459c-b252-62c379f8f46f",
   "metadata": {},
   "outputs": [],
   "source": [
    "logger3.debug('its warning of logger4')"
   ]
  },
  {
   "cell_type": "code",
   "execution_count": null,
   "id": "305ef5f8-77dc-4a8f-a4f3-6526bf036c85",
   "metadata": {},
   "outputs": [],
   "source": []
  },
  {
   "cell_type": "markdown",
   "id": "dd6d2f70-9b59-4cb5-8532-00f6949191a1",
   "metadata": {},
   "source": [
    "### DEBUGGING"
   ]
  },
  {
   "cell_type": "code",
   "execution_count": 14,
   "id": "b8c0befd-6433-408d-bc43-8186cef62614",
   "metadata": {},
   "outputs": [],
   "source": [
    "def testdebug():\n",
    "    l=[]\n",
    "    for i in range(10):\n",
    "        l.append(i)\n",
    "        print('we hv appended ur data')\n",
    "    return l"
   ]
  },
  {
   "cell_type": "code",
   "execution_count": 15,
   "id": "feccedf9-f590-4336-8982-9ad84ce0a536",
   "metadata": {},
   "outputs": [
    {
     "name": "stdout",
     "output_type": "stream",
     "text": [
      "we hv appended ur data\n",
      "we hv appended ur data\n",
      "we hv appended ur data\n",
      "we hv appended ur data\n",
      "we hv appended ur data\n",
      "we hv appended ur data\n",
      "we hv appended ur data\n",
      "we hv appended ur data\n",
      "we hv appended ur data\n",
      "we hv appended ur data\n"
     ]
    },
    {
     "data": {
      "text/plain": [
       "[0, 1, 2, 3, 4, 5, 6, 7, 8, 9]"
      ]
     },
     "execution_count": 15,
     "metadata": {},
     "output_type": "execute_result"
    }
   ],
   "source": [
    "testdebug()"
   ]
  },
  {
   "cell_type": "code",
   "execution_count": 1,
   "id": "43ad430f-49ea-429a-bf62-b46b433aa6fb",
   "metadata": {},
   "outputs": [
    {
     "name": "stdout",
     "output_type": "stream",
     "text": [
      "Requirement already satisfied: ipdb in c:\\python310\\lib\\site-packages (0.13.9)\n",
      "Requirement already satisfied: setuptools in c:\\python310\\lib\\site-packages (from ipdb) (58.1.0)\n",
      "Requirement already satisfied: ipython>=7.17.0 in c:\\python310\\lib\\site-packages (from ipdb) (8.3.0)\n",
      "Requirement already satisfied: toml>=0.10.2 in c:\\python310\\lib\\site-packages (from ipdb) (0.10.2)\n",
      "Requirement already satisfied: decorator in c:\\python310\\lib\\site-packages (from ipdb) (5.1.1)\n",
      "Requirement already satisfied: matplotlib-inline in c:\\python310\\lib\\site-packages (from ipython>=7.17.0->ipdb) (0.1.3)\n",
      "Requirement already satisfied: jedi>=0.16 in c:\\python310\\lib\\site-packages (from ipython>=7.17.0->ipdb) (0.18.1)\n",
      "Requirement already satisfied: backcall in c:\\python310\\lib\\site-packages (from ipython>=7.17.0->ipdb) (0.2.0)\n",
      "Requirement already satisfied: prompt-toolkit!=3.0.0,!=3.0.1,<3.1.0,>=2.0.0 in c:\\python310\\lib\\site-packages (from ipython>=7.17.0->ipdb) (3.0.29)\n",
      "Requirement already satisfied: pickleshare in c:\\python310\\lib\\site-packages (from ipython>=7.17.0->ipdb) (0.7.5)\n",
      "Requirement already satisfied: colorama in c:\\python310\\lib\\site-packages (from ipython>=7.17.0->ipdb) (0.4.4)\n",
      "Requirement already satisfied: pygments>=2.4.0 in c:\\python310\\lib\\site-packages (from ipython>=7.17.0->ipdb) (2.12.0)\n",
      "Requirement already satisfied: traitlets>=5 in c:\\python310\\lib\\site-packages (from ipython>=7.17.0->ipdb) (5.2.1.post0)\n",
      "Requirement already satisfied: stack-data in c:\\python310\\lib\\site-packages (from ipython>=7.17.0->ipdb) (0.2.0)\n",
      "Requirement already satisfied: parso<0.9.0,>=0.8.0 in c:\\python310\\lib\\site-packages (from jedi>=0.16->ipython>=7.17.0->ipdb) (0.8.3)\n",
      "Requirement already satisfied: wcwidth in c:\\python310\\lib\\site-packages (from prompt-toolkit!=3.0.0,!=3.0.1,<3.1.0,>=2.0.0->ipython>=7.17.0->ipdb) (0.2.5)\n",
      "Requirement already satisfied: executing in c:\\python310\\lib\\site-packages (from stack-data->ipython>=7.17.0->ipdb) (0.8.3)\n",
      "Requirement already satisfied: pure-eval in c:\\python310\\lib\\site-packages (from stack-data->ipython>=7.17.0->ipdb) (0.2.2)\n",
      "Requirement already satisfied: asttokens in c:\\python310\\lib\\site-packages (from stack-data->ipython>=7.17.0->ipdb) (2.0.5)\n",
      "Requirement already satisfied: six in c:\\python310\\lib\\site-packages (from asttokens->stack-data->ipython>=7.17.0->ipdb) (1.16.0)\n",
      "Note: you may need to restart the kernel to use updated packages.\n"
     ]
    },
    {
     "name": "stderr",
     "output_type": "stream",
     "text": [
      "WARNING: Ignoring invalid distribution -ip (c:\\python310\\lib\\site-packages)\n",
      "WARNING: Ignoring invalid distribution -ip (c:\\python310\\lib\\site-packages)\n",
      "WARNING: Ignoring invalid distribution -ip (c:\\python310\\lib\\site-packages)\n",
      "WARNING: Ignoring invalid distribution -ip (c:\\python310\\lib\\site-packages)\n",
      "WARNING: Ignoring invalid distribution -ip (c:\\python310\\lib\\site-packages)\n",
      "WARNING: Ignoring invalid distribution -ip (c:\\python310\\lib\\site-packages)\n",
      "WARNING: You are using pip version 22.0.4; however, version 22.1.2 is available.\n",
      "You should consider upgrading via the 'C:\\Python310\\python.exe -m pip install --upgrade pip' command.\n"
     ]
    }
   ],
   "source": [
    "pip install ipdb"
   ]
  },
  {
   "cell_type": "code",
   "execution_count": 18,
   "id": "6dab1571-e686-4028-bd35-79a8b7f05c99",
   "metadata": {},
   "outputs": [
    {
     "name": "stdout",
     "output_type": "stream",
     "text": [
      "Requirement already satisfied: pip in c:\\python310\\lib\\site-packages (22.0.4)\n",
      "Collecting pip\n",
      "  Downloading pip-22.1.2-py3-none-any.whl (2.1 MB)\n",
      "     ---------------------------------------- 2.1/2.1 MB 668.5 kB/s eta 0:00:00\n",
      "Installing collected packages: pip\n",
      "  Attempting uninstall: pip\n",
      "    Found existing installation: pip 22.0.4\n",
      "    Uninstalling pip-22.0.4:\n",
      "Note: you may need to restart the kernel to use updated packages.\n"
     ]
    },
    {
     "name": "stderr",
     "output_type": "stream",
     "text": [
      "ERROR: Could not install packages due to an OSError: [WinError 5] Access is denied: 'c:\\\\python310\\\\lib\\\\site-packages\\\\pip-22.0.4.dist-info\\\\entry_points.txt'\n",
      "Consider using the `--user` option or check the permissions.\n",
      "\n",
      "WARNING: You are using pip version 22.0.4; however, version 22.1.2 is available.\n",
      "You should consider upgrading via the 'C:\\Python310\\python.exe -m pip install --upgrade pip' command.\n"
     ]
    }
   ],
   "source": [
    "pip install --upgrade pip"
   ]
  },
  {
   "cell_type": "code",
   "execution_count": 3,
   "id": "3e35ed50-0604-46aa-a58f-10fe12cb21e6",
   "metadata": {},
   "outputs": [
    {
     "name": "stdout",
     "output_type": "stream",
     "text": [
      "Requirement already satisfied: pip in c:\\python310\\lib\\site-packages (22.0.4)\n",
      "Collecting pip\n",
      "  Using cached pip-22.1.2-py3-none-any.whl (2.1 MB)\n",
      "Installing collected packages: pip\n",
      "  Attempting uninstall: pip\n",
      "    Found existing installation: pip 22.0.4\n",
      "    Uninstalling pip-22.0.4:\n",
      "Note: you may need to restart the kernel to use updated packages.\n"
     ]
    },
    {
     "name": "stderr",
     "output_type": "stream",
     "text": [
      "WARNING: Ignoring invalid distribution -ip (c:\\python310\\lib\\site-packages)\n",
      "WARNING: Ignoring invalid distribution -ip (c:\\python310\\lib\\site-packages)\n",
      "WARNING: Ignoring invalid distribution -ip (c:\\python310\\lib\\site-packages)\n",
      "    WARNING: Ignoring invalid distribution -ip (c:\\python310\\lib\\site-packages)\n",
      "ERROR: Could not install packages due to an OSError: [WinError 5] Access is denied: 'c:\\\\python310\\\\lib\\\\site-packages\\\\pip-22.0.4.dist-info\\\\entry_points.txt'\n",
      "Consider using the `--user` option or check the permissions.\n",
      "\n",
      "WARNING: Ignoring invalid distribution -ip (c:\\python310\\lib\\site-packages)\n",
      "WARNING: Ignoring invalid distribution -ip (c:\\python310\\lib\\site-packages)\n",
      "WARNING: Ignoring invalid distribution -ip (c:\\python310\\lib\\site-packages)\n",
      "WARNING: You are using pip version 22.0.4; however, version 22.1.2 is available.\n",
      "You should consider upgrading via the 'C:\\Python310\\python.exe -m pip install --upgrade pip' command.\n"
     ]
    }
   ],
   "source": [
    "pip install pip --upgrade"
   ]
  },
  {
   "cell_type": "code",
   "execution_count": 8,
   "id": "e304129a-c9d5-47e0-8b91-96235ad524f8",
   "metadata": {},
   "outputs": [],
   "source": [
    "import ipdb"
   ]
  },
  {
   "cell_type": "code",
   "execution_count": 14,
   "id": "861238d3-53fc-4964-86ff-5bad9682644d",
   "metadata": {},
   "outputs": [],
   "source": [
    "def testdebug():\n",
    "    ipdb.set_trace() # to know how code is execute\n",
    "    l=[]\n",
    "    for i in range(5):\n",
    "        #for j in range(3):\n",
    "        l.append(i)\n",
    "        print('we hv appended ur data')\n",
    "    return l"
   ]
  },
  {
   "cell_type": "code",
   "execution_count": 15,
   "id": "79ef7193-d3c0-4602-8d6b-9c765643c15d",
   "metadata": {},
   "outputs": [
    {
     "name": "stdout",
     "output_type": "stream",
     "text": [
      "> \u001b[1;32mc:\\users\\lenovo\\appdata\\local\\temp\\ipykernel_2092\\1296139712.py\u001b[0m(3)\u001b[0;36mtestdebug\u001b[1;34m()\u001b[0m\n",
      "\n"
     ]
    },
    {
     "name": "stdin",
     "output_type": "stream",
     "text": [
      "ipdb>  n\n"
     ]
    },
    {
     "name": "stdout",
     "output_type": "stream",
     "text": [
      "> \u001b[1;32mc:\\users\\lenovo\\appdata\\local\\temp\\ipykernel_2092\\1296139712.py\u001b[0m(4)\u001b[0;36mtestdebug\u001b[1;34m()\u001b[0m\n",
      "\n"
     ]
    },
    {
     "name": "stdin",
     "output_type": "stream",
     "text": [
      "ipdb>  n\n"
     ]
    },
    {
     "name": "stdout",
     "output_type": "stream",
     "text": [
      "> \u001b[1;32mc:\\users\\lenovo\\appdata\\local\\temp\\ipykernel_2092\\1296139712.py\u001b[0m(6)\u001b[0;36mtestdebug\u001b[1;34m()\u001b[0m\n",
      "\n"
     ]
    },
    {
     "name": "stdin",
     "output_type": "stream",
     "text": [
      "ipdb>  i\n"
     ]
    },
    {
     "name": "stdout",
     "output_type": "stream",
     "text": [
      "0\n"
     ]
    },
    {
     "name": "stdin",
     "output_type": "stream",
     "text": [
      "ipdb>  n\n"
     ]
    },
    {
     "name": "stdout",
     "output_type": "stream",
     "text": [
      "> \u001b[1;32mc:\\users\\lenovo\\appdata\\local\\temp\\ipykernel_2092\\1296139712.py\u001b[0m(7)\u001b[0;36mtestdebug\u001b[1;34m()\u001b[0m\n",
      "\n"
     ]
    },
    {
     "name": "stdin",
     "output_type": "stream",
     "text": [
      "ipdb>  i\n"
     ]
    },
    {
     "name": "stdout",
     "output_type": "stream",
     "text": [
      "0\n"
     ]
    },
    {
     "name": "stdin",
     "output_type": "stream",
     "text": [
      "ipdb>  n\n"
     ]
    },
    {
     "name": "stdout",
     "output_type": "stream",
     "text": [
      "we hv appended ur data\n",
      "> \u001b[1;32mc:\\users\\lenovo\\appdata\\local\\temp\\ipykernel_2092\\1296139712.py\u001b[0m(4)\u001b[0;36mtestdebug\u001b[1;34m()\u001b[0m\n",
      "\n"
     ]
    },
    {
     "name": "stdin",
     "output_type": "stream",
     "text": [
      "ipdb>  3\n"
     ]
    },
    {
     "name": "stdout",
     "output_type": "stream",
     "text": [
      "3\n"
     ]
    },
    {
     "name": "stdin",
     "output_type": "stream",
     "text": [
      "ipdb>  i\n"
     ]
    },
    {
     "name": "stdout",
     "output_type": "stream",
     "text": [
      "0\n"
     ]
    },
    {
     "name": "stdin",
     "output_type": "stream",
     "text": [
      "ipdb>  n\n"
     ]
    },
    {
     "name": "stdout",
     "output_type": "stream",
     "text": [
      "> \u001b[1;32mc:\\users\\lenovo\\appdata\\local\\temp\\ipykernel_2092\\1296139712.py\u001b[0m(6)\u001b[0;36mtestdebug\u001b[1;34m()\u001b[0m\n",
      "\n"
     ]
    },
    {
     "name": "stdin",
     "output_type": "stream",
     "text": [
      "ipdb>  n\n"
     ]
    },
    {
     "name": "stdout",
     "output_type": "stream",
     "text": [
      "> \u001b[1;32mc:\\users\\lenovo\\appdata\\local\\temp\\ipykernel_2092\\1296139712.py\u001b[0m(7)\u001b[0;36mtestdebug\u001b[1;34m()\u001b[0m\n",
      "\n"
     ]
    },
    {
     "name": "stdin",
     "output_type": "stream",
     "text": [
      "ipdb>  n\n"
     ]
    },
    {
     "name": "stdout",
     "output_type": "stream",
     "text": [
      "we hv appended ur data\n",
      "> \u001b[1;32mc:\\users\\lenovo\\appdata\\local\\temp\\ipykernel_2092\\1296139712.py\u001b[0m(4)\u001b[0;36mtestdebug\u001b[1;34m()\u001b[0m\n",
      "\n"
     ]
    },
    {
     "name": "stdin",
     "output_type": "stream",
     "text": [
      "ipdb>  i\n"
     ]
    },
    {
     "name": "stdout",
     "output_type": "stream",
     "text": [
      "1\n"
     ]
    },
    {
     "name": "stdin",
     "output_type": "stream",
     "text": [
      "ipdb>  2\n"
     ]
    },
    {
     "name": "stdout",
     "output_type": "stream",
     "text": [
      "2\n"
     ]
    },
    {
     "name": "stdin",
     "output_type": "stream",
     "text": [
      "ipdb>  4\n"
     ]
    },
    {
     "name": "stdout",
     "output_type": "stream",
     "text": [
      "4\n"
     ]
    },
    {
     "name": "stdin",
     "output_type": "stream",
     "text": [
      "ipdb>  i=4\n",
      "ipdb>  i\n"
     ]
    },
    {
     "name": "stdout",
     "output_type": "stream",
     "text": [
      "4\n"
     ]
    },
    {
     "name": "stdin",
     "output_type": "stream",
     "text": [
      "ipdb>  n\n"
     ]
    },
    {
     "name": "stdout",
     "output_type": "stream",
     "text": [
      "> \u001b[1;32mc:\\users\\lenovo\\appdata\\local\\temp\\ipykernel_2092\\1296139712.py\u001b[0m(6)\u001b[0;36mtestdebug\u001b[1;34m()\u001b[0m\n",
      "\n"
     ]
    },
    {
     "name": "stdin",
     "output_type": "stream",
     "text": [
      "ipdb>  n\n"
     ]
    },
    {
     "name": "stdout",
     "output_type": "stream",
     "text": [
      "> \u001b[1;32mc:\\users\\lenovo\\appdata\\local\\temp\\ipykernel_2092\\1296139712.py\u001b[0m(7)\u001b[0;36mtestdebug\u001b[1;34m()\u001b[0m\n",
      "\n"
     ]
    },
    {
     "name": "stdin",
     "output_type": "stream",
     "text": [
      "ipdb>  jump\n"
     ]
    },
    {
     "name": "stdout",
     "output_type": "stream",
     "text": [
      "*** The 'jump' command requires a line number\n"
     ]
    },
    {
     "name": "stdin",
     "output_type": "stream",
     "text": [
      "ipdb>  6\n"
     ]
    },
    {
     "name": "stdout",
     "output_type": "stream",
     "text": [
      "6\n"
     ]
    },
    {
     "name": "stdin",
     "output_type": "stream",
     "text": [
      "ipdb>  i\n"
     ]
    },
    {
     "name": "stdout",
     "output_type": "stream",
     "text": [
      "2\n"
     ]
    },
    {
     "name": "stdin",
     "output_type": "stream",
     "text": [
      "ipdb>  jump 6\n"
     ]
    },
    {
     "name": "stdout",
     "output_type": "stream",
     "text": [
      "> \u001b[1;32mc:\\users\\lenovo\\appdata\\local\\temp\\ipykernel_2092\\1296139712.py\u001b[0m(6)\u001b[0;36mtestdebug\u001b[1;34m()\u001b[0m\n",
      "\n"
     ]
    },
    {
     "name": "stdin",
     "output_type": "stream",
     "text": [
      "ipdb>  n\n"
     ]
    },
    {
     "name": "stdout",
     "output_type": "stream",
     "text": [
      "> \u001b[1;32mc:\\users\\lenovo\\appdata\\local\\temp\\ipykernel_2092\\1296139712.py\u001b[0m(7)\u001b[0;36mtestdebug\u001b[1;34m()\u001b[0m\n",
      "\n"
     ]
    },
    {
     "name": "stdin",
     "output_type": "stream",
     "text": [
      "ipdb>  n\n"
     ]
    },
    {
     "name": "stdout",
     "output_type": "stream",
     "text": [
      "we hv appended ur data\n",
      "> \u001b[1;32mc:\\users\\lenovo\\appdata\\local\\temp\\ipykernel_2092\\1296139712.py\u001b[0m(4)\u001b[0;36mtestdebug\u001b[1;34m()\u001b[0m\n",
      "\n"
     ]
    },
    {
     "name": "stdin",
     "output_type": "stream",
     "text": [
      "ipdb>  i=3\n",
      "ipdb>  n\n"
     ]
    },
    {
     "name": "stdout",
     "output_type": "stream",
     "text": [
      "> \u001b[1;32mc:\\users\\lenovo\\appdata\\local\\temp\\ipykernel_2092\\1296139712.py\u001b[0m(6)\u001b[0;36mtestdebug\u001b[1;34m()\u001b[0m\n",
      "\n"
     ]
    },
    {
     "name": "stdin",
     "output_type": "stream",
     "text": [
      "ipdb>  n\n"
     ]
    },
    {
     "name": "stdout",
     "output_type": "stream",
     "text": [
      "> \u001b[1;32mc:\\users\\lenovo\\appdata\\local\\temp\\ipykernel_2092\\1296139712.py\u001b[0m(7)\u001b[0;36mtestdebug\u001b[1;34m()\u001b[0m\n",
      "\n"
     ]
    },
    {
     "name": "stdin",
     "output_type": "stream",
     "text": [
      "ipdb>  quit\n"
     ]
    },
    {
     "ename": "BdbQuit",
     "evalue": "",
     "output_type": "error",
     "traceback": [
      "\u001b[1;31m---------------------------------------------------------------------------\u001b[0m",
      "\u001b[1;31mBdbQuit\u001b[0m                                   Traceback (most recent call last)",
      "Input \u001b[1;32mIn [15]\u001b[0m, in \u001b[0;36m<cell line: 1>\u001b[1;34m()\u001b[0m\n\u001b[1;32m----> 1\u001b[0m \u001b[43mtestdebug\u001b[49m\u001b[43m(\u001b[49m\u001b[43m)\u001b[49m\n",
      "Input \u001b[1;32mIn [14]\u001b[0m, in \u001b[0;36mtestdebug\u001b[1;34m()\u001b[0m\n\u001b[0;32m      4\u001b[0m \u001b[38;5;28;01mfor\u001b[39;00m i \u001b[38;5;129;01min\u001b[39;00m \u001b[38;5;28mrange\u001b[39m(\u001b[38;5;241m5\u001b[39m):\n\u001b[0;32m      5\u001b[0m     \u001b[38;5;66;03m#for j in range(3):\u001b[39;00m\n\u001b[0;32m      6\u001b[0m     l\u001b[38;5;241m.\u001b[39mappend(i)\n\u001b[1;32m----> 7\u001b[0m     \u001b[38;5;28;43mprint\u001b[39;49m(\u001b[38;5;124m'\u001b[39m\u001b[38;5;124mwe hv appended ur data\u001b[39m\u001b[38;5;124m'\u001b[39m)\n\u001b[0;32m      8\u001b[0m \u001b[38;5;28;01mreturn\u001b[39;00m l\n",
      "Input \u001b[1;32mIn [14]\u001b[0m, in \u001b[0;36mtestdebug\u001b[1;34m()\u001b[0m\n\u001b[0;32m      4\u001b[0m \u001b[38;5;28;01mfor\u001b[39;00m i \u001b[38;5;129;01min\u001b[39;00m \u001b[38;5;28mrange\u001b[39m(\u001b[38;5;241m5\u001b[39m):\n\u001b[0;32m      5\u001b[0m     \u001b[38;5;66;03m#for j in range(3):\u001b[39;00m\n\u001b[0;32m      6\u001b[0m     l\u001b[38;5;241m.\u001b[39mappend(i)\n\u001b[1;32m----> 7\u001b[0m     \u001b[38;5;28;43mprint\u001b[39;49m(\u001b[38;5;124m'\u001b[39m\u001b[38;5;124mwe hv appended ur data\u001b[39m\u001b[38;5;124m'\u001b[39m)\n\u001b[0;32m      8\u001b[0m \u001b[38;5;28;01mreturn\u001b[39;00m l\n",
      "File \u001b[1;32mC:\\Python310\\lib\\bdb.py:90\u001b[0m, in \u001b[0;36mBdb.trace_dispatch\u001b[1;34m(self, frame, event, arg)\u001b[0m\n\u001b[0;32m     88\u001b[0m     \u001b[38;5;28;01mreturn\u001b[39;00m \u001b[38;5;66;03m# None\u001b[39;00m\n\u001b[0;32m     89\u001b[0m \u001b[38;5;28;01mif\u001b[39;00m event \u001b[38;5;241m==\u001b[39m \u001b[38;5;124m'\u001b[39m\u001b[38;5;124mline\u001b[39m\u001b[38;5;124m'\u001b[39m:\n\u001b[1;32m---> 90\u001b[0m     \u001b[38;5;28;01mreturn\u001b[39;00m \u001b[38;5;28;43mself\u001b[39;49m\u001b[38;5;241;43m.\u001b[39;49m\u001b[43mdispatch_line\u001b[49m\u001b[43m(\u001b[49m\u001b[43mframe\u001b[49m\u001b[43m)\u001b[49m\n\u001b[0;32m     91\u001b[0m \u001b[38;5;28;01mif\u001b[39;00m event \u001b[38;5;241m==\u001b[39m \u001b[38;5;124m'\u001b[39m\u001b[38;5;124mcall\u001b[39m\u001b[38;5;124m'\u001b[39m:\n\u001b[0;32m     92\u001b[0m     \u001b[38;5;28;01mreturn\u001b[39;00m \u001b[38;5;28mself\u001b[39m\u001b[38;5;241m.\u001b[39mdispatch_call(frame, arg)\n",
      "File \u001b[1;32mC:\\Python310\\lib\\bdb.py:115\u001b[0m, in \u001b[0;36mBdb.dispatch_line\u001b[1;34m(self, frame)\u001b[0m\n\u001b[0;32m    113\u001b[0m \u001b[38;5;28;01mif\u001b[39;00m \u001b[38;5;28mself\u001b[39m\u001b[38;5;241m.\u001b[39mstop_here(frame) \u001b[38;5;129;01mor\u001b[39;00m \u001b[38;5;28mself\u001b[39m\u001b[38;5;241m.\u001b[39mbreak_here(frame):\n\u001b[0;32m    114\u001b[0m     \u001b[38;5;28mself\u001b[39m\u001b[38;5;241m.\u001b[39muser_line(frame)\n\u001b[1;32m--> 115\u001b[0m     \u001b[38;5;28;01mif\u001b[39;00m \u001b[38;5;28mself\u001b[39m\u001b[38;5;241m.\u001b[39mquitting: \u001b[38;5;28;01mraise\u001b[39;00m BdbQuit\n\u001b[0;32m    116\u001b[0m \u001b[38;5;28;01mreturn\u001b[39;00m \u001b[38;5;28mself\u001b[39m\u001b[38;5;241m.\u001b[39mtrace_dispatch\n",
      "\u001b[1;31mBdbQuit\u001b[0m: "
     ]
    }
   ],
   "source": [
    "testdebug()"
   ]
  },
  {
   "cell_type": "code",
   "execution_count": null,
   "id": "09cc5aa5-5084-46ea-a576-c89f6e59a605",
   "metadata": {},
   "outputs": [],
   "source": []
  }
 ],
 "metadata": {
  "kernelspec": {
   "display_name": "Python 3 (ipykernel)",
   "language": "python",
   "name": "python3"
  },
  "language_info": {
   "codemirror_mode": {
    "name": "ipython",
    "version": 3
   },
   "file_extension": ".py",
   "mimetype": "text/x-python",
   "name": "python",
   "nbconvert_exporter": "python",
   "pygments_lexer": "ipython3",
   "version": "3.9.12"
  }
 },
 "nbformat": 4,
 "nbformat_minor": 5
}
