{
 "cells": [
  {
   "cell_type": "markdown",
   "id": "1f2ccfed-9c87-429d-8848-91ae526c4bba",
   "metadata": {},
   "source": [
    "### 1.\tWrite a Python program to print \"Hello Python\"?\n"
   ]
  },
  {
   "cell_type": "code",
   "execution_count": 3,
   "id": "d7705566-8418-4492-ac53-5457215245f4",
   "metadata": {},
   "outputs": [
    {
     "name": "stdin",
     "output_type": "stream",
     "text": [
      "say something... Hello Python\n"
     ]
    },
    {
     "data": {
      "text/plain": [
       "'Hello Python'"
      ]
     },
     "execution_count": 3,
     "metadata": {},
     "output_type": "execute_result"
    }
   ],
   "source": [
    "a=input('say something...')\n",
    "a"
   ]
  },
  {
   "cell_type": "markdown",
   "id": "7353799b-4623-4bdf-afd6-984a190c9224",
   "metadata": {},
   "source": [
    "### 2.\tWrite a Python program to do arithmetical operations addition and division."
   ]
  },
  {
   "cell_type": "code",
   "execution_count": 4,
   "id": "e3f52a0b-f2ff-42f0-89bb-5b4ac83ff87c",
   "metadata": {},
   "outputs": [
    {
     "name": "stdin",
     "output_type": "stream",
     "text": [
      "enter 1st num : 10\n",
      "enter 2nd num : 5\n"
     ]
    },
    {
     "name": "stdout",
     "output_type": "stream",
     "text": [
      "10 5 sum : 15\n",
      "10 5 sub : 5\n",
      "10 5 mul : 50\n",
      "10 5 div : 2.0\n"
     ]
    }
   ],
   "source": [
    "a=int(input('enter 1st num :'))\n",
    "b=int(input('enter 2nd num :'))\n",
    "s=a+b\n",
    "m=a-b\n",
    "mul=a*b\n",
    "div=a/b\n",
    "print(a,b,'sum :',s)\n",
    "print(a,b,'sub :',m)\n",
    "print(a,b,'mul :',mul)\n",
    "print(a,b,'div :',div)"
   ]
  },
  {
   "cell_type": "markdown",
   "id": "8fefb0b9-f444-47be-b949-a8970a3dd91a",
   "metadata": {},
   "source": [
    "### 3.\tWrite a Python program to find the area of a triangle?\n",
    "\n",
    "If a, b and c are three sides of a triangle. Then,\n",
    "\n",
    "s = (a+b+c)/2\n",
    "\n",
    "area = √(s(s-a)*(s-b)*(s-c))"
   ]
  },
  {
   "cell_type": "code",
   "execution_count": 11,
   "id": "2255be38-ab53-448e-865b-a30401d7db71",
   "metadata": {},
   "outputs": [],
   "source": [
    "# A = 1/2 × b × h\n",
    "\n",
    "'''def Area(b,h):\n",
    "    area=1/2*b*h\n",
    "    print(area)\n",
    "    '''\n",
    "\n",
    "def Area(a,b,c):\n",
    "    # calculate the semi-perimeter\n",
    "    s = (a + b + c) / 2\n",
    "    \n",
    "     # calculate the area\n",
    "    area = (s*(s-a)*(s-b)*(s-c)) ** 0.5\n",
    "    print(area)"
   ]
  },
  {
   "cell_type": "code",
   "execution_count": 12,
   "id": "79b816e1-176c-4aa3-a92f-9587dbcf4f40",
   "metadata": {},
   "outputs": [
    {
     "name": "stdout",
     "output_type": "stream",
     "text": [
      "14.696938456699069\n"
     ]
    }
   ],
   "source": [
    "Area(5,6,7)"
   ]
  },
  {
   "cell_type": "markdown",
   "id": "8f84d710-af09-4113-84a7-eb97394ae68a",
   "metadata": {},
   "source": [
    "### 4.\tWrite a Python program to swap two variables?"
   ]
  },
  {
   "cell_type": "code",
   "execution_count": 20,
   "id": "dc333bef-2f73-41e5-9e97-e53360a1100f",
   "metadata": {},
   "outputs": [
    {
     "name": "stdin",
     "output_type": "stream",
     "text": [
      "enter 1st val 15\n",
      "enter 2nd val 20\n"
     ]
    },
    {
     "name": "stdout",
     "output_type": "stream",
     "text": [
      "20 15\n"
     ]
    }
   ],
   "source": [
    "a=int(input('enter 1st val'))\n",
    "b=int(input('enter 2nd val'))\n",
    "#a,b=b,a\n",
    "'''\n",
    "using 3rd var\n",
    "t=a\n",
    "a=b\n",
    "b=t\n",
    "print(a,b)\n",
    "'''\n",
    "# without using 3rd var\n",
    "a=a+b\n",
    "b=a-b\n",
    "a=a-b\n",
    "print(a,b)\n"
   ]
  },
  {
   "cell_type": "markdown",
   "id": "a0d6c5fe-e75b-4f93-a92b-71adfcf0ec87",
   "metadata": {},
   "source": [
    "### 5.\tWrite a Python program to generate a random number?"
   ]
  },
  {
   "cell_type": "code",
   "execution_count": 21,
   "id": "db9b5ca2-a10f-4a46-8bf4-51d2f41d52c6",
   "metadata": {},
   "outputs": [
    {
     "name": "stdout",
     "output_type": "stream",
     "text": [
      "8\n"
     ]
    }
   ],
   "source": [
    "# Program to generate a random number between 0 and 9\n",
    "\n",
    "# importing the random module\n",
    "import random\n",
    "\n",
    "print(random.randint(0,9))\n"
   ]
  },
  {
   "cell_type": "code",
   "execution_count": 22,
   "id": "ac620ac8-0ddf-44a1-ae75-8f1d0b6c2400",
   "metadata": {},
   "outputs": [
    {
     "name": "stdout",
     "output_type": "stream",
     "text": [
      "5\n",
      "t\n"
     ]
    }
   ],
   "source": [
    "# choice() method\n",
    " \n",
    "# import random\n",
    "import random\n",
    " \n",
    "# prints a random value from the list\n",
    "list1 = [1, 2, 3, 4, 5, 6]\n",
    "print(random.choice(list1))\n",
    " \n",
    "# prints a random item from the string\n",
    "string = \"striver\"\n",
    "print(random.choice(string))"
   ]
  },
  {
   "cell_type": "code",
   "execution_count": null,
   "id": "37cdc62c-e8a7-4e32-8020-5f6c37156e39",
   "metadata": {},
   "outputs": [],
   "source": []
  }
 ],
 "metadata": {
  "kernelspec": {
   "display_name": "Python 3 (ipykernel)",
   "language": "python",
   "name": "python3"
  },
  "language_info": {
   "codemirror_mode": {
    "name": "ipython",
    "version": 3
   },
   "file_extension": ".py",
   "mimetype": "text/x-python",
   "name": "python",
   "nbconvert_exporter": "python",
   "pygments_lexer": "ipython3",
   "version": "3.10.4"
  }
 },
 "nbformat": 4,
 "nbformat_minor": 5
}
