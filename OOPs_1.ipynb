{
 "cells": [
  {
   "cell_type": "markdown",
   "id": "78f83958-140f-4835-b9b7-4c10f2f4032b",
   "metadata": {},
   "source": [
    "**class** :-\n",
    "classification/separation of real world entity.\n",
    "eg :-car,laptop,animal etc\n",
    "\n",
    "**object** :- instance/behavior of a class or variable of a class.\n",
    "\n",
    "e.g-\n",
    "class->car\n",
    "object->audi,nano etc...\n",
    "\n",
    "e.g :-\n",
    "a=5; its a variable/obj of int class\n",
    "\n",
    "s='tiku'; its a variable/obj of string class"
   ]
  },
  {
   "cell_type": "code",
   "execution_count": 4,
   "id": "61d21323-6ef7-4758-85a1-a7adced919dd",
   "metadata": {},
   "outputs": [],
   "source": [
    "# creation of class\n",
    "class car:\n",
    "    pass"
   ]
  },
  {
   "cell_type": "code",
   "execution_count": 5,
   "id": "a3d561a2-bf7b-4eee-8d3f-a8517a482f4f",
   "metadata": {},
   "outputs": [],
   "source": [
    "audiq7=car()"
   ]
  },
  {
   "cell_type": "code",
   "execution_count": 6,
   "id": "e37be43e-9cf0-4254-a23f-4e86fcba94e9",
   "metadata": {},
   "outputs": [],
   "source": [
    "audiq7.milage=15\n",
    "audiq7.year=2021\n",
    "audiq7.model='abc'\n",
    "audiq7.make=123"
   ]
  },
  {
   "cell_type": "code",
   "execution_count": 7,
   "id": "074830e0-30b4-454d-a5fc-8735264aafb6",
   "metadata": {},
   "outputs": [
    {
     "data": {
      "text/plain": [
       "2021"
      ]
     },
     "execution_count": 7,
     "metadata": {},
     "output_type": "execute_result"
    }
   ],
   "source": [
    "audiq7.year"
   ]
  },
  {
   "cell_type": "code",
   "execution_count": 8,
   "id": "7b3df7ac-ff92-454e-8c38-2565f0c0ba47",
   "metadata": {},
   "outputs": [
    {
     "data": {
      "text/plain": [
       "15"
      ]
     },
     "execution_count": 8,
     "metadata": {},
     "output_type": "execute_result"
    }
   ],
   "source": [
    "audiq7.milage"
   ]
  },
  {
   "cell_type": "code",
   "execution_count": 9,
   "id": "f9b2a31d-c752-42cc-baee-afd60bce7492",
   "metadata": {},
   "outputs": [],
   "source": [
    "nano=car()"
   ]
  },
  {
   "cell_type": "code",
   "execution_count": 10,
   "id": "76dd62a1-04c0-47bd-ad1f-9b77b3c1c612",
   "metadata": {},
   "outputs": [],
   "source": [
    "nano.milage=20\n",
    "nano.year=2021\n",
    "nano.make=234\n",
    "nano.model='efg'\n",
    "nano.engine=123456"
   ]
  },
  {
   "cell_type": "code",
   "execution_count": 11,
   "id": "17b390e8-2d68-4a62-8788-bb30e140d7a4",
   "metadata": {},
   "outputs": [
    {
     "data": {
      "text/plain": [
       "(123456, 2021)"
      ]
     },
     "execution_count": 11,
     "metadata": {},
     "output_type": "execute_result"
    }
   ],
   "source": [
    "nano.engine,nano.year"
   ]
  },
  {
   "cell_type": "code",
   "execution_count": 12,
   "id": "5268a946-4761-4d4c-ab68-66562039995c",
   "metadata": {},
   "outputs": [
    {
     "name": "stdout",
     "output_type": "stream",
     "text": [
      "2021 2021\n"
     ]
    }
   ],
   "source": [
    "print(audiq7.year,nano.year)"
   ]
  },
  {
   "cell_type": "markdown",
   "id": "7c8fed5a-2a89-4114-bd45-c55e85d83377",
   "metadata": {},
   "source": [
    "  \n",
    "__init__(args) : inbuilt func in python (__init__),\n",
    "wherever any func starts with 2 underscore and ends with also underscore , inbuilt func."
   ]
  },
  {
   "cell_type": "code",
   "execution_count": 13,
   "id": "c05b92f0-5f9b-41f2-b0a9-817ba68314dd",
   "metadata": {},
   "outputs": [],
   "source": [
    "class car:\n",
    "    def __init__(self,milage,year,model,make):\n",
    "        self.milage=milage\n",
    "        self.year=year\n",
    "        self.model=model\n",
    "        self.make=make"
   ]
  },
  {
   "cell_type": "code",
   "execution_count": 30,
   "id": "ddb69100-f975-4ff7-8fad-bfbfbf851185",
   "metadata": {},
   "outputs": [],
   "source": [
    "nano1 =car(25,2022,'xyz',1143)\n",
    "audi1=car(30,2020,'q7',1156)\n",
    "audi2=car(30,2020,'q8',1157)"
   ]
  },
  {
   "cell_type": "code",
   "execution_count": 15,
   "id": "2d67f301-64cb-47b8-b4e2-45f78bd26375",
   "metadata": {},
   "outputs": [
    {
     "data": {
      "text/plain": [
       "(2022, 'q7', 'q8')"
      ]
     },
     "execution_count": 15,
     "metadata": {},
     "output_type": "execute_result"
    }
   ],
   "source": [
    "nano1.year,audi1.model,audi2.model"
   ]
  },
  {
   "cell_type": "code",
   "execution_count": 16,
   "id": "e47006f1-9da5-4484-879a-09566de4b8ed",
   "metadata": {},
   "outputs": [],
   "source": [
    "class Laptop:\n",
    "    def __init__(p,mouse,keyboard,total):\n",
    "        p.mouse=mouse\n",
    "        p.keyboard=keyboard\n",
    "        p.total=mouse+keyboard"
   ]
  },
  {
   "cell_type": "code",
   "execution_count": 17,
   "id": "c7b3c872-a3c7-4f4c-a82b-b721fe6e1d4d",
   "metadata": {},
   "outputs": [],
   "source": [
    "lenovo=Laptop(500,1200,0)\n",
    "hp=Laptop(1500,12000,0)\n",
    "apple=Laptop(800,1500,0)"
   ]
  },
  {
   "cell_type": "code",
   "execution_count": 18,
   "id": "e1ba2cbd-0442-4a7c-9626-29a8b204939c",
   "metadata": {},
   "outputs": [
    {
     "name": "stdout",
     "output_type": "stream",
     "text": [
      "1700 13500 2300\n"
     ]
    }
   ],
   "source": [
    "print(lenovo.total,hp.total,apple.total)"
   ]
  },
  {
   "cell_type": "code",
   "execution_count": 19,
   "id": "57a6346e-5ae1-4e6c-8c3b-a1fc43ca5468",
   "metadata": {},
   "outputs": [
    {
     "data": {
      "text/plain": [
       "12000"
      ]
     },
     "execution_count": 19,
     "metadata": {},
     "output_type": "execute_result"
    }
   ],
   "source": [
    "hp.keyboard"
   ]
  },
  {
   "cell_type": "code",
   "execution_count": 20,
   "id": "87321e5e-6e32-4e46-92ae-442be910c6e4",
   "metadata": {},
   "outputs": [],
   "source": [
    "class Animal:\n",
    "    def __init__(a,b,e):\n",
    "        a.bark=b\n",
    "        a.eat=e  \n",
    "#here a.bark, a.eat are class variable/actual variable \n",
    "#and b,e that I passed in default arg,\n",
    "#its like data that we are going to pass in the class."
   ]
  },
  {
   "cell_type": "code",
   "execution_count": 21,
   "id": "c8a14c1c-c20c-4beb-b603-0aa194eeb8d8",
   "metadata": {},
   "outputs": [],
   "source": [
    "dog=Animal('bhobho','ckn')"
   ]
  },
  {
   "cell_type": "code",
   "execution_count": 22,
   "id": "ccf321ce-9c05-46d2-bc17-6fd409d59af1",
   "metadata": {},
   "outputs": [
    {
     "data": {
      "text/plain": [
       "'ckn'"
      ]
     },
     "execution_count": 22,
     "metadata": {},
     "output_type": "execute_result"
    }
   ],
   "source": [
    "dog.eat"
   ]
  },
  {
   "cell_type": "code",
   "execution_count": 23,
   "id": "08d5ffd6-d26b-4fa6-9c04-2a9fb22ce1f7",
   "metadata": {},
   "outputs": [],
   "source": [
    "class car:\n",
    "    def __init__(self,milage,year,model,make):\n",
    "        self.milage=milage\n",
    "        self.year=year\n",
    "        self.model=model\n",
    "        self.make=make\n",
    "        \n",
    "    def age(y,curr_yr):\n",
    "        return curr_yr-y.year\n",
    "    \n",
    "    def milage1(z):\n",
    "        print('milage of car ',z.milage)\n",
    "    \n",
    "    def __str__(c):\n",
    "        return 'this is my car cls'"
   ]
  },
  {
   "cell_type": "code",
   "execution_count": 24,
   "id": "a88884c0-b9a0-4bda-9a83-3283cec43929",
   "metadata": {},
   "outputs": [],
   "source": [
    "audi3=car(30,1999,'q9',1158)"
   ]
  },
  {
   "cell_type": "code",
   "execution_count": 25,
   "id": "8f5e4fa4-e5ef-4e36-bfa3-20676139f334",
   "metadata": {},
   "outputs": [
    {
     "data": {
      "text/plain": [
       "23"
      ]
     },
     "execution_count": 25,
     "metadata": {},
     "output_type": "execute_result"
    }
   ],
   "source": [
    "audi3.age(2022)"
   ]
  },
  {
   "cell_type": "code",
   "execution_count": 26,
   "id": "504b4603-eb14-4bb6-b17f-b97549b1d58b",
   "metadata": {},
   "outputs": [
    {
     "name": "stdout",
     "output_type": "stream",
     "text": [
      "milage of car  30\n"
     ]
    }
   ],
   "source": [
    "audi3.milage1()"
   ]
  },
  {
   "cell_type": "code",
   "execution_count": 27,
   "id": "008ad04e-59eb-4546-b661-d97ac87099fe",
   "metadata": {},
   "outputs": [
    {
     "data": {
      "text/plain": [
       "<__main__.car at 0x29aaf152680>"
      ]
     },
     "execution_count": 27,
     "metadata": {},
     "output_type": "execute_result"
    }
   ],
   "source": [
    "audi3"
   ]
  },
  {
   "cell_type": "code",
   "execution_count": 28,
   "id": "af2dbaeb-3e10-4869-b112-183f23bee0ea",
   "metadata": {},
   "outputs": [
    {
     "name": "stdout",
     "output_type": "stream",
     "text": [
      "this is my car cls\n"
     ]
    }
   ],
   "source": [
    "print(audi3)"
   ]
  },
  {
   "cell_type": "code",
   "execution_count": 31,
   "id": "b3e66957-f9bc-4e97-a049-d458a9beb719",
   "metadata": {},
   "outputs": [
    {
     "name": "stdout",
     "output_type": "stream",
     "text": [
      "this is my car cls\n"
     ]
    }
   ],
   "source": [
    "print(audi1)"
   ]
  },
  {
   "cell_type": "code",
   "execution_count": 12,
   "id": "f3924fe6-73ba-49b3-8f46-d9915a25ea28",
   "metadata": {},
   "outputs": [],
   "source": [
    "class Student:\n",
    "    def __init__(s,nm,rl,jdate,sub):\n",
    "        s.name=nm\n",
    "        s.roll=rl\n",
    "        s.joining_dt=jdate\n",
    "        s.subject=sub\n",
    "    \n",
    "    def sub_curr(c):\n",
    "        print('your current sub is:', c.subject)\n",
    "    \n",
    "    def rlTostr(r):\n",
    "        if type(r.roll)==str:\n",
    "            print('already string')\n",
    "        else:\n",
    "            return str(r.roll)\n",
    "    \n",
    "    def dur(d,curr_date):\n",
    "        print('duration is :', curr_date-d.joining_dt)\n",
    "        \n",
    "    def __str__(st):\n",
    "        return 'its a inbuilt method but when obj calld I want to print my own data'"
   ]
  },
  {
   "cell_type": "code",
   "execution_count": 23,
   "id": "caa7d980-d42a-4f92-afe1-cf84bb477082",
   "metadata": {},
   "outputs": [],
   "source": [
    "s1=Student('tiki',101,2021,'python')"
   ]
  },
  {
   "cell_type": "code",
   "execution_count": 24,
   "id": "9f816dd6-33f0-42a3-bf31-c15bcb87619f",
   "metadata": {},
   "outputs": [
    {
     "data": {
      "text/plain": [
       "'python'"
      ]
     },
     "execution_count": 24,
     "metadata": {},
     "output_type": "execute_result"
    }
   ],
   "source": [
    "s1.subject"
   ]
  },
  {
   "cell_type": "code",
   "execution_count": 25,
   "id": "8a33ca41-ba07-41a3-b1c7-62e31f3ddbdc",
   "metadata": {},
   "outputs": [
    {
     "data": {
      "text/plain": [
       "('tiki', 101)"
      ]
     },
     "execution_count": 25,
     "metadata": {},
     "output_type": "execute_result"
    }
   ],
   "source": [
    "s1.name,s1.roll"
   ]
  },
  {
   "cell_type": "code",
   "execution_count": 26,
   "id": "b808ec2d-76b9-4da2-be9f-8c3b84761ad7",
   "metadata": {},
   "outputs": [
    {
     "name": "stdout",
     "output_type": "stream",
     "text": [
      "duration is : 4\n"
     ]
    }
   ],
   "source": [
    "s1.dur(2025)"
   ]
  },
  {
   "cell_type": "code",
   "execution_count": 27,
   "id": "a035af22-faf6-4af1-8c07-771d740670ed",
   "metadata": {},
   "outputs": [
    {
     "data": {
      "text/plain": [
       "'101'"
      ]
     },
     "execution_count": 27,
     "metadata": {},
     "output_type": "execute_result"
    }
   ],
   "source": [
    "s1.rlTostr()"
   ]
  },
  {
   "cell_type": "code",
   "execution_count": 28,
   "id": "26e1c34f-fb20-4d59-8f69-91144287d9aa",
   "metadata": {},
   "outputs": [
    {
     "name": "stdout",
     "output_type": "stream",
     "text": [
      "its a inbuilt method but when obj calld I want to print my own data\n"
     ]
    }
   ],
   "source": [
    "print(s1)"
   ]
  },
  {
   "cell_type": "code",
   "execution_count": 30,
   "id": "47d82ec5-a345-4f39-b586-ac97f1f09304",
   "metadata": {},
   "outputs": [],
   "source": [
    "s2=Student('sud','111',1995,'java')"
   ]
  },
  {
   "cell_type": "code",
   "execution_count": 31,
   "id": "6c2446e0-2fe3-402e-96d4-1b777de5aa37",
   "metadata": {},
   "outputs": [
    {
     "name": "stdout",
     "output_type": "stream",
     "text": [
      "duration is : 27\n"
     ]
    }
   ],
   "source": [
    "s2.dur(2022)"
   ]
  },
  {
   "cell_type": "code",
   "execution_count": 32,
   "id": "748b4b01-b3b2-48b3-9c40-40b6c64ccf85",
   "metadata": {},
   "outputs": [
    {
     "name": "stdout",
     "output_type": "stream",
     "text": [
      "already string\n"
     ]
    }
   ],
   "source": [
    "s2.rlTostr()"
   ]
  },
  {
   "cell_type": "code",
   "execution_count": 45,
   "id": "fb6a92e8-c642-4e7b-b7d4-465a6d2f858e",
   "metadata": {},
   "outputs": [],
   "source": [
    "class Student:\n",
    "    def __init__(s,nm,rl,jdate,sub):\n",
    "        s.name=nm\n",
    "        s.roll=rl\n",
    "        s.joining_dt=jdate\n",
    "        s.subject=sub\n",
    "    \n",
    "    def name_Parsing(self):\n",
    "        if type(self.name)==list and type(self.roll)==list:\n",
    "            for i in range(len(self.name)):\n",
    "                print('name is here {} and roll  is {} in list'.format(self.name[i],self.roll[i]))\n",
    "        else:\n",
    "            print('not available in list',i)\n",
    "    \n",
    "    def sub_curr(c):\n",
    "        print('your current sub is:', c.subject)\n",
    "    \n",
    "    def rlTostr(r):\n",
    "        if type(r.roll)==str:\n",
    "            print('already string')\n",
    "        else:\n",
    "            return str(r.roll)\n",
    "    \n",
    "    def dur(d,curr_date):\n",
    "        print('duration is :', curr_date-d.joining_dt)\n",
    "        \n",
    "    def __str__(st):\n",
    "        return 'its a inbuilt method but when obj calld I want to print my own data'"
   ]
  },
  {
   "cell_type": "code",
   "execution_count": 46,
   "id": "dc642a53-39d4-4e66-8c3d-60a19af84890",
   "metadata": {},
   "outputs": [],
   "source": [
    "s3=Student(['cuty','simi','pinku'],[102,112,678],[2021,2021,2021],['java','py','java'])"
   ]
  },
  {
   "cell_type": "code",
   "execution_count": 47,
   "id": "06d8063d-4acf-421a-a1a6-3d91a1ae306d",
   "metadata": {},
   "outputs": [
    {
     "name": "stdout",
     "output_type": "stream",
     "text": [
      "name is here cuty and roll  is 102 in list\n",
      "name is here simi and roll  is 112 in list\n",
      "name is here pinku and roll  is 678 in list\n"
     ]
    }
   ],
   "source": [
    "s3.name_Parsing()"
   ]
  },
  {
   "cell_type": "markdown",
   "id": "7fa4766e-9a1c-459e-bdd9-6b7f01c97b42",
   "metadata": {},
   "source": [
    "### homeWork"
   ]
  },
  {
   "cell_type": "code",
   "execution_count": 61,
   "id": "004b6211-bf3b-41c1-b7b7-ff440caa15a7",
   "metadata": {},
   "outputs": [],
   "source": [
    "import os\n"
   ]
  },
  {
   "cell_type": "code",
   "execution_count": 62,
   "id": "eae48a54-4174-4e7e-8723-334059b11c49",
   "metadata": {},
   "outputs": [
    {
     "data": {
      "text/plain": [
       "'C:\\\\Users\\\\lenovo\\\\Desktop\\\\Python\\\\dataAnalysis'"
      ]
     },
     "execution_count": 62,
     "metadata": {},
     "output_type": "execute_result"
    }
   ],
   "source": [
    "pwd()"
   ]
  },
  {
   "cell_type": "code",
   "execution_count": 83,
   "id": "4e61ca66-bd23-4b71-a471-a80571562d25",
   "metadata": {},
   "outputs": [],
   "source": [
    "import logging as lg\n",
    "lg.basicConfig(filename='oops3.log',level=lg.INFO,format= '%(asctime)s %(message)s')\n",
    "class data:\n",
    "    def __init__(self,fName,fType,date,size):\n",
    "        self.fileName=fName\n",
    "        self.fileType=fType\n",
    "        self.date=date\n",
    "        self.size=size\n",
    "    \n",
    "    def fOpen(fp):\n",
    "        if fp.fileName in os.listdir():\n",
    "            print('file is here')\n",
    "            f=open(fp.fileName,'a')\n",
    "            f.write(\"file is already present.\")\n",
    "            lg.info('existing file')\n",
    "            f.close()\n",
    "        else:\n",
    "            f=open(fp.fileName,'w')\n",
    "            f.write(\"ReactJS tutorial provides basic info .\")\n",
    "            lg.info('pls open the new file')\n",
    "            f.close()\n",
    "        \n",
    "    def fread(fr):\n",
    "        try:\n",
    "            f=open(fr.fileName,'r')\n",
    "            print(f.read())\n",
    "            lg.info('file read')\n",
    "            f.close()\n",
    "        except Exception as e:\n",
    "            lg.error(e)\n",
    "        \n",
    "    def fAppend(fa):\n",
    "        f=open(fa.fileName,'a')\n",
    "        f.write('dont read react js')\n",
    "        lg.info('file appended')\n",
    "        f.close()"
   ]
  },
  {
   "cell_type": "code",
   "execution_count": 84,
   "id": "ac11a0e0-2081-44d6-b083-2659b07bb808",
   "metadata": {},
   "outputs": [],
   "source": [
    "d1=data('oops1.txt','.txt','05-06-2022','25kb')"
   ]
  },
  {
   "cell_type": "code",
   "execution_count": 85,
   "id": "f90d6308-203c-48a8-b872-dca317321e05",
   "metadata": {},
   "outputs": [
    {
     "name": "stdout",
     "output_type": "stream",
     "text": [
      "file is here\n"
     ]
    }
   ],
   "source": [
    "d1.fOpen()"
   ]
  },
  {
   "cell_type": "code",
   "execution_count": 86,
   "id": "9ef15e26-5856-4358-9a47-c4470625474a",
   "metadata": {},
   "outputs": [
    {
     "name": "stdout",
     "output_type": "stream",
     "text": [
      "ReactJS tutorial provides basic info .dont read react jsfile is already present.file is already present.dont read react jsfile is already present.\n"
     ]
    }
   ],
   "source": [
    "d1.fread()"
   ]
  },
  {
   "cell_type": "code",
   "execution_count": 87,
   "id": "70b190db-45a1-4722-92bf-f06cb115275d",
   "metadata": {},
   "outputs": [],
   "source": [
    "d1.fAppend()"
   ]
  },
  {
   "cell_type": "code",
   "execution_count": 88,
   "id": "29897023-c7ef-4a85-90af-540385c58656",
   "metadata": {},
   "outputs": [
    {
     "name": "stdout",
     "output_type": "stream",
     "text": [
      "ReactJS tutorial provides basic info .dont read react jsfile is already present.file is already present.dont read react jsfile is already present.dont read react js\n"
     ]
    }
   ],
   "source": [
    "d1.fread()"
   ]
  },
  {
   "cell_type": "code",
   "execution_count": 89,
   "id": "af18ab6a-ee2e-4203-af42-2891b1fa3e70",
   "metadata": {},
   "outputs": [],
   "source": [
    "d2=data('oops2.txt','.txt','08-06-2022','25kb')"
   ]
  },
  {
   "cell_type": "code",
   "execution_count": 90,
   "id": "294575aa-2d09-4164-894f-c9a58b7f25ca",
   "metadata": {},
   "outputs": [],
   "source": [
    "d2.fread()"
   ]
  },
  {
   "cell_type": "code",
   "execution_count": 91,
   "id": "120cae88-f3cf-4da7-8001-155eeee1624f",
   "metadata": {},
   "outputs": [
    {
     "data": {
      "text/plain": [
       "('25kb', '05-06-2022')"
      ]
     },
     "execution_count": 91,
     "metadata": {},
     "output_type": "execute_result"
    }
   ],
   "source": [
    "d1.size,d1.date"
   ]
  },
  {
   "cell_type": "code",
   "execution_count": null,
   "id": "b973907f-a573-4bd8-94d6-1e2fd4349f19",
   "metadata": {},
   "outputs": [],
   "source": []
  }
 ],
 "metadata": {
  "kernelspec": {
   "display_name": "Python 3 (ipykernel)",
   "language": "python",
   "name": "python3"
  },
  "language_info": {
   "codemirror_mode": {
    "name": "ipython",
    "version": 3
   },
   "file_extension": ".py",
   "mimetype": "text/x-python",
   "name": "python",
   "nbconvert_exporter": "python",
   "pygments_lexer": "ipython3",
   "version": "3.10.4"
  }
 },
 "nbformat": 4,
 "nbformat_minor": 5
}
