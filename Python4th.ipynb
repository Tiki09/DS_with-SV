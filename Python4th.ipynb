{
 "cells": [
  {
   "cell_type": "code",
   "execution_count": 2,
   "id": "b93dbf16-6eec-44e9-89d2-23ffc8b4b1ed",
   "metadata": {},
   "outputs": [],
   "source": [
    "#list \n",
    "l=['tiki',34,45.56,[45,'c',6],True]"
   ]
  },
  {
   "cell_type": "code",
   "execution_count": 3,
   "id": "670032a8-c815-45a1-b289-5eba71212189",
   "metadata": {},
   "outputs": [
    {
     "data": {
      "text/plain": [
       "[True, [45, 'c', 6], 45.56, 34, 'tiki']"
      ]
     },
     "execution_count": 3,
     "metadata": {},
     "output_type": "execute_result"
    }
   ],
   "source": [
    "l[::-1]"
   ]
  },
  {
   "cell_type": "code",
   "execution_count": 4,
   "id": "5468a88e-e7cd-4ef2-9874-d0528a171819",
   "metadata": {},
   "outputs": [
    {
     "data": {
      "text/plain": [
       "['tiki', 34, 45.56, [45, 'c', 6], True]"
      ]
     },
     "execution_count": 4,
     "metadata": {},
     "output_type": "execute_result"
    }
   ],
   "source": [
    "l"
   ]
  },
  {
   "cell_type": "code",
   "execution_count": 5,
   "id": "cc947993-bb8c-418e-aea3-215440f82d5a",
   "metadata": {},
   "outputs": [
    {
     "name": "stdout",
     "output_type": "stream",
     "text": [
      "not a str 45\n",
      "this is str c\n",
      "not a str 6\n"
     ]
    }
   ],
   "source": [
    "for i in l:\n",
    "    if type(i)==list:\n",
    "        for j in i:\n",
    "            if type(j)==str:\n",
    "                print('this is str',j)\n",
    "            else:\n",
    "                print('not a str',j)"
   ]
  },
  {
   "cell_type": "code",
   "execution_count": 6,
   "id": "f90a06a5-dff9-49aa-926e-3c3fee631a07",
   "metadata": {},
   "outputs": [
    {
     "data": {
      "text/plain": [
       "True"
      ]
     },
     "execution_count": 6,
     "metadata": {},
     "output_type": "execute_result"
    }
   ],
   "source": [
    "True in l"
   ]
  },
  {
   "cell_type": "code",
   "execution_count": 7,
   "id": "dff352b0-6364-4c0e-b92b-e448f23dde19",
   "metadata": {},
   "outputs": [
    {
     "data": {
      "text/plain": [
       "True"
      ]
     },
     "execution_count": 7,
     "metadata": {},
     "output_type": "execute_result"
    }
   ],
   "source": [
    "'c' in l[3]"
   ]
  },
  {
   "cell_type": "code",
   "execution_count": 8,
   "id": "3e5a2bf8-2c8e-47cf-9e3d-dc931f60f4f0",
   "metadata": {},
   "outputs": [
    {
     "name": "stdout",
     "output_type": "stream",
     "text": [
      "True\n"
     ]
    },
    {
     "data": {
      "text/plain": [
       "6"
      ]
     },
     "execution_count": 8,
     "metadata": {},
     "output_type": "execute_result"
    }
   ],
   "source": [
    "#to see max elem of list,set,tuple\n",
    "print(max([True,False]))\n",
    "max(3,4,5,6)"
   ]
  },
  {
   "cell_type": "code",
   "execution_count": 9,
   "id": "ac89bd7d-fe96-4e1e-bea6-dd5c7d4376b7",
   "metadata": {},
   "outputs": [
    {
     "data": {
      "text/plain": [
       "str"
      ]
     },
     "execution_count": 9,
     "metadata": {},
     "output_type": "execute_result"
    }
   ],
   "source": [
    "type(max('hh','yu','z'))"
   ]
  },
  {
   "cell_type": "code",
   "execution_count": 10,
   "id": "16194640-982d-4113-b0b1-5d7200d1da87",
   "metadata": {},
   "outputs": [
    {
     "data": {
      "text/plain": [
       "'fu'"
      ]
     },
     "execution_count": 10,
     "metadata": {},
     "output_type": "execute_result"
    }
   ],
   "source": [
    "min('hh','fu','z')"
   ]
  },
  {
   "cell_type": "code",
   "execution_count": 11,
   "id": "87d92771-2781-4913-9e15-5b448d468598",
   "metadata": {},
   "outputs": [
    {
     "data": {
      "text/plain": [
       "'hh'"
      ]
     },
     "execution_count": 11,
     "metadata": {},
     "output_type": "execute_result"
    }
   ],
   "source": [
    "min('hh','yu','z','i')"
   ]
  },
  {
   "cell_type": "code",
   "execution_count": 12,
   "id": "b3225f01-2c87-4f00-89bd-0601b2924c3f",
   "metadata": {},
   "outputs": [],
   "source": [
    "#append data in list at the end\n",
    "l=[1,2,3,4]\n"
   ]
  },
  {
   "cell_type": "code",
   "execution_count": 13,
   "id": "440ebb6d-b063-43a7-9e37-4df4b8a2d555",
   "metadata": {},
   "outputs": [
    {
     "data": {
      "text/plain": [
       "[1, 2, 3, 4, 'riki']"
      ]
     },
     "execution_count": 13,
     "metadata": {},
     "output_type": "execute_result"
    }
   ],
   "source": [
    "l.append('riki')\n",
    "l"
   ]
  },
  {
   "cell_type": "code",
   "execution_count": 14,
   "id": "ccbf7c3f-c8aa-4a65-9068-a5db869b7632",
   "metadata": {},
   "outputs": [],
   "source": [
    "l.append(34+5j)"
   ]
  },
  {
   "cell_type": "code",
   "execution_count": 15,
   "id": "2f7ab1ba-9056-4f6f-a461-631f16452022",
   "metadata": {},
   "outputs": [
    {
     "data": {
      "text/plain": [
       "[1, 2, 3, 4, 'riki', (34+5j)]"
      ]
     },
     "execution_count": 15,
     "metadata": {},
     "output_type": "execute_result"
    }
   ],
   "source": [
    "l"
   ]
  },
  {
   "cell_type": "code",
   "execution_count": 16,
   "id": "1de7f314-8b00-49c4-b451-0150c2ebe764",
   "metadata": {},
   "outputs": [],
   "source": [
    "#insert operation in list at a specific index\n",
    "l.insert(2,'yuvi')\n",
    "l.insert(1,2)"
   ]
  },
  {
   "cell_type": "code",
   "execution_count": 17,
   "id": "fed3ce29-482c-40fb-ae12-837b951e1308",
   "metadata": {},
   "outputs": [
    {
     "data": {
      "text/plain": [
       "[1, 2, 2, 'yuvi', 3, 4, 'riki', (34+5j)]"
      ]
     },
     "execution_count": 17,
     "metadata": {},
     "output_type": "execute_result"
    }
   ],
   "source": [
    "l"
   ]
  },
  {
   "cell_type": "code",
   "execution_count": 18,
   "id": "24e226df-3870-4ab9-9fd6-d3a0a4e45db3",
   "metadata": {},
   "outputs": [],
   "source": [
    "#remove one elem\n",
    "l.remove(3)\n"
   ]
  },
  {
   "cell_type": "code",
   "execution_count": 19,
   "id": "caa100f7-10bd-46ed-b2c4-3557acd227c5",
   "metadata": {},
   "outputs": [
    {
     "data": {
      "text/plain": [
       "[1, 2, 2, 'yuvi', 4, 'riki', (34+5j)]"
      ]
     },
     "execution_count": 19,
     "metadata": {},
     "output_type": "execute_result"
    }
   ],
   "source": [
    "l"
   ]
  },
  {
   "cell_type": "code",
   "execution_count": 20,
   "id": "108aee6d-ae44-4764-8abf-241ff3d049e2",
   "metadata": {},
   "outputs": [],
   "source": [
    "l.insert(-1,43.5)"
   ]
  },
  {
   "cell_type": "code",
   "execution_count": 21,
   "id": "fd82d4e8-23ed-485f-b4e4-b0197d20e19e",
   "metadata": {},
   "outputs": [
    {
     "data": {
      "text/plain": [
       "[1, 2, 2, 'yuvi', 4, 'riki', 43.5, (34+5j)]"
      ]
     },
     "execution_count": 21,
     "metadata": {},
     "output_type": "execute_result"
    }
   ],
   "source": [
    "l"
   ]
  },
  {
   "cell_type": "code",
   "execution_count": 22,
   "id": "57475f8b-3fad-4209-88b4-392bb5a5c759",
   "metadata": {},
   "outputs": [
    {
     "data": {
      "text/plain": [
       "3"
      ]
     },
     "execution_count": 22,
     "metadata": {},
     "output_type": "execute_result"
    }
   ],
   "source": [
    "i='banana'\n",
    "i.count('a')"
   ]
  },
  {
   "cell_type": "code",
   "execution_count": 23,
   "id": "8319517c-7df8-4dc8-b0a8-b8671b744508",
   "metadata": {},
   "outputs": [],
   "source": [
    "#extend operation\n",
    "l=[1,2,3,4,5]\n",
    "l.append([3,4,5,6,'tst1'])"
   ]
  },
  {
   "cell_type": "code",
   "execution_count": 24,
   "id": "de2b07b8-ce86-4724-8dad-3cc3f76d61f7",
   "metadata": {},
   "outputs": [],
   "source": [
    "#l.append('test1')"
   ]
  },
  {
   "cell_type": "code",
   "execution_count": 25,
   "id": "a64ded3e-0ea2-4eee-a596-1e52710d856c",
   "metadata": {},
   "outputs": [],
   "source": [
    "l.extend([3,4,5,6,'tst1']) #it is trying to iterate one by one char/elem"
   ]
  },
  {
   "cell_type": "code",
   "execution_count": 26,
   "id": "5d29bc23-8d59-4058-8a30-5df74712cd1b",
   "metadata": {},
   "outputs": [],
   "source": [
    "l.extend('tst1')"
   ]
  },
  {
   "cell_type": "code",
   "execution_count": 27,
   "id": "030e1813-756a-4a19-b758-50a35c778cfd",
   "metadata": {},
   "outputs": [
    {
     "data": {
      "text/plain": [
       "[1, 2, 3, 4, 5, [3, 4, 5, 6, 'tst1'], 3, 4, 5, 6, 'tst1', 't', 's', 't', '1']"
      ]
     },
     "execution_count": 27,
     "metadata": {},
     "output_type": "execute_result"
    }
   ],
   "source": [
    "l"
   ]
  },
  {
   "cell_type": "code",
   "execution_count": 28,
   "id": "cf553e0b-e9d0-4f22-9e89-df5dfaa0966f",
   "metadata": {},
   "outputs": [],
   "source": [
    "o='oppo'\n",
    "l.extend(o.split())"
   ]
  },
  {
   "cell_type": "code",
   "execution_count": 29,
   "id": "0543cd57-c826-4da5-b3a1-d74013f78b39",
   "metadata": {},
   "outputs": [
    {
     "data": {
      "text/plain": [
       "[1,\n",
       " 2,\n",
       " 3,\n",
       " 4,\n",
       " 5,\n",
       " [3, 4, 5, 6, 'tst1'],\n",
       " 3,\n",
       " 4,\n",
       " 5,\n",
       " 6,\n",
       " 'tst1',\n",
       " 't',\n",
       " 's',\n",
       " 't',\n",
       " '1',\n",
       " 'oppo']"
      ]
     },
     "execution_count": 29,
     "metadata": {},
     "output_type": "execute_result"
    }
   ],
   "source": [
    "l"
   ]
  },
  {
   "cell_type": "code",
   "execution_count": 30,
   "id": "c60fb3c5-bfa1-43ba-bb96-15b93018fda4",
   "metadata": {},
   "outputs": [
    {
     "data": {
      "text/plain": [
       "[1, 2, 3, 4, 3, 4, 4, 7, 3, 4, 7]"
      ]
     },
     "execution_count": 30,
     "metadata": {},
     "output_type": "execute_result"
    }
   ],
   "source": [
    "l=[1,2,3,4,3,4,4,7]\n",
    "l.extend([3,4,7])\n",
    "l"
   ]
  },
  {
   "cell_type": "code",
   "execution_count": 31,
   "id": "6fc685c8-afb5-42c7-9ded-0adb7fd5d20d",
   "metadata": {},
   "outputs": [
    {
     "data": {
      "text/plain": [
       "['t', 'e', 's', 't']"
      ]
     },
     "execution_count": 31,
     "metadata": {},
     "output_type": "execute_result"
    }
   ],
   "source": [
    "s='test'\n",
    "list(s)"
   ]
  },
  {
   "cell_type": "code",
   "execution_count": 32,
   "id": "b6b71475-6da1-4902-b554-a23dc42b5a53",
   "metadata": {},
   "outputs": [
    {
     "data": {
      "text/plain": [
       "2"
      ]
     },
     "execution_count": 32,
     "metadata": {},
     "output_type": "execute_result"
    }
   ],
   "source": [
    "# index()\n",
    "l.index(3)"
   ]
  },
  {
   "cell_type": "code",
   "execution_count": 33,
   "id": "c627af97-6591-4702-95f5-441d6ea34c1c",
   "metadata": {},
   "outputs": [
    {
     "data": {
      "text/plain": [
       "7"
      ]
     },
     "execution_count": 33,
     "metadata": {},
     "output_type": "execute_result"
    }
   ],
   "source": [
    "#pop()==>remove elemenet from an index,by default pop -1 index\n",
    "l=[2,3,4,5,6,7]\n",
    "l.pop()"
   ]
  },
  {
   "cell_type": "markdown",
   "id": "394a7b3f-4b07-4669-af56-03358cd750c7",
   "metadata": {},
   "source": [
    "l.pop(1)#1 is the index\n",
    "#remove method used for remove values and pop takes index as arg"
   ]
  },
  {
   "cell_type": "code",
   "execution_count": 34,
   "id": "7ac50e87-c500-49e8-b538-f4245111caed",
   "metadata": {},
   "outputs": [],
   "source": [
    "l.reverse()"
   ]
  },
  {
   "cell_type": "code",
   "execution_count": 35,
   "id": "cbe2afd4-ca11-4163-9d36-3d4563c6a497",
   "metadata": {},
   "outputs": [
    {
     "data": {
      "text/plain": [
       "[6, 5, 4, 3, 2]"
      ]
     },
     "execution_count": 35,
     "metadata": {},
     "output_type": "execute_result"
    }
   ],
   "source": [
    "l"
   ]
  },
  {
   "cell_type": "code",
   "execution_count": 36,
   "id": "33b558d1-88e9-4d9d-ae09-3dae7d1f7b7b",
   "metadata": {},
   "outputs": [],
   "source": [
    "l.sort()"
   ]
  },
  {
   "cell_type": "code",
   "execution_count": 37,
   "id": "9f40d77e-0749-40d7-aa41-52a51a94313d",
   "metadata": {},
   "outputs": [
    {
     "data": {
      "text/plain": [
       "[2, 3, 4, 5, 6]"
      ]
     },
     "execution_count": 37,
     "metadata": {},
     "output_type": "execute_result"
    }
   ],
   "source": [
    "l"
   ]
  },
  {
   "cell_type": "code",
   "execution_count": 38,
   "id": "c97d719b-d293-4f0a-ba94-1bf98d15b345",
   "metadata": {},
   "outputs": [
    {
     "ename": "TypeError",
     "evalue": "'<' not supported between instances of 'str' and 'int'",
     "output_type": "error",
     "traceback": [
      "\u001b[1;31m---------------------------------------------------------------------------\u001b[0m",
      "\u001b[1;31mTypeError\u001b[0m                                 Traceback (most recent call last)",
      "Input \u001b[1;32mIn [38]\u001b[0m, in \u001b[0;36m<cell line: 2>\u001b[1;34m()\u001b[0m\n\u001b[0;32m      1\u001b[0m l\u001b[38;5;241m=\u001b[39m[\u001b[38;5;241m3\u001b[39m,\u001b[38;5;241m5\u001b[39m,\u001b[38;5;241m6\u001b[39m,\u001b[38;5;241m78\u001b[39m,\u001b[38;5;124m'\u001b[39m\u001b[38;5;124myuvika\u001b[39m\u001b[38;5;124m'\u001b[39m]\n\u001b[1;32m----> 2\u001b[0m \u001b[43ml\u001b[49m\u001b[38;5;241;43m.\u001b[39;49m\u001b[43msort\u001b[49m\u001b[43m(\u001b[49m\u001b[43m)\u001b[49m\n",
      "\u001b[1;31mTypeError\u001b[0m: '<' not supported between instances of 'str' and 'int'"
     ]
    }
   ],
   "source": [
    "l=[3,5,6,78,'yuvika']\n",
    "l.sort()"
   ]
  },
  {
   "cell_type": "code",
   "execution_count": 39,
   "id": "d8f235ec-23f9-42d8-a364-343bee7ef249",
   "metadata": {},
   "outputs": [],
   "source": [
    "li=[[1,2,3],[4,5,6],[7,8,9]]"
   ]
  },
  {
   "cell_type": "code",
   "execution_count": 40,
   "id": "677a43b8-1908-467b-a34f-b6fd4626af38",
   "metadata": {},
   "outputs": [
    {
     "data": {
      "text/plain": [
       "[[1, 2, 3], [4, 5, 6], [7, 8, 9]]"
      ]
     },
     "execution_count": 40,
     "metadata": {},
     "output_type": "execute_result"
    }
   ],
   "source": [
    "li"
   ]
  },
  {
   "cell_type": "code",
   "execution_count": 41,
   "id": "d1f6f3ac-743a-4133-a314-40c6e63c896e",
   "metadata": {},
   "outputs": [],
   "source": [
    "lt=li.copy()"
   ]
  },
  {
   "cell_type": "code",
   "execution_count": 42,
   "id": "441679b8-5775-4eff-b20e-20089996c45b",
   "metadata": {},
   "outputs": [
    {
     "data": {
      "text/plain": [
       "[[1, 2, 3], [4, 5, 6], [7, 8, 9]]"
      ]
     },
     "execution_count": 42,
     "metadata": {},
     "output_type": "execute_result"
    }
   ],
   "source": [
    "lt"
   ]
  },
  {
   "cell_type": "code",
   "execution_count": 43,
   "id": "1c14bdb8-04a1-41a0-8181-d68a936c5ed7",
   "metadata": {},
   "outputs": [],
   "source": [
    "lt.insert(1,[2,4,6])"
   ]
  },
  {
   "cell_type": "code",
   "execution_count": 44,
   "id": "a5de5da4-12d1-4863-8a0a-bf79c5c434d0",
   "metadata": {},
   "outputs": [],
   "source": [
    "lt.insert(3,[8,9,0])"
   ]
  },
  {
   "cell_type": "code",
   "execution_count": 45,
   "id": "c4a68bc1-80e0-442e-94ed-1a9e4fd0a815",
   "metadata": {},
   "outputs": [],
   "source": [
    "lt.remove([8,9,0])"
   ]
  },
  {
   "cell_type": "code",
   "execution_count": 46,
   "id": "be593a66-7cdc-4ae7-8f97-c82180472327",
   "metadata": {},
   "outputs": [],
   "source": [
    "lt.insert(3,['tiku','tiku',8,'uvi'])"
   ]
  },
  {
   "cell_type": "code",
   "execution_count": 47,
   "id": "83f64ebc-c91b-41cf-90fd-331afdffcb5a",
   "metadata": {},
   "outputs": [],
   "source": [
    "lt.insert(1,2+3J)"
   ]
  },
  {
   "cell_type": "code",
   "execution_count": 48,
   "id": "8f238338-9753-40d7-b05f-1640877d3b31",
   "metadata": {},
   "outputs": [
    {
     "data": {
      "text/plain": [
       "[[1, 2, 3],\n",
       " (2+3j),\n",
       " [2, 4, 6],\n",
       " [4, 5, 6],\n",
       " ['tiku', 'tiku', 8, 'uvi'],\n",
       " [7, 8, 9]]"
      ]
     },
     "execution_count": 48,
     "metadata": {},
     "output_type": "execute_result"
    }
   ],
   "source": [
    "lt"
   ]
  },
  {
   "cell_type": "code",
   "execution_count": 49,
   "id": "14cf327d-f37b-4678-9353-0f9e22cca0c1",
   "metadata": {},
   "outputs": [
    {
     "data": {
      "text/plain": [
       "[7, 8, 9]"
      ]
     },
     "execution_count": 49,
     "metadata": {},
     "output_type": "execute_result"
    }
   ],
   "source": [
    "lt.pop()"
   ]
  },
  {
   "cell_type": "code",
   "execution_count": 50,
   "id": "7c91c5f4-2362-450c-bdf0-da3e44affc13",
   "metadata": {},
   "outputs": [
    {
     "data": {
      "text/plain": [
       "[[1, 2, 3], (2+3j), [2, 4, 6], [4, 5, 6], ['tiku', 'tiku', 8, 'uvi']]"
      ]
     },
     "execution_count": 50,
     "metadata": {},
     "output_type": "execute_result"
    }
   ],
   "source": [
    "lt"
   ]
  },
  {
   "cell_type": "code",
   "execution_count": 51,
   "id": "4f2a6a69-74ec-43ce-80f6-dce645c9ae18",
   "metadata": {},
   "outputs": [
    {
     "data": {
      "text/plain": [
       "0"
      ]
     },
     "execution_count": 51,
     "metadata": {},
     "output_type": "execute_result"
    }
   ],
   "source": [
    "lt[4].index('tiku')"
   ]
  },
  {
   "cell_type": "code",
   "execution_count": 52,
   "id": "4270a68b-4754-4090-9458-a4945f41e146",
   "metadata": {},
   "outputs": [
    {
     "name": "stdout",
     "output_type": "stream",
     "text": [
      "4 tiku 0\n",
      "4 tiku 0\n",
      "4 uvi 3\n"
     ]
    }
   ],
   "source": [
    "#nested list contains string, find its index\n",
    "for i in lt:\n",
    "    if type(i)==list:\n",
    "        for j in i:\n",
    "            if type(j)==str:\n",
    "                print(lt.index(i),j,i.index(j))"
   ]
  },
  {
   "cell_type": "code",
   "execution_count": 79,
   "id": "f815003f-b53a-4303-aee5-9add29bb11f0",
   "metadata": {},
   "outputs": [
    {
     "name": "stdout",
     "output_type": "stream",
     "text": [
      "1 2\n",
      "1 4\n",
      "1 5\n",
      "1 8\n"
     ]
    }
   ],
   "source": [
    "for i in lt:\n",
    "    if type(i)==list:\n",
    "        for j in range(len(i)):\n",
    "            if j==1:\n",
    "                print(j,i[j])"
   ]
  },
  {
   "cell_type": "code",
   "execution_count": 54,
   "id": "72d21631-db28-4d13-bef3-3f3bb8834e65",
   "metadata": {},
   "outputs": [
    {
     "name": "stdout",
     "output_type": "stream",
     "text": [
      "[1, 2, 3] 2\n",
      "[2, 4, 6] 4\n",
      "[4, 5, 6] 5\n",
      "['tiku', 'tiku', 8, 'uvi'] tiku\n"
     ]
    }
   ],
   "source": [
    "#extract 2nd elem of each nested list\n",
    "for x in lt:\n",
    "    if type(x)==list:\n",
    "        for j in range(len(x)):\n",
    "            if j==1:\n",
    "                print(x,x[j])"
   ]
  },
  {
   "cell_type": "code",
   "execution_count": 55,
   "id": "540e9253-dacb-4e7b-8b19-167c6d00e3eb",
   "metadata": {},
   "outputs": [
    {
     "data": {
      "text/plain": [
       "[[1, 2, 3], (2+3j), [2, 4, 6], [4, 5, 6], ['tiku', 'tiku', 8, 'uvi']]"
      ]
     },
     "execution_count": 55,
     "metadata": {},
     "output_type": "execute_result"
    }
   ],
   "source": [
    "lt"
   ]
  },
  {
   "cell_type": "code",
   "execution_count": 63,
   "id": "7b8c10cc-6202-4008-a43b-812318a332b8",
   "metadata": {},
   "outputs": [
    {
     "name": "stdout",
     "output_type": "stream",
     "text": [
      "0 0 1\n",
      "0 1 2\n",
      "0 2 3\n",
      "2 0 2\n",
      "2 1 4\n",
      "2 2 6\n",
      "3 0 4\n",
      "3 1 5\n",
      "3 2 6\n",
      "4 0 tiku\n",
      "4 1 tiku\n",
      "4 2 8\n",
      "4 3 uvi\n"
     ]
    }
   ],
   "source": [
    "for x in lt:\n",
    "    if type(x)==list:\n",
    "        for y in range(len(x)):\n",
    "            print(lt.index(x),y,x[y])"
   ]
  },
  {
   "cell_type": "code",
   "execution_count": 60,
   "id": "042907b1-f597-44f3-9b34-4b87a5d4dd38",
   "metadata": {},
   "outputs": [
    {
     "name": "stdout",
     "output_type": "stream",
     "text": [
      "0 tiku\n",
      "1 tiku\n",
      "3 uvi\n"
     ]
    }
   ],
   "source": [
    "for i in lt:\n",
    "    if type(i)==list:\n",
    "        for j in range(len(i)):\n",
    "            if type(i[j])==str:\n",
    "                print(j,i[j])"
   ]
  },
  {
   "cell_type": "code",
   "execution_count": 68,
   "id": "8d200b15-82f9-4329-b679-78746eb98792",
   "metadata": {},
   "outputs": [
    {
     "name": "stdout",
     "output_type": "stream",
     "text": [
      "tiku index  0\n",
      "tiku index  1\n",
      "uvi index  3\n"
     ]
    }
   ],
   "source": [
    "#nested list contains string, find its index\n",
    "for i in lt:\n",
    "    if type(i)==list:\n",
    "        j=0\n",
    "        while j < len(i):\n",
    "            if type(i[j])==str:\n",
    "                print(\"{} index \".format(i[j]),j)\n",
    "            j=j+1\n",
    "                #print(lt.index(i),j,i.index(j))"
   ]
  },
  {
   "cell_type": "code",
   "execution_count": 64,
   "id": "4ec568a5-97f3-49ad-a657-e66b0078a752",
   "metadata": {},
   "outputs": [
    {
     "name": "stdout",
     "output_type": "stream",
     "text": [
      "tiku index  0\n",
      "tiku index  1\n",
      "uvi index  3\n",
      "tiku index \n",
      "uvi index \n"
     ]
    },
    {
     "ename": "IndexError",
     "evalue": "list index out of range",
     "output_type": "error",
     "traceback": [
      "\u001b[1;31m---------------------------------------------------------------------------\u001b[0m",
      "\u001b[1;31mIndexError\u001b[0m                                Traceback (most recent call last)",
      "Input \u001b[1;32mIn [64]\u001b[0m, in \u001b[0;36m<cell line: 2>\u001b[1;34m()\u001b[0m\n\u001b[0;32m     10\u001b[0m j\u001b[38;5;241m=\u001b[39m\u001b[38;5;241m0\u001b[39m\n\u001b[0;32m     11\u001b[0m \u001b[38;5;28;01mfor\u001b[39;00m j \u001b[38;5;129;01min\u001b[39;00m \u001b[38;5;28mrange\u001b[39m(\u001b[38;5;28mlen\u001b[39m(i)):\n\u001b[1;32m---> 12\u001b[0m     \u001b[38;5;28;01mif\u001b[39;00m \u001b[38;5;28mtype\u001b[39m(\u001b[43mi\u001b[49m\u001b[43m[\u001b[49m\u001b[43mj\u001b[49m\u001b[43m]\u001b[49m) \u001b[38;5;129;01mis\u001b[39;00m \u001b[38;5;28mstr\u001b[39m:\n\u001b[0;32m     13\u001b[0m         \u001b[38;5;28mprint\u001b[39m(\u001b[38;5;124m\"\u001b[39m\u001b[38;5;132;01m{}\u001b[39;00m\u001b[38;5;124m index \u001b[39m\u001b[38;5;124m\"\u001b[39m\u001b[38;5;241m.\u001b[39mformat(i[j]))\n\u001b[0;32m     14\u001b[0m         i\u001b[38;5;241m.\u001b[39mremove(i[j])\n",
      "\u001b[1;31mIndexError\u001b[0m: list index out of range"
     ]
    }
   ],
   "source": [
    "#nested list contains string, remove its string\n",
    "for i in lt:\n",
    "    if type(i)==list:\n",
    "        j=0\n",
    "        while j < len(i):\n",
    "            if type(i[j])==str:\n",
    "                print(\"{} index \".format(i[j]),j)\n",
    "            j=j+1\n",
    "                #print(lt.index(i),j,i.index(j))\n",
    "        j=0\n",
    "        for j in range(len(i)):\n",
    "            if type(i[j]) is str:\n",
    "                print(\"{} index \".format(i[j]))\n",
    "                i.remove(i[j])\n",
    "                continue\n",
    "            #j=j+1\n",
    "                #print(lt.index(i),j,i.index(j))"
   ]
  },
  {
   "cell_type": "code",
   "execution_count": 65,
   "id": "99527f71-abc8-4476-bb78-42057fa00cf1",
   "metadata": {},
   "outputs": [
    {
     "data": {
      "text/plain": [
       "[[1, 2, 3], (2+3j), [2, 4, 6], [4, 5, 6], ['tiku', 8]]"
      ]
     },
     "execution_count": 65,
     "metadata": {},
     "output_type": "execute_result"
    }
   ],
   "source": [
    "lt"
   ]
  },
  {
   "cell_type": "code",
   "execution_count": 86,
   "id": "114a5637-9a38-4531-a456-71825bd1d10d",
   "metadata": {},
   "outputs": [
    {
     "data": {
      "text/plain": [
       "['t', 'i', 'k', 'i']"
      ]
     },
     "execution_count": 86,
     "metadata": {},
     "output_type": "execute_result"
    }
   ],
   "source": [
    "l1=[]\n",
    "for i in 'tiki':\n",
    "    l1.append(i)\n",
    "l1"
   ]
  },
  {
   "cell_type": "code",
   "execution_count": 87,
   "id": "84ca1c88-55e4-4eb0-92eb-30fd5167558f",
   "metadata": {},
   "outputs": [
    {
     "data": {
      "text/plain": [
       "['t', 'i', 'k', 'i']"
      ]
     },
     "execution_count": 87,
     "metadata": {},
     "output_type": "execute_result"
    }
   ],
   "source": [
    "[i for i in \"tiki\"]"
   ]
  },
  {
   "cell_type": "code",
   "execution_count": 88,
   "id": "8081b523-c23d-44b4-8fb5-a916454d747f",
   "metadata": {},
   "outputs": [
    {
     "data": {
      "text/plain": [
       "[['t'], ['i'], ['k'], ['i']]"
      ]
     },
     "execution_count": 88,
     "metadata": {},
     "output_type": "execute_result"
    }
   ],
   "source": [
    "[[i] for i in \"tiki\"]"
   ]
  },
  {
   "cell_type": "code",
   "execution_count": 89,
   "id": "5e2cdc7d-6591-480b-bdd9-8dcee3b78d3d",
   "metadata": {},
   "outputs": [
    {
     "data": {
      "text/plain": [
       "[0, 2, 4, 6, 8]"
      ]
     },
     "execution_count": 89,
     "metadata": {},
     "output_type": "execute_result"
    }
   ],
   "source": [
    "[i for i in range(10) if i % 2==0]"
   ]
  },
  {
   "cell_type": "code",
   "execution_count": 90,
   "id": "9bd9fdab-9f4a-4c15-8c9a-c2b156df3d8a",
   "metadata": {},
   "outputs": [
    {
     "data": {
      "text/plain": [
       "['even', 'odd', 'even', 'odd', 'even', 'odd', 'even', 'odd', 'even', 'odd']"
      ]
     },
     "execution_count": 90,
     "metadata": {},
     "output_type": "execute_result"
    }
   ],
   "source": [
    "['even' if i%2==0 else 'odd' for i in range(10)]"
   ]
  },
  {
   "cell_type": "code",
   "execution_count": 91,
   "id": "91342a9f-7e4a-47bc-82ab-aa2b8d05b0fc",
   "metadata": {},
   "outputs": [
    {
     "data": {
      "text/plain": [
       "[[0, 1, 2], [0, 1, 2], [0, 1, 2]]"
      ]
     },
     "execution_count": 91,
     "metadata": {},
     "output_type": "execute_result"
    }
   ],
   "source": [
    "mat=[]\n",
    "for i in range(3):\n",
    "    mat.append([])\n",
    "    for j in range(3):\n",
    "        mat[i].append(j)\n",
    "mat\n",
    "        "
   ]
  },
  {
   "cell_type": "code",
   "execution_count": 92,
   "id": "6f8136c5-e51f-45ee-a655-892a851c34b5",
   "metadata": {},
   "outputs": [
    {
     "data": {
      "text/plain": [
       "[[0, 1, 2], [0, 1, 2], [0, 1, 2]]"
      ]
     },
     "execution_count": 92,
     "metadata": {},
     "output_type": "execute_result"
    }
   ],
   "source": [
    "[[j for j in range(3)]for i in range(3)]"
   ]
  },
  {
   "cell_type": "code",
   "execution_count": 75,
   "id": "6035b95a-f141-4504-833c-ddce404066a4",
   "metadata": {},
   "outputs": [],
   "source": [
    "l=[]\n",
    "for t in range(3):\n",
    "    l.append([])\n",
    "    for k in range(3):\n",
    "        l[t].append(k)"
   ]
  },
  {
   "cell_type": "code",
   "execution_count": 77,
   "id": "7706b253-2d16-43ab-a06e-adbe05b29bca",
   "metadata": {},
   "outputs": [
    {
     "data": {
      "text/plain": [
       "[[0, 1, 2], [0, 1, 2], [0, 1, 2]]"
      ]
     },
     "execution_count": 77,
     "metadata": {},
     "output_type": "execute_result"
    }
   ],
   "source": [
    "l"
   ]
  },
  {
   "cell_type": "code",
   "execution_count": null,
   "id": "5f7146a2-73e6-4a5d-bc88-52018a267b8f",
   "metadata": {},
   "outputs": [],
   "source": []
  }
 ],
 "metadata": {
  "kernelspec": {
   "display_name": "Python 3 (ipykernel)",
   "language": "python",
   "name": "python3"
  },
  "language_info": {
   "codemirror_mode": {
    "name": "ipython",
    "version": 3
   },
   "file_extension": ".py",
   "mimetype": "text/x-python",
   "name": "python",
   "nbconvert_exporter": "python",
   "pygments_lexer": "ipython3",
   "version": "3.10.4"
  }
 },
 "nbformat": 4,
 "nbformat_minor": 5
}
