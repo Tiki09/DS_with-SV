{
 "cells": [
  {
   "cell_type": "markdown",
   "id": "3903205e-c301-4928-90cb-035dbc7e0258",
   "metadata": {
    "tags": []
   },
   "source": [
    "### file handling \n",
    "\n",
    "wb mode: create file in binary mode\n",
    "\n",
    "w mode: create the file if file is not present."
   ]
  },
  {
   "cell_type": "code",
   "execution_count": 5,
   "id": "e5b08099-c586-4706-9b9b-71c8eff71540",
   "metadata": {},
   "outputs": [],
   "source": [
    "# to open the file, if file not present it will create using wb mode\n",
    "\n",
    "f=open(\"test.txt\",'w')"
   ]
  },
  {
   "cell_type": "code",
   "execution_count": 7,
   "id": "19eae82e-ee4b-4243-b12a-0bccde51d528",
   "metadata": {},
   "outputs": [
    {
     "data": {
      "text/plain": [
       "66"
      ]
     },
     "execution_count": 7,
     "metadata": {},
     "output_type": "execute_result"
    }
   ],
   "source": [
    "f.write(\"ReactJS tutorial provides basic and advanced concepts of ReactJS. \")"
   ]
  },
  {
   "cell_type": "code",
   "execution_count": 8,
   "id": "cdf9daeb-a75a-4d70-8bc5-86a43b9148cf",
   "metadata": {},
   "outputs": [],
   "source": [
    "f.close()"
   ]
  },
  {
   "cell_type": "code",
   "execution_count": 14,
   "id": "4af82423-71d9-4ea8-8d2b-10ef8f51ecce",
   "metadata": {},
   "outputs": [],
   "source": [
    "f=open(\"test.txt\")"
   ]
  },
  {
   "cell_type": "code",
   "execution_count": 15,
   "id": "389b8025-64ac-48cd-8d46-823d112c90e2",
   "metadata": {},
   "outputs": [
    {
     "data": {
      "text/plain": [
       "'ReactJS tutorial provides basic and advanced concepts of ReactJS.\\npython\\nseaborn\\nmatplotlib\\nhiveQL\\nspark\\njava\\n'"
      ]
     },
     "execution_count": 15,
     "metadata": {},
     "output_type": "execute_result"
    }
   ],
   "source": [
    "f.read()"
   ]
  },
  {
   "cell_type": "code",
   "execution_count": 19,
   "id": "439600cc-967f-4d32-8391-cefc1edd3292",
   "metadata": {},
   "outputs": [
    {
     "data": {
      "text/plain": [
       "''"
      ]
     },
     "execution_count": 19,
     "metadata": {},
     "output_type": "execute_result"
    }
   ],
   "source": [
    "f.read() #because cursor already read and give to last posn"
   ]
  },
  {
   "cell_type": "code",
   "execution_count": 56,
   "id": "0fbf7679-7f75-4e9b-b426-13d6dae45b42",
   "metadata": {},
   "outputs": [
    {
     "data": {
      "text/plain": [
       "10"
      ]
     },
     "execution_count": 56,
     "metadata": {},
     "output_type": "execute_result"
    }
   ],
   "source": [
    "f.seek(10) # from the index that we want to start, gives cursor position"
   ]
  },
  {
   "cell_type": "code",
   "execution_count": 25,
   "id": "d7deae40-b21f-40c9-b379-99d7c123da87",
   "metadata": {},
   "outputs": [
    {
     "data": {
      "text/plain": [
       "'torial provides basic and advanced concepts of ReactJS.\\npython\\nseaborn\\nmatplotlib\\nhiveQL\\nspark\\njava\\n'"
      ]
     },
     "execution_count": 25,
     "metadata": {},
     "output_type": "execute_result"
    }
   ],
   "source": [
    "f.read()"
   ]
  },
  {
   "cell_type": "code",
   "execution_count": 26,
   "id": "5b690aad-0310-44aa-9981-8d1c2f0c225e",
   "metadata": {},
   "outputs": [
    {
     "data": {
      "text/plain": [
       "0"
      ]
     },
     "execution_count": 26,
     "metadata": {},
     "output_type": "execute_result"
    }
   ],
   "source": [
    "f.seek(0)"
   ]
  },
  {
   "cell_type": "code",
   "execution_count": 27,
   "id": "4dc13375-34d5-41c7-a761-afd67f3b9e12",
   "metadata": {},
   "outputs": [
    {
     "data": {
      "text/plain": [
       "'ReactJS tutorial provides basic and advanced concepts of ReactJS.\\npython\\nseaborn\\nmatplotlib\\nhiveQL\\nspark\\njava\\n'"
      ]
     },
     "execution_count": 27,
     "metadata": {},
     "output_type": "execute_result"
    }
   ],
   "source": [
    "f.read()"
   ]
  },
  {
   "cell_type": "code",
   "execution_count": 29,
   "id": "f6cc46ca-d685-4537-8a88-3ce2463bc172",
   "metadata": {},
   "outputs": [],
   "source": [
    "f=open('test.txt','r')"
   ]
  },
  {
   "cell_type": "code",
   "execution_count": 32,
   "id": "78f85b8f-83c0-4ff7-99cd-4ba57e506f26",
   "metadata": {},
   "outputs": [
    {
     "ename": "UnsupportedOperation",
     "evalue": "not writable",
     "output_type": "error",
     "traceback": [
      "\u001b[1;31m---------------------------------------------------------------------------\u001b[0m",
      "\u001b[1;31mUnsupportedOperation\u001b[0m                      Traceback (most recent call last)",
      "Input \u001b[1;32mIn [32]\u001b[0m, in \u001b[0;36m<cell line: 2>\u001b[1;34m()\u001b[0m\n\u001b[0;32m      1\u001b[0m \u001b[38;5;66;03m# because file is open in the read mode\u001b[39;00m\n\u001b[1;32m----> 2\u001b[0m \u001b[43mf\u001b[49m\u001b[38;5;241;43m.\u001b[39;49m\u001b[43mwrite\u001b[49m\u001b[43m(\u001b[49m\u001b[38;5;124;43m'\u001b[39;49m\u001b[38;5;124;43mhey girl !!!!\u001b[39;49m\u001b[38;5;124;43m'\u001b[39;49m\u001b[43m)\u001b[49m\n",
      "\u001b[1;31mUnsupportedOperation\u001b[0m: not writable"
     ]
    }
   ],
   "source": [
    "# because file is open in the read mode\n",
    "f.write('hey girl !!!!')"
   ]
  },
  {
   "cell_type": "code",
   "execution_count": 34,
   "id": "2b3c0b28-0498-402d-9294-19840d2e4187",
   "metadata": {},
   "outputs": [
    {
     "data": {
      "text/plain": [
       "' basic and advanced conce'"
      ]
     },
     "execution_count": 34,
     "metadata": {},
     "output_type": "execute_result"
    }
   ],
   "source": [
    "f.read(25) # read till 25 character"
   ]
  },
  {
   "cell_type": "code",
   "execution_count": 35,
   "id": "b8b4d0df-a9ea-4d17-9049-001a3f552eea",
   "metadata": {},
   "outputs": [],
   "source": [
    "f.close()"
   ]
  },
  {
   "cell_type": "code",
   "execution_count": 38,
   "id": "ab31587a-6f9b-41c4-81be-da0d062139c9",
   "metadata": {},
   "outputs": [],
   "source": [
    "f=open(\"test.txt\",'w')"
   ]
  },
  {
   "cell_type": "code",
   "execution_count": 39,
   "id": "a3596571-c51c-4d55-b706-b319ebab8566",
   "metadata": {},
   "outputs": [
    {
     "data": {
      "text/plain": [
       "194"
      ]
     },
     "execution_count": 39,
     "metadata": {},
     "output_type": "execute_result"
    }
   ],
   "source": [
    "f.write(\"ReactJS tutorial provides basic and advanced concepts of ReactJS. Currently, ReactJS is one of the most popular JavaScript front-end libraries which has a strong foundation and a large community\")"
   ]
  },
  {
   "cell_type": "code",
   "execution_count": 40,
   "id": "c8acc775-d81b-4961-9136-598bd42ab3e0",
   "metadata": {},
   "outputs": [],
   "source": [
    "f.close()"
   ]
  },
  {
   "cell_type": "code",
   "execution_count": 45,
   "id": "34dc4682-5a60-41a2-97f9-09f281023210",
   "metadata": {},
   "outputs": [],
   "source": [
    "f=open(\"test.txt\",'a') # it will add the text in the file, not newly create"
   ]
  },
  {
   "cell_type": "code",
   "execution_count": 43,
   "id": "cf4ab584-37ff-485c-80f7-724ccf42a8b1",
   "metadata": {},
   "outputs": [
    {
     "data": {
      "text/plain": [
       "3"
      ]
     },
     "execution_count": 43,
     "metadata": {},
     "output_type": "execute_result"
    }
   ],
   "source": [
    "f.write('hey')"
   ]
  },
  {
   "cell_type": "code",
   "execution_count": 44,
   "id": "d7d9e947-73bd-4045-be15-fb149ad20e5a",
   "metadata": {},
   "outputs": [],
   "source": [
    "f.close()"
   ]
  },
  {
   "cell_type": "code",
   "execution_count": 46,
   "id": "6d549de3-20be-497b-b66b-aeae95ed36ab",
   "metadata": {},
   "outputs": [],
   "source": [
    "f=open('test1.txt','wb')"
   ]
  },
  {
   "cell_type": "code",
   "execution_count": 47,
   "id": "1ffd8339-cea7-4b5b-bc54-1ed550bc7023",
   "metadata": {},
   "outputs": [
    {
     "ename": "TypeError",
     "evalue": "a bytes-like object is required, not 'str'",
     "output_type": "error",
     "traceback": [
      "\u001b[1;31m---------------------------------------------------------------------------\u001b[0m",
      "\u001b[1;31mTypeError\u001b[0m                                 Traceback (most recent call last)",
      "Input \u001b[1;32mIn [47]\u001b[0m, in \u001b[0;36m<cell line: 1>\u001b[1;34m()\u001b[0m\n\u001b[1;32m----> 1\u001b[0m \u001b[43mf\u001b[49m\u001b[38;5;241;43m.\u001b[39;49m\u001b[43mwrite\u001b[49m\u001b[43m(\u001b[49m\u001b[38;5;124;43m\"\u001b[39;49m\u001b[38;5;124;43mu r so good\u001b[39;49m\u001b[38;5;124;43m\"\u001b[39;49m\u001b[43m)\u001b[49m\n",
      "\u001b[1;31mTypeError\u001b[0m: a bytes-like object is required, not 'str'"
     ]
    }
   ],
   "source": [
    "f.write(\"u r so good\")"
   ]
  },
  {
   "cell_type": "code",
   "execution_count": 48,
   "id": "1f26beae-1176-412a-950f-dc9dd76589d8",
   "metadata": {},
   "outputs": [
    {
     "data": {
      "text/plain": [
       "11"
      ]
     },
     "execution_count": 48,
     "metadata": {},
     "output_type": "execute_result"
    }
   ],
   "source": [
    "f.write(b\"u r so good\") # write in binary mode\n"
   ]
  },
  {
   "cell_type": "code",
   "execution_count": 49,
   "id": "2506b952-66ac-4f36-95e2-f479053237f4",
   "metadata": {},
   "outputs": [],
   "source": [
    "f.close()"
   ]
  },
  {
   "cell_type": "code",
   "execution_count": 50,
   "id": "e5cd99b1-a932-4c30-907c-f0e2100c3aef",
   "metadata": {},
   "outputs": [],
   "source": [
    "f=open('test1.txt','r')"
   ]
  },
  {
   "cell_type": "code",
   "execution_count": 51,
   "id": "1898f731-a51a-455d-9f96-eb7604e79cf8",
   "metadata": {},
   "outputs": [
    {
     "data": {
      "text/plain": [
       "'u r so good'"
      ]
     },
     "execution_count": 51,
     "metadata": {},
     "output_type": "execute_result"
    }
   ],
   "source": [
    "f.read()"
   ]
  },
  {
   "cell_type": "code",
   "execution_count": 52,
   "id": "e29976bb-fb54-4fa0-84e6-db92aef4ada7",
   "metadata": {},
   "outputs": [
    {
     "data": {
      "text/plain": [
       "2"
      ]
     },
     "execution_count": 52,
     "metadata": {},
     "output_type": "execute_result"
    }
   ],
   "source": [
    "f.seek(2)"
   ]
  },
  {
   "cell_type": "code",
   "execution_count": 55,
   "id": "6ec41671-ed76-4cef-b017-058d7cd1c96b",
   "metadata": {},
   "outputs": [
    {
     "data": {
      "text/plain": [
       "' goo'"
      ]
     },
     "execution_count": 55,
     "metadata": {},
     "output_type": "execute_result"
    }
   ],
   "source": [
    "f.read(4) # index wise read the character depending upon the cursor"
   ]
  },
  {
   "cell_type": "code",
   "execution_count": 57,
   "id": "2134a791-739b-4a24-9dbd-9e5f88c8e9e8",
   "metadata": {},
   "outputs": [
    {
     "ename": "UnsupportedOperation",
     "evalue": "can't do nonzero end-relative seeks",
     "output_type": "error",
     "traceback": [
      "\u001b[1;31m---------------------------------------------------------------------------\u001b[0m",
      "\u001b[1;31mUnsupportedOperation\u001b[0m                      Traceback (most recent call last)",
      "Input \u001b[1;32mIn [57]\u001b[0m, in \u001b[0;36m<cell line: 1>\u001b[1;34m()\u001b[0m\n\u001b[1;32m----> 1\u001b[0m \u001b[43mf\u001b[49m\u001b[38;5;241;43m.\u001b[39;49m\u001b[43mseek\u001b[49m\u001b[43m(\u001b[49m\u001b[38;5;241;43m-\u001b[39;49m\u001b[38;5;241;43m3\u001b[39;49m\u001b[43m,\u001b[49m\u001b[38;5;241;43m2\u001b[39;49m\u001b[43m)\u001b[49m\n",
      "\u001b[1;31mUnsupportedOperation\u001b[0m: can't do nonzero end-relative seeks"
     ]
    }
   ],
   "source": [
    "f.seek(-3,2)"
   ]
  },
  {
   "cell_type": "code",
   "execution_count": 75,
   "id": "64e8128c-0f70-4690-b40f-ac5692b349c8",
   "metadata": {},
   "outputs": [],
   "source": [
    "f=open('test1.txt','rb')"
   ]
  },
  {
   "cell_type": "code",
   "execution_count": 76,
   "id": "102a3922-db36-4ed0-92bd-31ede5ea2df9",
   "metadata": {},
   "outputs": [
    {
     "data": {
      "text/plain": [
       "b'u r so good'"
      ]
     },
     "execution_count": 76,
     "metadata": {},
     "output_type": "execute_result"
    }
   ],
   "source": [
    "f.read()"
   ]
  },
  {
   "cell_type": "code",
   "execution_count": 77,
   "id": "07be5ac4-6cca-496d-92e2-a72af2352636",
   "metadata": {},
   "outputs": [
    {
     "data": {
      "text/plain": [
       "8"
      ]
     },
     "execution_count": 77,
     "metadata": {},
     "output_type": "execute_result"
    }
   ],
   "source": [
    "f.seek(-3,1) #only used in byte mode"
   ]
  },
  {
   "cell_type": "code",
   "execution_count": 78,
   "id": "e4a19b95-6420-47fe-9376-bf3c1e2d7f56",
   "metadata": {},
   "outputs": [
    {
     "data": {
      "text/plain": [
       "b'ood'"
      ]
     },
     "execution_count": 78,
     "metadata": {},
     "output_type": "execute_result"
    }
   ],
   "source": [
    "f.read()"
   ]
  },
  {
   "cell_type": "code",
   "execution_count": 1,
   "id": "8740361d-bba2-4c99-a2f8-0ad9de777981",
   "metadata": {},
   "outputs": [],
   "source": [
    "f=open('tst2.txt','w')"
   ]
  },
  {
   "cell_type": "code",
   "execution_count": 2,
   "id": "bdc42df6-8624-4fae-a24b-63193bf67b50",
   "metadata": {},
   "outputs": [
    {
     "data": {
      "text/plain": [
       "42"
      ]
     },
     "execution_count": 2,
     "metadata": {},
     "output_type": "execute_result"
    }
   ],
   "source": [
    "f.write(\"gffygygyjfyftfuyufgggg hkih uhk jhhjh hjjg\")"
   ]
  },
  {
   "cell_type": "code",
   "execution_count": 3,
   "id": "bc12b484-2f76-4c2f-b7c0-7f39f732df42",
   "metadata": {},
   "outputs": [],
   "source": [
    "f.close()"
   ]
  },
  {
   "cell_type": "code",
   "execution_count": 4,
   "id": "1e17f357-34a2-4009-b4bc-72f2eef49a85",
   "metadata": {},
   "outputs": [],
   "source": [
    "f=open('tst2.txt','r')"
   ]
  },
  {
   "cell_type": "code",
   "execution_count": 5,
   "id": "5fcd1a4e-9854-44d6-8392-3dc957e71e2e",
   "metadata": {},
   "outputs": [
    {
     "data": {
      "text/plain": [
       "'gffygygyjfyftfuyufgggg hkih uhk jhhjh hjjg\\nkjkj\\nj\\njhjhj'"
      ]
     },
     "execution_count": 5,
     "metadata": {},
     "output_type": "execute_result"
    }
   ],
   "source": [
    "f.read()"
   ]
  },
  {
   "cell_type": "code",
   "execution_count": 6,
   "id": "fd818e77-8baf-4b83-b477-960982dd6bcd",
   "metadata": {},
   "outputs": [
    {
     "data": {
      "text/plain": [
       "0"
      ]
     },
     "execution_count": 6,
     "metadata": {},
     "output_type": "execute_result"
    }
   ],
   "source": [
    "f.seek(0)"
   ]
  },
  {
   "cell_type": "code",
   "execution_count": 7,
   "id": "493a91a5-2f3f-4c94-839b-f65e7e929cce",
   "metadata": {},
   "outputs": [
    {
     "data": {
      "text/plain": [
       "'gffygygyjfyftfuyufgggg hkih uhk jhhjh hjjg\\n'"
      ]
     },
     "execution_count": 7,
     "metadata": {},
     "output_type": "execute_result"
    }
   ],
   "source": [
    "f.readline()"
   ]
  },
  {
   "cell_type": "code",
   "execution_count": 8,
   "id": "84fb7bdb-b912-458d-99a5-c2a9f7377f50",
   "metadata": {},
   "outputs": [
    {
     "data": {
      "text/plain": [
       "'kjkj\\n'"
      ]
     },
     "execution_count": 8,
     "metadata": {},
     "output_type": "execute_result"
    }
   ],
   "source": [
    "f.readline()"
   ]
  },
  {
   "cell_type": "code",
   "execution_count": 9,
   "id": "1a571563-c317-4c20-9eae-299b03a83765",
   "metadata": {},
   "outputs": [
    {
     "data": {
      "text/plain": [
       "'j\\n'"
      ]
     },
     "execution_count": 9,
     "metadata": {},
     "output_type": "execute_result"
    }
   ],
   "source": [
    "f.readline(2)"
   ]
  },
  {
   "cell_type": "code",
   "execution_count": 10,
   "id": "e11caefd-be13-4329-a1bf-c9efa73793cb",
   "metadata": {},
   "outputs": [],
   "source": [
    "f.close()"
   ]
  },
  {
   "cell_type": "code",
   "execution_count": 12,
   "id": "07eee05c-3e0e-47b7-9808-f9e6ec68aa28",
   "metadata": {},
   "outputs": [],
   "source": [
    "f=open('tst2.txt','r')"
   ]
  },
  {
   "cell_type": "code",
   "execution_count": 13,
   "id": "f94f9c57-4220-45ee-b213-edc995b53f47",
   "metadata": {},
   "outputs": [
    {
     "name": "stdout",
     "output_type": "stream",
     "text": [
      "gffygygyjfyftfuyufgggg hkih uhk jhhjh hjjg\n",
      ",kjkj\n",
      ",j\n",
      ",jhjhj,"
     ]
    }
   ],
   "source": [
    "for i in f:\n",
    "    print(i,end=',')"
   ]
  },
  {
   "cell_type": "code",
   "execution_count": 14,
   "id": "095ce8a1-f20a-4941-bab2-9cfc177e7965",
   "metadata": {},
   "outputs": [],
   "source": [
    "f.close()"
   ]
  },
  {
   "cell_type": "code",
   "execution_count": 28,
   "id": "57e367c8-c3e8-42af-ac9b-0709df860f07",
   "metadata": {},
   "outputs": [],
   "source": [
    "f=open('tst2.txt','r')"
   ]
  },
  {
   "cell_type": "code",
   "execution_count": 29,
   "id": "eb4824b4-7a31-4979-9e49-a75809a5f075",
   "metadata": {},
   "outputs": [
    {
     "data": {
      "text/plain": [
       "['hello missyftfuyufgggg hkih uhk jhhjh hjjg\\n', 'kjkj\\n', 'j\\n', 'jhjhj']"
      ]
     },
     "execution_count": 29,
     "metadata": {},
     "output_type": "execute_result"
    }
   ],
   "source": [
    "list(f) # to get data in list"
   ]
  },
  {
   "cell_type": "code",
   "execution_count": 30,
   "id": "4fdaf748-24ab-4c78-ad8e-7bd3ccaed3a3",
   "metadata": {},
   "outputs": [
    {
     "data": {
      "text/plain": [
       "0"
      ]
     },
     "execution_count": 30,
     "metadata": {},
     "output_type": "execute_result"
    }
   ],
   "source": [
    "f.seek(0)"
   ]
  },
  {
   "cell_type": "code",
   "execution_count": 31,
   "id": "ae02e81c-68d4-4831-84a3-13881505fe4b",
   "metadata": {},
   "outputs": [
    {
     "data": {
      "text/plain": [
       "'hello miss'"
      ]
     },
     "execution_count": 31,
     "metadata": {},
     "output_type": "execute_result"
    }
   ],
   "source": [
    "f.read(10) #read till 10 characters"
   ]
  },
  {
   "cell_type": "code",
   "execution_count": 39,
   "id": "df7dcf77-108e-4a9e-bd5e-c60461e32c18",
   "metadata": {},
   "outputs": [],
   "source": [
    "f=open('tst2.txt','r+')"
   ]
  },
  {
   "cell_type": "code",
   "execution_count": 41,
   "id": "ac33ac3a-fd74-4c51-804a-d0aacafdf53c",
   "metadata": {},
   "outputs": [
    {
     "data": {
      "text/plain": [
       "10"
      ]
     },
     "execution_count": 41,
     "metadata": {},
     "output_type": "execute_result"
    }
   ],
   "source": [
    "f.write('hello miss')"
   ]
  },
  {
   "cell_type": "code",
   "execution_count": 42,
   "id": "f40a5a56-e6c9-4257-91f1-95322980e729",
   "metadata": {},
   "outputs": [],
   "source": [
    "f.close()"
   ]
  },
  {
   "cell_type": "code",
   "execution_count": 56,
   "id": "b14fac50-8b0d-4af8-9a66-7552c9a76c3a",
   "metadata": {},
   "outputs": [],
   "source": [
    "f=open('tst2.txt','r+')"
   ]
  },
  {
   "cell_type": "code",
   "execution_count": 59,
   "id": "34daff13-95e3-48f8-a88a-752287d4aad2",
   "metadata": {},
   "outputs": [],
   "source": [
    "f.writelines('areu ok?') ## insert data at end of file"
   ]
  },
  {
   "cell_type": "code",
   "execution_count": 60,
   "id": "f4fa7785-a709-4d8e-8660-97b8baa1de0a",
   "metadata": {},
   "outputs": [],
   "source": [
    "f.close()"
   ]
  },
  {
   "cell_type": "code",
   "execution_count": 58,
   "id": "1549f7af-617b-48c4-9d9e-a294181f9702",
   "metadata": {},
   "outputs": [
    {
     "data": {
      "text/plain": [
       "500"
      ]
     },
     "execution_count": 58,
     "metadata": {},
     "output_type": "execute_result"
    }
   ],
   "source": [
    "f.seek(500)"
   ]
  },
  {
   "cell_type": "code",
   "execution_count": 61,
   "id": "80f3f4b0-f76b-4d7a-9cfd-e13a580913ef",
   "metadata": {},
   "outputs": [],
   "source": [
    "f=open('tst2.txt','r+')"
   ]
  },
  {
   "cell_type": "code",
   "execution_count": 63,
   "id": "dd8d53fe-f9ce-4000-ab65-a28f5e7dc997",
   "metadata": {},
   "outputs": [
    {
     "data": {
      "text/plain": [
       "4"
      ]
     },
     "execution_count": 63,
     "metadata": {},
     "output_type": "execute_result"
    }
   ],
   "source": [
    "f.fileno() #gives file num"
   ]
  },
  {
   "cell_type": "code",
   "execution_count": 66,
   "id": "7589d946-0cd2-4d8b-b58a-dd046a2f22d1",
   "metadata": {},
   "outputs": [
    {
     "name": "stderr",
     "output_type": "stream",
     "text": [
      "UsageError: unrecognized arguments: # if file is not exist it will create,otherwise overwrite the content in that file\n"
     ]
    }
   ],
   "source": [
    "%%writefile tst3.txt # if file is not exist it will create,otherwise overwrite the content in that file\n",
    "my name is good girl"
   ]
  },
  {
   "cell_type": "code",
   "execution_count": 69,
   "id": "b8efe3d5-d118-4b9e-a4df-20af5a5eb819",
   "metadata": {},
   "outputs": [],
   "source": [
    "import os #importing operating system"
   ]
  },
  {
   "cell_type": "code",
   "execution_count": 75,
   "id": "dacb11d8-f92f-4287-b5a6-d979c1ad58e3",
   "metadata": {},
   "outputs": [
    {
     "ename": "NameError",
     "evalue": "name 'pwd' is not defined",
     "output_type": "error",
     "traceback": [
      "\u001b[1;31m---------------------------------------------------------------------------\u001b[0m",
      "\u001b[1;31mNameError\u001b[0m                                 Traceback (most recent call last)",
      "Input \u001b[1;32mIn [75]\u001b[0m, in \u001b[0;36m<cell line: 2>\u001b[1;34m()\u001b[0m\n\u001b[0;32m      1\u001b[0m \u001b[38;5;66;03m# directory location of jupyter notebook\u001b[39;00m\n\u001b[1;32m----> 2\u001b[0m \u001b[43mpwd\u001b[49m()\n",
      "\u001b[1;31mNameError\u001b[0m: name 'pwd' is not defined"
     ]
    }
   ],
   "source": [
    "# directory location of jupyter notebook\n",
    "pwd()"
   ]
  },
  {
   "cell_type": "code",
   "execution_count": 81,
   "id": "9365b843-c3a4-427d-a8df-f326ba9a8dd9",
   "metadata": {},
   "outputs": [
    {
     "data": {
      "text/plain": [
       "'C:\\\\Users\\\\lenovo\\\\Desktop\\\\Python\\\\dataAnalysis\\\\FileHandling'"
      ]
     },
     "execution_count": 81,
     "metadata": {},
     "output_type": "execute_result"
    }
   ],
   "source": [
    "os.getcwd()\n",
    "# directory location of jupyter notebook same as pwd()"
   ]
  },
  {
   "cell_type": "code",
   "execution_count": 77,
   "id": "ea5e11a2-02b4-4aae-b09e-ba06eb578bca",
   "metadata": {},
   "outputs": [
    {
     "data": {
      "text/plain": [
       "['.ipynb_checkpoints',\n",
       " 'file_hndling1.ipynb',\n",
       " 'test.txt',\n",
       " 'test1.txt',\n",
       " 'tst2.txt',\n",
       " 'tst3.txt']"
      ]
     },
     "execution_count": 77,
     "metadata": {},
     "output_type": "execute_result"
    }
   ],
   "source": [
    "os.listdir()"
   ]
  },
  {
   "cell_type": "code",
   "execution_count": 78,
   "id": "a125551e-ff9f-404f-97a4-ed1ec77023ac",
   "metadata": {},
   "outputs": [
    {
     "data": {
      "text/plain": [
       "['API_Android.txt',\n",
       " 'Armstrong.class',\n",
       " 'Armstrong.java',\n",
       " 'Atom.lnk',\n",
       " 'certificate',\n",
       " 'desktop.ini',\n",
       " 'Eclipse',\n",
       " 'Eclipse IDE for Enterprise Java Developers - 2020-12.lnk',\n",
       " 'emu8086.lnk',\n",
       " 'febr 2021.txt',\n",
       " 'javascript',\n",
       " 'Microsoft Teams.lnk',\n",
       " 'Mtech_BITS',\n",
       " 'New Text Document.txt',\n",
       " 'Opera Browser.lnk',\n",
       " 'Product Key- QUICKHEAL.txt',\n",
       " 'program',\n",
       " 'Python',\n",
       " 'QHTS64.EXE',\n",
       " 'U.S BANK',\n",
       " '_Getintopc.com_NI_Circuit_Design_Suite_14.2.rar']"
      ]
     },
     "execution_count": 78,
     "metadata": {},
     "output_type": "execute_result"
    }
   ],
   "source": [
    "os.listdir('C:\\\\Users\\\\lenovo\\\\Desktop')"
   ]
  },
  {
   "cell_type": "code",
   "execution_count": 79,
   "id": "a7183be6-8276-4f3d-8a91-964bc440632e",
   "metadata": {},
   "outputs": [
    {
     "data": {
      "text/plain": [
       "'C:\\\\Users\\\\lenovo\\\\Desktop\\\\Python\\\\dataAnalysis\\\\FileHandling'"
      ]
     },
     "execution_count": 79,
     "metadata": {},
     "output_type": "execute_result"
    }
   ],
   "source": [
    "pwd()"
   ]
  },
  {
   "cell_type": "code",
   "execution_count": 80,
   "id": "8f5cf28b-8358-4c7b-b11e-36083bfd278b",
   "metadata": {},
   "outputs": [
    {
     "data": {
      "text/plain": [
       "'C:\\\\Users\\\\lenovo\\\\Desktop\\\\Python\\\\dataAnalysis\\\\FileHandling'"
      ]
     },
     "execution_count": 80,
     "metadata": {},
     "output_type": "execute_result"
    }
   ],
   "source": [
    "os.getcwd()"
   ]
  },
  {
   "cell_type": "code",
   "execution_count": 82,
   "id": "c6c841f7-41c9-46e8-90d7-61cdff6570fc",
   "metadata": {},
   "outputs": [],
   "source": [
    "os.chdir('C:\\\\Users\\\\lenovo\\\\Desktop')"
   ]
  },
  {
   "cell_type": "code",
   "execution_count": 83,
   "id": "0890ebfc-472e-4c34-bc23-a05b572e4fb6",
   "metadata": {},
   "outputs": [
    {
     "data": {
      "text/plain": [
       "'C:\\\\Users\\\\lenovo\\\\Desktop'"
      ]
     },
     "execution_count": 83,
     "metadata": {},
     "output_type": "execute_result"
    }
   ],
   "source": [
    "pwd()"
   ]
  },
  {
   "cell_type": "code",
   "execution_count": 91,
   "id": "bada9f95-5ebe-4795-8180-b049cde77eca",
   "metadata": {},
   "outputs": [],
   "source": [
    "os.chdir('C:\\\\Users\\\\lenovo\\\\Desktop\\\\Python\\\\dataAnalysis\\\\FileHandling')\n",
    "# change dir"
   ]
  },
  {
   "cell_type": "code",
   "execution_count": 92,
   "id": "7243bdf7-355a-4400-b877-3998b97ff0bf",
   "metadata": {},
   "outputs": [
    {
     "data": {
      "text/plain": [
       "'C:\\\\Users\\\\lenovo\\\\Desktop\\\\Python\\\\dataAnalysis\\\\FileHandling'"
      ]
     },
     "execution_count": 92,
     "metadata": {},
     "output_type": "execute_result"
    }
   ],
   "source": [
    "pwd()"
   ]
  },
  {
   "cell_type": "code",
   "execution_count": 93,
   "id": "69d1c174-4eec-4def-9d9e-7e61f0a120b0",
   "metadata": {},
   "outputs": [],
   "source": [
    "os.mkdir('tiki')"
   ]
  },
  {
   "cell_type": "code",
   "execution_count": 95,
   "id": "6540ad61-88ba-4ead-b05f-302b46f5d6a3",
   "metadata": {},
   "outputs": [
    {
     "name": "stdout",
     "output_type": "stream",
     "text": [
      "file available\n"
     ]
    }
   ],
   "source": [
    "if 'tst3.txt' in os.listdir():\n",
    "    print('file available')\n",
    "else:\n",
    "    print('not available')"
   ]
  },
  {
   "cell_type": "code",
   "execution_count": 96,
   "id": "d3789105-e761-49e1-894e-f2d3580b5e88",
   "metadata": {},
   "outputs": [
    {
     "name": "stdout",
     "output_type": "stream",
     "text": [
      "file available\n",
      "my name is good girl\n",
      "\n"
     ]
    }
   ],
   "source": [
    "if 'tst3.txt' in os.listdir():\n",
    "    print('file available')\n",
    "    f=open('tst3.txt','r+')\n",
    "    for i in f:\n",
    "        print(i)\n",
    "else:\n",
    "    print('not available')"
   ]
  },
  {
   "cell_type": "code",
   "execution_count": 97,
   "id": "03bbeb92-4210-4bab-8226-5b08aef43dff",
   "metadata": {},
   "outputs": [
    {
     "ename": "FileExistsError",
     "evalue": "[WinError 183] Cannot create a file when that file already exists: 'tiki'",
     "output_type": "error",
     "traceback": [
      "\u001b[1;31m---------------------------------------------------------------------------\u001b[0m",
      "\u001b[1;31mFileExistsError\u001b[0m                           Traceback (most recent call last)",
      "Input \u001b[1;32mIn [97]\u001b[0m, in \u001b[0;36m<cell line: 1>\u001b[1;34m()\u001b[0m\n\u001b[1;32m----> 1\u001b[0m \u001b[43mos\u001b[49m\u001b[38;5;241;43m.\u001b[39;49m\u001b[43mmkdir\u001b[49m\u001b[43m(\u001b[49m\u001b[38;5;124;43m'\u001b[39;49m\u001b[38;5;124;43mtiki\u001b[39;49m\u001b[38;5;124;43m'\u001b[39;49m\u001b[43m)\u001b[49m\n",
      "\u001b[1;31mFileExistsError\u001b[0m: [WinError 183] Cannot create a file when that file already exists: 'tiki'"
     ]
    }
   ],
   "source": [
    "os.mkdir('tiki')"
   ]
  },
  {
   "cell_type": "code",
   "execution_count": 98,
   "id": "9d4f7ec0-47de-44b3-adb9-e7991ad0d0a1",
   "metadata": {},
   "outputs": [],
   "source": [
    "if not os.path.isdir('tiki'):\n",
    "    os.mkdir('tiki')"
   ]
  },
  {
   "cell_type": "code",
   "execution_count": 101,
   "id": "df9d1cbd-5e21-43b4-9ecb-366df8c08bb5",
   "metadata": {},
   "outputs": [],
   "source": [
    "os.rename('tst3.txt','test3.txt')"
   ]
  },
  {
   "cell_type": "code",
   "execution_count": 100,
   "id": "4813668c-429b-4606-959e-eb9bf25fed69",
   "metadata": {},
   "outputs": [],
   "source": [
    "f=open('tst3.txt','r+')\n",
    "f.close()"
   ]
  },
  {
   "cell_type": "code",
   "execution_count": 102,
   "id": "6a45d5df-04ea-4631-943d-876a885ba943",
   "metadata": {},
   "outputs": [],
   "source": [
    "os.rmdir('tiki')"
   ]
  },
  {
   "cell_type": "markdown",
   "id": "97747111-23d6-4b5f-8fe6-0cf8bf31eee2",
   "metadata": {},
   "source": [
    "### to remove file from one loc to another\n",
    "\n",
    "import shutil #to remove file from one loc to another\n",
    "\n",
    "shutil.move('old loc','new loc')"
   ]
  },
  {
   "cell_type": "code",
   "execution_count": null,
   "id": "d2a17ae8-cf9c-45ba-a43e-3ac7e9ea923a",
   "metadata": {},
   "outputs": [],
   "source": []
  }
 ],
 "metadata": {
  "kernelspec": {
   "display_name": "Python 3 (ipykernel)",
   "language": "python",
   "name": "python3"
  },
  "language_info": {
   "codemirror_mode": {
    "name": "ipython",
    "version": 3
   },
   "file_extension": ".py",
   "mimetype": "text/x-python",
   "name": "python",
   "nbconvert_exporter": "python",
   "pygments_lexer": "ipython3",
   "version": "3.10.4"
  }
 },
 "nbformat": 4,
 "nbformat_minor": 5
}
