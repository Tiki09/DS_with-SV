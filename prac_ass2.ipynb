{
 "cells": [
  {
   "cell_type": "markdown",
   "id": "f25986b6-30cb-47b4-9110-0756cabd3bb7",
   "metadata": {},
   "source": [
    "### 5.\tWrite a Python program to swap two variables without temp variable?"
   ]
  },
  {
   "cell_type": "code",
   "execution_count": 1,
   "id": "bda17389-15a4-4083-bb9b-29df97424a73",
   "metadata": {},
   "outputs": [
    {
     "name": "stdout",
     "output_type": "stream",
     "text": [
      "78 5\n"
     ]
    }
   ],
   "source": [
    "a=5\n",
    "b=78\n",
    "a=a+b\n",
    "b=a-b\n",
    "a=a-b\n",
    "print(a,b)"
   ]
  },
  {
   "cell_type": "markdown",
   "id": "8617cef5-3bd0-4cf3-897a-a2f06232e6df",
   "metadata": {},
   "source": [
    "### 4.\tWrite a Python program to solve quadratic equation?\n",
    "\n",
    "ax2 + bx + c = 0, where\n",
    "\n",
    "a, b and c are real numbers and a ≠ 0\n",
    "\n",
    "(-b ± (b ** 2 - 4 * a * c) ** 0.5) / (2 * a)"
   ]
  },
  {
   "cell_type": "code",
   "execution_count": 13,
   "id": "1f0da60b-1556-4692-a3bc-c86151d7c3a4",
   "metadata": {},
   "outputs": [],
   "source": [
    "def quad(a,b,c):\n",
    "    det=(b ** 2 - 4 * a * c)\n",
    "    if det<0:\n",
    "        print(' complex root :',det)\n",
    "    n1=(-b+det**(1/2))/(2*a)\n",
    "    n2=(-b-det**(1/2))/(2*a)\n",
    "    \n",
    "    if n1<0 and n2<0:\n",
    "        print('both -ve')\n",
    "        return n1,n2\n",
    "    elif n1>0 and n2<0:\n",
    "        print('n1 +ve and n2 -ve, n1=')\n",
    "        return n1\n",
    "    elif n1<0 and n2>0:\n",
    "        print('n2 +ve and n1 -ve, n2=')\n",
    "        return n2\n",
    "    else:\n",
    "        print('both +ve')\n",
    "        return n1,n2"
   ]
  },
  {
   "cell_type": "code",
   "execution_count": 14,
   "id": "4129dfa5-fc96-49c9-877a-7aaae8ea3af0",
   "metadata": {},
   "outputs": [
    {
     "name": "stdout",
     "output_type": "stream",
     "text": [
      "both -ve\n"
     ]
    },
    {
     "data": {
      "text/plain": [
       "(-3.0, -2.0)"
      ]
     },
     "execution_count": 14,
     "metadata": {},
     "output_type": "execute_result"
    }
   ],
   "source": [
    "quad(-1,-5,-6)"
   ]
  },
  {
   "cell_type": "code",
   "execution_count": 16,
   "id": "569bb944-66c4-4185-85c4-f7e8bad661a6",
   "metadata": {},
   "outputs": [
    {
     "name": "stdout",
     "output_type": "stream",
     "text": [
      " complex root : -3\n"
     ]
    },
    {
     "ename": "TypeError",
     "evalue": "'<' not supported between instances of 'complex' and 'int'",
     "output_type": "error",
     "traceback": [
      "\u001b[1;31m---------------------------------------------------------------------------\u001b[0m",
      "\u001b[1;31mTypeError\u001b[0m                                 Traceback (most recent call last)",
      "Input \u001b[1;32mIn [16]\u001b[0m, in \u001b[0;36m<cell line: 1>\u001b[1;34m()\u001b[0m\n\u001b[1;32m----> 1\u001b[0m \u001b[43mquad\u001b[49m\u001b[43m(\u001b[49m\u001b[38;5;241;43m1\u001b[39;49m\u001b[43m,\u001b[49m\u001b[38;5;241;43m1\u001b[39;49m\u001b[43m,\u001b[49m\u001b[38;5;241;43m1\u001b[39;49m\u001b[43m)\u001b[49m\n",
      "Input \u001b[1;32mIn [13]\u001b[0m, in \u001b[0;36mquad\u001b[1;34m(a, b, c)\u001b[0m\n\u001b[0;32m      5\u001b[0m n1\u001b[38;5;241m=\u001b[39m(\u001b[38;5;241m-\u001b[39mb\u001b[38;5;241m+\u001b[39mdet\u001b[38;5;241m*\u001b[39m\u001b[38;5;241m*\u001b[39m(\u001b[38;5;241m1\u001b[39m\u001b[38;5;241m/\u001b[39m\u001b[38;5;241m2\u001b[39m))\u001b[38;5;241m/\u001b[39m(\u001b[38;5;241m2\u001b[39m\u001b[38;5;241m*\u001b[39ma)\n\u001b[0;32m      6\u001b[0m n2\u001b[38;5;241m=\u001b[39m(\u001b[38;5;241m-\u001b[39mb\u001b[38;5;241m-\u001b[39mdet\u001b[38;5;241m*\u001b[39m\u001b[38;5;241m*\u001b[39m(\u001b[38;5;241m1\u001b[39m\u001b[38;5;241m/\u001b[39m\u001b[38;5;241m2\u001b[39m))\u001b[38;5;241m/\u001b[39m(\u001b[38;5;241m2\u001b[39m\u001b[38;5;241m*\u001b[39ma)\n\u001b[1;32m----> 8\u001b[0m \u001b[38;5;28;01mif\u001b[39;00m \u001b[43mn1\u001b[49m\u001b[38;5;241;43m<\u001b[39;49m\u001b[38;5;241;43m0\u001b[39;49m \u001b[38;5;129;01mand\u001b[39;00m n2\u001b[38;5;241m<\u001b[39m\u001b[38;5;241m0\u001b[39m:\n\u001b[0;32m      9\u001b[0m     \u001b[38;5;28mprint\u001b[39m(\u001b[38;5;124m'\u001b[39m\u001b[38;5;124mboth -ve\u001b[39m\u001b[38;5;124m'\u001b[39m)\n\u001b[0;32m     10\u001b[0m     \u001b[38;5;28;01mreturn\u001b[39;00m n1,n2\n",
      "\u001b[1;31mTypeError\u001b[0m: '<' not supported between instances of 'complex' and 'int'"
     ]
    }
   ],
   "source": [
    "quad(1,1,1)"
   ]
  },
  {
   "cell_type": "markdown",
   "id": "f2f03556-f28f-4f50-b8d3-f1a41fa19289",
   "metadata": {},
   "source": [
    "### 3.\tWrite a Python program to display calendar?"
   ]
  },
  {
   "cell_type": "code",
   "execution_count": 20,
   "id": "36e86953-7d34-48e8-948d-01f28d67a155",
   "metadata": {},
   "outputs": [
    {
     "name": "stdin",
     "output_type": "stream",
     "text": [
      "enter year: 2022\n"
     ]
    },
    {
     "name": "stdout",
     "output_type": "stream",
     "text": [
      "                                  2022\n",
      "\n",
      "      January                   February                   March\n",
      "Mo Tu We Th Fr Sa Su      Mo Tu We Th Fr Sa Su      Mo Tu We Th Fr Sa Su\n",
      "                1  2          1  2  3  4  5  6          1  2  3  4  5  6\n",
      " 3  4  5  6  7  8  9       7  8  9 10 11 12 13       7  8  9 10 11 12 13\n",
      "10 11 12 13 14 15 16      14 15 16 17 18 19 20      14 15 16 17 18 19 20\n",
      "17 18 19 20 21 22 23      21 22 23 24 25 26 27      21 22 23 24 25 26 27\n",
      "24 25 26 27 28 29 30      28                        28 29 30 31\n",
      "31\n",
      "\n",
      "       April                      May                       June\n",
      "Mo Tu We Th Fr Sa Su      Mo Tu We Th Fr Sa Su      Mo Tu We Th Fr Sa Su\n",
      "             1  2  3                         1             1  2  3  4  5\n",
      " 4  5  6  7  8  9 10       2  3  4  5  6  7  8       6  7  8  9 10 11 12\n",
      "11 12 13 14 15 16 17       9 10 11 12 13 14 15      13 14 15 16 17 18 19\n",
      "18 19 20 21 22 23 24      16 17 18 19 20 21 22      20 21 22 23 24 25 26\n",
      "25 26 27 28 29 30         23 24 25 26 27 28 29      27 28 29 30\n",
      "                          30 31\n",
      "\n",
      "        July                     August                  September\n",
      "Mo Tu We Th Fr Sa Su      Mo Tu We Th Fr Sa Su      Mo Tu We Th Fr Sa Su\n",
      "             1  2  3       1  2  3  4  5  6  7                1  2  3  4\n",
      " 4  5  6  7  8  9 10       8  9 10 11 12 13 14       5  6  7  8  9 10 11\n",
      "11 12 13 14 15 16 17      15 16 17 18 19 20 21      12 13 14 15 16 17 18\n",
      "18 19 20 21 22 23 24      22 23 24 25 26 27 28      19 20 21 22 23 24 25\n",
      "25 26 27 28 29 30 31      29 30 31                  26 27 28 29 30\n",
      "\n",
      "      October                   November                  December\n",
      "Mo Tu We Th Fr Sa Su      Mo Tu We Th Fr Sa Su      Mo Tu We Th Fr Sa Su\n",
      "                1  2          1  2  3  4  5  6                1  2  3  4\n",
      " 3  4  5  6  7  8  9       7  8  9 10 11 12 13       5  6  7  8  9 10 11\n",
      "10 11 12 13 14 15 16      14 15 16 17 18 19 20      12 13 14 15 16 17 18\n",
      "17 18 19 20 21 22 23      21 22 23 24 25 26 27      19 20 21 22 23 24 25\n",
      "24 25 26 27 28 29 30      28 29 30                  26 27 28 29 30 31\n",
      "31\n",
      "\n"
     ]
    }
   ],
   "source": [
    "# given month of the year\n",
    " \n",
    "# import module\n",
    "import calendar as cl\n",
    " \n",
    "yy = int(input('enter year:'))\n",
    "'''\n",
    "mm = int(input('month :'))\n",
    " \n",
    "# display the calendar of month\n",
    "print(cl.month(yy, mm))\n",
    "'''\n",
    "print(cl.calendar(yy))"
   ]
  },
  {
   "cell_type": "markdown",
   "id": "583ba375-67d8-47e9-973f-cfa9e652ba3e",
   "metadata": {},
   "source": [
    "### 2.\tWrite a Python program to convert Celsius to Fahrenheit and vice-versa?\n",
    "\n",
    "fahrenheit = celsius * 1.8 + 32\n",
    "\n",
    "celsius= (farenheit-32) / 1.8\n"
   ]
  },
  {
   "cell_type": "code",
   "execution_count": 30,
   "id": "cde58b36-99e7-4a69-8fc7-e44b774333f3",
   "metadata": {},
   "outputs": [
    {
     "name": "stdin",
     "output_type": "stream",
     "text": [
      "enter the value of celsius : -15\n"
     ]
    },
    {
     "name": "stdout",
     "output_type": "stream",
     "text": [
      "-15 celsius is equal to 5.0 farenheit\n"
     ]
    },
    {
     "name": "stdin",
     "output_type": "stream",
     "text": [
      "give the value of farenheit : 5\n"
     ]
    },
    {
     "name": "stdout",
     "output_type": "stream",
     "text": [
      "5.0 farenheit is equal to -15.0 celsius\n"
     ]
    }
   ],
   "source": [
    "celsius=input('enter the value of celsius :')\n",
    "\n",
    "#calculate farenheit\n",
    "farenheit=float(celsius) * 1.8 + 32\n",
    "print('{} celsius is equal to {} farenheit'.format(celsius,farenheit))\n",
    "\n",
    "#farenheit to celsius\n",
    "# find temperature in Celsius\n",
    "f=float(input('give the value of farenheit :'))\n",
    "c= (f-32) / 1.8\n",
    "print('{} farenheit is equal to {} celsius'.format(f,c))"
   ]
  },
  {
   "cell_type": "markdown",
   "id": "a7c3211d-fb5a-47c9-8e82-43a918f9cb5b",
   "metadata": {},
   "source": [
    "### 1.\tWrite a Python program to convert kilometers to miles and vice-versa?\n",
    "\n",
    "1 kilometer is equal to 0.621371 miles.\n",
    "\n",
    "1 mile is equal to 1.60934 kilometers.\n",
    "\n",
    "**formula**\n",
    "\n",
    "Miles = Kilometers * 0.621371\n",
    "\n",
    "Kilometers = Miles * 1.60934"
   ]
  },
  {
   "cell_type": "code",
   "execution_count": 34,
   "id": "4b0ed383-831b-4ed1-bec0-73c053ef3080",
   "metadata": {},
   "outputs": [],
   "source": [
    "#  kilometers to miles\n",
    "\n",
    "def KiloToMiles(km):\n",
    "    Miles = km * 0.621371\n",
    "    print('{} kilometers is {} miles'.format(km,Miles))"
   ]
  },
  {
   "cell_type": "code",
   "execution_count": 35,
   "id": "39f1ea54-df69-4b7c-b9d0-3146eb00849a",
   "metadata": {},
   "outputs": [
    {
     "name": "stdout",
     "output_type": "stream",
     "text": [
      "5 kilometers is 3.106855 miles\n"
     ]
    }
   ],
   "source": [
    "KiloToMiles(5)"
   ]
  },
  {
   "cell_type": "code",
   "execution_count": 36,
   "id": "be5ed2bd-8373-4a86-933d-3d46eec4bf35",
   "metadata": {},
   "outputs": [],
   "source": [
    "\n",
    "def MilesToKilo(Miles):\n",
    "    Kilometers = Miles * 1.60934\n",
    "    print('{} Miles is {} Kilometers'.format(Miles,Kilometers))"
   ]
  },
  {
   "cell_type": "code",
   "execution_count": 37,
   "id": "77e9cc6e-661c-439b-b475-105638bb0b62",
   "metadata": {},
   "outputs": [
    {
     "name": "stdout",
     "output_type": "stream",
     "text": [
      "191 Miles is 307.38394 Kilometers\n"
     ]
    }
   ],
   "source": [
    "MilesToKilo(191)"
   ]
  },
  {
   "cell_type": "code",
   "execution_count": null,
   "id": "63eed10c-4a12-4db8-8f2d-a1bd20118ac2",
   "metadata": {},
   "outputs": [],
   "source": []
  }
 ],
 "metadata": {
  "kernelspec": {
   "display_name": "Python 3 (ipykernel)",
   "language": "python",
   "name": "python3"
  },
  "language_info": {
   "codemirror_mode": {
    "name": "ipython",
    "version": 3
   },
   "file_extension": ".py",
   "mimetype": "text/x-python",
   "name": "python",
   "nbconvert_exporter": "python",
   "pygments_lexer": "ipython3",
   "version": "3.10.4"
  }
 },
 "nbformat": 4,
 "nbformat_minor": 5
}
