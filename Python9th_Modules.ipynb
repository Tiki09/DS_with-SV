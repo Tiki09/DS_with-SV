{
 "cells": [
  {
   "cell_type": "markdown",
   "id": "117f1930-68db-4f58-a61b-f11e8a48176a",
   "metadata": {},
   "source": [
    "### Modules := Package"
   ]
  },
  {
   "cell_type": "code",
   "execution_count": 7,
   "id": "beea0ec7-555b-435a-9bde-93288ff1f3db",
   "metadata": {},
   "outputs": [],
   "source": [
    "#1st approch\n",
    "import math"
   ]
  },
  {
   "cell_type": "code",
   "execution_count": 8,
   "id": "dbf14e6c-84ae-45da-bc57-e7ad08a9f63d",
   "metadata": {},
   "outputs": [
    {
     "data": {
      "text/plain": [
       "7.0710678118654755"
      ]
     },
     "execution_count": 8,
     "metadata": {},
     "output_type": "execute_result"
    }
   ],
   "source": [
    "math.sqrt(50)"
   ]
  },
  {
   "cell_type": "code",
   "execution_count": 9,
   "id": "8ff7d0b0-73f6-4ddd-8910-190eafe27230",
   "metadata": {},
   "outputs": [],
   "source": [
    "#2nd approach\n",
    "from math import sqrt"
   ]
  },
  {
   "cell_type": "code",
   "execution_count": 10,
   "id": "d557e621-3e67-4b42-a8b4-32d4f305679f",
   "metadata": {},
   "outputs": [
    {
     "data": {
      "text/plain": [
       "7.0710678118654755"
      ]
     },
     "execution_count": 10,
     "metadata": {},
     "output_type": "execute_result"
    }
   ],
   "source": [
    "sqrt(50)"
   ]
  },
  {
   "cell_type": "code",
   "execution_count": 11,
   "id": "f200afc9-6d34-426d-b30b-50043a8187c6",
   "metadata": {},
   "outputs": [],
   "source": [
    "from math import sqrt,pi"
   ]
  },
  {
   "cell_type": "code",
   "execution_count": 12,
   "id": "9ff605d5-2a88-463e-a3d4-97484d19fd9e",
   "metadata": {},
   "outputs": [
    {
     "data": {
      "text/plain": [
       "3.141592653589793"
      ]
     },
     "execution_count": 12,
     "metadata": {},
     "output_type": "execute_result"
    }
   ],
   "source": [
    "pi"
   ]
  },
  {
   "cell_type": "code",
   "execution_count": 14,
   "id": "24d72fd2-391d-4178-ba2c-1f20c1dca091",
   "metadata": {},
   "outputs": [
    {
     "data": {
      "text/plain": [
       "216"
      ]
     },
     "execution_count": 14,
     "metadata": {},
     "output_type": "execute_result"
    }
   ],
   "source": [
    "pow(6,3)"
   ]
  },
  {
   "cell_type": "code",
   "execution_count": 15,
   "id": "eb53cfa3-d971-468d-a8b6-5decdfa081f3",
   "metadata": {},
   "outputs": [],
   "source": [
    "from math import *"
   ]
  },
  {
   "cell_type": "code",
   "execution_count": 18,
   "id": "f49d3b95-8222-4150-8e4a-43d1ab60c90c",
   "metadata": {},
   "outputs": [
    {
     "data": {
      "text/plain": [
       "0.8939966636005579"
      ]
     },
     "execution_count": 18,
     "metadata": {},
     "output_type": "execute_result"
    }
   ],
   "source": [
    "sin(90)"
   ]
  },
  {
   "cell_type": "code",
   "execution_count": 17,
   "id": "1bc0df05-2c64-4a70-8fe1-0d306741c8ee",
   "metadata": {},
   "outputs": [
    {
     "data": {
      "text/plain": [
       "1.4142135623730951"
      ]
     },
     "execution_count": 17,
     "metadata": {},
     "output_type": "execute_result"
    }
   ],
   "source": [
    "sqrt(2)"
   ]
  },
  {
   "cell_type": "code",
   "execution_count": 10,
   "id": "14745035-b048-4533-b08a-8976625c456d",
   "metadata": {},
   "outputs": [],
   "source": [
    "# create own module\n",
    "import os"
   ]
  },
  {
   "cell_type": "code",
   "execution_count": 24,
   "id": "feff058e-3973-4920-8b38-b361767a1217",
   "metadata": {},
   "outputs": [
    {
     "data": {
      "text/plain": [
       "'C:\\\\Users\\\\lenovo\\\\Desktop\\\\Python\\\\dataAnalysis'"
      ]
     },
     "execution_count": 24,
     "metadata": {},
     "output_type": "execute_result"
    }
   ],
   "source": [
    "pwd()"
   ]
  },
  {
   "cell_type": "markdown",
   "id": "95a0afd6-4115-4d7d-bc79-82e0b4a8084a",
   "metadata": {},
   "source": [
    "**own module**"
   ]
  },
  {
   "cell_type": "code",
   "execution_count": 25,
   "id": "c0b85223-5876-42d7-adf2-a7e30447a4e2",
   "metadata": {},
   "outputs": [
    {
     "name": "stdout",
     "output_type": "stream",
     "text": [
      "my first module\n"
     ]
    }
   ],
   "source": [
    "import modules"
   ]
  },
  {
   "cell_type": "code",
   "execution_count": 28,
   "id": "69e73ad1-3ab7-4846-8c50-6885234cadd7",
   "metadata": {},
   "outputs": [],
   "source": [
    "import modules"
   ]
  },
  {
   "cell_type": "code",
   "execution_count": 29,
   "id": "6d60bcf0-6b90-4540-a879-6397d08b1795",
   "metadata": {},
   "outputs": [
    {
     "name": "stderr",
     "output_type": "stream",
     "text": [
      "C:\\Users\\lenovo\\AppData\\Local\\Temp\\ipykernel_11156\\713651319.py:1: DeprecationWarning: the imp module is deprecated in favour of importlib and slated for removal in Python 3.12; see the module's documentation for alternative uses\n",
      "  import imp\n"
     ]
    }
   ],
   "source": [
    "import imp"
   ]
  },
  {
   "cell_type": "code",
   "execution_count": 30,
   "id": "62d0ede2-1d8f-4166-a9c5-94f18f14fd24",
   "metadata": {},
   "outputs": [
    {
     "name": "stdout",
     "output_type": "stream",
     "text": [
      "my first module\n"
     ]
    },
    {
     "data": {
      "text/plain": [
       "<module 'modules' from 'C:\\\\Users\\\\lenovo\\\\Desktop\\\\Python\\\\dataAnalysis\\\\modules.py'>"
      ]
     },
     "execution_count": 30,
     "metadata": {},
     "output_type": "execute_result"
    }
   ],
   "source": [
    "imp.reload(modules)"
   ]
  },
  {
   "cell_type": "code",
   "execution_count": 1,
   "id": "2abb67be-afcb-4391-941b-40eb58905a6f",
   "metadata": {},
   "outputs": [],
   "source": [
    "import addn"
   ]
  },
  {
   "cell_type": "code",
   "execution_count": 2,
   "id": "cb5f2a3d-315f-467f-b472-a75f7feda980",
   "metadata": {},
   "outputs": [
    {
     "name": "stdout",
     "output_type": "stream",
     "text": [
      "gajab cheez hai 57343\n"
     ]
    }
   ],
   "source": [
    "addn.addition(56465,878)"
   ]
  },
  {
   "cell_type": "code",
   "execution_count": 3,
   "id": "5676144b-0d21-45de-8d14-3e8398e44d17",
   "metadata": {},
   "outputs": [
    {
     "data": {
      "text/plain": [
       "'C:\\\\Users\\\\lenovo\\\\Desktop\\\\Python\\\\dataAnalysis'"
      ]
     },
     "execution_count": 3,
     "metadata": {},
     "output_type": "execute_result"
    }
   ],
   "source": [
    "pwd()"
   ]
  },
  {
   "cell_type": "code",
   "execution_count": 5,
   "id": "47e50c49-148e-418d-be3f-bf49011936ec",
   "metadata": {},
   "outputs": [],
   "source": [
    "from addn import addition"
   ]
  },
  {
   "cell_type": "code",
   "execution_count": 7,
   "id": "02463457-fc3c-4b03-809f-0cbb816f1daf",
   "metadata": {},
   "outputs": [
    {
     "name": "stdout",
     "output_type": "stream",
     "text": [
      "gajab cheez hai 19\n"
     ]
    }
   ],
   "source": [
    "addition(9,10)"
   ]
  },
  {
   "cell_type": "code",
   "execution_count": 1,
   "id": "1a7c6d2a-2b94-4ecf-98b8-6647b86e2bb2",
   "metadata": {},
   "outputs": [],
   "source": [
    "import module1 as m1"
   ]
  },
  {
   "cell_type": "code",
   "execution_count": 2,
   "id": "f47a28a7-50d6-4ad3-921d-4f90ebf3c96a",
   "metadata": {},
   "outputs": [
    {
     "data": {
      "text/plain": [
       "'this is my cls, wlcm here'"
      ]
     },
     "execution_count": 2,
     "metadata": {},
     "output_type": "execute_result"
    }
   ],
   "source": [
    "m1.msg()"
   ]
  },
  {
   "cell_type": "code",
   "execution_count": 3,
   "id": "d08bba86-ea26-4bf4-ada3-f2070b5a6704",
   "metadata": {},
   "outputs": [
    {
     "data": {
      "text/plain": [
       "['ml', 'dl', 'py', 'stats', 'cv']"
      ]
     },
     "execution_count": 3,
     "metadata": {},
     "output_type": "execute_result"
    }
   ],
   "source": [
    "m1.get_course()"
   ]
  },
  {
   "cell_type": "code",
   "execution_count": 4,
   "id": "c38de8d6-4ec3-450c-8bfa-a511173036af",
   "metadata": {},
   "outputs": [],
   "source": [
    "from module1 import msg,get_course"
   ]
  },
  {
   "cell_type": "code",
   "execution_count": 7,
   "id": "f36232e5-15ab-410a-8871-cc3a9ccfa5a7",
   "metadata": {},
   "outputs": [
    {
     "data": {
      "text/plain": [
       "'this is my cls, wlcm here'"
      ]
     },
     "execution_count": 7,
     "metadata": {},
     "output_type": "execute_result"
    }
   ],
   "source": [
    "msg()"
   ]
  },
  {
   "cell_type": "code",
   "execution_count": 8,
   "id": "d085c668-509e-4f36-9368-3472c02e0600",
   "metadata": {},
   "outputs": [
    {
     "data": {
      "text/plain": [
       "['ml', 'dl', 'py', 'stats', 'cv']"
      ]
     },
     "execution_count": 8,
     "metadata": {},
     "output_type": "execute_result"
    }
   ],
   "source": [
    "get_course()"
   ]
  },
  {
   "cell_type": "markdown",
   "id": "4e572757-8eff-4f25-989d-c44f6033de9e",
   "metadata": {},
   "source": [
    "### homework"
   ]
  },
  {
   "cell_type": "code",
   "execution_count": 11,
   "id": "902053a1-c30b-48f2-8b37-f23a641f261e",
   "metadata": {},
   "outputs": [],
   "source": [
    "os.mkdir('C:\\\\Users\\\\lenovo\\\\Desktop\\\\Python\\\\dataAnalysis\\\\test_module')"
   ]
  },
  {
   "cell_type": "code",
   "execution_count": 12,
   "id": "84b4bdfd-719b-41a4-97d6-c19858c6021b",
   "metadata": {},
   "outputs": [
    {
     "data": {
      "text/plain": [
       "'C:\\\\Users\\\\lenovo\\\\Desktop\\\\Python\\\\dataAnalysis'"
      ]
     },
     "execution_count": 12,
     "metadata": {},
     "output_type": "execute_result"
    }
   ],
   "source": [
    "pwd()"
   ]
  },
  {
   "cell_type": "code",
   "execution_count": 15,
   "id": "a096d4d4-02e3-4e47-ad03-ff7270ac0b08",
   "metadata": {},
   "outputs": [],
   "source": [
    "os.mkdir('test')"
   ]
  },
  {
   "cell_type": "code",
   "execution_count": 16,
   "id": "c815c2d0-8ee4-4e40-a5dc-1e000e44d2a8",
   "metadata": {},
   "outputs": [],
   "source": [
    "os.chdir('C:\\\\Users\\\\lenovo\\\\Desktop\\\\Python\\\\dataAnalysis\\\\test_module\\\\test')"
   ]
  },
  {
   "cell_type": "code",
   "execution_count": 18,
   "id": "b1d16dad-866f-4ae5-b8be-0a0c1504f12b",
   "metadata": {},
   "outputs": [
    {
     "data": {
      "text/plain": [
       "'C:\\\\Users\\\\lenovo\\\\Desktop\\\\Python\\\\dataAnalysis\\\\test_module\\\\test'"
      ]
     },
     "execution_count": 18,
     "metadata": {},
     "output_type": "execute_result"
    }
   ],
   "source": [
    "pwd()"
   ]
  },
  {
   "cell_type": "code",
   "execution_count": null,
   "id": "2f75c9e2-5cad-417f-bc88-c5336a288c90",
   "metadata": {},
   "outputs": [],
   "source": []
  }
 ],
 "metadata": {
  "kernelspec": {
   "display_name": "Python 3 (ipykernel)",
   "language": "python",
   "name": "python3"
  },
  "language_info": {
   "codemirror_mode": {
    "name": "ipython",
    "version": 3
   },
   "file_extension": ".py",
   "mimetype": "text/x-python",
   "name": "python",
   "nbconvert_exporter": "python",
   "pygments_lexer": "ipython3",
   "version": "3.10.4"
  }
 },
 "nbformat": 4,
 "nbformat_minor": 5
}
