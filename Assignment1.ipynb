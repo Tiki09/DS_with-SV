{
 "cells": [
  {
   "cell_type": "code",
   "execution_count": 1,
   "id": "6db4ee97-8a5c-4469-8fe2-e8c6473f2839",
   "metadata": {},
   "outputs": [],
   "source": [
    "# Assignment 1"
   ]
  },
  {
   "cell_type": "markdown",
   "id": "212c2882-f225-49a8-8c14-bb9851b6ebf1",
   "metadata": {
    "tags": []
   },
   "source": [
    "# ques 1\n",
    "**values can be integer or string and expressions will be mathematical operators.**\n",
    "values are: 'hello',-87.8,6\n",
    "expressions are: *,-,/,+\n",
    "\n"
   ]
  },
  {
   "cell_type": "code",
   "execution_count": 8,
   "id": "339b7bdc-7b09-4793-97d4-81e8a28b83f3",
   "metadata": {},
   "outputs": [
    {
     "name": "stdout",
     "output_type": "stream",
     "text": [
      "<class 'str'>\n",
      "<class 'float'>\n",
      "<class 'int'>\n"
     ]
    }
   ],
   "source": [
    "print(type('hello'))\n",
    "print(type(-87.8))\n",
    "print(type(6))"
   ]
  },
  {
   "cell_type": "markdown",
   "id": "727bbbe3-9ed3-44b4-a73e-b2bf95c24091",
   "metadata": {},
   "source": [
    "# ques 2\n",
    "**string** : group of character that are represented in \"\" and '' , strings are immutable.\n",
    "**variable** : name of a memory location, which store some data values."
   ]
  },
  {
   "cell_type": "markdown",
   "id": "459a0d0c-d6d9-49cc-835d-a9fcc7e9559b",
   "metadata": {},
   "source": [
    "# ques 3\n",
    "**Data Types in python**\n",
    "int : numeric data contains +ve and -ve number without any fractional data or decimal point.\n",
    "bool : consists of True and False(1 and 0)\n",
    "str : consists of '' and \"\""
   ]
  },
  {
   "cell_type": "markdown",
   "id": "711ab649-85f9-4859-8ece-58a3e55b0172",
   "metadata": {},
   "source": [
    "# ques 4\n",
    "\n",
    "**Expressions** : consists of operators and operands.\n",
    " An expression is evaluated as per the precedence of its operators.\n"
   ]
  },
  {
   "cell_type": "markdown",
   "id": "990b0d05-5485-4215-88ac-cd6a75c23f76",
   "metadata": {},
   "source": [
    "# ques 5\n",
    "This assignment statements, like spam = 10.  **difference between an expression and a statement**\n",
    "**expression** :Expressions will be mathematical operators(+,-,*,/,..etc.)\n",
    "**statement** :A statement is a programming instruction that does something.(x=10,print(\"hii\"),..etc.)"
   ]
  },
  {
   "cell_type": "code",
   "execution_count": 10,
   "id": "460e3e3e-e085-4d2b-a073-bbc39e490590",
   "metadata": {},
   "outputs": [
    {
     "name": "stdout",
     "output_type": "stream",
     "text": [
      "22\n",
      "23\n",
      "22\n"
     ]
    }
   ],
   "source": [
    "# ques 6\n",
    "bacon=22\n",
    "print(bacon) \n",
    "bacon+1    # value is not update in the 'bacon'  \n",
    "print(bacon+1)\n",
    "print(bacon)"
   ]
  },
  {
   "cell_type": "code",
   "execution_count": 12,
   "id": "2f3e561e-c814-4248-8d8e-8ededc1aa7b6",
   "metadata": {},
   "outputs": [
    {
     "name": "stdout",
     "output_type": "stream",
     "text": [
      "spamspamspam\n",
      "spamspamspam\n"
     ]
    }
   ],
   "source": [
    "# ques 7\n",
    "#both returns same result\n",
    "print('spam' + 'spamspam')\n",
    "print('spam' * 3)\n"
   ]
  },
  {
   "cell_type": "markdown",
   "id": "a226c703-3fab-4d48-bf35-9303d211c37d",
   "metadata": {},
   "source": [
    "# ques 8\n",
    "Why is eggs a valid variable name while 100 is invalid?\n",
    "\n",
    "eggs : start with a char, variables must be starts with char or _.\n",
    "100 : its first letter is a digit so, not valid."
   ]
  },
  {
   "cell_type": "markdown",
   "id": "5011c5fd-49fd-4300-80be-20c2f3e48c16",
   "metadata": {},
   "source": [
    "# ques 9\n",
    "What three functions can be used to get the integer, floating-point number, or string version of a value?\n",
    "\n",
    "to get the integer : int()\n",
    "to get the floating-point : float()\n",
    "to get the string : str()"
   ]
  },
  {
   "cell_type": "markdown",
   "id": "d4124bac-9f4b-42b5-b2a0-726869a14065",
   "metadata": {},
   "source": [
    "# ques 10\n",
    "Why does this expression cause an error? How can you fix it?\n",
    "'I have eaten ' + 99 + ' burritos.'\n",
    "\n",
    "Because here we can't concatenate a string with an integer, to concatenate all the values its must be same types. so, here we have to convert 99 into the string. \n"
   ]
  },
  {
   "cell_type": "code",
   "execution_count": 16,
   "id": "bbaaa949-d171-4b77-88d0-d9bc4bbdb4eb",
   "metadata": {},
   "outputs": [
    {
     "data": {
      "text/plain": [
       "'I have eaten 99 burritos.'"
      ]
     },
     "execution_count": 16,
     "metadata": {},
     "output_type": "execute_result"
    }
   ],
   "source": [
    "'I have eaten ' + str(99)+ ' burritos.'"
   ]
  },
  {
   "cell_type": "code",
   "execution_count": null,
   "id": "22b4751c-98d8-438d-8b79-a1b0ed32d594",
   "metadata": {},
   "outputs": [],
   "source": []
  }
 ],
 "metadata": {
  "kernelspec": {
   "display_name": "Python 3 (ipykernel)",
   "language": "python",
   "name": "python3"
  },
  "language_info": {
   "codemirror_mode": {
    "name": "ipython",
    "version": 3
   },
   "file_extension": ".py",
   "mimetype": "text/x-python",
   "name": "python",
   "nbconvert_exporter": "python",
   "pygments_lexer": "ipython3",
   "version": "3.10.4"
  }
 },
 "nbformat": 4,
 "nbformat_minor": 5
}
