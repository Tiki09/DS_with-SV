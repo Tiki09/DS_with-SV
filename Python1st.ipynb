{
 "cells": [
  {
   "cell_type": "code",
   "execution_count": 1,
   "id": "6a740dd3-29e0-4e9b-8ca8-647d8110ed24",
   "metadata": {},
   "outputs": [
    {
     "data": {
      "text/plain": [
       "3"
      ]
     },
     "execution_count": 1,
     "metadata": {},
     "output_type": "execute_result"
    }
   ],
   "source": [
    "1+2"
   ]
  },
  {
   "cell_type": "code",
   "execution_count": 1,
   "id": "a68b2409-ad5f-4699-aeb7-8e77aa8ab055",
   "metadata": {},
   "outputs": [
    {
     "name": "stdout",
     "output_type": "stream",
     "text": [
      "The Zen of Python, by Tim Peters\n",
      "\n",
      "Beautiful is better than ugly.\n",
      "Explicit is better than implicit.\n",
      "Simple is better than complex.\n",
      "Complex is better than complicated.\n",
      "Flat is better than nested.\n",
      "Sparse is better than dense.\n",
      "Readability counts.\n",
      "Special cases aren't special enough to break the rules.\n",
      "Although practicality beats purity.\n",
      "Errors should never pass silently.\n",
      "Unless explicitly silenced.\n",
      "In the face of ambiguity, refuse the temptation to guess.\n",
      "There should be one-- and preferably only one --obvious way to do it.\n",
      "Although that way may not be obvious at first unless you're Dutch.\n",
      "Now is better than never.\n",
      "Although never is often better than *right* now.\n",
      "If the implementation is hard to explain, it's a bad idea.\n",
      "If the implementation is easy to explain, it may be a good idea.\n",
      "Namespaces are one honking great idea -- let's do more of those!\n"
     ]
    }
   ],
   "source": [
    "import this"
   ]
  },
  {
   "cell_type": "code",
   "execution_count": 2,
   "id": "e3da5bd2-c249-4670-b47a-3363319254e7",
   "metadata": {},
   "outputs": [
    {
     "name": "stdout",
     "output_type": "stream",
     "text": [
      "1st py pgm\n"
     ]
    }
   ],
   "source": [
    "print('1st py pgm')"
   ]
  },
  {
   "cell_type": "code",
   "execution_count": 4,
   "id": "d3717cf5-aa3e-4f18-8310-87c9e8bfbbee",
   "metadata": {},
   "outputs": [
    {
     "name": "stdout",
     "output_type": "stream",
     "text": [
      "Help on built-in function print in module builtins:\n",
      "\n",
      "print(...)\n",
      "    print(value, ..., sep=' ', end='\\n', file=sys.stdout, flush=False)\n",
      "    \n",
      "    Prints the values to a stream, or to sys.stdout by default.\n",
      "    Optional keyword arguments:\n",
      "    file:  a file-like object (stream); defaults to the current sys.stdout.\n",
      "    sep:   string inserted between values, default a space.\n",
      "    end:   string appended after the last value, default a newline.\n",
      "    flush: whether to forcibly flush the stream.\n",
      "\n"
     ]
    }
   ],
   "source": [
    "help(print)"
   ]
  },
  {
   "cell_type": "code",
   "execution_count": 7,
   "id": "f2d31e09-6134-42fc-aea9-d067ee7b7486",
   "metadata": {},
   "outputs": [
    {
     "ename": "SyntaxError",
     "evalue": "Missing parentheses in call to 'print'. Did you mean print(...)? (2292223305.py, line 2)",
     "output_type": "error",
     "traceback": [
      "\u001b[1;36m  Input \u001b[1;32mIn [7]\u001b[1;36m\u001b[0m\n\u001b[1;33m    print \"hii\"\u001b[0m\n\u001b[1;37m    ^\u001b[0m\n\u001b[1;31mSyntaxError\u001b[0m\u001b[1;31m:\u001b[0m Missing parentheses in call to 'print'. Did you mean print(...)?\n"
     ]
    }
   ],
   "source": [
    "#valid in py 2.X not in 3.x version\n",
    "print \"hii\""
   ]
  },
  {
   "cell_type": "code",
   "execution_count": 15,
   "id": "a228ad10-60bb-4adf-9a65-6397a4f5eae0",
   "metadata": {},
   "outputs": [
    {
     "data": {
      "text/plain": [
       "2"
      ]
     },
     "execution_count": 15,
     "metadata": {},
     "output_type": "execute_result"
    }
   ],
   "source": [
    "#only string/num can also be executed\n",
    "'tiki'\n",
    "2"
   ]
  },
  {
   "cell_type": "code",
   "execution_count": 16,
   "id": "a14bc4b0-ae09-4db7-a857-8055e523b490",
   "metadata": {},
   "outputs": [
    {
     "data": {
      "text/plain": [
       "'ggfy\\nhggj\\nhghjgjg\\nhgh'"
      ]
     },
     "execution_count": 16,
     "metadata": {},
     "output_type": "execute_result"
    }
   ],
   "source": [
    "#multiline cmnt (\"\"\"......\"\"\")\n",
    "\"\"\"ggfy\n",
    "hggj\n",
    "hghjgjg\n",
    "hgh\"\"\""
   ]
  },
  {
   "cell_type": "code",
   "execution_count": 1,
   "id": "67bae918-ee21-4782-9c7c-c4c34f998246",
   "metadata": {},
   "outputs": [
    {
     "data": {
      "text/plain": [
       "float"
      ]
     },
     "execution_count": 1,
     "metadata": {},
     "output_type": "execute_result"
    }
   ],
   "source": [
    "#variable creation(a name of memory locn or a local/global instances whr u cn store the data)\n",
    "a=2.5\n",
    "a #to call/print the variable\n",
    "type(a) #to know which type of data it is"
   ]
  },
  {
   "cell_type": "code",
   "execution_count": 25,
   "id": "ea69808f-447c-400b-993e-41d370aa3720",
   "metadata": {},
   "outputs": [
    {
     "name": "stdout",
     "output_type": "stream",
     "text": [
      "2.5 tiki\n"
     ]
    }
   ],
   "source": [
    "b='tiki'\n",
    "#I can print multiple variable inside one print()\n",
    "print(a,b)"
   ]
  },
  {
   "cell_type": "code",
   "execution_count": 16,
   "id": "f41b1042-3ea7-46e4-8cbe-5fa5c609ccc6",
   "metadata": {},
   "outputs": [],
   "source": [
    "#I can create multiple variable in same line\n",
    "a,b,s=45,'tiki','hii'"
   ]
  },
  {
   "cell_type": "code",
   "execution_count": 17,
   "id": "d669fcf5-7f27-4e94-bfc2-6bf4fd74ca61",
   "metadata": {},
   "outputs": [
    {
     "data": {
      "text/plain": [
       "(45, 'tiki', 'hii')"
      ]
     },
     "execution_count": 17,
     "metadata": {},
     "output_type": "execute_result"
    }
   ],
   "source": [
    "#print multiple variables\n",
    "a,b,s #it gives results in a tuple\n",
    "#print(a,b,s) #==>gives result in normal way"
   ]
  },
  {
   "cell_type": "code",
   "execution_count": 18,
   "id": "bab1ff99-b423-4f22-a2a4-28bb1be2eeb1",
   "metadata": {},
   "outputs": [
    {
     "data": {
      "text/plain": [
       "tuple"
      ]
     },
     "execution_count": 18,
     "metadata": {},
     "output_type": "execute_result"
    }
   ],
   "source": [
    "type((a,b,s))"
   ]
  },
  {
   "cell_type": "code",
   "execution_count": 34,
   "id": "55a6f0f3-0050-48c2-bbcc-a427440fe090",
   "metadata": {},
   "outputs": [
    {
     "name": "stdout",
     "output_type": "stream",
     "text": [
      "True False\n"
     ]
    }
   ],
   "source": [
    "#creating Boolean variable\n",
    "x=True\n",
    "y=False\n",
    "print(x,y)"
   ]
  },
  {
   "cell_type": "code",
   "execution_count": 19,
   "id": "df71b11b-95fc-4874-a8db-e6604baaa75f",
   "metadata": {},
   "outputs": [
    {
     "data": {
      "text/plain": [
       "2"
      ]
     },
     "execution_count": 19,
     "metadata": {},
     "output_type": "execute_result"
    }
   ],
   "source": [
    "True+True+True+False-True"
   ]
  },
  {
   "cell_type": "code",
   "execution_count": 38,
   "id": "b7c84741-2bd7-4090-9a4a-8af5f22c9fe9",
   "metadata": {},
   "outputs": [
    {
     "data": {
      "text/plain": [
       "0"
      ]
     },
     "execution_count": 38,
     "metadata": {},
     "output_type": "execute_result"
    }
   ],
   "source": [
    "False-True+True \n",
    "# because its by default considering True as 1 and False as )"
   ]
  },
  {
   "cell_type": "code",
   "execution_count": 42,
   "id": "8a7418d9-e747-4c32-a1b1-e0c0a4eced3a",
   "metadata": {},
   "outputs": [
    {
     "ename": "ZeroDivisionError",
     "evalue": "division by zero",
     "output_type": "error",
     "traceback": [
      "\u001b[1;31m---------------------------------------------------------------------------\u001b[0m",
      "\u001b[1;31mZeroDivisionError\u001b[0m                         Traceback (most recent call last)",
      "Input \u001b[1;32mIn [42]\u001b[0m, in \u001b[0;36m<cell line: 1>\u001b[1;34m()\u001b[0m\n\u001b[1;32m----> 1\u001b[0m \u001b[38;5;28;43;01mTrue\u001b[39;49;00m\u001b[43m \u001b[49m\u001b[38;5;241;43m/\u001b[39;49m\u001b[43m \u001b[49m\u001b[38;5;28;43;01mFalse\u001b[39;49;00m\n",
      "\u001b[1;31mZeroDivisionError\u001b[0m: division by zero"
     ]
    }
   ],
   "source": [
    "True / False \n",
    "# its like 1/0 , so its gives error (zero divison)"
   ]
  },
  {
   "cell_type": "code",
   "execution_count": 21,
   "id": "6e083ac4-919b-4776-b834-3591e181760e",
   "metadata": {},
   "outputs": [
    {
     "data": {
      "text/plain": [
       "complex"
      ]
     },
     "execution_count": 21,
     "metadata": {},
     "output_type": "execute_result"
    }
   ],
   "source": [
    "# complex num(j only used to reprent complex num)\n",
    "n=45+6j\n",
    "type(n)"
   ]
  },
  {
   "cell_type": "code",
   "execution_count": 23,
   "id": "16f522ff-731b-4ae6-87ce-4f39a1e25363",
   "metadata": {},
   "outputs": [
    {
     "name": "stdout",
     "output_type": "stream",
     "text": [
      "45.0\n",
      "6.0\n"
     ]
    }
   ],
   "source": [
    "# real and imaginary num\n",
    "print(n.real)\n",
    "print(n.imag)"
   ]
  },
  {
   "cell_type": "code",
   "execution_count": 53,
   "id": "94a9570c-0790-4e5c-8aed-c97fe79e1a6d",
   "metadata": {},
   "outputs": [
    {
     "data": {
      "text/plain": [
       "'1tiki'"
      ]
     },
     "execution_count": 53,
     "metadata": {},
     "output_type": "execute_result"
    }
   ],
   "source": [
    "# 1 + \"tiki\" -->it gives error\n",
    "# type conversion\n",
    "str(1) + \"tiki\""
   ]
  },
  {
   "cell_type": "code",
   "execution_count": 55,
   "id": "434a9255-4255-4c83-b85d-49c4eecf4e3b",
   "metadata": {},
   "outputs": [
    {
     "data": {
      "text/plain": [
       "'tikitikitiki'"
      ]
     },
     "execution_count": 55,
     "metadata": {},
     "output_type": "execute_result"
    }
   ],
   "source": [
    "\"tiki\"+\"tiki\"+\"tiki\"\n",
    "# it is same as --> \"tiki\" * 3"
   ]
  },
  {
   "cell_type": "code",
   "execution_count": 58,
   "id": "4f255a80-5885-4016-b830-698015bf694a",
   "metadata": {},
   "outputs": [
    {
     "ename": "TypeError",
     "evalue": "unsupported operand type(s) for -: 'str' and 'str'",
     "output_type": "error",
     "traceback": [
      "\u001b[1;31m---------------------------------------------------------------------------\u001b[0m",
      "\u001b[1;31mTypeError\u001b[0m                                 Traceback (most recent call last)",
      "Input \u001b[1;32mIn [58]\u001b[0m, in \u001b[0;36m<cell line: 3>\u001b[1;34m()\u001b[0m\n\u001b[0;32m      1\u001b[0m \u001b[38;5;66;03m# can't do like\u001b[39;00m\n\u001b[0;32m      2\u001b[0m \u001b[38;5;66;03m# \"tiki\" * \"tiki\"\u001b[39;00m\n\u001b[1;32m----> 3\u001b[0m \u001b[38;5;124;43m\"\u001b[39;49m\u001b[38;5;124;43mtiki\u001b[39;49m\u001b[38;5;124;43m\"\u001b[39;49m\u001b[38;5;241;43m-\u001b[39;49m\u001b[38;5;124;43m\"\u001b[39;49m\u001b[38;5;124;43mtiki\u001b[39;49m\u001b[38;5;124;43m\"\u001b[39;49m\n",
      "\u001b[1;31mTypeError\u001b[0m: unsupported operand type(s) for -: 'str' and 'str'"
     ]
    }
   ],
   "source": [
    "# can't do like\n",
    "# \"tiki\" * \"tiki\"\n",
    "\"tiki\"-\"tiki\""
   ]
  },
  {
   "cell_type": "code",
   "execution_count": 63,
   "id": "ac45931a-aefd-4734-8dbc-b8b681ddabc9",
   "metadata": {},
   "outputs": [
    {
     "name": "stdin",
     "output_type": "stream",
     "text": [
      "enter an integer : 56\n"
     ]
    },
    {
     "data": {
      "text/plain": [
       "str"
      ]
     },
     "execution_count": 63,
     "metadata": {},
     "output_type": "execute_result"
    }
   ],
   "source": [
    "# to take user input\n",
    "res=input(\"enter an integer :\")\n",
    "type(res)"
   ]
  },
  {
   "cell_type": "code",
   "execution_count": 27,
   "id": "8481c5e0-1b2f-4e10-a25c-541dff56fa26",
   "metadata": {},
   "outputs": [
    {
     "name": "stdin",
     "output_type": "stream",
     "text": [
      " 1\n",
      " 2\n",
      " 3\n"
     ]
    }
   ],
   "source": [
    "r=int(input())\n",
    "s=int(input())\n",
    "t=int(input())"
   ]
  },
  {
   "cell_type": "code",
   "execution_count": 28,
   "id": "9d3aec47-4c25-4cee-ae66-4e875f781aea",
   "metadata": {},
   "outputs": [
    {
     "data": {
      "text/plain": [
       "1.0"
      ]
     },
     "execution_count": 28,
     "metadata": {},
     "output_type": "execute_result"
    }
   ],
   "source": [
    "rs=(r+s)/t\n",
    "rs"
   ]
  },
  {
   "cell_type": "code",
   "execution_count": 29,
   "id": "0088b2bd-e29a-47a5-acac-83e43406901e",
   "metadata": {},
   "outputs": [
    {
     "data": {
      "text/plain": [
       "(13+2j)"
      ]
     },
     "execution_count": 29,
     "metadata": {},
     "output_type": "execute_result"
    }
   ],
   "source": [
    "rs1=rs+10+2j+2\n",
    "rs1"
   ]
  },
  {
   "cell_type": "code",
   "execution_count": 72,
   "id": "480e19ec-a816-47c0-90e9-02b4c51c6517",
   "metadata": {},
   "outputs": [
    {
     "data": {
      "text/plain": [
       "'(11+2j)tiki'"
      ]
     },
     "execution_count": 72,
     "metadata": {},
     "output_type": "execute_result"
    }
   ],
   "source": [
    "str(rs1)+\"tiki\""
   ]
  },
  {
   "cell_type": "code",
   "execution_count": null,
   "id": "0ef6bf7c-2cdc-49e0-95ff-a3cb4f9eb2f7",
   "metadata": {},
   "outputs": [
    {
     "name": "stdin",
     "output_type": "stream",
     "text": [
      " 1\n"
     ]
    }
   ],
   "source": [
    "e=f=int(input())"
   ]
  },
  {
   "cell_type": "code",
   "execution_count": 83,
   "id": "f2d2098f-dcf1-499b-aa57-0ccf0ac4c630",
   "metadata": {},
   "outputs": [
    {
     "name": "stdin",
     "output_type": "stream",
     "text": [
      "enter a num less than 34 : 45\n"
     ]
    },
    {
     "name": "stdout",
     "output_type": "stream",
     "text": [
      "got\n"
     ]
    }
   ],
   "source": [
    "# if statement\n",
    "a=int(input(\"enter a num less than 34 :\"))\n",
    "if a<34 :\n",
    "    pass # its directly jump to next statement, wheather condn false or true its doesn't matter\n",
    "print('got')"
   ]
  },
  {
   "cell_type": "code",
   "execution_count": 84,
   "id": "af493208-2eea-4945-acb7-0b1834a9ff52",
   "metadata": {},
   "outputs": [
    {
     "name": "stdin",
     "output_type": "stream",
     "text": [
      "enter a num less than 34 : 12\n"
     ]
    },
    {
     "name": "stdout",
     "output_type": "stream",
     "text": [
      "its less than 34\n",
      "not less than 34\n"
     ]
    }
   ],
   "source": [
    "a=int(input(\"enter a num less than 34 :\"))\n",
    "if a<34:\n",
    "    print(\"its less than 34\")\n",
    "print('not less than 34')"
   ]
  },
  {
   "cell_type": "code",
   "execution_count": 85,
   "id": "3b87ec57-a858-4329-8ac8-f5933ad97d1c",
   "metadata": {},
   "outputs": [
    {
     "name": "stdin",
     "output_type": "stream",
     "text": [
      "enter a num less than 34 : 45\n"
     ]
    },
    {
     "name": "stdout",
     "output_type": "stream",
     "text": [
      "not less than 34\n"
     ]
    }
   ],
   "source": [
    "# if else stmnt\n",
    "a=int(input(\"enter a num less than 34 :\"))\n",
    "if a<34:\n",
    "    print(\"its less than 34\")\n",
    "else:\n",
    "    print('not less than 34')"
   ]
  },
  {
   "cell_type": "code",
   "execution_count": 88,
   "id": "ea324f89-aab0-43de-b25e-a377dd35aec5",
   "metadata": {},
   "outputs": [
    {
     "name": "stdin",
     "output_type": "stream",
     "text": [
      "enter a num less than 34 : 89\n"
     ]
    },
    {
     "name": "stdout",
     "output_type": "stream",
     "text": [
      "less than 100\n"
     ]
    }
   ],
   "source": [
    "# if elif\n",
    "# if else stmnt\n",
    "a=int(input(\"enter a num less than 34 :\"))\n",
    "if a<34:\n",
    "    print(\"its less than 34\")\n",
    "elif a < 100:\n",
    "    print(\"less than 100\")\n",
    "else:\n",
    "    print('not less than 34 not 100 also')"
   ]
  },
  {
   "cell_type": "code",
   "execution_count": 95,
   "id": "4757e617-dee9-4721-9787-2bb828439e88",
   "metadata": {},
   "outputs": [
    {
     "name": "stdin",
     "output_type": "stream",
     "text": [
      "enter sal : 6\n"
     ]
    },
    {
     "name": "stdout",
     "output_type": "stream",
     "text": [
      " times for saving :( \n"
     ]
    }
   ],
   "source": [
    "# we can give cond in bracket also , if we want\n",
    "sal=int(input('enter sal :'))\n",
    "if (sal>1000):\n",
    "        print('buy a bike')\n",
    "elif sal > 500:\n",
    "        print('buy a cycle')\n",
    "elif sal>100:\n",
    "        print(\"too low sal\")\n",
    "else: \n",
    "        print(\" times for saving :( \")"
   ]
  },
  {
   "cell_type": "code",
   "execution_count": 31,
   "id": "2209e54e-abd1-4a15-9933-8b4b50cd97e0",
   "metadata": {},
   "outputs": [
    {
     "name": "stdin",
     "output_type": "stream",
     "text": [
      "enter sal : 1015\n"
     ]
    },
    {
     "name": "stdout",
     "output_type": "stream",
     "text": [
      "buy a bike\n",
      "buy same bike\n"
     ]
    }
   ],
   "source": [
    "# nested if\n",
    "sal=int(input('enter sal :'))\n",
    "if (sal>1000):\n",
    "        print('buy a bike')\n",
    "        if sal>1005:\n",
    "            print('buy same bike')\n",
    "        else:\n",
    "            print(\"don't expect much\")\n",
    "elif sal > 500:\n",
    "        print('buy a cycle')\n",
    "elif sal>100:\n",
    "        print(\"too low sal\")\n",
    "else: \n",
    "        print(\" times for saving :( \")"
   ]
  },
  {
   "cell_type": "code",
   "execution_count": 104,
   "id": "b48586c6-5b3a-40fc-9106-9f4e38b7eca7",
   "metadata": {},
   "outputs": [
    {
     "data": {
      "text/plain": [
       "True"
      ]
     },
     "execution_count": 104,
     "metadata": {},
     "output_type": "execute_result"
    }
   ],
   "source": [
    "sal>1009"
   ]
  },
  {
   "cell_type": "code",
   "execution_count": null,
   "id": "40d89c9b-e511-4ca5-a646-1c9421752056",
   "metadata": {},
   "outputs": [],
   "source": []
  }
 ],
 "metadata": {
  "kernelspec": {
   "display_name": "Python 3 (ipykernel)",
   "language": "python",
   "name": "python3"
  },
  "language_info": {
   "codemirror_mode": {
    "name": "ipython",
    "version": 3
   },
   "file_extension": ".py",
   "mimetype": "text/x-python",
   "name": "python",
   "nbconvert_exporter": "python",
   "pygments_lexer": "ipython3",
   "version": "3.10.4"
  }
 },
 "nbformat": 4,
 "nbformat_minor": 5
}
