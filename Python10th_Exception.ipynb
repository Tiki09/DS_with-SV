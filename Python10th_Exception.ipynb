{
 "cells": [
  {
   "cell_type": "code",
   "execution_count": 7,
   "id": "ba7a2eb6-8896-45a0-9fcc-a059dc8821f4",
   "metadata": {},
   "outputs": [
    {
     "ename": "SyntaxError",
     "evalue": "unterminated string literal (detected at line 1) (2577358217.py, line 1)",
     "output_type": "error",
     "traceback": [
      "\u001b[1;36m  Input \u001b[1;32mIn [7]\u001b[1;36m\u001b[0m\n\u001b[1;33m    print('e579) #compile-time error\u001b[0m\n\u001b[1;37m          ^\u001b[0m\n\u001b[1;31mSyntaxError\u001b[0m\u001b[1;31m:\u001b[0m unterminated string literal (detected at line 1)\n"
     ]
    }
   ],
   "source": [
    "print('e579) #compile-time error"
   ]
  },
  {
   "cell_type": "code",
   "execution_count": 8,
   "id": "6f8a2cd9-4cc5-47b9-8925-725adab6b8f1",
   "metadata": {},
   "outputs": [
    {
     "ename": "ZeroDivisionError",
     "evalue": "division by zero",
     "output_type": "error",
     "traceback": [
      "\u001b[1;31m---------------------------------------------------------------------------\u001b[0m",
      "\u001b[1;31mZeroDivisionError\u001b[0m                         Traceback (most recent call last)",
      "Input \u001b[1;32mIn [8]\u001b[0m, in \u001b[0;36m<cell line: 3>\u001b[1;34m()\u001b[0m\n\u001b[0;32m      1\u001b[0m \u001b[38;5;28;01mdef\u001b[39;00m \u001b[38;5;21mtst\u001b[39m():\n\u001b[0;32m      2\u001b[0m     \u001b[38;5;28;01mreturn\u001b[39;00m \u001b[38;5;241m1\u001b[39m\u001b[38;5;241m/\u001b[39m\u001b[38;5;241m0\u001b[39m \u001b[38;5;66;03m#runtime error\u001b[39;00m\n\u001b[1;32m----> 3\u001b[0m \u001b[43mtst\u001b[49m\u001b[43m(\u001b[49m\u001b[43m)\u001b[49m\n",
      "Input \u001b[1;32mIn [8]\u001b[0m, in \u001b[0;36mtst\u001b[1;34m()\u001b[0m\n\u001b[0;32m      1\u001b[0m \u001b[38;5;28;01mdef\u001b[39;00m \u001b[38;5;21mtst\u001b[39m():\n\u001b[1;32m----> 2\u001b[0m     \u001b[38;5;28;01mreturn\u001b[39;00m \u001b[38;5;241;43m1\u001b[39;49m\u001b[38;5;241;43m/\u001b[39;49m\u001b[38;5;241;43m0\u001b[39;49m\n",
      "\u001b[1;31mZeroDivisionError\u001b[0m: division by zero"
     ]
    }
   ],
   "source": [
    "def tst():\n",
    "    return 1/0 #runtime error\n",
    "tst()"
   ]
  },
  {
   "cell_type": "code",
   "execution_count": 9,
   "id": "1a42c1c1-6c49-48fb-93ec-d928b6d0d694",
   "metadata": {},
   "outputs": [
    {
     "ename": "FileNotFoundError",
     "evalue": "[Errno 2] No such file or directory: 'excep1.txt'",
     "output_type": "error",
     "traceback": [
      "\u001b[1;31m---------------------------------------------------------------------------\u001b[0m",
      "\u001b[1;31mFileNotFoundError\u001b[0m                         Traceback (most recent call last)",
      "Input \u001b[1;32mIn [9]\u001b[0m, in \u001b[0;36m<cell line: 1>\u001b[1;34m()\u001b[0m\n\u001b[1;32m----> 1\u001b[0m a\u001b[38;5;241m=\u001b[39m\u001b[38;5;28;43mopen\u001b[39;49m\u001b[43m(\u001b[49m\u001b[38;5;124;43m'\u001b[39;49m\u001b[38;5;124;43mexcep1.txt\u001b[39;49m\u001b[38;5;124;43m'\u001b[39;49m\u001b[43m,\u001b[49m\u001b[38;5;124;43m'\u001b[39;49m\u001b[38;5;124;43mr\u001b[39;49m\u001b[38;5;124;43m'\u001b[39;49m\u001b[43m)\u001b[49m\n",
      "\u001b[1;31mFileNotFoundError\u001b[0m: [Errno 2] No such file or directory: 'excep1.txt'"
     ]
    }
   ],
   "source": [
    "a=open('excep1.txt','r')"
   ]
  },
  {
   "cell_type": "code",
   "execution_count": 15,
   "id": "1e48442c-cd9d-41fa-8cd8-97ed03d0983a",
   "metadata": {},
   "outputs": [
    {
     "name": "stdout",
     "output_type": "stream",
     "text": [
      "handled\n"
     ]
    }
   ],
   "source": [
    "try: #suspicious block of code\n",
    "    a=open('excep1.txt','r')\n",
    "\n",
    "except: #handle error\n",
    "    print('handled')\n",
    "    "
   ]
  },
  {
   "cell_type": "code",
   "execution_count": 17,
   "id": "02e1cb75-fbb1-44c0-ac6a-7cbb242fe10f",
   "metadata": {},
   "outputs": [
    {
     "name": "stdout",
     "output_type": "stream",
     "text": [
      "handled :  division by zero\n"
     ]
    }
   ],
   "source": [
    "try: #suspicious block of code\n",
    "    a=1/0\n",
    "\n",
    "except Exception as e: #handle error\n",
    "    print('handled : ',e)\n",
    "    "
   ]
  },
  {
   "cell_type": "code",
   "execution_count": 18,
   "id": "c23ca6e3-12b0-426e-b3db-14a70c8a7069",
   "metadata": {},
   "outputs": [
    {
     "name": "stdout",
     "output_type": "stream",
     "text": [
      "after try this will execute\n"
     ]
    }
   ],
   "source": [
    "try: #suspicious block of code\n",
    "    a=1/1\n",
    "\n",
    "except Exception as e: #handle error\n",
    "    print('handled : ',e)\n",
    "    \n",
    "else:\n",
    "    print('after try this will execute')\n",
    "    "
   ]
  },
  {
   "cell_type": "code",
   "execution_count": 19,
   "id": "2a71b2b1-2e3f-4e04-a6cc-387716c3a747",
   "metadata": {},
   "outputs": [
    {
     "name": "stdout",
     "output_type": "stream",
     "text": [
      "after try this will execute\n"
     ]
    },
    {
     "ename": "FileNotFoundError",
     "evalue": "[Errno 2] No such file or directory: 'excep1.txt'",
     "output_type": "error",
     "traceback": [
      "\u001b[1;31m---------------------------------------------------------------------------\u001b[0m",
      "\u001b[1;31mFileNotFoundError\u001b[0m                         Traceback (most recent call last)",
      "Input \u001b[1;32mIn [19]\u001b[0m, in \u001b[0;36m<cell line: 1>\u001b[1;34m()\u001b[0m\n\u001b[0;32m      7\u001b[0m \u001b[38;5;28;01melse\u001b[39;00m:\n\u001b[0;32m      8\u001b[0m     \u001b[38;5;28mprint\u001b[39m(\u001b[38;5;124m'\u001b[39m\u001b[38;5;124mafter try this will execute\u001b[39m\u001b[38;5;124m'\u001b[39m)\n\u001b[1;32m----> 9\u001b[0m     f\u001b[38;5;241m=\u001b[39m\u001b[38;5;28;43mopen\u001b[39;49m\u001b[43m(\u001b[49m\u001b[38;5;124;43m'\u001b[39;49m\u001b[38;5;124;43mexcep1.txt\u001b[39;49m\u001b[38;5;124;43m'\u001b[39;49m\u001b[43m,\u001b[49m\u001b[38;5;124;43m'\u001b[39;49m\u001b[38;5;124;43mr\u001b[39;49m\u001b[38;5;124;43m'\u001b[39;49m\u001b[43m)\u001b[49m\n",
      "\u001b[1;31mFileNotFoundError\u001b[0m: [Errno 2] No such file or directory: 'excep1.txt'"
     ]
    }
   ],
   "source": [
    "try: #suspicious block of code\n",
    "    a=1/1\n",
    "\n",
    "except Exception as e: #handle error\n",
    "    print('handled : ',e)\n",
    "    \n",
    "else:\n",
    "    print('after try this will execute')\n",
    "    f=open('excep1.txt','r')"
   ]
  },
  {
   "cell_type": "code",
   "execution_count": 21,
   "id": "37a6819b-c5ec-4ef4-982a-f18f37bcdb78",
   "metadata": {},
   "outputs": [
    {
     "name": "stdout",
     "output_type": "stream",
     "text": [
      "after try this will execute\n",
      "issue here : [Errno 2] No such file or directory: 'excep1.txt'\n"
     ]
    }
   ],
   "source": [
    "try: #suspicious block of code\n",
    "    a=1/1\n",
    "\n",
    "except Exception as e: #handle error\n",
    "    print('handled : ',e)\n",
    "    \n",
    "else:\n",
    "    print('after try this will execute')\n",
    "    try:\n",
    "        f=open('excep1.txt','r')\n",
    "    except IOError as e:\n",
    "        print('issue here :',e)"
   ]
  },
  {
   "cell_type": "code",
   "execution_count": 22,
   "id": "cdfa0473-c310-4159-8264-1592ba1d31b4",
   "metadata": {},
   "outputs": [
    {
     "ename": "IndexError",
     "evalue": "list index out of range",
     "output_type": "error",
     "traceback": [
      "\u001b[1;31m---------------------------------------------------------------------------\u001b[0m",
      "\u001b[1;31mIndexError\u001b[0m                                Traceback (most recent call last)",
      "Input \u001b[1;32mIn [22]\u001b[0m, in \u001b[0;36m<cell line: 2>\u001b[1;34m()\u001b[0m\n\u001b[0;32m      1\u001b[0m l\u001b[38;5;241m=\u001b[39m[\u001b[38;5;241m1\u001b[39m,\u001b[38;5;241m2\u001b[39m,\u001b[38;5;241m8\u001b[39m,\u001b[38;5;241m90.78\u001b[39m]\n\u001b[1;32m----> 2\u001b[0m \u001b[38;5;28mprint\u001b[39m(\u001b[43ml\u001b[49m\u001b[43m[\u001b[49m\u001b[38;5;241;43m100\u001b[39;49m\u001b[43m]\u001b[49m)\n",
      "\u001b[1;31mIndexError\u001b[0m: list index out of range"
     ]
    }
   ],
   "source": [
    "l=[1,2,8,90.78]\n",
    "print(l[100])"
   ]
  },
  {
   "cell_type": "code",
   "execution_count": 26,
   "id": "54a355b8-6897-472f-bb8e-725c25c8c166",
   "metadata": {},
   "outputs": [
    {
     "name": "stdout",
     "output_type": "stream",
     "text": [
      "error : list index out of range\n",
      "(6, 5, 4)\n",
      "error found\n"
     ]
    }
   ],
   "source": [
    "try:\n",
    "    l=[1,2,8,90.78]\n",
    "    print(l[100])\n",
    "except Exception as e:\n",
    "    print('error :',e)\n",
    "    t=(6,5,4)\n",
    "    print(t)\n",
    "    try:\n",
    "        t[0]='y'\n",
    "        try:\n",
    "            list(t)\n",
    "            print(t)\n",
    "        except:\n",
    "            pass\n",
    "    except:\n",
    "        print('error found')\n",
    "else:\n",
    "    print('no issue')"
   ]
  },
  {
   "cell_type": "code",
   "execution_count": 25,
   "id": "2f1840ae-7628-4142-8340-92367a21cf78",
   "metadata": {},
   "outputs": [
    {
     "data": {
      "text/plain": [
       "[6, 5, 4]"
      ]
     },
     "execution_count": 25,
     "metadata": {},
     "output_type": "execute_result"
    }
   ],
   "source": [
    "t=(6,5,4)\n",
    "list(t)"
   ]
  },
  {
   "cell_type": "code",
   "execution_count": 5,
   "id": "67612e13-2801-43a7-bb81-cd9f26c7d663",
   "metadata": {},
   "outputs": [
    {
     "name": "stdout",
     "output_type": "stream",
     "text": [
      "finally i ll execute in any case\n",
      "5\n"
     ]
    },
    {
     "ename": "FileNotFoundError",
     "evalue": "[Errno 2] No such file or directory: 'test.txt'",
     "output_type": "error",
     "traceback": [
      "\u001b[1;31m---------------------------------------------------------------------------\u001b[0m",
      "\u001b[1;31mFileNotFoundError\u001b[0m                         Traceback (most recent call last)",
      "Input \u001b[1;32mIn [5]\u001b[0m, in \u001b[0;36m<cell line: 1>\u001b[1;34m()\u001b[0m\n\u001b[0;32m      1\u001b[0m \u001b[38;5;28;01mtry\u001b[39;00m:\n\u001b[1;32m----> 2\u001b[0m     f\u001b[38;5;241m=\u001b[39m\u001b[38;5;28;43mopen\u001b[39;49m\u001b[43m(\u001b[49m\u001b[38;5;124;43m'\u001b[39;49m\u001b[38;5;124;43mtest.txt\u001b[39;49m\u001b[38;5;124;43m'\u001b[39;49m\u001b[43m,\u001b[49m\u001b[38;5;124;43m'\u001b[39;49m\u001b[38;5;124;43mr\u001b[39;49m\u001b[38;5;124;43m'\u001b[39;49m\u001b[43m)\u001b[49m\n\u001b[0;32m      3\u001b[0m \u001b[38;5;28;01mfinally\u001b[39;00m: \u001b[38;5;66;03m# exception occurs or not occurs this block will execute\u001b[39;00m\n\u001b[0;32m      4\u001b[0m     \u001b[38;5;28mprint\u001b[39m(\u001b[38;5;124m'\u001b[39m\u001b[38;5;124mfinally i ll execute in any case\u001b[39m\u001b[38;5;124m'\u001b[39m)\n",
      "\u001b[1;31mFileNotFoundError\u001b[0m: [Errno 2] No such file or directory: 'test.txt'"
     ]
    }
   ],
   "source": [
    "try:\n",
    "    f=open('test.txt','r')\n",
    "finally: # exception occurs or not occurs this block will execute\n",
    "    print('finally i ll execute in any case')\n",
    "    l=[4,5,6]\n",
    "    print(l[1])"
   ]
  },
  {
   "cell_type": "code",
   "execution_count": 3,
   "id": "4a49aa4e-be8b-46c2-9b2b-6f388c0a55fd",
   "metadata": {},
   "outputs": [],
   "source": [
    "import os\n"
   ]
  },
  {
   "cell_type": "code",
   "execution_count": 4,
   "id": "608a829a-5edc-4987-9743-dd15c09d455f",
   "metadata": {},
   "outputs": [
    {
     "data": {
      "text/plain": [
       "'C:\\\\Users\\\\lenovo\\\\Desktop\\\\Python\\\\dataAnalysis'"
      ]
     },
     "execution_count": 4,
     "metadata": {},
     "output_type": "execute_result"
    }
   ],
   "source": [
    "pwd()"
   ]
  },
  {
   "cell_type": "code",
   "execution_count": 10,
   "id": "d20e98a4-dcf0-4a9f-b723-2ae35826cdd6",
   "metadata": {},
   "outputs": [
    {
     "name": "stdout",
     "output_type": "stream",
     "text": [
      "once try success\n",
      "finally i ll execute in any case\n"
     ]
    }
   ],
   "source": [
    "try:\n",
    "    f=open('test.log','r')\n",
    "except:\n",
    "    pass\n",
    "else:\n",
    "    print('once try success')\n",
    "\n",
    "finally: # exception occurs or not occurs this block will execute\n",
    "    print('finally i ll execute in any case')\n",
    "    l=[4,5,6]\n",
    "    try:\n",
    "        print(l[10])\n",
    "    except:\n",
    "        pass"
   ]
  },
  {
   "cell_type": "code",
   "execution_count": 25,
   "id": "5cc887bd-5f55-45ae-a234-f89134b34458",
   "metadata": {},
   "outputs": [
    {
     "name": "stdout",
     "output_type": "stream",
     "text": [
      "[Errno 2] No such file or directory: 'test.txt'\n",
      "finally i ll execute in any case\n"
     ]
    }
   ],
   "source": [
    "try:\n",
    "    f=open('test.txt','r')\n",
    "except IOError as e:\n",
    "    print(e)\n",
    "except ArithmeticError as e:\n",
    "    print(e)\n",
    "except:\n",
    "    pass\n",
    "else:\n",
    "    print('once try success')\n",
    "\n",
    "finally: # exception occurs or not occurs this block will execute\n",
    "    print('finally i ll execute in any case')\n",
    "    l=[4,5,6]\n",
    "    try:\n",
    "        print(l[10])\n",
    "    except:\n",
    "        pass"
   ]
  },
  {
   "cell_type": "code",
   "execution_count": 23,
   "id": "9af00f70-cca4-4066-926e-f33578dc79ad",
   "metadata": {},
   "outputs": [],
   "source": [
    "def askforint():\n",
    "    while True:\n",
    "        try:\n",
    "            a=int(input('enter integer'))\n",
    "        except Exception as e:\n",
    "            print('error :', e)\n",
    "        else:\n",
    "            print('valid')\n",
    "            break\n",
    "        finally:\n",
    "            print('issue is resolved?')"
   ]
  },
  {
   "cell_type": "code",
   "execution_count": 24,
   "id": "e7c9d7bb-f274-41e6-9139-982f502af5bb",
   "metadata": {},
   "outputs": [
    {
     "name": "stdin",
     "output_type": "stream",
     "text": [
      "enter integer jj\n"
     ]
    },
    {
     "name": "stdout",
     "output_type": "stream",
     "text": [
      "error : invalid literal for int() with base 10: 'jj'\n",
      "issue is resolved?\n"
     ]
    },
    {
     "name": "stdin",
     "output_type": "stream",
     "text": [
      "enter integer hj8\n"
     ]
    },
    {
     "name": "stdout",
     "output_type": "stream",
     "text": [
      "error : invalid literal for int() with base 10: 'hj8'\n",
      "issue is resolved?\n"
     ]
    },
    {
     "name": "stdin",
     "output_type": "stream",
     "text": [
      "enter integer 23\n"
     ]
    },
    {
     "name": "stdout",
     "output_type": "stream",
     "text": [
      "valid\n",
      "issue is resolved?\n"
     ]
    }
   ],
   "source": [
    "askforint()"
   ]
  },
  {
   "cell_type": "markdown",
   "id": "204b09eb-4974-4937-8868-578695aebfd5",
   "metadata": {},
   "source": [
    "### custom exception\n",
    "user create exception"
   ]
  },
  {
   "cell_type": "code",
   "execution_count": 45,
   "id": "dd01e32c-5af7-4209-b16b-d37696211698",
   "metadata": {},
   "outputs": [],
   "source": [
    "def create_excep(a):\n",
    "    if a==6:\n",
    "        raise Exception('error found :',a) # raise used like throw keyword\n",
    "    else:\n",
    "        print('good ')\n",
    "    return 1"
   ]
  },
  {
   "cell_type": "code",
   "execution_count": 46,
   "id": "a7c77b98-b6bd-4d53-97ee-83bac75b824a",
   "metadata": {},
   "outputs": [
    {
     "name": "stdout",
     "output_type": "stream",
     "text": [
      "('error found :', 6)\n"
     ]
    }
   ],
   "source": [
    "try:\n",
    "    create_excep(6)\n",
    "except Exception as e:\n",
    "    print(e)"
   ]
  },
  {
   "cell_type": "code",
   "execution_count": 49,
   "id": "255edca5-2b8a-42e3-8471-f689e0316937",
   "metadata": {},
   "outputs": [],
   "source": [
    "def create_excep1(a):\n",
    "    if a>6:\n",
    "        raise Exception('error found',a) # raise used like throw keyword\n",
    "    else:\n",
    "        print('good ')\n",
    "    return a"
   ]
  },
  {
   "cell_type": "code",
   "execution_count": 51,
   "id": "cd086fac-e9e1-49f9-8b57-404be6cfc953",
   "metadata": {},
   "outputs": [
    {
     "name": "stdout",
     "output_type": "stream",
     "text": [
      "('error found', 15)\n"
     ]
    }
   ],
   "source": [
    "try:\n",
    "    create_excep1(15)\n",
    "except Exception as e:\n",
    "    print(e)"
   ]
  },
  {
   "cell_type": "markdown",
   "id": "4613e372-ea81-4afc-a3f8-77a38b16b1e7",
   "metadata": {},
   "source": [
    "**Homework**"
   ]
  },
  {
   "cell_type": "code",
   "execution_count": 52,
   "id": "f922279d-57f3-45f9-9396-711050bfb191",
   "metadata": {},
   "outputs": [
    {
     "data": {
      "text/plain": [
       "'C:\\\\Users\\\\lenovo\\\\Desktop\\\\Python\\\\dataAnalysis'"
      ]
     },
     "execution_count": 52,
     "metadata": {},
     "output_type": "execute_result"
    }
   ],
   "source": [
    "pwd()"
   ]
  },
  {
   "cell_type": "code",
   "execution_count": 54,
   "id": "a2a3c5ee-7bb4-4815-a018-d7841099f84f",
   "metadata": {},
   "outputs": [],
   "source": [
    "os.mkdir('C:\\\\Users\\\\lenovo\\\\Desktop\\\\Python\\\\dataAnalysis\\\\test_hw')"
   ]
  },
  {
   "cell_type": "code",
   "execution_count": 56,
   "id": "92100038-8850-4d2e-91f1-d4e03683a4d9",
   "metadata": {},
   "outputs": [],
   "source": [
    "os.chdir('C:\\\\Users\\\\lenovo\\\\Desktop\\\\Python\\\\dataAnalysis\\\\test_hw')"
   ]
  },
  {
   "cell_type": "code",
   "execution_count": 57,
   "id": "e14006e1-bc2d-490f-990e-0d3867684361",
   "metadata": {},
   "outputs": [
    {
     "data": {
      "text/plain": [
       "'C:\\\\Users\\\\lenovo\\\\Desktop\\\\Python\\\\dataAnalysis\\\\test_hw'"
      ]
     },
     "execution_count": 57,
     "metadata": {},
     "output_type": "execute_result"
    }
   ],
   "source": [
    "pwd()"
   ]
  },
  {
   "cell_type": "code",
   "execution_count": 58,
   "id": "8027cecc-d5b3-4d0a-b6a5-b90b0e923bc9",
   "metadata": {},
   "outputs": [],
   "source": [
    "f=open('mod1.py','w')"
   ]
  },
  {
   "cell_type": "code",
   "execution_count": null,
   "id": "32eb8713-f43f-4727-ac8a-5cb55821bbd4",
   "metadata": {},
   "outputs": [],
   "source": []
  }
 ],
 "metadata": {
  "kernelspec": {
   "display_name": "Python 3 (ipykernel)",
   "language": "python",
   "name": "python3"
  },
  "language_info": {
   "codemirror_mode": {
    "name": "ipython",
    "version": 3
   },
   "file_extension": ".py",
   "mimetype": "text/x-python",
   "name": "python",
   "nbconvert_exporter": "python",
   "pygments_lexer": "ipython3",
   "version": "3.10.4"
  }
 },
 "nbformat": 4,
 "nbformat_minor": 5
}
