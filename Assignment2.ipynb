{
 "cells": [
  {
   "cell_type": "markdown",
   "id": "44341549-ee6c-4924-844c-ae4e4c028c9c",
   "metadata": {},
   "source": [
    "## ques 1\n",
    "What are the two values of the Boolean data type? How do you write them?\n",
    "\n",
    "two values are True and False. True represents as 1 where as False is 0."
   ]
  },
  {
   "cell_type": "markdown",
   "id": "509800ce-08e0-43fd-9c96-71e091764546",
   "metadata": {},
   "source": [
    "# ques 2\n",
    " ***What are the three different types of Boolean operators?***\n",
    " AND, OR, NOT are 3 diff types of Boolean operators."
   ]
  },
  {
   "cell_type": "markdown",
   "id": "e481ac91-61fc-4806-91b8-1ad3b768440f",
   "metadata": {},
   "source": [
    "# ques 3\n",
    "Make a list of each Boolean operator's truth tables (i.e. every possible combination of Boolean values for the operator and what it evaluate ).\n",
    "\n",
    "**AND**\n",
    "\n",
    "True and True is True.\n",
    "\n",
    "True and False is False.\n",
    "\n",
    "False and True is False.\n",
    "\n",
    "False and False is False.\n",
    "\n",
    "**OR**\n",
    "True or True is True.\n",
    "True or False is True.\n",
    "False or True is True.\n",
    "False or False is False.\n",
    "\n",
    "**NOT**\n",
    "not True is False.\n",
    "not False is True."
   ]
  },
  {
   "cell_type": "markdown",
   "id": "0bf6c589-20b3-4d15-96d8-65374c832200",
   "metadata": {},
   "source": [
    "# ques 4\n",
    "What are the values of the following expressions?\n",
    "(5 > 4) and (3 == 5)\n",
    "not (5 > 4)\n",
    "(5 > 4) or (3 == 5)\n",
    "not ((5 > 4) or (3 == 5))\n",
    "(True and True) and (True == False)\n",
    "(not False) or (not True)\n"
   ]
  },
  {
   "cell_type": "code",
   "execution_count": 11,
   "id": "1213efcc-c2b1-4ae6-a4ba-849f2863d463",
   "metadata": {},
   "outputs": [
    {
     "name": "stdout",
     "output_type": "stream",
     "text": [
      "False\n",
      "False\n",
      "True\n",
      "False\n",
      "False\n",
      "True\n"
     ]
    }
   ],
   "source": [
    "print((5 > 4) and (3 == 5))\n",
    "print(not (5 > 4))\n",
    "print((5 > 4) or (3 == 5))\n",
    "print(not ((5 > 4) or (3 == 5)))\n",
    "print((True and True) and (True == False))\n",
    "print((not False) or (not True))"
   ]
  },
  {
   "cell_type": "markdown",
   "id": "76554bc6-4829-46b8-9730-6b24c098fafc",
   "metadata": {},
   "source": [
    "# ques 5\n",
    "What are the six comparison operators.\n",
    "\n",
    "'<' (Less Than)\n",
    "'>' (greater than)\n",
    "'<=' (less than equal to)\n",
    "'>=' (greater than equal to)\n",
    "'==' (equal to)\n",
    "'!=' (not equal to)"
   ]
  },
  {
   "cell_type": "markdown",
   "id": "90b34505-d2c4-4113-a793-a4c8d279731f",
   "metadata": {},
   "source": [
    "# ques 6\n",
    "How do you tell the difference between the equal to and assignment operators?Describe a condition and when you would use one\n",
    "\n",
    "\"=\" is an assignment operator is used to assign the value.\n",
    "\"==\" is used for checks two given operands,values are equal or not.\n"
   ]
  },
  {
   "cell_type": "code",
   "execution_count": 13,
   "id": "fc787f16-637b-47e3-8023-7ad6578219bd",
   "metadata": {},
   "outputs": [
    {
     "name": "stdout",
     "output_type": "stream",
     "text": [
      "voter\n"
     ]
    }
   ],
   "source": [
    "p=18 #assignment opr\n",
    "if p==18: #check the value same or not\n",
    "    print('voter')\n",
    "else:\n",
    "    print('child')"
   ]
  },
  {
   "cell_type": "markdown",
   "id": "0ccd4723-a1ce-44db-9e5b-2ae619a5e7c0",
   "metadata": {},
   "source": [
    "# ques 7\n",
    "Identify the three blocks in this code:\n",
    "\n",
    "2 if blocks and 1 else block."
   ]
  },
  {
   "cell_type": "code",
   "execution_count": 15,
   "id": "b31c79cc-c50d-4f0f-8bce-692824bdddf2",
   "metadata": {},
   "outputs": [
    {
     "name": "stdout",
     "output_type": "stream",
     "text": [
      "ham\n",
      "spam\n",
      "spam\n"
     ]
    }
   ],
   "source": [
    "spam = 0\n",
    "if spam == 10:\n",
    "    print('eggs')\n",
    "if spam > 5:\n",
    "    print('bacon')\n",
    "else:\n",
    "    print('ham')\n",
    "    print('spam')\n",
    "    print('spam')"
   ]
  },
  {
   "cell_type": "markdown",
   "id": "6143ef7f-4a77-4e70-90a1-689e43a0fc4f",
   "metadata": {},
   "source": [
    "# ques 8\n",
    "Write code that prints Hello if 1 is stored in spam, prints Howdy if 2 is stored in spam,\n",
    "and prints Greetings! if anything else is stored in spam."
   ]
  },
  {
   "cell_type": "code",
   "execution_count": 22,
   "id": "08e16f18-62bf-41f9-8443-63267d659bb1",
   "metadata": {},
   "outputs": [
    {
     "name": "stdin",
     "output_type": "stream",
     "text": [
      "enter a value : 10\n"
     ]
    },
    {
     "name": "stdout",
     "output_type": "stream",
     "text": [
      "greetings!\n"
     ]
    }
   ],
   "source": [
    "spam=int(input('enter a value :'))\n",
    "if spam == 1:\n",
    "    print('hello')\n",
    "elif spam==2:\n",
    "    print('howdy')\n",
    "else:\n",
    "    print('greetings!')"
   ]
  },
  {
   "cell_type": "markdown",
   "id": "432821eb-80d0-4975-ba1d-8be6a6ad1a0f",
   "metadata": {},
   "source": [
    "# ques 9\n",
    "If your programme is stuck in an endless loop, what keys you’ll press.\n",
    "\n",
    "in Jupiter press interrupt the kernel\n",
    "in cmd press CTRL+Z or CTRL+D\n",
    "in pycharm press CTRL+F2"
   ]
  },
  {
   "cell_type": "markdown",
   "id": "caaa895c-707e-4365-ad65-427b79377d2a",
   "metadata": {},
   "source": [
    "# ques 10\n",
    "How can you tell the difference between break and continue?\n",
    "\n",
    "break : stop the code/iteration.\n",
    "continue : skip that code and runs the loop again."
   ]
  },
  {
   "cell_type": "code",
   "execution_count": 23,
   "id": "f0eeb925-4921-4709-8663-135112271bd6",
   "metadata": {},
   "outputs": [
    {
     "name": "stdout",
     "output_type": "stream",
     "text": [
      "0\n",
      "1\n",
      "2\n"
     ]
    }
   ],
   "source": [
    "# break \n",
    "for i in range(5):\n",
    "    if i==3:\n",
    "        break\n",
    "    print(i)"
   ]
  },
  {
   "cell_type": "code",
   "execution_count": 24,
   "id": "48432885-7184-41f7-b330-9e047d610404",
   "metadata": {},
   "outputs": [
    {
     "name": "stdout",
     "output_type": "stream",
     "text": [
      "0\n",
      "1\n",
      "2\n",
      "4\n"
     ]
    }
   ],
   "source": [
    "# continue\n",
    "\n",
    "for i in range(5):\n",
    "    if i==3:\n",
    "        continue\n",
    "    print(i)"
   ]
  },
  {
   "cell_type": "markdown",
   "id": "0645a1b8-57a6-4ff0-865f-a58a67e38fa5",
   "metadata": {},
   "source": [
    "# ques 11\n",
    "# In a for loop, what is the difference between range(10), range(0, 10), and range(0, 10, 1)?\n",
    "range(10) : (stop) takes one argument, bydefault start from 0.\n",
    "range(0,10) : (start, stop) takes two arguments.\n",
    "range(0,10,1) : (start, stop, step) takes three arguments."
   ]
  },
  {
   "cell_type": "code",
   "execution_count": 28,
   "id": "7e4e0e92-393d-4ec4-9bd9-2f5727f8472b",
   "metadata": {},
   "outputs": [
    {
     "name": "stdout",
     "output_type": "stream",
     "text": [
      "0 1 2 3 4 5 6 7 8 9 \n",
      "0 1 2 3 4 5 6 7 8 9 \n",
      "0 1 2 3 4 5 6 7 8 9 \n"
     ]
    }
   ],
   "source": [
    "for i in range(10):\n",
    "    print(i, end=\" \")\n",
    "print()\n",
    "\n",
    "for i in range(0,10):\n",
    "    print(i, end=\" \")\n",
    "print()\n",
    "\n",
    "for i in range(0,10,1):\n",
    "    print(i, end=\" \")\n",
    "print()"
   ]
  },
  {
   "cell_type": "markdown",
   "id": "f49c64da-c545-488c-b54c-d80ad29b45e6",
   "metadata": {},
   "source": [
    "# ques 12\n",
    "Write a short program that prints the numbers 1 to 10 using a for loop. \n",
    "Then write an equivalent program that prints the numbers 1 to 10 using a while loop."
   ]
  },
  {
   "cell_type": "code",
   "execution_count": 37,
   "id": "d39889b6-67aa-4a59-85d4-958db862e72d",
   "metadata": {},
   "outputs": [
    {
     "name": "stdout",
     "output_type": "stream",
     "text": [
      "1 2 3 4 5 6 7 8 9 10 \n",
      "1 2 3 4 5 6 7 8 9 10 "
     ]
    }
   ],
   "source": [
    "# for loop\n",
    "for i in range(1,11):\n",
    "    print(i, end=' ')\n",
    "    \n",
    "print()\n",
    "\n",
    "# while loop\n",
    "i=1\n",
    "while i<11:\n",
    "    print(i, end=' ')\n",
    "    i += 1"
   ]
  },
  {
   "cell_type": "markdown",
   "id": "77304ed6-001f-4448-bdc7-f15a6e3a0010",
   "metadata": {},
   "source": [
    "# ques 13\n",
    "If you had a function named bacon() inside a module named spam, how would you call it after importing spam?\n",
    "\n",
    "from spam import bacon as bc\n",
    "bc()\n",
    "\n",
    "or\n",
    "\n",
    "import spam as sp\n",
    "sp.bacon()\n",
    "\n",
    "or\n",
    "\n",
    "import spam\n",
    "spam.bacon()"
   ]
  },
  {
   "cell_type": "code",
   "execution_count": 38,
   "id": "28a97682-d39a-495f-b19b-ba16f7e0f7f1",
   "metadata": {},
   "outputs": [],
   "source": []
  },
  {
   "cell_type": "code",
   "execution_count": null,
   "id": "c1d3f697-d9bb-4fdb-90d0-c500af2e6cce",
   "metadata": {},
   "outputs": [],
   "source": []
  }
 ],
 "metadata": {
  "kernelspec": {
   "display_name": "Python 3 (ipykernel)",
   "language": "python",
   "name": "python3"
  },
  "language_info": {
   "codemirror_mode": {
    "name": "ipython",
    "version": 3
   },
   "file_extension": ".py",
   "mimetype": "text/x-python",
   "name": "python",
   "nbconvert_exporter": "python",
   "pygments_lexer": "ipython3",
   "version": "3.10.4"
  }
 },
 "nbformat": 4,
 "nbformat_minor": 5
}
