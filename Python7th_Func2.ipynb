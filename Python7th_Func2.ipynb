{
 "cells": [
  {
   "cell_type": "markdown",
   "id": "b840beb4-a3a8-48cb-b738-f73784627d22",
   "metadata": {},
   "source": [
    "### function generator and file handling"
   ]
  },
  {
   "cell_type": "code",
   "execution_count": 15,
   "id": "a11b7edb-c216-41ba-b404-11925e956043",
   "metadata": {},
   "outputs": [],
   "source": [
    "def Test(**kwargs): \n",
    "    print(kwargs.items())"
   ]
  },
  {
   "cell_type": "code",
   "execution_count": 16,
   "id": "974f1be8-bb8d-425b-87f5-ab750ea94d30",
   "metadata": {},
   "outputs": [
    {
     "name": "stdout",
     "output_type": "stream",
     "text": [
      "dict_items([('uiki', 90), ('s', 95)])\n"
     ]
    }
   ],
   "source": [
    "Test(uiki=90,s=95)"
   ]
  },
  {
   "cell_type": "code",
   "execution_count": 1,
   "id": "f09c3279-1717-411a-bcfa-ee9ca1fa4a29",
   "metadata": {},
   "outputs": [
    {
     "data": {
      "text/plain": [
       "{'a': 123, 'b': 67.8}"
      ]
     },
     "execution_count": 1,
     "metadata": {},
     "output_type": "execute_result"
    }
   ],
   "source": [
    "def Tst(**kwarg):\n",
    "    return kwarg\n",
    "\n",
    "Tst(a=123,b=67.8)"
   ]
  },
  {
   "cell_type": "code",
   "execution_count": 20,
   "id": "438bcad1-e6bf-4422-a2ae-3bb78ef754f5",
   "metadata": {},
   "outputs": [
    {
     "name": "stdout",
     "output_type": "stream",
     "text": [
      "dict_items([('x', 'tiki'), ('y', 89), ('yuv', [90, 98])])\n"
     ]
    }
   ],
   "source": [
    "Test(x='tiki',y=89,yuv=[90,98])"
   ]
  },
  {
   "cell_type": "markdown",
   "id": "b3cce04c-4e78-4882-b997-f08b2c0c89e0",
   "metadata": {},
   "source": [
    "### anonymous func/Lambda func\n",
    "\n",
    "Function having no name, create using lambda keyword."
   ]
  },
  {
   "cell_type": "code",
   "execution_count": 22,
   "id": "4c70672c-ba81-409d-9019-67414200f9f4",
   "metadata": {},
   "outputs": [
    {
     "data": {
      "text/plain": [
       "('ysg', 'tiki@12.com')"
      ]
     },
     "execution_count": 22,
     "metadata": {},
     "output_type": "execute_result"
    }
   ],
   "source": [
    "def Test1(name,email):\n",
    "    return email,name\n",
    "\n",
    "Test1('tiki@12.com','ysg')"
   ]
  },
  {
   "cell_type": "code",
   "execution_count": 25,
   "id": "67af6598-db21-4efd-8277-4b326e1534f9",
   "metadata": {},
   "outputs": [
    {
     "data": {
      "text/plain": [
       "30"
      ]
     },
     "execution_count": 25,
     "metadata": {},
     "output_type": "execute_result"
    }
   ],
   "source": [
    "a,b=10,20\n",
    "\n",
    "def Tst(a,b):\n",
    "    return a+b\n",
    "\n",
    "Tst(a,b)\n",
    "#using normal func"
   ]
  },
  {
   "cell_type": "markdown",
   "id": "cf02f053-dc30-4fb0-8ac0-8cd4b7caa6e1",
   "metadata": {},
   "source": [
    "(store the func) m = lambda(keyword) x,y(no. of args): x+y(operation)\n",
    "\n",
    "print(m(val1,val2)) (to call the func)"
   ]
  },
  {
   "cell_type": "code",
   "execution_count": 38,
   "id": "077406b6-a7fb-457a-b147-42570389becc",
   "metadata": {},
   "outputs": [
    {
     "data": {
      "text/plain": [
       "25"
      ]
     },
     "execution_count": 38,
     "metadata": {},
     "output_type": "execute_result"
    }
   ],
   "source": [
    "#addn using anonymous fun\n",
    "m = lambda x,y: x+y\n",
    "\n",
    "m(10,15)"
   ]
  },
  {
   "cell_type": "code",
   "execution_count": 3,
   "id": "150e4762-e48a-4dfb-813c-0b801d3b0941",
   "metadata": {},
   "outputs": [
    {
     "data": {
      "text/plain": [
       "24"
      ]
     },
     "execution_count": 3,
     "metadata": {},
     "output_type": "execute_result"
    }
   ],
   "source": [
    "n= lambda a,b,c: a*b*c\n",
    "n(2,3,4)"
   ]
  },
  {
   "cell_type": "code",
   "execution_count": 34,
   "id": "8a35cf8b-3720-42d1-a9b9-5dbb7d26b3d5",
   "metadata": {},
   "outputs": [
    {
     "data": {
      "text/plain": [
       "[1, 2, 3, ('ikio', 8), [1, 2]]"
      ]
     },
     "execution_count": 34,
     "metadata": {},
     "output_type": "execute_result"
    }
   ],
   "source": [
    "l=lambda *args : [*args] #takes multiple args\n",
    "\n",
    "l(1,2,3,('ikio',8),[1,2])"
   ]
  },
  {
   "cell_type": "code",
   "execution_count": 46,
   "id": "5688f1a2-bba1-4663-bb51-6be269ff8e1a",
   "metadata": {},
   "outputs": [
    {
     "name": "stdout",
     "output_type": "stream",
     "text": [
      "tiki123@qw.com \n",
      " tiki\n"
     ]
    }
   ],
   "source": [
    "con=lambda name,email : print(name+email,'\\n',name)\n",
    "\n",
    "con('tiki','123@qw.com')"
   ]
  },
  {
   "cell_type": "code",
   "execution_count": 43,
   "id": "b4aa7c85-bc97-4546-8c5b-d0615d41730c",
   "metadata": {},
   "outputs": [],
   "source": [
    "u,v='twinkle','behera'\n",
    "\n",
    "w = lambda *arg : print(*arg)"
   ]
  },
  {
   "cell_type": "code",
   "execution_count": 44,
   "id": "7b246601-b608-4a25-a308-291f96e611b5",
   "metadata": {},
   "outputs": [
    {
     "name": "stdout",
     "output_type": "stream",
     "text": [
      "twinkle behera\n"
     ]
    }
   ],
   "source": [
    "w(u,v)"
   ]
  },
  {
   "cell_type": "code",
   "execution_count": 55,
   "id": "dd0fa824-2988-4b93-89e9-90725641628a",
   "metadata": {},
   "outputs": [],
   "source": [
    "# scope of var\n",
    "\n",
    "r=10      # global var\n",
    "def Test2(a,b):\n",
    "    r=a/b  # local var, it gives first priority when func call to local var\n",
    "    return r"
   ]
  },
  {
   "cell_type": "code",
   "execution_count": 56,
   "id": "a66baa2b-6765-4551-a0b9-2ef0547bc1ff",
   "metadata": {},
   "outputs": [
    {
     "data": {
      "text/plain": [
       "1.0"
      ]
     },
     "execution_count": 56,
     "metadata": {},
     "output_type": "execute_result"
    }
   ],
   "source": [
    "Test2(10,10)"
   ]
  },
  {
   "cell_type": "markdown",
   "id": "fcdfe4e7-136c-4339-94c1-0b857dfd346b",
   "metadata": {},
   "source": [
    "### user created func : Docstring"
   ]
  },
  {
   "cell_type": "code",
   "execution_count": 64,
   "id": "44a3db08-78e1-48d2-8ce1-133b92c88913",
   "metadata": {},
   "outputs": [],
   "source": [
    "def Test3(): # inside \"\"\" \"\"\" , u can put description\n",
    "    '''\n",
    "    this is my test func, \n",
    "    am using this to just print the name.\n",
    "    help of this u can learn all the things\n",
    "    '''\n",
    "    print('name is bhishnupriye')"
   ]
  },
  {
   "cell_type": "code",
   "execution_count": 65,
   "id": "61330ced-5818-4d11-83da-a204f3d6ee19",
   "metadata": {},
   "outputs": [
    {
     "name": "stdout",
     "output_type": "stream",
     "text": [
      "name is bhishnupriye\n"
     ]
    }
   ],
   "source": [
    "Test3() # by pressing shift+tab u can see"
   ]
  },
  {
   "cell_type": "code",
   "execution_count": 66,
   "id": "79a7cd7a-3cac-4b1e-a4ad-4f36ef0bb9c9",
   "metadata": {},
   "outputs": [
    {
     "name": "stdout",
     "output_type": "stream",
     "text": [
      "Help on function Test3 in module __main__:\n",
      "\n",
      "Test3()\n",
      "    this is my test func, \n",
      "    am using this to just print the name.\n",
      "    help of this u can learn all the things\n",
      "\n"
     ]
    }
   ],
   "source": [
    "help(Test3)"
   ]
  },
  {
   "cell_type": "markdown",
   "id": "3b08dc6f-fb74-4a14-9fd1-b83c93f37959",
   "metadata": {},
   "source": [
    "### Iterator and generator\n",
    "\n",
    "a=10\n",
    "\n",
    "for i in a: \n",
    "it gives error like int obj are not iterable\n",
    "    print(i)"
   ]
  },
  {
   "cell_type": "code",
   "execution_count": 73,
   "id": "87c773f2-d84f-44e3-aa6c-5ac105fa6a7f",
   "metadata": {},
   "outputs": [
    {
     "ename": "TypeError",
     "evalue": "'int' object is not iterable",
     "output_type": "error",
     "traceback": [
      "\u001b[1;31m---------------------------------------------------------------------------\u001b[0m",
      "\u001b[1;31mTypeError\u001b[0m                                 Traceback (most recent call last)",
      "Input \u001b[1;32mIn [73]\u001b[0m, in \u001b[0;36m<cell line: 2>\u001b[1;34m()\u001b[0m\n\u001b[0;32m      1\u001b[0m a\u001b[38;5;241m=\u001b[39m\u001b[38;5;241m1\u001b[39m\n\u001b[1;32m----> 2\u001b[0m \u001b[38;5;28;01mfor\u001b[39;00m i \u001b[38;5;129;01min\u001b[39;00m a: \u001b[38;5;66;03m# it gives error like int obj are not iterable\u001b[39;00m\n\u001b[0;32m      3\u001b[0m     \u001b[38;5;28mprint\u001b[39m(i)\n",
      "\u001b[1;31mTypeError\u001b[0m: 'int' object is not iterable"
     ]
    }
   ],
   "source": [
    "a=1\n",
    "for i in a: # it gives error like int obj are not iterable\n",
    "    print(i)"
   ]
  },
  {
   "cell_type": "code",
   "execution_count": 71,
   "id": "2b83b210-9927-4177-9b22-21dfc8ffb931",
   "metadata": {},
   "outputs": [
    {
     "name": "stdout",
     "output_type": "stream",
     "text": [
      "t\n",
      "i\n",
      "k\n",
      "e\n"
     ]
    }
   ],
   "source": [
    "for i in 'tike':\n",
    "    print(i) "
   ]
  },
  {
   "cell_type": "markdown",
   "id": "4feaeb01-436e-4618-b5e1-45366123bbfc",
   "metadata": {},
   "source": [
    "### Iterator : \n",
    "'str' is not an iterator and 'int' is not an iterable, iterator is a kind of entity/obj, out of which you can able to extract the data with the help of indexes.\n",
    "\n",
    "### Iterables :\n",
    "str is an iterable.\n",
    "'int' is not an iterable, one by one we can fetch/iterate the data is iterables."
   ]
  },
  {
   "cell_type": "code",
   "execution_count": 82,
   "id": "42c4c00c-36c7-4781-b096-3a3b19566028",
   "metadata": {},
   "outputs": [
    {
     "ename": "TypeError",
     "evalue": "'str' object is not an iterator",
     "output_type": "error",
     "traceback": [
      "\u001b[1;31m---------------------------------------------------------------------------\u001b[0m",
      "\u001b[1;31mTypeError\u001b[0m                                 Traceback (most recent call last)",
      "Input \u001b[1;32mIn [82]\u001b[0m, in \u001b[0;36m<cell line: 4>\u001b[1;34m()\u001b[0m\n\u001b[0;32m      1\u001b[0m \u001b[38;5;66;03m# extract the data without using indexes and without using for loop\u001b[39;00m\n\u001b[0;32m      3\u001b[0m t\u001b[38;5;241m=\u001b[39m\u001b[38;5;124m'\u001b[39m\u001b[38;5;124mtike\u001b[39m\u001b[38;5;124m'\u001b[39m\n\u001b[1;32m----> 4\u001b[0m \u001b[38;5;28;43mnext\u001b[39;49m\u001b[43m(\u001b[49m\u001b[43mt\u001b[49m\u001b[43m)\u001b[49m\n",
      "\u001b[1;31mTypeError\u001b[0m: 'str' object is not an iterator"
     ]
    }
   ],
   "source": [
    "# extract the data without using indexes and without using for loop\n",
    "\n",
    "t='tike'\n",
    "next(t)"
   ]
  },
  {
   "cell_type": "code",
   "execution_count": 77,
   "id": "51e071fe-7a72-4178-8eee-3f279eb8c2b9",
   "metadata": {},
   "outputs": [],
   "source": [
    "a=iter((1,2,3))"
   ]
  },
  {
   "cell_type": "code",
   "execution_count": 81,
   "id": "ba6409b7-4f58-4910-9967-79ae2cd21347",
   "metadata": {},
   "outputs": [
    {
     "data": {
      "text/plain": [
       "1"
      ]
     },
     "execution_count": 81,
     "metadata": {},
     "output_type": "execute_result"
    }
   ],
   "source": [
    "next(a)"
   ]
  },
  {
   "cell_type": "code",
   "execution_count": 85,
   "id": "4e125c0e-2d17-4597-9821-d24b3f7168b6",
   "metadata": {},
   "outputs": [],
   "source": [
    "t='tike'\n",
    "t=iter(t)"
   ]
  },
  {
   "cell_type": "code",
   "execution_count": 86,
   "id": "2658a9e4-1197-4929-a88b-d984e781ec1d",
   "metadata": {},
   "outputs": [
    {
     "data": {
      "text/plain": [
       "'t'"
      ]
     },
     "execution_count": 86,
     "metadata": {},
     "output_type": "execute_result"
    }
   ],
   "source": [
    "next(t)"
   ]
  },
  {
   "cell_type": "code",
   "execution_count": 87,
   "id": "28f663da-173f-4b87-887e-3f68b5b6f818",
   "metadata": {},
   "outputs": [
    {
     "data": {
      "text/plain": [
       "'i'"
      ]
     },
     "execution_count": 87,
     "metadata": {},
     "output_type": "execute_result"
    }
   ],
   "source": [
    "next(t)"
   ]
  },
  {
   "cell_type": "code",
   "execution_count": 88,
   "id": "1e977a11-a029-45ae-9899-2035af017723",
   "metadata": {},
   "outputs": [
    {
     "data": {
      "text/plain": [
       "'k'"
      ]
     },
     "execution_count": 88,
     "metadata": {},
     "output_type": "execute_result"
    }
   ],
   "source": [
    "next(t)"
   ]
  },
  {
   "cell_type": "code",
   "execution_count": 90,
   "id": "69251057-da2c-4eb7-80cf-104f104631e9",
   "metadata": {},
   "outputs": [
    {
     "data": {
      "text/plain": [
       "'p'"
      ]
     },
     "execution_count": 90,
     "metadata": {},
     "output_type": "execute_result"
    }
   ],
   "source": [
    "p='pinku' \n",
    "#iterable, i have to convert it to iterator using iter()\n",
    "\n",
    "p=iter(p)\n",
    "next(p)"
   ]
  },
  {
   "cell_type": "code",
   "execution_count": 94,
   "id": "92608322-d1e0-47e8-962c-daa66c3a999d",
   "metadata": {},
   "outputs": [
    {
     "data": {
      "text/plain": [
       "'u'"
      ]
     },
     "execution_count": 94,
     "metadata": {},
     "output_type": "execute_result"
    }
   ],
   "source": [
    "next(p)"
   ]
  },
  {
   "cell_type": "code",
   "execution_count": 7,
   "id": "d0afab08-1e68-4cd8-b84f-f63b2343ad2d",
   "metadata": {},
   "outputs": [
    {
     "data": {
      "text/plain": [
       "'a'"
      ]
     },
     "execution_count": 7,
     "metadata": {},
     "output_type": "execute_result"
    }
   ],
   "source": [
    "d={'a':'abc',1:45}\n",
    "dic=iter(d)\n",
    "next(dic)"
   ]
  },
  {
   "cell_type": "code",
   "execution_count": 8,
   "id": "8919624f-5095-4336-a6c4-9b64b99ff8ec",
   "metadata": {},
   "outputs": [
    {
     "data": {
      "text/plain": [
       "1"
      ]
     },
     "execution_count": 8,
     "metadata": {},
     "output_type": "execute_result"
    }
   ],
   "source": [
    "next(dic)"
   ]
  },
  {
   "cell_type": "code",
   "execution_count": 11,
   "id": "e5a05af5-ddd2-4a17-8fd5-40d2999f938c",
   "metadata": {},
   "outputs": [
    {
     "ename": "TypeError",
     "evalue": "'int' object is not iterable",
     "output_type": "error",
     "traceback": [
      "\u001b[1;31m---------------------------------------------------------------------------\u001b[0m",
      "\u001b[1;31mTypeError\u001b[0m                                 Traceback (most recent call last)",
      "Input \u001b[1;32mIn [11]\u001b[0m, in \u001b[0;36m<cell line: 2>\u001b[1;34m()\u001b[0m\n\u001b[0;32m      1\u001b[0m a\u001b[38;5;241m=\u001b[39m\u001b[38;5;241m10\u001b[39m\n\u001b[1;32m----> 2\u001b[0m \u001b[38;5;28;01mfor\u001b[39;00m i \u001b[38;5;129;01min\u001b[39;00m a:\n\u001b[0;32m      3\u001b[0m     \u001b[38;5;28mprint\u001b[39m(i)\n",
      "\u001b[1;31mTypeError\u001b[0m: 'int' object is not iterable"
     ]
    }
   ],
   "source": [
    "a=10\n",
    "for i in a:\n",
    "    print(i) # both are same as below\n",
    "#a=iter(a)\n",
    "#next(a)"
   ]
  },
  {
   "cell_type": "code",
   "execution_count": 6,
   "id": "3ba7f1dd-902a-487e-aee3-0ec7438cf532",
   "metadata": {},
   "outputs": [],
   "source": [
    "tuple=(1,2,3,4,5)\n",
    "tuple=iter(tuple)"
   ]
  },
  {
   "cell_type": "code",
   "execution_count": 101,
   "id": "d567a1a4-1f26-4aae-9e84-81447034dcef",
   "metadata": {},
   "outputs": [
    {
     "data": {
      "text/plain": [
       "5"
      ]
     },
     "execution_count": 101,
     "metadata": {},
     "output_type": "execute_result"
    }
   ],
   "source": [
    "next(tuple)"
   ]
  },
  {
   "cell_type": "code",
   "execution_count": 102,
   "id": "5d406229-7d5c-4f4b-9279-edae148d5190",
   "metadata": {},
   "outputs": [
    {
     "ename": "StopIteration",
     "evalue": "",
     "output_type": "error",
     "traceback": [
      "\u001b[1;31m---------------------------------------------------------------------------\u001b[0m",
      "\u001b[1;31mStopIteration\u001b[0m                             Traceback (most recent call last)",
      "Input \u001b[1;32mIn [102]\u001b[0m, in \u001b[0;36m<cell line: 1>\u001b[1;34m()\u001b[0m\n\u001b[1;32m----> 1\u001b[0m \u001b[38;5;28;43mnext\u001b[39;49m\u001b[43m(\u001b[49m\u001b[38;5;28;43mtuple\u001b[39;49m\u001b[43m)\u001b[49m\n",
      "\u001b[1;31mStopIteration\u001b[0m: "
     ]
    }
   ],
   "source": [
    "next(tuple)"
   ]
  },
  {
   "cell_type": "code",
   "execution_count": 121,
   "id": "cf55a1c5-65a2-46c2-9a9e-a3f2ad8486ee",
   "metadata": {},
   "outputs": [],
   "source": [
    "def Test4(n):\n",
    "    l=[]\n",
    "    for i in range(n):\n",
    "        l.append(i**2)\n",
    "        if i == 3:\n",
    "            break\n",
    "    return l"
   ]
  },
  {
   "cell_type": "code",
   "execution_count": 122,
   "id": "b7560b08-b293-41f6-85e8-f6dc2b584157",
   "metadata": {},
   "outputs": [
    {
     "data": {
      "text/plain": [
       "[0, 1, 4, 9]"
      ]
     },
     "execution_count": 122,
     "metadata": {},
     "output_type": "execute_result"
    }
   ],
   "source": [
    "Test4(7)"
   ]
  },
  {
   "cell_type": "code",
   "execution_count": 123,
   "id": "64d53db0-c8eb-4818-b86d-f5db22cbd569",
   "metadata": {},
   "outputs": [],
   "source": [
    "def Test4(n):\n",
    "    l=[]\n",
    "    for i in range(n):\n",
    "        if i == 3:\n",
    "            continue\n",
    "        else:\n",
    "            l.append(i**2)\n",
    "            \n",
    "    return l"
   ]
  },
  {
   "cell_type": "code",
   "execution_count": 124,
   "id": "1ad01966-0d98-4f80-9606-726620866ed3",
   "metadata": {},
   "outputs": [
    {
     "data": {
      "text/plain": [
       "[0, 1, 4, 16, 25, 36, 49, 64]"
      ]
     },
     "execution_count": 124,
     "metadata": {},
     "output_type": "execute_result"
    }
   ],
   "source": [
    "Test4(9)"
   ]
  },
  {
   "cell_type": "markdown",
   "id": "3cda1c10-ecb0-4938-ba1e-b349dfbb0492",
   "metadata": {},
   "source": [
    "### Generator :\n",
    "\n",
    "reduce time complexity.\n",
    "\n",
    "yield keyword is used to not waiting for the result in the continuous iteration."
   ]
  },
  {
   "cell_type": "code",
   "execution_count": 125,
   "id": "e5af2bd2-b0b2-4497-b7ec-d3acd68be5c4",
   "metadata": {},
   "outputs": [
    {
     "data": {
      "text/plain": [
       "<generator object Test5 at 0x000001F5C6AEB920>"
      ]
     },
     "execution_count": 125,
     "metadata": {},
     "output_type": "execute_result"
    }
   ],
   "source": [
    "def Test5(n):\n",
    "    for i in range(n):\n",
    "        yield i**3\n",
    "        \n",
    "Test5(30)"
   ]
  },
  {
   "cell_type": "code",
   "execution_count": 132,
   "id": "c231fe49-e219-4a95-b702-b5b18c0e93ed",
   "metadata": {},
   "outputs": [
    {
     "name": "stdout",
     "output_type": "stream",
     "text": [
      "0,1,8,27,64,125,216,343,512,729,1000,1331,1728,2197,2744,3375,4096,4913,5832,6859,8000,9261,10648,12167,13824,15625,17576,19683,21952,24389,27000,"
     ]
    }
   ],
   "source": [
    "for i in Test5(31):\n",
    "    print(i,end=\",\")"
   ]
  },
  {
   "cell_type": "code",
   "execution_count": 34,
   "id": "a6b943d0-5312-4bfa-bbee-eb9dcf72adb0",
   "metadata": {},
   "outputs": [],
   "source": [
    "# fibonacci series(0,1,1,2,3,5,8,13,..)\n",
    "def fibonacci(n):\n",
    "    a,b=1,1\n",
    "    c=0\n",
    "    output=[]\n",
    "    for i in range(n):\n",
    "        output.append(c)\n",
    "        a=b\n",
    "        b=c\n",
    "        c=a+b\n",
    "    return output"
   ]
  },
  {
   "cell_type": "code",
   "execution_count": 35,
   "id": "82e37be7-e8f2-4757-92ee-a6c97ae54811",
   "metadata": {},
   "outputs": [
    {
     "data": {
      "text/plain": [
       "[0, 1, 1, 2, 3, 5, 8, 13, 21, 34]"
      ]
     },
     "execution_count": 35,
     "metadata": {},
     "output_type": "execute_result"
    }
   ],
   "source": [
    "fibonacci(10)"
   ]
  },
  {
   "cell_type": "code",
   "execution_count": 153,
   "id": "324a1826-4101-4b66-8f34-626926dfb7fb",
   "metadata": {},
   "outputs": [],
   "source": [
    "# using generator func\n",
    "# fibonacci series(0,1,1,2,3,5,8,13,..)\n",
    "def fibonacci(n):\n",
    "    a,b=1,1\n",
    "    for i in range(n):\n",
    "        yield a\n",
    "        a,b=b,a+b\n",
    "    "
   ]
  },
  {
   "cell_type": "code",
   "execution_count": 157,
   "id": "1505adaa-f8c1-4e41-a307-b808df731b4a",
   "metadata": {},
   "outputs": [
    {
     "name": "stdout",
     "output_type": "stream",
     "text": [
      "1,1,2,3,5,8,13,21,34,55,89,"
     ]
    }
   ],
   "source": [
    "for i in fibonacci(11):\n",
    "    print(i,end=',')"
   ]
  },
  {
   "cell_type": "code",
   "execution_count": 19,
   "id": "50ae5d36-fda7-4e12-a292-a31a60b605b3",
   "metadata": {},
   "outputs": [],
   "source": [
    "def Prac():\n",
    "    for i in range(1,11):\n",
    "        yield i*9"
   ]
  },
  {
   "cell_type": "code",
   "execution_count": 20,
   "id": "c4fad3b8-ff8f-49a0-acb2-b82261be45bb",
   "metadata": {},
   "outputs": [
    {
     "data": {
      "text/plain": [
       "[9, 18, 27, 36, 45, 54, 63, 72, 81, 90]"
      ]
     },
     "execution_count": 20,
     "metadata": {},
     "output_type": "execute_result"
    }
   ],
   "source": [
    "list(Prac())"
   ]
  },
  {
   "cell_type": "code",
   "execution_count": 30,
   "id": "0368159a-4f0c-4c30-b196-80c51fafad42",
   "metadata": {},
   "outputs": [],
   "source": [
    "def tst4(*arg):\n",
    "    l=[]\n",
    "    for i in arg:\n",
    "        if type(i)==int or type(i)==float:\n",
    "            l.append(i)\n",
    "        else:\n",
    "            l.extend(i)\n",
    "    return l"
   ]
  },
  {
   "cell_type": "code",
   "execution_count": 31,
   "id": "c8a17ee3-8b07-4163-904b-8a8a99577701",
   "metadata": {},
   "outputs": [
    {
     "data": {
      "text/plain": [
       "[1, 5, 't', 'i', 'k', 'i', 1, 2, 3, 'tiki']"
      ]
     },
     "execution_count": 31,
     "metadata": {},
     "output_type": "execute_result"
    }
   ],
   "source": [
    "tst4(1,5,'tiki',[1,2,3,'tiki'])"
   ]
  },
  {
   "cell_type": "code",
   "execution_count": 25,
   "id": "2936ee1b-5cd7-4fc2-b67b-22008ce46be7",
   "metadata": {},
   "outputs": [],
   "source": [
    "def tst4(*arg):\n",
    "    l=[]\n",
    "    for i in arg:\n",
    "        l.extend(i)\n",
    "    return l"
   ]
  },
  {
   "cell_type": "code",
   "execution_count": 26,
   "id": "30b8c155-d284-4f5c-9dce-bdb479d23474",
   "metadata": {},
   "outputs": [
    {
     "data": {
      "text/plain": [
       "['t', 'i', 'k', 'i', 1, 2, 3, 'tiki']"
      ]
     },
     "execution_count": 26,
     "metadata": {},
     "output_type": "execute_result"
    }
   ],
   "source": [
    "tst4('tiki',[1,2,3,'tiki'])"
   ]
  },
  {
   "cell_type": "code",
   "execution_count": null,
   "id": "68631747-f2d6-4c69-bc5f-933e802d84ae",
   "metadata": {},
   "outputs": [],
   "source": []
  }
 ],
 "metadata": {
  "kernelspec": {
   "display_name": "Python 3 (ipykernel)",
   "language": "python",
   "name": "python3"
  },
  "language_info": {
   "codemirror_mode": {
    "name": "ipython",
    "version": 3
   },
   "file_extension": ".py",
   "mimetype": "text/x-python",
   "name": "python",
   "nbconvert_exporter": "python",
   "pygments_lexer": "ipython3",
   "version": "3.10.4"
  }
 },
 "nbformat": 4,
 "nbformat_minor": 5
}
