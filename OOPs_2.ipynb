{
 "cells": [
  {
   "cell_type": "markdown",
   "id": "934dea4a",
   "metadata": {},
   "source": [
    "### Abstraction :\n",
    "\n",
    "protecting ur elements fro someone"
   ]
  },
  {
   "cell_type": "code",
   "execution_count": 1,
   "id": "9fa5f19a",
   "metadata": {},
   "outputs": [],
   "source": [
    "class Abstraction:\n",
    "    def __init__(s,a,b,c,d):\n",
    "        s.a=a\n",
    "        s.b=b\n",
    "        s.c=c\n",
    "        s.d=d\n",
    "        \n",
    "    def test_custome(s,v):\n",
    "        return v-s.a\n",
    "    \n",
    "    def __str__(s):\n",
    "        return 'abstraction code'\n",
    "    "
   ]
  },
  {
   "cell_type": "code",
   "execution_count": 2,
   "id": "dc900023",
   "metadata": {},
   "outputs": [],
   "source": [
    "ob=Abstraction(5,7,8,9)"
   ]
  },
  {
   "cell_type": "code",
   "execution_count": 3,
   "id": "5e12bef8",
   "metadata": {},
   "outputs": [
    {
     "data": {
      "text/plain": [
       "10"
      ]
     },
     "execution_count": 3,
     "metadata": {},
     "output_type": "execute_result"
    }
   ],
   "source": [
    "ob.test_custome(15)"
   ]
  },
  {
   "cell_type": "code",
   "execution_count": 4,
   "id": "6329dde9",
   "metadata": {},
   "outputs": [
    {
     "name": "stdout",
     "output_type": "stream",
     "text": [
      "abstraction code\n"
     ]
    }
   ],
   "source": [
    "print(ob)"
   ]
  },
  {
   "cell_type": "code",
   "execution_count": 5,
   "id": "45f0aa15",
   "metadata": {},
   "outputs": [
    {
     "data": {
      "text/plain": [
       "5"
      ]
     },
     "execution_count": 5,
     "metadata": {},
     "output_type": "execute_result"
    }
   ],
   "source": [
    "ob.a"
   ]
  },
  {
   "cell_type": "markdown",
   "id": "26cde322",
   "metadata": {},
   "source": [
    " no underscore :- public variable\n",
    " \n",
    " single underscore :- protected variable\n",
    " \n",
    " double underscore :- private variable"
   ]
  },
  {
   "cell_type": "code",
   "execution_count": 20,
   "id": "035863dd",
   "metadata": {},
   "outputs": [],
   "source": [
    "# to access private element\n",
    "class abs:\n",
    "    def __init__(s,a,b,c,d):\n",
    "        s.__a=a\n",
    "        s.b=b\n",
    "        s.c=c\n",
    "        s.d=d\n",
    "        \n",
    "    def test_custome(s,v):\n",
    "        return v-s.__a"
   ]
  },
  {
   "cell_type": "code",
   "execution_count": 21,
   "id": "f96e8821",
   "metadata": {},
   "outputs": [],
   "source": [
    "ob1=abs(7,8,9,0)"
   ]
  },
  {
   "cell_type": "code",
   "execution_count": 22,
   "id": "e8c3755b",
   "metadata": {},
   "outputs": [
    {
     "data": {
      "text/plain": [
       "-2"
      ]
     },
     "execution_count": 22,
     "metadata": {},
     "output_type": "execute_result"
    }
   ],
   "source": [
    "ob1.test_custome(5)"
   ]
  },
  {
   "cell_type": "code",
   "execution_count": 23,
   "id": "5902963f",
   "metadata": {},
   "outputs": [
    {
     "data": {
      "text/plain": [
       "7"
      ]
     },
     "execution_count": 23,
     "metadata": {},
     "output_type": "execute_result"
    }
   ],
   "source": [
    "ob1._abs__a"
   ]
  },
  {
   "cell_type": "code",
   "execution_count": 24,
   "id": "b0a16afa",
   "metadata": {},
   "outputs": [
    {
     "ename": "AttributeError",
     "evalue": "'abs' object has no attribute '__a'",
     "output_type": "error",
     "traceback": [
      "\u001b[1;31m---------------------------------------------------------------------------\u001b[0m",
      "\u001b[1;31mAttributeError\u001b[0m                            Traceback (most recent call last)",
      "Input \u001b[1;32mIn [24]\u001b[0m, in \u001b[0;36m<cell line: 1>\u001b[1;34m()\u001b[0m\n\u001b[1;32m----> 1\u001b[0m \u001b[43mob1\u001b[49m\u001b[38;5;241;43m.\u001b[39;49m\u001b[43m__a\u001b[49m\n",
      "\u001b[1;31mAttributeError\u001b[0m: 'abs' object has no attribute '__a'"
     ]
    }
   ],
   "source": [
    "ob1.__a #its private variable, so we can't access like this"
   ]
  },
  {
   "cell_type": "code",
   "execution_count": 16,
   "id": "083e930a",
   "metadata": {},
   "outputs": [],
   "source": [
    "# to access protected element\n",
    "class abs1:\n",
    "    def __init__(s,a,b,c,d):\n",
    "        s._a=a\n",
    "        s.b=b\n",
    "        s.c=c\n",
    "        s.d=d\n",
    "        \n",
    "    def test_custome(s,v):\n",
    "        return v-s._a"
   ]
  },
  {
   "cell_type": "code",
   "execution_count": 17,
   "id": "2298bdfa-6cbd-447a-95cf-d5e5a46473fb",
   "metadata": {},
   "outputs": [],
   "source": [
    "ob2=abs1(5,7,8,4)"
   ]
  },
  {
   "cell_type": "code",
   "execution_count": 18,
   "id": "ef2f539d-d775-4f38-8afe-c86449ef6f04",
   "metadata": {},
   "outputs": [
    {
     "data": {
      "text/plain": [
       "2"
      ]
     },
     "execution_count": 18,
     "metadata": {},
     "output_type": "execute_result"
    }
   ],
   "source": [
    "ob2.test_custome(7)"
   ]
  },
  {
   "cell_type": "code",
   "execution_count": 19,
   "id": "421e6fc4-05ef-4f99-9c62-d2ce4c62bf28",
   "metadata": {},
   "outputs": [
    {
     "data": {
      "text/plain": [
       "5"
      ]
     },
     "execution_count": 19,
     "metadata": {},
     "output_type": "execute_result"
    }
   ],
   "source": [
    "ob2._a #protected variable"
   ]
  },
  {
   "cell_type": "markdown",
   "id": "e299da6b-cf44-4c65-8f14-711d03c0c1b7",
   "metadata": {},
   "source": [
    "### Inheritance\n",
    "\n",
    "private members of pareent class we can't access in child but protected meembers we can access in child cls."
   ]
  },
  {
   "cell_type": "code",
   "execution_count": 40,
   "id": "23a2dad1-1320-407a-b514-46df2175f58a",
   "metadata": {},
   "outputs": [],
   "source": [
    "#single ineritance\n",
    "class test(abs):\n",
    "    def __init__(self,j,*arg):\n",
    "        super(test,self).__init__(*arg)\n",
    "        self.j=j\n",
    "            \n",
    "# test is child class and abs is parent class"
   ]
  },
  {
   "cell_type": "code",
   "execution_count": 41,
   "id": "ee893b60-43c5-4410-a0a2-adb84210d4f8",
   "metadata": {},
   "outputs": [],
   "source": [
    "m=test(4,5,6,7,8)"
   ]
  },
  {
   "cell_type": "code",
   "execution_count": 42,
   "id": "0d03697a-9290-457d-b71a-5b51235762b2",
   "metadata": {},
   "outputs": [
    {
     "data": {
      "text/plain": [
       "6"
      ]
     },
     "execution_count": 42,
     "metadata": {},
     "output_type": "execute_result"
    }
   ],
   "source": [
    "m.b"
   ]
  },
  {
   "cell_type": "code",
   "execution_count": 43,
   "id": "0d4364c1-9325-4abb-b014-44e26c09f2c5",
   "metadata": {},
   "outputs": [
    {
     "data": {
      "text/plain": [
       "4"
      ]
     },
     "execution_count": 43,
     "metadata": {},
     "output_type": "execute_result"
    }
   ],
   "source": [
    "m.j"
   ]
  },
  {
   "cell_type": "code",
   "execution_count": 44,
   "id": "37040951-e2ba-4256-be6d-0ae57bf7d331",
   "metadata": {},
   "outputs": [
    {
     "data": {
      "text/plain": [
       "8"
      ]
     },
     "execution_count": 44,
     "metadata": {},
     "output_type": "execute_result"
    }
   ],
   "source": [
    "m.d"
   ]
  },
  {
   "cell_type": "code",
   "execution_count": 45,
   "id": "1730b2a9-1250-421d-b07a-d8b1c865ff0c",
   "metadata": {},
   "outputs": [
    {
     "data": {
      "text/plain": [
       "1"
      ]
     },
     "execution_count": 45,
     "metadata": {},
     "output_type": "execute_result"
    }
   ],
   "source": [
    "m.test_custome(6)"
   ]
  },
  {
   "cell_type": "markdown",
   "id": "7d97438a-f18e-4fdc-b760-4f5b2a1a2b0a",
   "metadata": {},
   "source": [
    "### Multiple inheritance\n"
   ]
  },
  {
   "cell_type": "code",
   "execution_count": 84,
   "id": "a3014837-18b5-4cc0-9e27-0be22d1c12c4",
   "metadata": {},
   "outputs": [],
   "source": [
    "class t1:\n",
    "    def __init__(self,x,y):\n",
    "        self.x=x\n",
    "        self.y=y\n",
    "    def a(self):\n",
    "        r=self.x+self.y\n",
    "        print('this is t1 class',r)"
   ]
  },
  {
   "cell_type": "code",
   "execution_count": 85,
   "id": "98f6217d-e9c5-4783-9fc9-f0c36155985a",
   "metadata": {},
   "outputs": [],
   "source": [
    "o1=t1(4,5)"
   ]
  },
  {
   "cell_type": "code",
   "execution_count": 86,
   "id": "9d5e80db-1ed9-44f1-b6e3-620ac2ed6dae",
   "metadata": {},
   "outputs": [
    {
     "data": {
      "text/plain": [
       "(4, 5)"
      ]
     },
     "execution_count": 86,
     "metadata": {},
     "output_type": "execute_result"
    }
   ],
   "source": [
    "o1.x,o1.y"
   ]
  },
  {
   "cell_type": "code",
   "execution_count": 87,
   "id": "26411660-c55d-4ee9-a91f-009d802116c7",
   "metadata": {},
   "outputs": [
    {
     "name": "stdout",
     "output_type": "stream",
     "text": [
      "this is t1 class 9\n"
     ]
    }
   ],
   "source": [
    "o1.a()"
   ]
  },
  {
   "cell_type": "code",
   "execution_count": 88,
   "id": "d8972598-b728-4afc-8619-e44cc4686eca",
   "metadata": {},
   "outputs": [],
   "source": [
    "class t2:\n",
    "    def __init__(self,x,y):\n",
    "        self.x=x\n",
    "        self.y=y\n",
    "    def a(self):\n",
    "        r=self.x*self.y\n",
    "        print('this is t2 class',r)"
   ]
  },
  {
   "cell_type": "code",
   "execution_count": 89,
   "id": "5a006e03-d3f0-4be8-b68b-f077275be0ef",
   "metadata": {},
   "outputs": [],
   "source": [
    "o2=t2(4,5)"
   ]
  },
  {
   "cell_type": "code",
   "execution_count": 90,
   "id": "1e7039ee-2497-491f-a3db-4114b88f5f80",
   "metadata": {},
   "outputs": [
    {
     "name": "stdout",
     "output_type": "stream",
     "text": [
      "this is t2 class 20\n"
     ]
    }
   ],
   "source": [
    "o2.a()"
   ]
  },
  {
   "cell_type": "code",
   "execution_count": 127,
   "id": "b44d7daf-754b-4325-8aaa-0fe70905b89d",
   "metadata": {},
   "outputs": [],
   "source": [
    "class t3(t2,t1):\n",
    "    def __init__(self,rs,*arg):\n",
    "        #super(t1,self).__init__(*arg)\n",
    "        super(t2,self).__init__(*arg)\n",
    "        self.rs=rs"
   ]
  },
  {
   "cell_type": "code",
   "execution_count": 125,
   "id": "d3734293-1127-4d5f-a74a-52d13edfa70f",
   "metadata": {},
   "outputs": [],
   "source": [
    "o3=t3(5,6,7) # works when t3(t1,t2)"
   ]
  },
  {
   "cell_type": "code",
   "execution_count": 126,
   "id": "f7004858-dda9-4bad-a64f-e003d9b7fede",
   "metadata": {},
   "outputs": [
    {
     "name": "stdout",
     "output_type": "stream",
     "text": [
      "this is t1 class 13\n"
     ]
    }
   ],
   "source": [
    "o3.a()"
   ]
  },
  {
   "cell_type": "code",
   "execution_count": 128,
   "id": "936c976a-c848-472b-b8fc-5ba3abd84bc3",
   "metadata": {},
   "outputs": [
    {
     "name": "stdout",
     "output_type": "stream",
     "text": [
      "this is t2 class 42\n"
     ]
    }
   ],
   "source": [
    "o4=t3(5,6,7)  # works when t3(t2,t1)\n",
    "o4.a()"
   ]
  },
  {
   "cell_type": "markdown",
   "id": "25ac2838-2158-4a79-9403-afddd40bb258",
   "metadata": {},
   "source": [
    "**IT GIVES PRIORITY TO THAT CLASS WHAT CALL 1ST PLACE INSIDE THE FUNCN**"
   ]
  },
  {
   "cell_type": "code",
   "execution_count": 94,
   "id": "ef2cd160-eebf-4cd8-8bb1-5737e5564913",
   "metadata": {},
   "outputs": [
    {
     "name": "stdout",
     "output_type": "stream",
     "text": [
      "iNeuron comp established in 2020\n"
     ]
    }
   ],
   "source": [
    "class Ineuron:\n",
    "    comp_website='https://ineuron.ai/'\n",
    "    nm='iNeuron'\n",
    "    \n",
    "    def contact_details(self):\n",
    "        print('contact :',self.comp_website)\n",
    "        \n",
    "class DataScience(Ineuron):\n",
    "    def __init__(self):\n",
    "        self.est=2020\n",
    "        \n",
    "    def est_details(self):\n",
    "        print('{0} comp established in {1}'.format(self.nm,self.est))\n",
    "        \n",
    "ds=DataScience()\n",
    "ds.est_details()"
   ]
  },
  {
   "cell_type": "code",
   "execution_count": 95,
   "id": "c7606274-6abc-4dcc-bc5a-d21045314724",
   "metadata": {},
   "outputs": [
    {
     "name": "stdout",
     "output_type": "stream",
     "text": [
      "contact : https://ineuron.ai/\n"
     ]
    }
   ],
   "source": [
    "ds.contact_details()"
   ]
  },
  {
   "cell_type": "code",
   "execution_count": 108,
   "id": "296c8813-4485-4dd4-8c48-77cfc81d9d5b",
   "metadata": {},
   "outputs": [],
   "source": [
    "class OS:\n",
    "    multiTask=True\n",
    "    os_nm='windows OS'\n",
    "    nm='win'\n",
    "    \n",
    "class windows(Ineuron,OS):\n",
    "    def __init__(self):\n",
    "        if self.multiTask is True:\n",
    "            print('multitask')\n",
    "        print('Name : {}'.format(self.nm),'and',self.os_nm)"
   ]
  },
  {
   "cell_type": "code",
   "execution_count": 109,
   "id": "c2157682-0c48-4547-8f21-9ddfa18831bf",
   "metadata": {},
   "outputs": [
    {
     "name": "stdout",
     "output_type": "stream",
     "text": [
      "multitask\n",
      "Name : iNeuron and windows OS\n"
     ]
    }
   ],
   "source": [
    "w=windows()"
   ]
  },
  {
   "cell_type": "markdown",
   "id": "70acf81e-32ac-4221-a254-8f25c10e798c",
   "metadata": {},
   "source": [
    "### MULTI-LEVEL INHERITANCE"
   ]
  },
  {
   "cell_type": "code",
   "execution_count": 130,
   "id": "fecc62ef-288b-4cba-9699-eb995ecb84c6",
   "metadata": {},
   "outputs": [],
   "source": [
    "class iNeuron:\n",
    "    num_of_course=15\n",
    "class DataScience(iNeuron):\n",
    "    c_type='scientist'\n",
    "class AI(DataScience):\n",
    "    def __init__(self):\n",
    "        self.company='wipro'\n",
    "        print('{0}, {1}, {2}'.format(self.num_of_course,self.c_type,self.company))"
   ]
  },
  {
   "cell_type": "code",
   "execution_count": 131,
   "id": "e9b3d57b-6548-4be5-ad77-dd06f0217ab8",
   "metadata": {},
   "outputs": [
    {
     "name": "stdout",
     "output_type": "stream",
     "text": [
      "15, scientist, wipro\n"
     ]
    }
   ],
   "source": [
    "a=AI()"
   ]
  },
  {
   "cell_type": "code",
   "execution_count": 132,
   "id": "bef99cd0-9550-430d-9203-1aa1eaaf7512",
   "metadata": {},
   "outputs": [],
   "source": [
    "class India:\n",
    "    h='i am from India'\n",
    "class UP(India):\n",
    "    j='I am from UP'\n",
    "class Lucknow(UP):\n",
    "    def __init__(self):\n",
    "        k='i am from bgh'\n",
    "        self.k=k\n",
    "        print(self.h,self.j,self.k)"
   ]
  },
  {
   "cell_type": "code",
   "execution_count": 133,
   "id": "3546fd32-e019-4fd6-8faa-d71e1a26f911",
   "metadata": {},
   "outputs": [
    {
     "name": "stdout",
     "output_type": "stream",
     "text": [
      "i am from India I am from UP i am from bgh\n"
     ]
    }
   ],
   "source": [
    "l=Lucknow()"
   ]
  },
  {
   "cell_type": "code",
   "execution_count": 134,
   "id": "ad2b2ed0-7add-4d39-8193-e9141c000295",
   "metadata": {},
   "outputs": [
    {
     "data": {
      "text/plain": [
       "('i am from India', 'I am from UP')"
      ]
     },
     "execution_count": 134,
     "metadata": {},
     "output_type": "execute_result"
    }
   ],
   "source": [
    "l.h,l.j"
   ]
  },
  {
   "cell_type": "code",
   "execution_count": 135,
   "id": "9a1aa40e-563b-4c2f-95b6-5a5a2832a5a5",
   "metadata": {},
   "outputs": [
    {
     "data": {
      "text/plain": [
       "'i am from bgh'"
      ]
     },
     "execution_count": 135,
     "metadata": {},
     "output_type": "execute_result"
    }
   ],
   "source": [
    "l.k"
   ]
  },
  {
   "cell_type": "markdown",
   "id": "2d963ebe-ea31-4b2c-9708-79f6741e51c0",
   "metadata": {},
   "source": [
    "### Encapsulation\n",
    "\n",
    "extending class in other way to wrapping up objects."
   ]
  },
  {
   "cell_type": "code",
   "execution_count": 139,
   "id": "cbb50d7a-8d7f-4d59-910e-fd7a2c899710",
   "metadata": {},
   "outputs": [],
   "source": [
    "class Test:\n",
    "    def __init__(self,a,b,c):\n",
    "        self.a=a\n",
    "        self.b=b\n",
    "        self.c=c\n",
    "    def __str__(self):\n",
    "        return 'my test cls'\n",
    "\n",
    "class Test1:\n",
    "    def __init__(self,a,b,c):\n",
    "        self.a=a\n",
    "        self.b=b\n",
    "        self.c=c\n",
    "    def __str__(self):\n",
    "        return 'my test1 cls'\n",
    "\n",
    "class Test2:\n",
    "    def __init__(self,a,b,c):\n",
    "        self.a=a\n",
    "        self.b=b\n",
    "        self.c=c\n",
    "    def __str__(self):\n",
    "        return 'my test2 cls'\n",
    "\n",
    "class final:\n",
    "    def __init__(self,x,y,z):\n",
    "        self.x=x\n",
    "        self.y=y\n",
    "        self.z=z\n",
    "    def __str__(self):\n",
    "        return str(self.x)+\" \"+str(self.y)+\" \"+str(self.z)"
   ]
  },
  {
   "cell_type": "code",
   "execution_count": 141,
   "id": "b6f053f4-59d3-439e-9e2b-9ad0494ee3b3",
   "metadata": {},
   "outputs": [],
   "source": [
    "t=Test(4,5,6)\n",
    "t1=Test1(3,4,5)\n",
    "t2=Test2(7,4,5)"
   ]
  },
  {
   "cell_type": "code",
   "execution_count": 143,
   "id": "ea26bd56-9130-47f8-a298-3e921d3f3a98",
   "metadata": {},
   "outputs": [],
   "source": [
    "f=final(t,t1,t2)"
   ]
  },
  {
   "cell_type": "code",
   "execution_count": 153,
   "id": "88980ec6-07d2-4a4a-b5ff-80010f82fe76",
   "metadata": {},
   "outputs": [],
   "source": [
    "f=final(t,t1,'tiki')"
   ]
  },
  {
   "cell_type": "code",
   "execution_count": 146,
   "id": "790426ad-d38f-4417-865d-d0b8134b0913",
   "metadata": {},
   "outputs": [
    {
     "name": "stdout",
     "output_type": "stream",
     "text": [
      "my test cls my test1 cls tiki\n"
     ]
    }
   ],
   "source": [
    "print(f)"
   ]
  },
  {
   "cell_type": "code",
   "execution_count": 158,
   "id": "ea8c931d-f289-4684-af26-42e4737d7c5a",
   "metadata": {},
   "outputs": [
    {
     "data": {
      "text/plain": [
       "(4, 5, 6)"
      ]
     },
     "execution_count": 158,
     "metadata": {},
     "output_type": "execute_result"
    }
   ],
   "source": [
    "(f.x).a,(f.x).b,(f.x).c"
   ]
  },
  {
   "cell_type": "code",
   "execution_count": 159,
   "id": "d271ecb6-22b4-4364-9c8f-ecd796866ddf",
   "metadata": {},
   "outputs": [
    {
     "data": {
      "text/plain": [
       "4"
      ]
     },
     "execution_count": 159,
     "metadata": {},
     "output_type": "execute_result"
    }
   ],
   "source": [
    "f.x.a"
   ]
  },
  {
   "cell_type": "code",
   "execution_count": 160,
   "id": "dec9a46f-e7c4-46ea-8019-949d64b00063",
   "metadata": {},
   "outputs": [
    {
     "data": {
      "text/plain": [
       "int"
      ]
     },
     "execution_count": 160,
     "metadata": {},
     "output_type": "execute_result"
    }
   ],
   "source": [
    "type(f.x.a)"
   ]
  },
  {
   "cell_type": "code",
   "execution_count": null,
   "id": "d85de3cc-fc4b-4d7f-ae17-1f0d35122f2c",
   "metadata": {},
   "outputs": [],
   "source": []
  }
 ],
 "metadata": {
  "kernelspec": {
   "display_name": "Python 3 (ipykernel)",
   "language": "python",
   "name": "python3"
  },
  "language_info": {
   "codemirror_mode": {
    "name": "ipython",
    "version": 3
   },
   "file_extension": ".py",
   "mimetype": "text/x-python",
   "name": "python",
   "nbconvert_exporter": "python",
   "pygments_lexer": "ipython3",
   "version": "3.10.4"
  }
 },
 "nbformat": 4,
 "nbformat_minor": 5
}
