{
 "cells": [
  {
   "cell_type": "code",
   "execution_count": 1,
   "id": "4c1e3fcb-9c93-44d1-bb68-34a692aec0bf",
   "metadata": {},
   "outputs": [],
   "source": [
    "#string manipulation\n",
    "a='tike'"
   ]
  },
  {
   "cell_type": "code",
   "execution_count": 2,
   "id": "3759d488-911c-4018-8761-f2975df9f69d",
   "metadata": {},
   "outputs": [
    {
     "data": {
      "text/plain": [
       "\"this is my frst class,that's why m here\""
      ]
     },
     "execution_count": 2,
     "metadata": {},
     "output_type": "execute_result"
    }
   ],
   "source": [
    "c=\"this is my frst class,that's why m here\"\n",
    "c"
   ]
  },
  {
   "cell_type": "code",
   "execution_count": 3,
   "id": "df33bb95-95b7-4eb3-a76a-0d58d795f610",
   "metadata": {},
   "outputs": [
    {
     "data": {
      "text/plain": [
       "'s'"
      ]
     },
     "execution_count": 3,
     "metadata": {},
     "output_type": "execute_result"
    }
   ],
   "source": [
    "s=\"this is fullstack class\"\n",
    "s[-1]"
   ]
  },
  {
   "cell_type": "code",
   "execution_count": 4,
   "id": "f2f38a52-49d6-4bcd-afb6-62059966f0f9",
   "metadata": {},
   "outputs": [
    {
     "data": {
      "text/plain": [
       "23"
      ]
     },
     "execution_count": 4,
     "metadata": {},
     "output_type": "execute_result"
    }
   ],
   "source": [
    "#length of strings\n",
    "len(s)"
   ]
  },
  {
   "cell_type": "code",
   "execution_count": 5,
   "id": "5f74dd56-0e24-4f7c-b5d4-b74077b0aa07",
   "metadata": {},
   "outputs": [
    {
     "data": {
      "text/plain": [
       "'luf si si'"
      ]
     },
     "execution_count": 5,
     "metadata": {},
     "output_type": "execute_result"
    }
   ],
   "source": [
    "s[4:10:1]\n",
    "s[10:1:-1]\n",
    "#s[-1:10:-1]"
   ]
  },
  {
   "cell_type": "code",
   "execution_count": 6,
   "id": "ae508d92-e65e-4be2-9a76-a496f3e5787c",
   "metadata": {},
   "outputs": [
    {
     "name": "stdout",
     "output_type": "stream",
     "text": [
      "this is fullstack class"
     ]
    }
   ],
   "source": [
    "#reverse order\n",
    "for i in range(len(s)):\n",
    "    print(s[i],end='')"
   ]
  },
  {
   "cell_type": "code",
   "execution_count": 7,
   "id": "67c30822-c05e-46e1-a543-a5ab771c717e",
   "metadata": {},
   "outputs": [
    {
     "ename": "TypeError",
     "evalue": "'str' object does not support item assignment",
     "output_type": "error",
     "traceback": [
      "\u001b[1;31m---------------------------------------------------------------------------\u001b[0m",
      "\u001b[1;31mTypeError\u001b[0m                                 Traceback (most recent call last)",
      "Input \u001b[1;32mIn [7]\u001b[0m, in \u001b[0;36m<cell line: 2>\u001b[1;34m()\u001b[0m\n\u001b[0;32m      1\u001b[0m \u001b[38;5;66;03m#string are immutable, we can't modify it\u001b[39;00m\n\u001b[1;32m----> 2\u001b[0m s[\u001b[38;5;241m0\u001b[39m]\u001b[38;5;241m=\u001b[39m\u001b[38;5;124m'\u001b[39m\u001b[38;5;124mx\u001b[39m\u001b[38;5;124m'\u001b[39m\n",
      "\u001b[1;31mTypeError\u001b[0m: 'str' object does not support item assignment"
     ]
    }
   ],
   "source": [
    "#string are immutable, we can't modify it\n",
    "s[0]='x'"
   ]
  },
  {
   "cell_type": "code",
   "execution_count": 8,
   "id": "79cb0343-025c-4409-a53d-8d63d3ce167a",
   "metadata": {},
   "outputs": [
    {
     "data": {
      "text/plain": [
       "['chiki', 5676, True]"
      ]
     },
     "execution_count": 8,
     "metadata": {},
     "output_type": "execute_result"
    }
   ],
   "source": [
    "# list are mutable, we can chng it\n",
    "l=['tiki',5676,True]\n",
    "l[0]='chiki'\n",
    "l"
   ]
  },
  {
   "cell_type": "code",
   "execution_count": 9,
   "id": "a0061d46-22be-47a7-b241-86236d0c1d2a",
   "metadata": {},
   "outputs": [
    {
     "data": {
      "text/plain": [
       "'tiki behera'"
      ]
     },
     "execution_count": 9,
     "metadata": {},
     "output_type": "execute_result"
    }
   ],
   "source": [
    "# concatenation\n",
    "\"tiki\" + \" behera\""
   ]
  },
  {
   "cell_type": "code",
   "execution_count": 10,
   "id": "31b7cbe5-c000-4cb8-b7a6-7a4841fc7021",
   "metadata": {},
   "outputs": [
    {
     "data": {
      "text/plain": [
       "'tiki560'"
      ]
     },
     "execution_count": 10,
     "metadata": {},
     "output_type": "execute_result"
    }
   ],
   "source": [
    "#typecast\n",
    "\"tiki\"+str(560)"
   ]
  },
  {
   "cell_type": "code",
   "execution_count": 11,
   "id": "fefc4f6f-58c5-44ff-826f-e0ace8293b65",
   "metadata": {},
   "outputs": [],
   "source": [
    "#string inbuilt methods\n",
    "s1=\"my name is tikeswari, nAme of org is ineuron\""
   ]
  },
  {
   "cell_type": "code",
   "execution_count": 12,
   "id": "fb85b509-409a-4507-a996-cb7d7f16110f",
   "metadata": {},
   "outputs": [
    {
     "data": {
      "text/plain": [
       "3"
      ]
     },
     "execution_count": 12,
     "metadata": {},
     "output_type": "execute_result"
    }
   ],
   "source": [
    "s1.find(\"name\")"
   ]
  },
  {
   "cell_type": "code",
   "execution_count": 13,
   "id": "c843b50c-ff90-4589-9e12-4271a079e1c1",
   "metadata": {},
   "outputs": [
    {
     "name": "stdout",
     "output_type": "stream",
     "text": [
      "8\n",
      "9\n"
     ]
    }
   ],
   "source": [
    "# to get index of each word from the name\n",
    "res=s1.find(\"is\")\n",
    "for i in range(len(\"is\")):\n",
    "    print(res+i)"
   ]
  },
  {
   "cell_type": "code",
   "execution_count": 14,
   "id": "8aec5999-87a0-433b-ba8f-81ad9781131e",
   "metadata": {},
   "outputs": [
    {
     "data": {
      "text/plain": [
       "range(0, 4)"
      ]
     },
     "execution_count": 14,
     "metadata": {},
     "output_type": "execute_result"
    }
   ],
   "source": [
    "range(len('name'))"
   ]
  },
  {
   "cell_type": "code",
   "execution_count": 15,
   "id": "43a50bea-8ce2-4414-958d-9ec051c0628d",
   "metadata": {},
   "outputs": [
    {
     "data": {
      "text/plain": [
       "2"
      ]
     },
     "execution_count": 15,
     "metadata": {},
     "output_type": "execute_result"
    }
   ],
   "source": [
    "#it tells how many times a word or character appears in the string and its case sensitive\n",
    "s1.count(\"is\")"
   ]
  },
  {
   "cell_type": "code",
   "execution_count": 16,
   "id": "674e976a-87d7-45a0-a5ec-c198c3c92f98",
   "metadata": {},
   "outputs": [
    {
     "data": {
      "text/plain": [
       "['my', 'name', 'is', 'tikeswari,', 'nAme', 'of', 'org', 'is', 'ineuron']"
      ]
     },
     "execution_count": 16,
     "metadata": {},
     "output_type": "execute_result"
    }
   ],
   "source": [
    "#it returns the o/p in list\n",
    "r=s1.split()\n",
    "r"
   ]
  },
  {
   "cell_type": "code",
   "execution_count": 17,
   "id": "c69a15b4-74a4-45ff-9014-fd906d5460f2",
   "metadata": {},
   "outputs": [
    {
     "data": {
      "text/plain": [
       "['tiki', 'behera']"
      ]
     },
     "execution_count": 17,
     "metadata": {},
     "output_type": "execute_result"
    }
   ],
   "source": [
    "n='tiki behera'\n",
    "r=n.split()\n",
    "r"
   ]
  },
  {
   "cell_type": "code",
   "execution_count": 18,
   "id": "6442d9b5-73ba-4d98-b236-0b9ba41d380f",
   "metadata": {},
   "outputs": [
    {
     "data": {
      "text/plain": [
       "['my ', 'me is tikeswari, nAme of org is ineuron']"
      ]
     },
     "execution_count": 18,
     "metadata": {},
     "output_type": "execute_result"
    }
   ],
   "source": [
    "#where ever na split the data\n",
    "s1.split('na')"
   ]
  },
  {
   "cell_type": "code",
   "execution_count": 19,
   "id": "ed211dc2-9de2-44d7-abdc-588e3a42a506",
   "metadata": {},
   "outputs": [
    {
     "data": {
      "text/plain": [
       "'My name is tikeswari, name of org is ineuron'"
      ]
     },
     "execution_count": 19,
     "metadata": {},
     "output_type": "execute_result"
    }
   ],
   "source": [
    "s1.upper()\n",
    "s1.lower()\n",
    "s1.capitalize()"
   ]
  },
  {
   "cell_type": "code",
   "execution_count": 20,
   "id": "134e4d79-6124-4baa-97e9-794ace5ae593",
   "metadata": {},
   "outputs": [
    {
     "data": {
      "text/plain": [
       "'My Name Is Tikeswari, Name Of Org Is Ineuron'"
      ]
     },
     "execution_count": 20,
     "metadata": {},
     "output_type": "execute_result"
    }
   ],
   "source": [
    "s1.title()"
   ]
  },
  {
   "cell_type": "code",
   "execution_count": 21,
   "id": "b157c962-9690-469f-aaa9-5cb1f4fa1a1c",
   "metadata": {},
   "outputs": [
    {
     "name": "stdin",
     "output_type": "stream",
     "text": [
      " tiki Behera\n"
     ]
    },
    {
     "name": "stdout",
     "output_type": "stream",
     "text": [
      "Tiki Behera\n",
      "heyy girl\n",
      "['Tiki', 'Behera']\n",
      "Tiki Behera\n"
     ]
    }
   ],
   "source": [
    "fn=input().title()\n",
    "print(fn.title())\n",
    "if fn=='Tiki Behera':\n",
    "    print('heyy girl')\n",
    "else:\n",
    "    print('nthng')\n",
    "\n",
    "x=fn.split()\n",
    "print(x)\n",
    "print(\" \".join(x))"
   ]
  },
  {
   "cell_type": "code",
   "execution_count": 32,
   "id": "9556c4b6-29bb-4086-8907-058a46409bba",
   "metadata": {},
   "outputs": [
    {
     "data": {
      "text/plain": [
       "['Tiki', 'Behera']"
      ]
     },
     "execution_count": 32,
     "metadata": {},
     "output_type": "execute_result"
    }
   ],
   "source": [
    "x"
   ]
  },
  {
   "cell_type": "code",
   "execution_count": 73,
   "id": "3e5dd617-b373-4d31-a096-336729a0493f",
   "metadata": {},
   "outputs": [
    {
     "data": {
      "text/plain": [
       "'MY NAME IS TIKESWARI, NaME OF ORG IS INEURON'"
      ]
     },
     "execution_count": 73,
     "metadata": {},
     "output_type": "execute_result"
    }
   ],
   "source": [
    "# wherever small covert to upper and vice-versa\n",
    "s1.swapcase()"
   ]
  },
  {
   "cell_type": "code",
   "execution_count": 29,
   "id": "f5c09d9a-b0a3-43f6-ba75-51d9a1d4dce1",
   "metadata": {},
   "outputs": [
    {
     "data": {
      "text/plain": [
       "'m,y, ,n,a,m,e, ,i,s, ,t,i,k,e,s,w,a,r,i,,, ,n,A,m,e, ,o,f, ,o,r,g, ,i,s, ,i,n,e,u,r,o,n'"
      ]
     },
     "execution_count": 29,
     "metadata": {},
     "output_type": "execute_result"
    }
   ],
   "source": [
    "#try to join space/symbol/char after each and every char in the string\n",
    "\",\".join(s1)"
   ]
  },
  {
   "cell_type": "code",
   "execution_count": 39,
   "id": "a2b8d312-8a75-4ffa-88db-ab844f2251aa",
   "metadata": {},
   "outputs": [
    {
     "data": {
      "text/plain": [
       "'my name is tikeswari, nAme of org is ineuron'"
      ]
     },
     "execution_count": 39,
     "metadata": {},
     "output_type": "execute_result"
    }
   ],
   "source": [
    "#we can convert list to string also using join\n",
    "\" \".join(r)"
   ]
  },
  {
   "cell_type": "code",
   "execution_count": 28,
   "id": "17f3eb2f-0954-4d00-b68a-5de89a989a53",
   "metadata": {},
   "outputs": [
    {
     "name": "stdout",
     "output_type": "stream",
     "text": [
      "norueni si gro fo emAn ,irawsekit si eman ym"
     ]
    }
   ],
   "source": [
    "#string reverse using reversed()\n",
    "for i in reversed(s1):\n",
    "    print(i,end='')"
   ]
  },
  {
   "cell_type": "code",
   "execution_count": 29,
   "id": "e1e2c369-22d8-4b5f-ab47-e98f50d22978",
   "metadata": {},
   "outputs": [
    {
     "data": {
      "text/plain": [
       "'norueni si gro fo emAn ,irawsekit si eman ym'"
      ]
     },
     "execution_count": 29,
     "metadata": {},
     "output_type": "execute_result"
    }
   ],
   "source": [
    "s1[::-1]"
   ]
  },
  {
   "cell_type": "code",
   "execution_count": 122,
   "id": "a2a7922a-f099-4ea4-8edd-33e085c365db",
   "metadata": {},
   "outputs": [],
   "source": [
    "#list reverse\n",
    "xy=r.copy()\n",
    "xy.reverse()"
   ]
  },
  {
   "cell_type": "code",
   "execution_count": 123,
   "id": "bef64250-7f35-4466-a5c5-2a12a7cb5307",
   "metadata": {},
   "outputs": [
    {
     "data": {
      "text/plain": [
       "['ineuron', 'is', 'org', 'of', 'nAme', 'tikeswari,', 'is', 'name', 'my']"
      ]
     },
     "execution_count": 123,
     "metadata": {},
     "output_type": "execute_result"
    }
   ],
   "source": [
    "xy"
   ]
  },
  {
   "cell_type": "code",
   "execution_count": 121,
   "id": "12ca1a28-814b-4160-a826-5d1ab45c8654",
   "metadata": {},
   "outputs": [
    {
     "data": {
      "text/plain": [
       "['my', 'name', 'is', 'tikeswari,', 'nAme', 'of', 'org', 'is', 'ineuron']"
      ]
     },
     "execution_count": 121,
     "metadata": {},
     "output_type": "execute_result"
    }
   ],
   "source": [
    "r"
   ]
  },
  {
   "cell_type": "code",
   "execution_count": 126,
   "id": "151035c7-d9ae-48ca-9187-bf9c55c23a98",
   "metadata": {},
   "outputs": [
    {
     "data": {
      "text/plain": [
       "'        tiki        '"
      ]
     },
     "execution_count": 126,
     "metadata": {},
     "output_type": "execute_result"
    }
   ],
   "source": [
    "#centre\n",
    "s2='tiki'\n",
    "s2.center(20,' ')"
   ]
  },
  {
   "cell_type": "code",
   "execution_count": 127,
   "id": "5d6d8809-169d-4994-adcb-03c4eb2f77bc",
   "metadata": {},
   "outputs": [
    {
     "data": {
      "text/plain": [
       "'tiki\\tpinki'"
      ]
     },
     "execution_count": 127,
     "metadata": {},
     "output_type": "execute_result"
    }
   ],
   "source": [
    "t='tiki\\tpinki'\n",
    "t"
   ]
  },
  {
   "cell_type": "code",
   "execution_count": 128,
   "id": "21ad29fe-6800-46c4-a1e2-841ce6f3956b",
   "metadata": {},
   "outputs": [
    {
     "data": {
      "text/plain": [
       "'tiki    pinki'"
      ]
     },
     "execution_count": 128,
     "metadata": {},
     "output_type": "execute_result"
    }
   ],
   "source": [
    "t.expandtabs()"
   ]
  },
  {
   "cell_type": "code",
   "execution_count": 130,
   "id": "204ef4be-36f5-4b1d-ad99-b0487d61a779",
   "metadata": {},
   "outputs": [
    {
     "data": {
      "text/plain": [
       "'we all are part of full stack'"
      ]
     },
     "execution_count": 130,
     "metadata": {},
     "output_type": "execute_result"
    }
   ],
   "source": [
    "s3=\"we all are part of Full Stack\"\n",
    "s3.lower()"
   ]
  },
  {
   "cell_type": "code",
   "execution_count": 144,
   "id": "6ea735db-b972-4ec7-bf2b-d06eb284b62e",
   "metadata": {},
   "outputs": [
    {
     "data": {
      "text/plain": [
       "4"
      ]
     },
     "execution_count": 144,
     "metadata": {},
     "output_type": "execute_result"
    }
   ],
   "source": [
    "s3.count('a')"
   ]
  },
  {
   "cell_type": "code",
   "execution_count": 143,
   "id": "fce61435-8209-4256-ade6-736618464a63",
   "metadata": {},
   "outputs": [
    {
     "name": "stdout",
     "output_type": "stream",
     "text": [
      "3 a\n",
      "7 a\n",
      "12 a\n",
      "26 a\n"
     ]
    }
   ],
   "source": [
    "#find number of occurances of 'a' in entire data\n",
    "for i in range(len(s3)):\n",
    "    if s3[i]=='a':\n",
    "        print(i,s3[i])\n",
    "    "
   ]
  },
  {
   "cell_type": "code",
   "execution_count": 146,
   "id": "7a70683b-b63a-438b-9abc-6b373970d8b3",
   "metadata": {},
   "outputs": [
    {
     "name": "stdout",
     "output_type": "stream",
     "text": [
      "[3, 7, 12, 26]\n"
     ]
    }
   ],
   "source": [
    "#or\n",
    "l=[]\n",
    "for j in range(len(s3)):\n",
    "    if(s3[j]=='a'):\n",
    "        l.append(j)\n",
    "print(l)"
   ]
  },
  {
   "cell_type": "code",
   "execution_count": 136,
   "id": "70360c38-2238-4449-bf85-c6d30932194e",
   "metadata": {},
   "outputs": [
    {
     "data": {
      "text/plain": [
       "'we iNeuronll iNeuronre piNeuronrt of Full StiNeuronck'"
      ]
     },
     "execution_count": 136,
     "metadata": {},
     "output_type": "execute_result"
    }
   ],
   "source": [
    "res2=s3.replace('a','iNeuron')\n",
    "res2"
   ]
  },
  {
   "cell_type": "code",
   "execution_count": 137,
   "id": "f95ed3c6-3a8f-451e-bcb7-bc6f53c02cfa",
   "metadata": {},
   "outputs": [
    {
     "data": {
      "text/plain": [
       "['we', 'iNeuronll', 'iNeuronre', 'piNeuronrt', 'of', 'Full', 'StiNeuronck']"
      ]
     },
     "execution_count": 137,
     "metadata": {},
     "output_type": "execute_result"
    }
   ],
   "source": [
    "res2.split()"
   ]
  },
  {
   "cell_type": "code",
   "execution_count": 171,
   "id": "c23978c6-eab6-4e3a-a714-b90b8818ac9c",
   "metadata": {},
   "outputs": [
    {
     "data": {
      "text/plain": [
       "False"
      ]
     },
     "execution_count": 171,
     "metadata": {},
     "output_type": "execute_result"
    }
   ],
   "source": [
    "#string methods\n",
    "t='TiKi12'\n",
    "t.isupper()"
   ]
  },
  {
   "cell_type": "code",
   "execution_count": 149,
   "id": "c0a1efef-2f32-43bc-aa3f-0969c7b61bb2",
   "metadata": {},
   "outputs": [
    {
     "data": {
      "text/plain": [
       "False"
      ]
     },
     "execution_count": 149,
     "metadata": {},
     "output_type": "execute_result"
    }
   ],
   "source": [
    "t.islower()"
   ]
  },
  {
   "cell_type": "code",
   "execution_count": 156,
   "id": "8ab8c41c-c5fb-495f-ba23-693d388818d9",
   "metadata": {},
   "outputs": [
    {
     "data": {
      "text/plain": [
       "False"
      ]
     },
     "execution_count": 156,
     "metadata": {},
     "output_type": "execute_result"
    }
   ],
   "source": [
    "t.isspace()"
   ]
  },
  {
   "cell_type": "code",
   "execution_count": 163,
   "id": "fac23ee3-2245-48bb-b3e8-3961966fb9d0",
   "metadata": {},
   "outputs": [
    {
     "data": {
      "text/plain": [
       "False"
      ]
     },
     "execution_count": 163,
     "metadata": {},
     "output_type": "execute_result"
    }
   ],
   "source": [
    "t.endswith('I')"
   ]
  },
  {
   "cell_type": "code",
   "execution_count": 164,
   "id": "0e2e7002-152c-46d4-9533-c9e0c30b1f54",
   "metadata": {},
   "outputs": [
    {
     "data": {
      "text/plain": [
       "True"
      ]
     },
     "execution_count": 164,
     "metadata": {},
     "output_type": "execute_result"
    }
   ],
   "source": [
    "t.startswith('t')"
   ]
  },
  {
   "cell_type": "code",
   "execution_count": 173,
   "id": "6a215299-3c17-43e2-850d-5157a8f2f2e2",
   "metadata": {},
   "outputs": [
    {
     "data": {
      "text/plain": [
       "True"
      ]
     },
     "execution_count": 173,
     "metadata": {},
     "output_type": "execute_result"
    }
   ],
   "source": [
    "t.isalnum() #alphanumeric check"
   ]
  },
  {
   "cell_type": "code",
   "execution_count": 174,
   "id": "153617da-7f6f-43e9-821c-dbab79fb85b2",
   "metadata": {},
   "outputs": [
    {
     "data": {
      "text/plain": [
       "False"
      ]
     },
     "execution_count": 174,
     "metadata": {},
     "output_type": "execute_result"
    }
   ],
   "source": [
    "t.isalpha() #alphaber check"
   ]
  },
  {
   "cell_type": "code",
   "execution_count": 172,
   "id": "5124f92b-e421-4047-8193-104a03b75372",
   "metadata": {},
   "outputs": [
    {
     "data": {
      "text/plain": [
       "False"
      ]
     },
     "execution_count": 172,
     "metadata": {},
     "output_type": "execute_result"
    }
   ],
   "source": [
    "t.istitle()"
   ]
  },
  {
   "cell_type": "code",
   "execution_count": 24,
   "id": "99871c1f-989f-47b7-8ca2-8f3fe97884fc",
   "metadata": {},
   "outputs": [
    {
     "name": "stdout",
     "output_type": "stream",
     "text": [
      "0 t 1 h 2 i 3 s 4   5 i 6 s 7   8 a 9   10 f 11 u 12 l 13 l 14   15 s 16 t 17 a 18 c 19 k 20   21 b 22 a 23 t 24 c 25 h "
     ]
    }
   ],
   "source": [
    "#iteration operation\n",
    "s4=\"this is a full stack batch\"\n",
    "for i in range(len(s4)):\n",
    "    print(i,s4[i],end=\" \")\n",
    "#print(s4,end=' ')"
   ]
  },
  {
   "cell_type": "code",
   "execution_count": 23,
   "id": "c0620f6d-4e4c-4feb-bb72-da7ae6f6f411",
   "metadata": {},
   "outputs": [
    {
     "name": "stdout",
     "output_type": "stream",
     "text": [
      "26\n"
     ]
    }
   ],
   "source": [
    "#length of str\n",
    "c=0\n",
    "for i in s4:\n",
    "    c=c+1\n",
    "print(c)"
   ]
  },
  {
   "cell_type": "code",
   "execution_count": 182,
   "id": "efd17183-f7a1-4ecf-a872-52094c077890",
   "metadata": {},
   "outputs": [
    {
     "name": "stdout",
     "output_type": "stream",
     "text": [
      "h c t a b   k c a t s   l l u f   a   s i   s i h "
     ]
    }
   ],
   "source": [
    "#reverse\n",
    "for i in range(1,len(s4)):\n",
    "    print(s4[-i],end=\" \")"
   ]
  },
  {
   "cell_type": "code",
   "execution_count": 8,
   "id": "373daba3-dc19-4447-a383-c60f03c6c81c",
   "metadata": {},
   "outputs": [
    {
     "name": "stdout",
     "output_type": "stream",
     "text": [
      "i\n",
      "k\n",
      "i\n",
      "t\n"
     ]
    }
   ],
   "source": [
    "t1=\"tiki\"\n",
    "ch=len(t1)-1\n",
    "while ch >= 0:\n",
    "    print(t1[ch])\n",
    "    ch=ch-1"
   ]
  },
  {
   "cell_type": "code",
   "execution_count": 187,
   "id": "714aed1d-69c3-4374-bd41-fe478256e3f6",
   "metadata": {},
   "outputs": [
    {
     "name": "stdout",
     "output_type": "stream",
     "text": [
      "t is not a vowel\n",
      "i is a vowel\n",
      "k is not a vowel\n",
      "e is a vowel\n",
      "s is not a vowel\n",
      "w is not a vowel\n",
      "a is a vowel\n",
      "r is not a vowel\n",
      "i is a vowel\n"
     ]
    }
   ],
   "source": [
    "#check vowel\n",
    "x=\"tikeswari\"\n",
    "v='AaEeIioOuU'\n",
    "for i in x:\n",
    "    if i in v:\n",
    "        print(\"{} is a vowel\".format(i))\n",
    "    else:\n",
    "        print(\"{} is not a vowel\".format(i))"
   ]
  },
  {
   "cell_type": "code",
   "execution_count": 191,
   "id": "ce131900-1917-4043-ac58-44b65ba20b40",
   "metadata": {},
   "outputs": [
    {
     "name": "stdin",
     "output_type": "stream",
     "text": [
      "enter a num: 353\n"
     ]
    },
    {
     "name": "stdout",
     "output_type": "stream",
     "text": [
      "353 is pallindrome\n"
     ]
    }
   ],
   "source": [
    "#pallindrome\n",
    "n=input(\"enter a num:\")\n",
    "m=n[::-1]\n",
    "if n==m:\n",
    "    print('{} is pallindrome'.format(n))\n",
    "else:\n",
    "    print('{} not pallindrome'.format(n))"
   ]
  },
  {
   "cell_type": "code",
   "execution_count": 216,
   "id": "cec3dd0c-0967-48a3-8533-b2a1a891f44a",
   "metadata": {},
   "outputs": [
    {
     "data": {
      "text/plain": [
       "'tiki'"
      ]
     },
     "execution_count": 216,
     "metadata": {},
     "output_type": "execute_result"
    }
   ],
   "source": [
    "# list manipulation\n",
    "ls=['tiki',34,35,38,[43,56]]\n",
    "ls[0]"
   ]
  },
  {
   "cell_type": "code",
   "execution_count": 217,
   "id": "0a86cf93-0fbd-4fa9-b740-78cd0fb1c03a",
   "metadata": {},
   "outputs": [
    {
     "data": {
      "text/plain": [
       "['tiki', 34, 35, 38, [43, 56]]"
      ]
     },
     "execution_count": 217,
     "metadata": {},
     "output_type": "execute_result"
    }
   ],
   "source": [
    "ls[0:]"
   ]
  },
  {
   "cell_type": "code",
   "execution_count": 218,
   "id": "c063708b-707b-4906-86d4-005688cc942f",
   "metadata": {},
   "outputs": [
    {
     "data": {
      "text/plain": [
       "[38, 35, 34]"
      ]
     },
     "execution_count": 218,
     "metadata": {},
     "output_type": "execute_result"
    }
   ],
   "source": [
    "ls[3:0:-1]"
   ]
  },
  {
   "cell_type": "code",
   "execution_count": 219,
   "id": "b017c478-bd95-406a-9823-14c1cad7a3b2",
   "metadata": {},
   "outputs": [
    {
     "data": {
      "text/plain": [
       "[[43, 56], 38, 35, 34, 'tiki']"
      ]
     },
     "execution_count": 219,
     "metadata": {},
     "output_type": "execute_result"
    }
   ],
   "source": [
    "#rev list\n",
    "ls[::-1]"
   ]
  },
  {
   "cell_type": "code",
   "execution_count": 220,
   "id": "da317f2c-e087-4df4-b7f4-94a1a1c709c4",
   "metadata": {},
   "outputs": [
    {
     "data": {
      "text/plain": [
       "['tiki', 34, 35, 38, [43, 56]]"
      ]
     },
     "execution_count": 220,
     "metadata": {},
     "output_type": "execute_result"
    }
   ],
   "source": [
    "ls"
   ]
  },
  {
   "cell_type": "code",
   "execution_count": 225,
   "id": "c74774a8-cf11-49cf-96fd-6b943443004a",
   "metadata": {},
   "outputs": [],
   "source": [
    "x='tiki'"
   ]
  },
  {
   "cell_type": "code",
   "execution_count": 236,
   "id": "11e581c5-56ec-4ad5-b978-3629a4409c49",
   "metadata": {},
   "outputs": [],
   "source": [
    "y=list(x)"
   ]
  },
  {
   "cell_type": "code",
   "execution_count": 237,
   "id": "0689f951-bc3f-40d3-84d5-88d95d6c6468",
   "metadata": {},
   "outputs": [
    {
     "data": {
      "text/plain": [
       "['t', 'i', 'k', 'i']"
      ]
     },
     "execution_count": 237,
     "metadata": {},
     "output_type": "execute_result"
    }
   ],
   "source": [
    "y"
   ]
  },
  {
   "cell_type": "code",
   "execution_count": 238,
   "id": "aca970c6-27db-4c85-bc93-30d76a0fbb2c",
   "metadata": {},
   "outputs": [
    {
     "data": {
      "text/plain": [
       "['t', 'i', 'k', 'i', 'tiki', 34, 35, 38, [43, 56]]"
      ]
     },
     "execution_count": 238,
     "metadata": {},
     "output_type": "execute_result"
    }
   ],
   "source": [
    "y+ls"
   ]
  },
  {
   "cell_type": "code",
   "execution_count": 233,
   "id": "00f9f4e8-3f2d-4e39-a760-cf2aae5b3e4f",
   "metadata": {},
   "outputs": [],
   "source": [
    "del list"
   ]
  },
  {
   "cell_type": "code",
   "execution_count": 235,
   "id": "a9d548d2-8ed5-42a6-9d48-b7990d40ffa4",
   "metadata": {},
   "outputs": [
    {
     "data": {
      "text/plain": [
       "['g', 'g', 'f', 'h']"
      ]
     },
     "execution_count": 235,
     "metadata": {},
     "output_type": "execute_result"
    }
   ],
   "source": [
    "d='ggfh'\n",
    "u=list(d)\n",
    "u"
   ]
  },
  {
   "cell_type": "code",
   "execution_count": 239,
   "id": "4527f571-ef7f-4fac-a78e-2f959f0e853e",
   "metadata": {},
   "outputs": [
    {
     "data": {
      "text/plain": [
       "['tiki',\n",
       " 34,\n",
       " 35,\n",
       " 38,\n",
       " [43, 56],\n",
       " 'tiki',\n",
       " 34,\n",
       " 35,\n",
       " 38,\n",
       " [43, 56],\n",
       " 'tiki',\n",
       " 34,\n",
       " 35,\n",
       " 38,\n",
       " [43, 56]]"
      ]
     },
     "execution_count": 239,
     "metadata": {},
     "output_type": "execute_result"
    }
   ],
   "source": [
    "ls*3"
   ]
  },
  {
   "cell_type": "code",
   "execution_count": null,
   "id": "82c08da2-d78b-476e-af43-5ac4790742aa",
   "metadata": {},
   "outputs": [],
   "source": []
  }
 ],
 "metadata": {
  "kernelspec": {
   "display_name": "Python 3 (ipykernel)",
   "language": "python",
   "name": "python3"
  },
  "language_info": {
   "codemirror_mode": {
    "name": "ipython",
    "version": 3
   },
   "file_extension": ".py",
   "mimetype": "text/x-python",
   "name": "python",
   "nbconvert_exporter": "python",
   "pygments_lexer": "ipython3",
   "version": "3.10.4"
  }
 },
 "nbformat": 4,
 "nbformat_minor": 5
}
