{
 "cells": [
  {
   "cell_type": "markdown",
   "id": "85b67506-416e-479a-af06-9e24cdf61291",
   "metadata": {},
   "source": [
    "## Tuples"
   ]
  },
  {
   "cell_type": "code",
   "execution_count": 2,
   "id": "5493e042-31f5-4f73-adbb-1f7180b256ab",
   "metadata": {},
   "outputs": [
    {
     "data": {
      "text/plain": [
       "tuple"
      ]
     },
     "execution_count": 2,
     "metadata": {},
     "output_type": "execute_result"
    }
   ],
   "source": [
    "# Tuples() : a collection, immutable\n",
    "t=() # empty tuple\n",
    "type(t)"
   ]
  },
  {
   "cell_type": "code",
   "execution_count": 3,
   "id": "8488f258-ad76-4c14-8ab8-824de79bbe2b",
   "metadata": {},
   "outputs": [
    {
     "data": {
      "text/plain": [
       "tuple"
      ]
     },
     "execution_count": 3,
     "metadata": {},
     "output_type": "execute_result"
    }
   ],
   "source": [
    "t=tuple()\n",
    "type(t)"
   ]
  },
  {
   "cell_type": "code",
   "execution_count": null,
   "id": "8a12a26a-7d95-48c4-9dfb-c22c99939707",
   "metadata": {},
   "outputs": [],
   "source": [
    "t1=(234,34,\"tiki\",.45,True)"
   ]
  },
  {
   "cell_type": "code",
   "execution_count": 5,
   "id": "b20bcf09-1472-461f-b452-72b00915e3b2",
   "metadata": {},
   "outputs": [
    {
     "data": {
      "text/plain": [
       "(234, 34, 'tiki')"
      ]
     },
     "execution_count": 5,
     "metadata": {},
     "output_type": "execute_result"
    }
   ],
   "source": [
    "# tuple slicing\n",
    "t1[0:3]"
   ]
  },
  {
   "cell_type": "code",
   "execution_count": 6,
   "id": "864b507d-8a44-40f5-b9d6-3be0e99b27f1",
   "metadata": {},
   "outputs": [
    {
     "data": {
      "text/plain": [
       "(True, 0.45, 'tiki', 34, 234)"
      ]
     },
     "execution_count": 6,
     "metadata": {},
     "output_type": "execute_result"
    }
   ],
   "source": [
    "# reverse order\n",
    "t1[::-1]"
   ]
  },
  {
   "cell_type": "code",
   "execution_count": 7,
   "id": "d204c706-ab79-46f5-b289-2138f36b5fe7",
   "metadata": {},
   "outputs": [
    {
     "data": {
      "text/plain": [
       "True"
      ]
     },
     "execution_count": 7,
     "metadata": {},
     "output_type": "execute_result"
    }
   ],
   "source": [
    "t1[-1]"
   ]
  },
  {
   "cell_type": "code",
   "execution_count": 8,
   "id": "1dece53b-daef-4e39-919d-5ced01b3dc9c",
   "metadata": {},
   "outputs": [
    {
     "data": {
      "text/plain": [
       "(True,)"
      ]
     },
     "execution_count": 8,
     "metadata": {},
     "output_type": "execute_result"
    }
   ],
   "source": [
    "t1[-1::]"
   ]
  },
  {
   "cell_type": "code",
   "execution_count": 9,
   "id": "39657d02-863e-460a-9f3d-8fde9cc4c80d",
   "metadata": {},
   "outputs": [],
   "source": [
    "l1=[234,34,\"tiki\",.45,True]"
   ]
  },
  {
   "cell_type": "code",
   "execution_count": 10,
   "id": "7c5a3129-e480-41e2-a596-5eeb49310f40",
   "metadata": {},
   "outputs": [],
   "source": [
    "#modify 1st index value, mutable entity\n",
    "l1[0]='behera'"
   ]
  },
  {
   "cell_type": "code",
   "execution_count": 11,
   "id": "6299dbed-5d03-4ae5-9de9-142bb9ef1e0a",
   "metadata": {},
   "outputs": [
    {
     "data": {
      "text/plain": [
       "['behera', 34, 'tiki', 0.45, True]"
      ]
     },
     "execution_count": 11,
     "metadata": {},
     "output_type": "execute_result"
    }
   ],
   "source": [
    "l1"
   ]
  },
  {
   "cell_type": "code",
   "execution_count": 12,
   "id": "7e2134e5-0c5c-4e35-88cc-8fd49276585e",
   "metadata": {},
   "outputs": [
    {
     "ename": "TypeError",
     "evalue": "'tuple' object does not support item assignment",
     "output_type": "error",
     "traceback": [
      "\u001b[1;31m---------------------------------------------------------------------------\u001b[0m",
      "\u001b[1;31mTypeError\u001b[0m                                 Traceback (most recent call last)",
      "Input \u001b[1;32mIn [12]\u001b[0m, in \u001b[0;36m<cell line: 2>\u001b[1;34m()\u001b[0m\n\u001b[0;32m      1\u001b[0m \u001b[38;5;66;03m# item reassignment not possible in tuples\u001b[39;00m\n\u001b[1;32m----> 2\u001b[0m t1[\u001b[38;5;241m0\u001b[39m]\u001b[38;5;241m=\u001b[39m\u001b[38;5;124m'\u001b[39m\u001b[38;5;124mbehera\u001b[39m\u001b[38;5;124m'\u001b[39m\n",
      "\u001b[1;31mTypeError\u001b[0m: 'tuple' object does not support item assignment"
     ]
    }
   ],
   "source": [
    "# item reassignment not possible in tuples\n",
    "t1[0]='behera'"
   ]
  },
  {
   "cell_type": "code",
   "execution_count": 13,
   "id": "7fed39bd-843b-4151-863d-f9f224d579c3",
   "metadata": {},
   "outputs": [],
   "source": [
    "t2=(24,54,565)"
   ]
  },
  {
   "cell_type": "code",
   "execution_count": 14,
   "id": "a5979e35-e373-45c0-b2e4-d4c231db6142",
   "metadata": {},
   "outputs": [
    {
     "data": {
      "text/plain": [
       "(234, 34, 'tiki', 0.45, True, 24, 54, 565)"
      ]
     },
     "execution_count": 14,
     "metadata": {},
     "output_type": "execute_result"
    }
   ],
   "source": [
    "# we can perform an append operation in tuple, mutable concept works here\n",
    "t1+t2"
   ]
  },
  {
   "cell_type": "code",
   "execution_count": 18,
   "id": "5de7f0f1-a89a-4c2e-908d-1eccd78e5c12",
   "metadata": {},
   "outputs": [
    {
     "data": {
      "text/plain": [
       "'i'"
      ]
     },
     "execution_count": 18,
     "metadata": {},
     "output_type": "execute_result"
    }
   ],
   "source": [
    "t1[0:4][2][1]"
   ]
  },
  {
   "cell_type": "code",
   "execution_count": 38,
   "id": "68cc2504-7125-4731-9e56-41920720683d",
   "metadata": {},
   "outputs": [
    {
     "data": {
      "text/plain": [
       "(234,\n",
       " 34,\n",
       " 'tiki',\n",
       " 0.45,\n",
       " True,\n",
       " 234,\n",
       " 34,\n",
       " 'tiki',\n",
       " 0.45,\n",
       " True,\n",
       " 234,\n",
       " 34,\n",
       " 'tiki',\n",
       " 0.45,\n",
       " True)"
      ]
     },
     "execution_count": 38,
     "metadata": {},
     "output_type": "execute_result"
    }
   ],
   "source": [
    "t1*3 # multiply operation"
   ]
  },
  {
   "cell_type": "code",
   "execution_count": 40,
   "id": "f5cfa8d6-2a86-497f-9fe7-63b75843d03b",
   "metadata": {},
   "outputs": [
    {
     "data": {
      "text/plain": [
       "True"
      ]
     },
     "execution_count": 40,
     "metadata": {},
     "output_type": "execute_result"
    }
   ],
   "source": [
    ".45 in t1 # check elements available or not"
   ]
  },
  {
   "cell_type": "code",
   "execution_count": 41,
   "id": "a456282a-41df-4cfc-bfc4-f44e4dc4cb58",
   "metadata": {},
   "outputs": [
    {
     "data": {
      "text/plain": [
       "78"
      ]
     },
     "execution_count": 41,
     "metadata": {},
     "output_type": "execute_result"
    }
   ],
   "source": [
    "t3=(24,56,78)\n",
    "max(t3)"
   ]
  },
  {
   "cell_type": "code",
   "execution_count": 4,
   "id": "f1d97c2e-2a76-4c18-8fbf-c0da69a37079",
   "metadata": {},
   "outputs": [
    {
     "name": "stdout",
     "output_type": "stream",
     "text": [
      "rygyfy\n"
     ]
    },
    {
     "data": {
      "text/plain": [
       "0"
      ]
     },
     "execution_count": 5,
     "metadata": {},
     "output_type": "execute_result"
    }
   ],
   "source": [
    "t4=('rygyfy','rygyfy','wefgs','z')\n",
    "print(min(t4)\n",
    "t4.index('rygyfy')"
   ]
  },
  {
   "cell_type": "code",
   "execution_count": 22,
   "id": "b4538c32-723e-433d-aecf-25547dd25c70",
   "metadata": {},
   "outputs": [
    {
     "data": {
      "text/plain": [
       "2"
      ]
     },
     "execution_count": 22,
     "metadata": {},
     "output_type": "execute_result"
    }
   ],
   "source": [
    "t1.count(234)\n",
    "t4.count('rygyfy')"
   ]
  },
  {
   "cell_type": "code",
   "execution_count": 23,
   "id": "6766e755-96c1-47f1-bfb6-b0e54328116f",
   "metadata": {},
   "outputs": [],
   "source": [
    "#if you want to insert,append in tuple, you hv to convert it to list\n",
    "t5=56\n",
    "ls=list(t1) # tuple to list conversion"
   ]
  },
  {
   "cell_type": "code",
   "execution_count": 24,
   "id": "f6f8c2e7-4825-4832-b022-9fca60fedd7c",
   "metadata": {},
   "outputs": [
    {
     "data": {
      "text/plain": [
       "[234, 34, 'tiki', 0.45, True]"
      ]
     },
     "execution_count": 24,
     "metadata": {},
     "output_type": "execute_result"
    }
   ],
   "source": [
    "ls"
   ]
  },
  {
   "cell_type": "code",
   "execution_count": 25,
   "id": "70339f8a-f255-4354-9f61-6c2961ba9f8f",
   "metadata": {},
   "outputs": [],
   "source": [
    "ls.append(t5)"
   ]
  },
  {
   "cell_type": "code",
   "execution_count": 26,
   "id": "c1b8c1a6-2843-4968-a939-0544ce13f3c8",
   "metadata": {},
   "outputs": [
    {
     "data": {
      "text/plain": [
       "[234, 34, 'tiki', 0.45, True, 56]"
      ]
     },
     "execution_count": 26,
     "metadata": {},
     "output_type": "execute_result"
    }
   ],
   "source": [
    "ls"
   ]
  },
  {
   "cell_type": "code",
   "execution_count": 59,
   "id": "0dbc1bdc-9847-4114-a547-3ee9fbd47d6d",
   "metadata": {},
   "outputs": [
    {
     "data": {
      "text/plain": [
       "(234, 34, 'tiki', 0.45, True, 56)"
      ]
     },
     "execution_count": 59,
     "metadata": {},
     "output_type": "execute_result"
    }
   ],
   "source": [
    "tuple(ls) # converting list to tuple"
   ]
  },
  {
   "cell_type": "code",
   "execution_count": 24,
   "id": "a3a6fcf3-428a-4adb-bcd7-a97ac4e6b7ef",
   "metadata": {},
   "outputs": [],
   "source": [
    "t=((3,4,5,6,7),('abc',23,32),'z',[67,87,87]) #tuples contains any types of elements"
   ]
  },
  {
   "cell_type": "code",
   "execution_count": 63,
   "id": "76bfb49a-4b9a-4346-b130-9cc509cba306",
   "metadata": {},
   "outputs": [
    {
     "data": {
      "text/plain": [
       "(5, 6, 7)"
      ]
     },
     "execution_count": 63,
     "metadata": {},
     "output_type": "execute_result"
    }
   ],
   "source": [
    "t[0][2:5]"
   ]
  },
  {
   "cell_type": "code",
   "execution_count": 64,
   "id": "631de2bd-bdb9-4464-8c15-aa94bb02eb69",
   "metadata": {},
   "outputs": [
    {
     "data": {
      "text/plain": [
       "[87, 87]"
      ]
     },
     "execution_count": 64,
     "metadata": {},
     "output_type": "execute_result"
    }
   ],
   "source": [
    "t[3][1:3]"
   ]
  },
  {
   "cell_type": "code",
   "execution_count": 25,
   "id": "246be51f-2351-4800-b2e1-001c8128a76e",
   "metadata": {},
   "outputs": [
    {
     "name": "stdout",
     "output_type": "stream",
     "text": [
      "3 (3, 4, 5, 6, 7)\n",
      "abc ('abc', 23, 32)\n"
     ]
    }
   ],
   "source": [
    "for i in t:\n",
    "    if type(i)==tuple:\n",
    "        print(i[0],i) # getting 1st element of each tuple"
   ]
  },
  {
   "cell_type": "code",
   "execution_count": 68,
   "id": "da932171-1176-44d3-8b76-e37174821b34",
   "metadata": {},
   "outputs": [
    {
     "data": {
      "text/plain": [
       "(234, 34, 'tiki', 0.45, True)"
      ]
     },
     "execution_count": 68,
     "metadata": {},
     "output_type": "execute_result"
    }
   ],
   "source": [
    "t1"
   ]
  },
  {
   "cell_type": "code",
   "execution_count": 69,
   "id": "7a717c25-78c8-4e4e-bb69-1f9616d34aa4",
   "metadata": {},
   "outputs": [
    {
     "data": {
      "text/plain": [
       "(24, 54, 565)"
      ]
     },
     "execution_count": 69,
     "metadata": {},
     "output_type": "execute_result"
    }
   ],
   "source": [
    "t2"
   ]
  },
  {
   "cell_type": "code",
   "execution_count": 70,
   "id": "c1d85c49-7fce-4b07-b21a-9f941c1131d7",
   "metadata": {},
   "outputs": [
    {
     "name": "stdout",
     "output_type": "stream",
     "text": [
      "not same\n"
     ]
    }
   ],
   "source": [
    "if len(t1)== len(t2):\n",
    "    print('same')\n",
    "else:\n",
    "    print('not same')"
   ]
  },
  {
   "cell_type": "code",
   "execution_count": 71,
   "id": "b84c1d32-5455-425b-a6ae-d50796e795a8",
   "metadata": {},
   "outputs": [
    {
     "data": {
      "text/plain": [
       "((3, 4, 5, 6, 7), ('abc', 23, 32), 'z', [67, 87, 87])"
      ]
     },
     "execution_count": 71,
     "metadata": {},
     "output_type": "execute_result"
    }
   ],
   "source": [
    "t"
   ]
  },
  {
   "cell_type": "code",
   "execution_count": 73,
   "id": "16ed54f7-9567-4299-8a57-755e3874aabf",
   "metadata": {},
   "outputs": [],
   "source": [
    "x=(234, 34, 'tiki', 0.45, 34,34 ,True,'behera')"
   ]
  },
  {
   "cell_type": "code",
   "execution_count": 74,
   "id": "7924820f-e9f7-4b98-9102-36debd8d6e61",
   "metadata": {},
   "outputs": [
    {
     "name": "stdin",
     "output_type": "stream",
     "text": [
      "take input: behera\n"
     ]
    },
    {
     "name": "stdout",
     "output_type": "stream",
     "text": [
      "present\n"
     ]
    }
   ],
   "source": [
    "i=input('take input:')\n",
    "if i in x:\n",
    "    print('present')\n",
    "else:\n",
    "    print('unknown')"
   ]
  },
  {
   "cell_type": "code",
   "execution_count": 75,
   "id": "21b15bb8-5682-4449-ad2b-9255b1fb3eea",
   "metadata": {},
   "outputs": [],
   "source": [
    "# to delete a tuple or list we are using del operations\n",
    "del(t5)"
   ]
  },
  {
   "cell_type": "code",
   "execution_count": 76,
   "id": "750c795e-721d-45e4-a57c-41bc71f60051",
   "metadata": {},
   "outputs": [
    {
     "ename": "NameError",
     "evalue": "name 't5' is not defined",
     "output_type": "error",
     "traceback": [
      "\u001b[1;31m---------------------------------------------------------------------------\u001b[0m",
      "\u001b[1;31mNameError\u001b[0m                                 Traceback (most recent call last)",
      "Input \u001b[1;32mIn [76]\u001b[0m, in \u001b[0;36m<cell line: 1>\u001b[1;34m()\u001b[0m\n\u001b[1;32m----> 1\u001b[0m \u001b[43mt5\u001b[49m\n",
      "\u001b[1;31mNameError\u001b[0m: name 't5' is not defined"
     ]
    }
   ],
   "source": [
    "t5"
   ]
  },
  {
   "cell_type": "code",
   "execution_count": 77,
   "id": "12beba16-0d4f-445b-bf88-c3572d46b071",
   "metadata": {},
   "outputs": [
    {
     "data": {
      "text/plain": [
       "['behera', 34, 'tiki', 0.45, True]"
      ]
     },
     "execution_count": 77,
     "metadata": {},
     "output_type": "execute_result"
    }
   ],
   "source": [
    "l1"
   ]
  },
  {
   "cell_type": "code",
   "execution_count": 79,
   "id": "70a8b8f3-7435-4bb2-b66b-2711a499ee79",
   "metadata": {},
   "outputs": [
    {
     "data": {
      "text/plain": [
       "(234, 34, 'tiki', 0.45, True)"
      ]
     },
     "execution_count": 79,
     "metadata": {},
     "output_type": "execute_result"
    }
   ],
   "source": [
    "t1 #pop(),remove() operation not availablee due to immutability"
   ]
  },
  {
   "cell_type": "markdown",
   "id": "b2972e65-c1bc-4e66-a28d-3f433ffd77b2",
   "metadata": {},
   "source": [
    " ## set"
   ]
  },
  {
   "cell_type": "code",
   "execution_count": 27,
   "id": "be33bd02-4294-4b80-a16d-8c8d86887245",
   "metadata": {},
   "outputs": [
    {
     "data": {
      "text/plain": [
       "set"
      ]
     },
     "execution_count": 27,
     "metadata": {},
     "output_type": "execute_result"
    }
   ],
   "source": [
    "# set--> store only unique values and case sensitive and unordered collection of data\n",
    "s=set() # empty set, if we gives only {}, it treat as a dictionary\n",
    "type(s)"
   ]
  },
  {
   "cell_type": "code",
   "execution_count": 28,
   "id": "b42837ad-4dca-4909-b0ee-ddb425e2a862",
   "metadata": {},
   "outputs": [],
   "source": [
    "s1={45,45,45,6,6,6,34,78,'tiki','behera',False,False}"
   ]
  },
  {
   "cell_type": "code",
   "execution_count": 29,
   "id": "82a27b7a-658a-4b90-93ae-9c8c1b9fea93",
   "metadata": {},
   "outputs": [
    {
     "data": {
      "text/plain": [
       "{34, 45, 6, 78, False, 'behera', 'tiki'}"
      ]
     },
     "execution_count": 29,
     "metadata": {},
     "output_type": "execute_result"
    }
   ],
   "source": [
    "s1"
   ]
  },
  {
   "cell_type": "code",
   "execution_count": 30,
   "id": "8ff7afb6-a0c1-4036-9834-84f5f6b5f205",
   "metadata": {},
   "outputs": [
    {
     "name": "stdout",
     "output_type": "stream",
     "text": [
      "False\n",
      "34\n",
      "tiki\n",
      "6\n",
      "behera\n",
      "45\n",
      "78\n"
     ]
    }
   ],
   "source": [
    "for i in s1:\n",
    "    print(i)"
   ]
  },
  {
   "cell_type": "code",
   "execution_count": 31,
   "id": "70e8b8c1-ddb0-4cb0-a53e-04a10a1e05cf",
   "metadata": {},
   "outputs": [
    {
     "data": {
      "text/plain": [
       "True"
      ]
     },
     "execution_count": 31,
     "metadata": {},
     "output_type": "execute_result"
    }
   ],
   "source": [
    "6 in s1"
   ]
  },
  {
   "cell_type": "code",
   "execution_count": 34,
   "id": "340ee211-1118-4e46-b440-981c080715c8",
   "metadata": {},
   "outputs": [
    {
     "ename": "TypeError",
     "evalue": "'set' object is not subscriptable",
     "output_type": "error",
     "traceback": [
      "\u001b[1;31m---------------------------------------------------------------------------\u001b[0m",
      "\u001b[1;31mTypeError\u001b[0m                                 Traceback (most recent call last)",
      "Input \u001b[1;32mIn [34]\u001b[0m, in \u001b[0;36m<cell line: 2>\u001b[1;34m()\u001b[0m\n\u001b[0;32m      1\u001b[0m \u001b[38;5;66;03m# indexing operations, we can't do because its an unordered collection\u001b[39;00m\n\u001b[1;32m----> 2\u001b[0m \u001b[43ms1\u001b[49m\u001b[43m[\u001b[49m\u001b[38;5;241;43m0\u001b[39;49m\u001b[43m]\u001b[49m\n",
      "\u001b[1;31mTypeError\u001b[0m: 'set' object is not subscriptable"
     ]
    }
   ],
   "source": [
    "# indexing operations, we can't do because its an unordered collection\n",
    "s1[0] # set is mutable, elements of sets are immutable"
   ]
  },
  {
   "cell_type": "code",
   "execution_count": 55,
   "id": "a81c0c55-3def-4c18-b89f-ae74cfb1b146",
   "metadata": {},
   "outputs": [],
   "source": [
    "# we can add element using add(), nested list/tuple insertion not possible\n",
    "s.add(45)\n",
    "s.add('tiki')\n",
    "s.add(((1,2),(1,2,3)))\n",
    "#s.add({1:'xy',2:3.5}) -->we can't add"
   ]
  },
  {
   "cell_type": "code",
   "execution_count": 56,
   "id": "b480698e-8687-46d0-abf0-38c1d3b713fe",
   "metadata": {},
   "outputs": [
    {
     "data": {
      "text/plain": [
       "{((1, 2), (1, 2, 3)), 234, 345, 45, 'rtyi', 'tiki'}"
      ]
     },
     "execution_count": 56,
     "metadata": {},
     "output_type": "execute_result"
    }
   ],
   "source": [
    "s"
   ]
  },
  {
   "cell_type": "code",
   "execution_count": 57,
   "id": "d9c96654-7043-4785-ba5f-8cd608d971a6",
   "metadata": {},
   "outputs": [],
   "source": [
    "#remove operation\n",
    "s.remove(45)"
   ]
  },
  {
   "cell_type": "code",
   "execution_count": 58,
   "id": "4ea5596a-1294-483b-850e-cdefb3c5861a",
   "metadata": {},
   "outputs": [
    {
     "data": {
      "text/plain": [
       "{((1, 2), (1, 2, 3)), 234, 345, 'rtyi', 'tiki'}"
      ]
     },
     "execution_count": 58,
     "metadata": {},
     "output_type": "execute_result"
    }
   ],
   "source": [
    "s"
   ]
  },
  {
   "cell_type": "code",
   "execution_count": 59,
   "id": "c9aa104b-f4fc-491f-8ddd-2a4bc291658b",
   "metadata": {},
   "outputs": [],
   "source": [
    "# clear(): wipe out all the data of the set\n",
    "s.clear() #gives empty set"
   ]
  },
  {
   "cell_type": "code",
   "execution_count": 60,
   "id": "10a8f902-c0fc-4732-8987-250676aed8d7",
   "metadata": {},
   "outputs": [
    {
     "data": {
      "text/plain": [
       "set()"
      ]
     },
     "execution_count": 60,
     "metadata": {},
     "output_type": "execute_result"
    }
   ],
   "source": [
    "s"
   ]
  },
  {
   "cell_type": "code",
   "execution_count": 61,
   "id": "dace66ad-eafd-4343-88a7-3555b2e3e64d",
   "metadata": {},
   "outputs": [],
   "source": [
    "s.add(234)\n",
    "s.add(345)\n",
    "s.add('rtyi')\n"
   ]
  },
  {
   "cell_type": "code",
   "execution_count": 62,
   "id": "2f9bf32f-9ea9-4ff0-8e83-bbf5d9c3b65d",
   "metadata": {},
   "outputs": [
    {
     "data": {
      "text/plain": [
       "{234, 345, 'rtyi'}"
      ]
     },
     "execution_count": 62,
     "metadata": {},
     "output_type": "execute_result"
    }
   ],
   "source": [
    "s"
   ]
  },
  {
   "cell_type": "code",
   "execution_count": 124,
   "id": "4123cc09-6ee7-4a7b-966e-c9d72969ba1f",
   "metadata": {},
   "outputs": [
    {
     "data": {
      "text/plain": [
       "['rtyi', 345, 234]"
      ]
     },
     "execution_count": 124,
     "metadata": {},
     "output_type": "execute_result"
    }
   ],
   "source": [
    "# convert set to list/tuples\n",
    "list(s)"
   ]
  },
  {
   "cell_type": "code",
   "execution_count": 126,
   "id": "f0a89778-3d5b-4d92-aa5f-ae64434b375e",
   "metadata": {},
   "outputs": [
    {
     "data": {
      "text/plain": [
       "{234, 345, 'rtyi'}"
      ]
     },
     "execution_count": 126,
     "metadata": {},
     "output_type": "execute_result"
    }
   ],
   "source": [
    "set(s) # convert list/tuple to set"
   ]
  },
  {
   "cell_type": "code",
   "execution_count": 128,
   "id": "47b5714d-1588-40d8-af2e-a1886118dcc0",
   "metadata": {},
   "outputs": [
    {
     "name": "stdout",
     "output_type": "stream",
     "text": [
      "rtyi\n",
      "345\n",
      "234\n"
     ]
    }
   ],
   "source": [
    "for i in s:\n",
    "    print(i)"
   ]
  },
  {
   "cell_type": "code",
   "execution_count": 79,
   "id": "48913f34-e5f1-4ecb-a58d-d0c7c44b58fc",
   "metadata": {},
   "outputs": [],
   "source": [
    "p={2,34,5}\n",
    "q={23,6,7}"
   ]
  },
  {
   "cell_type": "code",
   "execution_count": 82,
   "id": "be916ccd-3bf2-49ec-aee8-ab2bf86aaf09",
   "metadata": {},
   "outputs": [
    {
     "ename": "TypeError",
     "evalue": "unsupported operand type(s) for *: 'set' and 'set'",
     "output_type": "error",
     "traceback": [
      "\u001b[1;31m---------------------------------------------------------------------------\u001b[0m",
      "\u001b[1;31mTypeError\u001b[0m                                 Traceback (most recent call last)",
      "Input \u001b[1;32mIn [82]\u001b[0m, in \u001b[0;36m<cell line: 1>\u001b[1;34m()\u001b[0m\n\u001b[1;32m----> 1\u001b[0m \u001b[43mp\u001b[49m\u001b[38;5;241;43m*\u001b[39;49m\u001b[43mq\u001b[49m\n",
      "\u001b[1;31mTypeError\u001b[0m: unsupported operand type(s) for *: 'set' and 'set'"
     ]
    }
   ],
   "source": [
    "p*q"
   ]
  },
  {
   "cell_type": "markdown",
   "id": "86f91aee-0530-45f8-bb21-dc4a8fce37a9",
   "metadata": {},
   "source": [
    "## dictionary :\n",
    "hold key and value pair and distinct/unique or updated data"
   ]
  },
  {
   "cell_type": "code",
   "execution_count": 63,
   "id": "55d1e3ef-5ab5-4138-b3c3-79161e515923",
   "metadata": {},
   "outputs": [
    {
     "data": {
      "text/plain": [
       "dict"
      ]
     },
     "execution_count": 63,
     "metadata": {},
     "output_type": "execute_result"
    }
   ],
   "source": [
    "d={}\n",
    "type(d)"
   ]
  },
  {
   "cell_type": "code",
   "execution_count": 64,
   "id": "4f64c5c2-305d-4bec-b9e6-3b064e27cc67",
   "metadata": {},
   "outputs": [
    {
     "data": {
      "text/plain": [
       "set"
      ]
     },
     "execution_count": 64,
     "metadata": {},
     "output_type": "execute_result"
    }
   ],
   "source": [
    "d1={78,90}\n",
    "type(d1) # because set also gives output in {}, but dictionary takes keys and values"
   ]
  },
  {
   "cell_type": "code",
   "execution_count": 65,
   "id": "81600c40-15ab-471e-afa2-32994f8f5105",
   "metadata": {},
   "outputs": [],
   "source": [
    "d={'name':'tiki','age':21,'age':22}"
   ]
  },
  {
   "cell_type": "code",
   "execution_count": 66,
   "id": "ba351699-d0ec-46d3-9e53-1b7a6710d3ae",
   "metadata": {},
   "outputs": [
    {
     "data": {
      "text/plain": [
       "{'name': 'tiki', 'age': 22}"
      ]
     },
     "execution_count": 66,
     "metadata": {},
     "output_type": "execute_result"
    }
   ],
   "source": [
    "d"
   ]
  },
  {
   "cell_type": "code",
   "execution_count": 67,
   "id": "ba46a3af-2ea4-493c-9e34-d49510d81870",
   "metadata": {},
   "outputs": [],
   "source": [
    "# key can be number,string,bool etc not any special character\n",
    "d2={'name':'tiku',True:90,12:24,'_nm':'tiku',1:(10,20)}"
   ]
  },
  {
   "cell_type": "code",
   "execution_count": 68,
   "id": "cef67131-453f-421e-baa5-0f989f049455",
   "metadata": {},
   "outputs": [
    {
     "data": {
      "text/plain": [
       "{'name': 'tiku', True: (10, 20), 12: 24, '_nm': 'tiku'}"
      ]
     },
     "execution_count": 68,
     "metadata": {},
     "output_type": "execute_result"
    }
   ],
   "source": [
    "d2"
   ]
  },
  {
   "cell_type": "code",
   "execution_count": 90,
   "id": "174de7b0-ee73-40f3-af94-8f73d4521a72",
   "metadata": {},
   "outputs": [
    {
     "ename": "TypeError",
     "evalue": "unsupported operand type(s) for *: 'dict' and 'int'",
     "output_type": "error",
     "traceback": [
      "\u001b[1;31m---------------------------------------------------------------------------\u001b[0m",
      "\u001b[1;31mTypeError\u001b[0m                                 Traceback (most recent call last)",
      "Input \u001b[1;32mIn [90]\u001b[0m, in \u001b[0;36m<cell line: 1>\u001b[1;34m()\u001b[0m\n\u001b[1;32m----> 1\u001b[0m r\u001b[38;5;241m=\u001b[39m\u001b[43md\u001b[49m\u001b[38;5;241;43m*\u001b[39;49m\u001b[38;5;241;43m2\u001b[39;49m\n",
      "\u001b[1;31mTypeError\u001b[0m: unsupported operand type(s) for *: 'dict' and 'int'"
     ]
    }
   ],
   "source": [
    "r=d*2"
   ]
  },
  {
   "cell_type": "markdown",
   "id": "066c60de-9db3-4d02-a3ac-b9b1c5902faf",
   "metadata": {},
   "source": [
    "### value wise we can store tuples,dict,sets,list\n",
    "### key wise we can store tuples"
   ]
  },
  {
   "cell_type": "code",
   "execution_count": 70,
   "id": "28206137-6ccb-4e02-abf6-116e1dd22a53",
   "metadata": {},
   "outputs": [],
   "source": [
    "x3={(3,4):45,67:(1,2,3,4),(1,2,3):568,'abc':[1,2,3,4,4,5]}"
   ]
  },
  {
   "cell_type": "code",
   "execution_count": 71,
   "id": "ccf9559e-ee4e-4784-95b7-e8c844bbc237",
   "metadata": {},
   "outputs": [
    {
     "data": {
      "text/plain": [
       "{(3, 4): 45, 67: (1, 2, 3, 4), (1, 2, 3): 568, 'abc': [1, 2, 3, 4, 4, 5]}"
      ]
     },
     "execution_count": 71,
     "metadata": {},
     "output_type": "execute_result"
    }
   ],
   "source": [
    "x3"
   ]
  },
  {
   "cell_type": "code",
   "execution_count": 77,
   "id": "157cda1f-b6e8-44de-a92c-f8466535065d",
   "metadata": {},
   "outputs": [
    {
     "data": {
      "text/plain": [
       "4"
      ]
     },
     "execution_count": 77,
     "metadata": {},
     "output_type": "execute_result"
    }
   ],
   "source": [
    "x3['abc'][3]"
   ]
  },
  {
   "cell_type": "code",
   "execution_count": 73,
   "id": "e9ab1fbb-f0d5-40b7-a41b-b704cd5be25a",
   "metadata": {},
   "outputs": [
    {
     "data": {
      "text/plain": [
       "list"
      ]
     },
     "execution_count": 73,
     "metadata": {},
     "output_type": "execute_result"
    }
   ],
   "source": [
    "type(x3['abc'])"
   ]
  },
  {
   "cell_type": "code",
   "execution_count": 29,
   "id": "16496b6f-44e1-4cca-afbc-21fc62afe4cc",
   "metadata": {},
   "outputs": [
    {
     "ename": "TypeError",
     "evalue": "unsupported operand type(s) for *: 'dict' and 'int'",
     "output_type": "error",
     "traceback": [
      "\u001b[1;31m---------------------------------------------------------------------------\u001b[0m",
      "\u001b[1;31mTypeError\u001b[0m                                 Traceback (most recent call last)",
      "Input \u001b[1;32mIn [29]\u001b[0m, in \u001b[0;36m<cell line: 2>\u001b[1;34m()\u001b[0m\n\u001b[0;32m      1\u001b[0m \u001b[38;5;66;03m# we can't perform +, * operation in dict\u001b[39;00m\n\u001b[1;32m----> 2\u001b[0m \u001b[43md\u001b[49m\u001b[38;5;241;43m*\u001b[39;49m\u001b[38;5;241;43m3\u001b[39;49m\n",
      "\u001b[1;31mTypeError\u001b[0m: unsupported operand type(s) for *: 'dict' and 'int'"
     ]
    }
   ],
   "source": [
    "# we can't perform +, * operation in dict\n",
    "d*3"
   ]
  },
  {
   "cell_type": "code",
   "execution_count": 83,
   "id": "7875dc81-8f04-47e0-a0d5-579658a42717",
   "metadata": {},
   "outputs": [],
   "source": [
    "d={'name': 'tiki', 'age': 22,'k4':[1,2,3]}"
   ]
  },
  {
   "cell_type": "code",
   "execution_count": 84,
   "id": "91ec918f-521f-406e-9650-0d9cfc685406",
   "metadata": {},
   "outputs": [
    {
     "data": {
      "text/plain": [
       "{'name': 'tiki', 'age': 22, 'k4': [1, 2, 3]}"
      ]
     },
     "execution_count": 84,
     "metadata": {},
     "output_type": "execute_result"
    }
   ],
   "source": [
    "d"
   ]
  },
  {
   "cell_type": "code",
   "execution_count": 85,
   "id": "6c2a3a9d-1036-46ae-a2d6-a5b15bfff193",
   "metadata": {},
   "outputs": [],
   "source": [
    "d['k4']=332 #assignment operation we can perform"
   ]
  },
  {
   "cell_type": "code",
   "execution_count": 86,
   "id": "1fb0eb63-7ba2-42d8-8c4f-ffd593d319ff",
   "metadata": {},
   "outputs": [
    {
     "data": {
      "text/plain": [
       "{'name': 'tiki', 'age': 22, 'k4': 332}"
      ]
     },
     "execution_count": 86,
     "metadata": {},
     "output_type": "execute_result"
    }
   ],
   "source": [
    "d"
   ]
  },
  {
   "cell_type": "code",
   "execution_count": 87,
   "id": "b5cd4ce9-fab2-4f2c-9231-259decc4f947",
   "metadata": {},
   "outputs": [],
   "source": [
    "# d['k4'] -= 10 \n",
    "d['k4']=d['k4']-10 # both are same"
   ]
  },
  {
   "cell_type": "code",
   "execution_count": 35,
   "id": "bea78299-c02d-4d30-87d4-758b5b76fb60",
   "metadata": {},
   "outputs": [
    {
     "data": {
      "text/plain": [
       "{'name': 'tiki', 'age': 22, 'k4': 322}"
      ]
     },
     "execution_count": 35,
     "metadata": {},
     "output_type": "execute_result"
    }
   ],
   "source": [
    "d"
   ]
  },
  {
   "cell_type": "code",
   "execution_count": 36,
   "id": "3fc727b6-bf79-4929-b7fb-f76bf72f907e",
   "metadata": {},
   "outputs": [
    {
     "data": {
      "text/plain": [
       "True"
      ]
     },
     "execution_count": 36,
     "metadata": {},
     "output_type": "execute_result"
    }
   ],
   "source": [
    "'k4' in d.keys()"
   ]
  },
  {
   "cell_type": "code",
   "execution_count": 37,
   "id": "9acdcbf5-d71f-4665-9192-0acf80c6c6fe",
   "metadata": {},
   "outputs": [
    {
     "data": {
      "text/plain": [
       "dict_keys(['name', 'age', 'k4'])"
      ]
     },
     "execution_count": 37,
     "metadata": {},
     "output_type": "execute_result"
    }
   ],
   "source": [
    "#to fetch all the keys\n",
    "d.keys()"
   ]
  },
  {
   "cell_type": "code",
   "execution_count": 93,
   "id": "cc8e5beb-e58e-4c5c-8f3e-2ad950bcf245",
   "metadata": {},
   "outputs": [
    {
     "name": "stdout",
     "output_type": "stream",
     "text": [
      "tiki\n",
      "22\n",
      "322\n"
     ]
    }
   ],
   "source": [
    "for i in d.keys():\n",
    "    print(d[i]) # to fetch respective values of the keys"
   ]
  },
  {
   "cell_type": "code",
   "execution_count": 96,
   "id": "7eb7c36a-af4b-4c78-8116-6a7e02223123",
   "metadata": {},
   "outputs": [
    {
     "data": {
      "text/plain": [
       "dict_items([('name', 'tiki'), ('age', 22), ('k4', 322)])"
      ]
     },
     "execution_count": 96,
     "metadata": {},
     "output_type": "execute_result"
    }
   ],
   "source": [
    "d.items() #gives the list of tuples of keys and respective values"
   ]
  },
  {
   "cell_type": "code",
   "execution_count": 98,
   "id": "723a93e9-f272-4464-ae5a-74b4afad77a4",
   "metadata": {},
   "outputs": [
    {
     "name": "stdout",
     "output_type": "stream",
     "text": [
      "('name', 'tiki')\n",
      "('age', 22)\n",
      "('k4', 322)\n"
     ]
    }
   ],
   "source": [
    "for i in d.items():\n",
    "    print(i)"
   ]
  },
  {
   "cell_type": "code",
   "execution_count": 101,
   "id": "8381a96e-779d-4e32-befe-30840758cfd4",
   "metadata": {},
   "outputs": [],
   "source": [
    "x5={(34,56,56):'kgg'}"
   ]
  },
  {
   "cell_type": "code",
   "execution_count": 103,
   "id": "38df2f3d-3d52-4955-959e-1e173b1802c3",
   "metadata": {},
   "outputs": [
    {
     "data": {
      "text/plain": [
       "'kgg'"
      ]
     },
     "execution_count": 103,
     "metadata": {},
     "output_type": "execute_result"
    }
   ],
   "source": [
    "x5[(34,56,56)]"
   ]
  },
  {
   "cell_type": "code",
   "execution_count": 43,
   "id": "29e24646-b357-4f60-9b90-16b2e7b7b94a",
   "metadata": {},
   "outputs": [
    {
     "data": {
      "text/plain": [
       "4"
      ]
     },
     "execution_count": 43,
     "metadata": {},
     "output_type": "execute_result"
    }
   ],
   "source": [
    "len(d2)"
   ]
  },
  {
   "cell_type": "code",
   "execution_count": 44,
   "id": "9ceb2a3a-603d-42fd-acec-cd053d3d2417",
   "metadata": {},
   "outputs": [
    {
     "data": {
      "text/plain": [
       "{'name': 'tiku', True: (10, 20), 12: 24, '_nm': 'tiku'}"
      ]
     },
     "execution_count": 44,
     "metadata": {},
     "output_type": "execute_result"
    }
   ],
   "source": [
    "d2"
   ]
  },
  {
   "cell_type": "code",
   "execution_count": 45,
   "id": "5147cdb0-b13c-449c-a86c-750c0037f1b1",
   "metadata": {},
   "outputs": [
    {
     "data": {
      "text/plain": [
       "{(3, 4): 45, 67: (1, 2, 3, 4), (1, 2, 3): 568, 'abc': [1, 2, 3, 4, 4, 5]}"
      ]
     },
     "execution_count": 45,
     "metadata": {},
     "output_type": "execute_result"
    }
   ],
   "source": [
    "x3"
   ]
  },
  {
   "cell_type": "markdown",
   "id": "8aa64c57-18d4-4cfa-870e-8184efa06dcd",
   "metadata": {},
   "source": [
    " ### HomeWork"
   ]
  },
  {
   "cell_type": "code",
   "execution_count": 46,
   "id": "8792d133-a04b-4d82-af92-5189023e19a6",
   "metadata": {},
   "outputs": [
    {
     "name": "stdin",
     "output_type": "stream",
     "text": [
      "enter a paragraph: Galilean and Cartesian theories about space, matter, and motion are at the foundation of the Scientific Revolution, which is understood to have culminated with the publication of Newton's Principia in 1687.[5] Newton's theories about space and time helped him explain the movement of objects. While his theory of space is considered the most influential in Physics, it emerged from his predecessors' ideas about the same. As one of the pioneers of modern science, Galileo revised the established Aristotelian and Ptolemaic ideas about a geocentric cosmos. He backed the Copernican theory that the universe was heliocentric, with a stationary sun at the center and the planets—including the Earth—revolving around the sun. If the Earth moved, the Aristotelian belief that its natural tendency was to remain at rest was in question. Galileo wanted to prove instead that the sun moved around its axis, that motion was as natural to an object as the state of rest. In other words, for Galileo, celestial bodies, including the Earth, were naturally inclined to move in circles. This view displaced another Aristotelian idea—that all objects gravitated towards their designated natural place-of-belonging.\n"
     ]
    }
   ],
   "source": [
    "inp=input('enter a paragraph:')"
   ]
  },
  {
   "cell_type": "code",
   "execution_count": 47,
   "id": "964563d9-0761-45f4-bde0-ef4e06e718ea",
   "metadata": {},
   "outputs": [],
   "source": [
    "r1=inp.split()"
   ]
  },
  {
   "cell_type": "code",
   "execution_count": 48,
   "id": "6f13a5fc-edd9-4d6c-8cb0-994125cf6624",
   "metadata": {},
   "outputs": [
    {
     "data": {
      "text/plain": [
       "['Galilean',\n",
       " 'and',\n",
       " 'Cartesian',\n",
       " 'theories',\n",
       " 'about',\n",
       " 'space,',\n",
       " 'matter,',\n",
       " 'and',\n",
       " 'motion',\n",
       " 'are',\n",
       " 'at',\n",
       " 'the',\n",
       " 'foundation',\n",
       " 'of',\n",
       " 'the',\n",
       " 'Scientific',\n",
       " 'Revolution,',\n",
       " 'which',\n",
       " 'is',\n",
       " 'understood',\n",
       " 'to',\n",
       " 'have',\n",
       " 'culminated',\n",
       " 'with',\n",
       " 'the',\n",
       " 'publication',\n",
       " 'of',\n",
       " \"Newton's\",\n",
       " 'Principia',\n",
       " 'in',\n",
       " '1687.[5]',\n",
       " \"Newton's\",\n",
       " 'theories',\n",
       " 'about',\n",
       " 'space',\n",
       " 'and',\n",
       " 'time',\n",
       " 'helped',\n",
       " 'him',\n",
       " 'explain',\n",
       " 'the',\n",
       " 'movement',\n",
       " 'of',\n",
       " 'objects.',\n",
       " 'While',\n",
       " 'his',\n",
       " 'theory',\n",
       " 'of',\n",
       " 'space',\n",
       " 'is',\n",
       " 'considered',\n",
       " 'the',\n",
       " 'most',\n",
       " 'influential',\n",
       " 'in',\n",
       " 'Physics,',\n",
       " 'it',\n",
       " 'emerged',\n",
       " 'from',\n",
       " 'his',\n",
       " \"predecessors'\",\n",
       " 'ideas',\n",
       " 'about',\n",
       " 'the',\n",
       " 'same.',\n",
       " 'As',\n",
       " 'one',\n",
       " 'of',\n",
       " 'the',\n",
       " 'pioneers',\n",
       " 'of',\n",
       " 'modern',\n",
       " 'science,',\n",
       " 'Galileo',\n",
       " 'revised',\n",
       " 'the',\n",
       " 'established',\n",
       " 'Aristotelian',\n",
       " 'and',\n",
       " 'Ptolemaic',\n",
       " 'ideas',\n",
       " 'about',\n",
       " 'a',\n",
       " 'geocentric',\n",
       " 'cosmos.',\n",
       " 'He',\n",
       " 'backed',\n",
       " 'the',\n",
       " 'Copernican',\n",
       " 'theory',\n",
       " 'that',\n",
       " 'the',\n",
       " 'universe',\n",
       " 'was',\n",
       " 'heliocentric,',\n",
       " 'with',\n",
       " 'a',\n",
       " 'stationary',\n",
       " 'sun',\n",
       " 'at',\n",
       " 'the',\n",
       " 'center',\n",
       " 'and',\n",
       " 'the',\n",
       " 'planets—including',\n",
       " 'the',\n",
       " 'Earth—revolving',\n",
       " 'around',\n",
       " 'the',\n",
       " 'sun.',\n",
       " 'If',\n",
       " 'the',\n",
       " 'Earth',\n",
       " 'moved,',\n",
       " 'the',\n",
       " 'Aristotelian',\n",
       " 'belief',\n",
       " 'that',\n",
       " 'its',\n",
       " 'natural',\n",
       " 'tendency',\n",
       " 'was',\n",
       " 'to',\n",
       " 'remain',\n",
       " 'at',\n",
       " 'rest',\n",
       " 'was',\n",
       " 'in',\n",
       " 'question.',\n",
       " 'Galileo',\n",
       " 'wanted',\n",
       " 'to',\n",
       " 'prove',\n",
       " 'instead',\n",
       " 'that',\n",
       " 'the',\n",
       " 'sun',\n",
       " 'moved',\n",
       " 'around',\n",
       " 'its',\n",
       " 'axis,',\n",
       " 'that',\n",
       " 'motion',\n",
       " 'was',\n",
       " 'as',\n",
       " 'natural',\n",
       " 'to',\n",
       " 'an',\n",
       " 'object',\n",
       " 'as',\n",
       " 'the',\n",
       " 'state',\n",
       " 'of',\n",
       " 'rest.',\n",
       " 'In',\n",
       " 'other',\n",
       " 'words,',\n",
       " 'for',\n",
       " 'Galileo,',\n",
       " 'celestial',\n",
       " 'bodies,',\n",
       " 'including',\n",
       " 'the',\n",
       " 'Earth,',\n",
       " 'were',\n",
       " 'naturally',\n",
       " 'inclined',\n",
       " 'to',\n",
       " 'move',\n",
       " 'in',\n",
       " 'circles.',\n",
       " 'This',\n",
       " 'view',\n",
       " 'displaced',\n",
       " 'another',\n",
       " 'Aristotelian',\n",
       " 'idea—that',\n",
       " 'all',\n",
       " 'objects',\n",
       " 'gravitated',\n",
       " 'towards',\n",
       " 'their',\n",
       " 'designated',\n",
       " 'natural',\n",
       " 'place-of-belonging.']"
      ]
     },
     "execution_count": 48,
     "metadata": {},
     "output_type": "execute_result"
    }
   ],
   "source": [
    "r1"
   ]
  },
  {
   "cell_type": "code",
   "execution_count": 49,
   "id": "4748747c-049c-45b2-a200-6acb3299e07a",
   "metadata": {},
   "outputs": [
    {
     "data": {
      "text/plain": [
       "{'1687.[5]',\n",
       " 'Aristotelian',\n",
       " 'As',\n",
       " 'Cartesian',\n",
       " 'Copernican',\n",
       " 'Earth',\n",
       " 'Earth,',\n",
       " 'Earth—revolving',\n",
       " 'Galilean',\n",
       " 'Galileo',\n",
       " 'Galileo,',\n",
       " 'He',\n",
       " 'If',\n",
       " 'In',\n",
       " \"Newton's\",\n",
       " 'Physics,',\n",
       " 'Principia',\n",
       " 'Ptolemaic',\n",
       " 'Revolution,',\n",
       " 'Scientific',\n",
       " 'This',\n",
       " 'While',\n",
       " 'a',\n",
       " 'about',\n",
       " 'all',\n",
       " 'an',\n",
       " 'and',\n",
       " 'another',\n",
       " 'are',\n",
       " 'around',\n",
       " 'as',\n",
       " 'at',\n",
       " 'axis,',\n",
       " 'backed',\n",
       " 'belief',\n",
       " 'bodies,',\n",
       " 'celestial',\n",
       " 'center',\n",
       " 'circles.',\n",
       " 'considered',\n",
       " 'cosmos.',\n",
       " 'culminated',\n",
       " 'designated',\n",
       " 'displaced',\n",
       " 'emerged',\n",
       " 'established',\n",
       " 'explain',\n",
       " 'for',\n",
       " 'foundation',\n",
       " 'from',\n",
       " 'geocentric',\n",
       " 'gravitated',\n",
       " 'have',\n",
       " 'heliocentric,',\n",
       " 'helped',\n",
       " 'him',\n",
       " 'his',\n",
       " 'ideas',\n",
       " 'idea—that',\n",
       " 'in',\n",
       " 'inclined',\n",
       " 'including',\n",
       " 'influential',\n",
       " 'instead',\n",
       " 'is',\n",
       " 'it',\n",
       " 'its',\n",
       " 'matter,',\n",
       " 'modern',\n",
       " 'most',\n",
       " 'motion',\n",
       " 'move',\n",
       " 'moved',\n",
       " 'moved,',\n",
       " 'movement',\n",
       " 'natural',\n",
       " 'naturally',\n",
       " 'object',\n",
       " 'objects',\n",
       " 'objects.',\n",
       " 'of',\n",
       " 'one',\n",
       " 'other',\n",
       " 'pioneers',\n",
       " 'place-of-belonging.',\n",
       " 'planets—including',\n",
       " \"predecessors'\",\n",
       " 'prove',\n",
       " 'publication',\n",
       " 'question.',\n",
       " 'remain',\n",
       " 'rest',\n",
       " 'rest.',\n",
       " 'revised',\n",
       " 'same.',\n",
       " 'science,',\n",
       " 'space',\n",
       " 'space,',\n",
       " 'state',\n",
       " 'stationary',\n",
       " 'sun',\n",
       " 'sun.',\n",
       " 'tendency',\n",
       " 'that',\n",
       " 'the',\n",
       " 'their',\n",
       " 'theories',\n",
       " 'theory',\n",
       " 'time',\n",
       " 'to',\n",
       " 'towards',\n",
       " 'understood',\n",
       " 'universe',\n",
       " 'view',\n",
       " 'wanted',\n",
       " 'was',\n",
       " 'were',\n",
       " 'which',\n",
       " 'with',\n",
       " 'words,'}"
      ]
     },
     "execution_count": 49,
     "metadata": {},
     "output_type": "execute_result"
    }
   ],
   "source": [
    "r2=set(r1)\n",
    "r2"
   ]
  },
  {
   "cell_type": "code",
   "execution_count": 50,
   "id": "af7a49d9-7097-416e-9161-58e3b6dff796",
   "metadata": {},
   "outputs": [
    {
     "data": {
      "text/plain": [
       "185"
      ]
     },
     "execution_count": 50,
     "metadata": {},
     "output_type": "execute_result"
    }
   ],
   "source": [
    "len(r1)"
   ]
  },
  {
   "cell_type": "code",
   "execution_count": 51,
   "id": "566e984c-a1d7-43c9-bc36-843965b42a7e",
   "metadata": {},
   "outputs": [
    {
     "data": {
      "text/plain": [
       "120"
      ]
     },
     "execution_count": 51,
     "metadata": {},
     "output_type": "execute_result"
    }
   ],
   "source": [
    "len(r2)"
   ]
  },
  {
   "cell_type": "code",
   "execution_count": 59,
   "id": "d623e9e4-584f-4c2f-8fb7-ccc6d6e6706c",
   "metadata": {},
   "outputs": [
    {
     "data": {
      "text/plain": [
       "{'about': 'sudh',\n",
       " 'culminated': 'sudh',\n",
       " 'Scientific': 'sudh',\n",
       " 'bodies,': 'sudh',\n",
       " 'geocentric': 'sudh',\n",
       " 'considered': 'sudh',\n",
       " 'If': 'sudh',\n",
       " 'for': 'sudh',\n",
       " 'motion': 'sudh',\n",
       " 'tendency': 'sudh',\n",
       " 'wanted': 'sudh',\n",
       " 'place-of-belonging.': 'sudh',\n",
       " 'at': 'sudh',\n",
       " 'Revolution,': 'sudh',\n",
       " 'displaced': 'sudh',\n",
       " \"Newton's\": 'sudh',\n",
       " 'movement': 'sudh',\n",
       " 'naturally': 'sudh',\n",
       " 'Ptolemaic': 'sudh',\n",
       " 'planets—including': 'sudh',\n",
       " 'a': 'sudh',\n",
       " 'including': 'sudh',\n",
       " 'move': 'sudh',\n",
       " 'belief': 'sudh',\n",
       " 'space,': 'sudh',\n",
       " 'ideas': 'sudh',\n",
       " 'Physics,': 'sudh',\n",
       " 'idea—that': 'sudh',\n",
       " 'celestial': 'sudh',\n",
       " 'revised': 'sudh',\n",
       " 'the': 'sudh',\n",
       " 'another': 'sudh',\n",
       " 'which': 'sudh',\n",
       " 'matter,': 'sudh',\n",
       " 'sun.': 'sudh',\n",
       " 'objects.': 'sudh',\n",
       " 'rest': 'sudh',\n",
       " 'understood': 'sudh',\n",
       " 'have': 'sudh',\n",
       " 'He': 'sudh',\n",
       " 'Earth,': 'sudh',\n",
       " 'explain': 'sudh',\n",
       " 'theories': 'sudh',\n",
       " 'pioneers': 'sudh',\n",
       " 'science,': 'sudh',\n",
       " 'circles.': 'sudh',\n",
       " 'gravitated': 'sudh',\n",
       " 'inclined': 'sudh',\n",
       " 'Principia': 'sudh',\n",
       " 'him': 'sudh',\n",
       " 'natural': 'sudh',\n",
       " 'modern': 'sudh',\n",
       " 'all': 'sudh',\n",
       " 'publication': 'sudh',\n",
       " 'Galilean': 'sudh',\n",
       " 'state': 'sudh',\n",
       " 'objects': 'sudh',\n",
       " 'is': 'sudh',\n",
       " 'Cartesian': 'sudh',\n",
       " 'Aristotelian': 'sudh',\n",
       " 'Earth': 'sudh',\n",
       " 'theory': 'sudh',\n",
       " 'space': 'sudh',\n",
       " 'sun': 'sudh',\n",
       " 'While': 'sudh',\n",
       " 'view': 'sudh',\n",
       " 'around': 'sudh',\n",
       " 'remain': 'sudh',\n",
       " 'question.': 'sudh',\n",
       " 'that': 'sudh',\n",
       " 'were': 'sudh',\n",
       " \"predecessors'\": 'sudh',\n",
       " 'to': 'sudh',\n",
       " 'other': 'sudh',\n",
       " 'and': 'sudh',\n",
       " 'center': 'sudh',\n",
       " 'an': 'sudh',\n",
       " 'from': 'sudh',\n",
       " 'backed': 'sudh',\n",
       " 'emerged': 'sudh',\n",
       " 'prove': 'sudh',\n",
       " 'influential': 'sudh',\n",
       " 'helped': 'sudh',\n",
       " 'its': 'sudh',\n",
       " '1687.[5]': 'sudh',\n",
       " 'in': 'sudh',\n",
       " 'words,': 'sudh',\n",
       " 'Galileo,': 'sudh',\n",
       " 'as': 'sudh',\n",
       " 'towards': 'sudh',\n",
       " 'his': 'sudh',\n",
       " 'one': 'sudh',\n",
       " 'Earth—revolving': 'sudh',\n",
       " 'axis,': 'sudh',\n",
       " 'cosmos.': 'sudh',\n",
       " 'with': 'sudh',\n",
       " 'foundation': 'sudh',\n",
       " 'are': 'sudh',\n",
       " 'designated': 'sudh',\n",
       " 'stationary': 'sudh',\n",
       " 'moved,': 'sudh',\n",
       " 'their': 'sudh',\n",
       " 'established': 'sudh',\n",
       " 'it': 'sudh',\n",
       " 'Galileo': 'sudh',\n",
       " 'heliocentric,': 'sudh',\n",
       " 'Copernican': 'sudh',\n",
       " 'In': 'sudh',\n",
       " 'As': 'sudh',\n",
       " 'This': 'sudh',\n",
       " 'moved': 'sudh',\n",
       " 'was': 'sudh',\n",
       " 'of': 'sudh',\n",
       " 'instead': 'sudh',\n",
       " 'rest.': 'sudh',\n",
       " 'most': 'sudh',\n",
       " 'time': 'sudh',\n",
       " 'object': 'sudh',\n",
       " 'same.': 'sudh',\n",
       " 'universe': 'sudh'}"
      ]
     },
     "execution_count": 59,
     "metadata": {},
     "output_type": "execute_result"
    }
   ],
   "source": [
    "dic=dict.fromkeys(r2,'sudh')\n",
    "dic"
   ]
  },
  {
   "cell_type": "code",
   "execution_count": 60,
   "id": "d8e2d88d-2705-469f-9a28-2cc3a656cd64",
   "metadata": {},
   "outputs": [],
   "source": [
    "r3= list(r2)"
   ]
  },
  {
   "cell_type": "code",
   "execution_count": 61,
   "id": "5024f2f2-daf1-41ef-a83e-ec460cc3c94e",
   "metadata": {},
   "outputs": [],
   "source": [
    "d1={}\n",
    "for i in r3:\n",
    "    d1[i]='sudhanshu'"
   ]
  },
  {
   "cell_type": "code",
   "execution_count": 62,
   "id": "ce75b0a7-8e57-4fad-ab4d-3c97d79b2384",
   "metadata": {},
   "outputs": [
    {
     "data": {
      "text/plain": [
       "{'about': 'sudhanshu',\n",
       " 'culminated': 'sudhanshu',\n",
       " 'Scientific': 'sudhanshu',\n",
       " 'bodies,': 'sudhanshu',\n",
       " 'geocentric': 'sudhanshu',\n",
       " 'considered': 'sudhanshu',\n",
       " 'If': 'sudhanshu',\n",
       " 'for': 'sudhanshu',\n",
       " 'motion': 'sudhanshu',\n",
       " 'tendency': 'sudhanshu',\n",
       " 'wanted': 'sudhanshu',\n",
       " 'place-of-belonging.': 'sudhanshu',\n",
       " 'at': 'sudhanshu',\n",
       " 'Revolution,': 'sudhanshu',\n",
       " 'displaced': 'sudhanshu',\n",
       " \"Newton's\": 'sudhanshu',\n",
       " 'movement': 'sudhanshu',\n",
       " 'naturally': 'sudhanshu',\n",
       " 'Ptolemaic': 'sudhanshu',\n",
       " 'planets—including': 'sudhanshu',\n",
       " 'a': 'sudhanshu',\n",
       " 'including': 'sudhanshu',\n",
       " 'move': 'sudhanshu',\n",
       " 'belief': 'sudhanshu',\n",
       " 'space,': 'sudhanshu',\n",
       " 'ideas': 'sudhanshu',\n",
       " 'Physics,': 'sudhanshu',\n",
       " 'idea—that': 'sudhanshu',\n",
       " 'celestial': 'sudhanshu',\n",
       " 'revised': 'sudhanshu',\n",
       " 'the': 'sudhanshu',\n",
       " 'another': 'sudhanshu',\n",
       " 'which': 'sudhanshu',\n",
       " 'matter,': 'sudhanshu',\n",
       " 'sun.': 'sudhanshu',\n",
       " 'objects.': 'sudhanshu',\n",
       " 'rest': 'sudhanshu',\n",
       " 'understood': 'sudhanshu',\n",
       " 'have': 'sudhanshu',\n",
       " 'He': 'sudhanshu',\n",
       " 'Earth,': 'sudhanshu',\n",
       " 'explain': 'sudhanshu',\n",
       " 'theories': 'sudhanshu',\n",
       " 'pioneers': 'sudhanshu',\n",
       " 'science,': 'sudhanshu',\n",
       " 'circles.': 'sudhanshu',\n",
       " 'gravitated': 'sudhanshu',\n",
       " 'inclined': 'sudhanshu',\n",
       " 'Principia': 'sudhanshu',\n",
       " 'him': 'sudhanshu',\n",
       " 'natural': 'sudhanshu',\n",
       " 'modern': 'sudhanshu',\n",
       " 'all': 'sudhanshu',\n",
       " 'publication': 'sudhanshu',\n",
       " 'Galilean': 'sudhanshu',\n",
       " 'state': 'sudhanshu',\n",
       " 'objects': 'sudhanshu',\n",
       " 'is': 'sudhanshu',\n",
       " 'Cartesian': 'sudhanshu',\n",
       " 'Aristotelian': 'sudhanshu',\n",
       " 'Earth': 'sudhanshu',\n",
       " 'theory': 'sudhanshu',\n",
       " 'space': 'sudhanshu',\n",
       " 'sun': 'sudhanshu',\n",
       " 'While': 'sudhanshu',\n",
       " 'view': 'sudhanshu',\n",
       " 'around': 'sudhanshu',\n",
       " 'remain': 'sudhanshu',\n",
       " 'question.': 'sudhanshu',\n",
       " 'that': 'sudhanshu',\n",
       " 'were': 'sudhanshu',\n",
       " \"predecessors'\": 'sudhanshu',\n",
       " 'to': 'sudhanshu',\n",
       " 'other': 'sudhanshu',\n",
       " 'and': 'sudhanshu',\n",
       " 'center': 'sudhanshu',\n",
       " 'an': 'sudhanshu',\n",
       " 'from': 'sudhanshu',\n",
       " 'backed': 'sudhanshu',\n",
       " 'emerged': 'sudhanshu',\n",
       " 'prove': 'sudhanshu',\n",
       " 'influential': 'sudhanshu',\n",
       " 'helped': 'sudhanshu',\n",
       " 'its': 'sudhanshu',\n",
       " '1687.[5]': 'sudhanshu',\n",
       " 'in': 'sudhanshu',\n",
       " 'words,': 'sudhanshu',\n",
       " 'Galileo,': 'sudhanshu',\n",
       " 'as': 'sudhanshu',\n",
       " 'towards': 'sudhanshu',\n",
       " 'his': 'sudhanshu',\n",
       " 'one': 'sudhanshu',\n",
       " 'Earth—revolving': 'sudhanshu',\n",
       " 'axis,': 'sudhanshu',\n",
       " 'cosmos.': 'sudhanshu',\n",
       " 'with': 'sudhanshu',\n",
       " 'foundation': 'sudhanshu',\n",
       " 'are': 'sudhanshu',\n",
       " 'designated': 'sudhanshu',\n",
       " 'stationary': 'sudhanshu',\n",
       " 'moved,': 'sudhanshu',\n",
       " 'their': 'sudhanshu',\n",
       " 'established': 'sudhanshu',\n",
       " 'it': 'sudhanshu',\n",
       " 'Galileo': 'sudhanshu',\n",
       " 'heliocentric,': 'sudhanshu',\n",
       " 'Copernican': 'sudhanshu',\n",
       " 'In': 'sudhanshu',\n",
       " 'As': 'sudhanshu',\n",
       " 'This': 'sudhanshu',\n",
       " 'moved': 'sudhanshu',\n",
       " 'was': 'sudhanshu',\n",
       " 'of': 'sudhanshu',\n",
       " 'instead': 'sudhanshu',\n",
       " 'rest.': 'sudhanshu',\n",
       " 'most': 'sudhanshu',\n",
       " 'time': 'sudhanshu',\n",
       " 'object': 'sudhanshu',\n",
       " 'same.': 'sudhanshu',\n",
       " 'universe': 'sudhanshu'}"
      ]
     },
     "execution_count": 62,
     "metadata": {},
     "output_type": "execute_result"
    }
   ],
   "source": [
    "d1"
   ]
  },
  {
   "cell_type": "code",
   "execution_count": 63,
   "id": "b69b4016-bae7-41e6-b9d9-0323f1863461",
   "metadata": {},
   "outputs": [],
   "source": [
    "t1=tuple(d1.values())"
   ]
  },
  {
   "cell_type": "code",
   "execution_count": 64,
   "id": "6be2e337-edd5-4812-bdff-878e5fb1f4bf",
   "metadata": {},
   "outputs": [
    {
     "data": {
      "text/plain": [
       "('sudhanshu',\n",
       " 'sudhanshu',\n",
       " 'sudhanshu',\n",
       " 'sudhanshu',\n",
       " 'sudhanshu',\n",
       " 'sudhanshu',\n",
       " 'sudhanshu',\n",
       " 'sudhanshu',\n",
       " 'sudhanshu',\n",
       " 'sudhanshu',\n",
       " 'sudhanshu',\n",
       " 'sudhanshu',\n",
       " 'sudhanshu',\n",
       " 'sudhanshu',\n",
       " 'sudhanshu',\n",
       " 'sudhanshu',\n",
       " 'sudhanshu',\n",
       " 'sudhanshu',\n",
       " 'sudhanshu',\n",
       " 'sudhanshu',\n",
       " 'sudhanshu',\n",
       " 'sudhanshu',\n",
       " 'sudhanshu',\n",
       " 'sudhanshu',\n",
       " 'sudhanshu',\n",
       " 'sudhanshu',\n",
       " 'sudhanshu',\n",
       " 'sudhanshu',\n",
       " 'sudhanshu',\n",
       " 'sudhanshu',\n",
       " 'sudhanshu',\n",
       " 'sudhanshu',\n",
       " 'sudhanshu',\n",
       " 'sudhanshu',\n",
       " 'sudhanshu',\n",
       " 'sudhanshu',\n",
       " 'sudhanshu',\n",
       " 'sudhanshu',\n",
       " 'sudhanshu',\n",
       " 'sudhanshu',\n",
       " 'sudhanshu',\n",
       " 'sudhanshu',\n",
       " 'sudhanshu',\n",
       " 'sudhanshu',\n",
       " 'sudhanshu',\n",
       " 'sudhanshu',\n",
       " 'sudhanshu',\n",
       " 'sudhanshu',\n",
       " 'sudhanshu',\n",
       " 'sudhanshu',\n",
       " 'sudhanshu',\n",
       " 'sudhanshu',\n",
       " 'sudhanshu',\n",
       " 'sudhanshu',\n",
       " 'sudhanshu',\n",
       " 'sudhanshu',\n",
       " 'sudhanshu',\n",
       " 'sudhanshu',\n",
       " 'sudhanshu',\n",
       " 'sudhanshu',\n",
       " 'sudhanshu',\n",
       " 'sudhanshu',\n",
       " 'sudhanshu',\n",
       " 'sudhanshu',\n",
       " 'sudhanshu',\n",
       " 'sudhanshu',\n",
       " 'sudhanshu',\n",
       " 'sudhanshu',\n",
       " 'sudhanshu',\n",
       " 'sudhanshu',\n",
       " 'sudhanshu',\n",
       " 'sudhanshu',\n",
       " 'sudhanshu',\n",
       " 'sudhanshu',\n",
       " 'sudhanshu',\n",
       " 'sudhanshu',\n",
       " 'sudhanshu',\n",
       " 'sudhanshu',\n",
       " 'sudhanshu',\n",
       " 'sudhanshu',\n",
       " 'sudhanshu',\n",
       " 'sudhanshu',\n",
       " 'sudhanshu',\n",
       " 'sudhanshu',\n",
       " 'sudhanshu',\n",
       " 'sudhanshu',\n",
       " 'sudhanshu',\n",
       " 'sudhanshu',\n",
       " 'sudhanshu',\n",
       " 'sudhanshu',\n",
       " 'sudhanshu',\n",
       " 'sudhanshu',\n",
       " 'sudhanshu',\n",
       " 'sudhanshu',\n",
       " 'sudhanshu',\n",
       " 'sudhanshu',\n",
       " 'sudhanshu',\n",
       " 'sudhanshu',\n",
       " 'sudhanshu',\n",
       " 'sudhanshu',\n",
       " 'sudhanshu',\n",
       " 'sudhanshu',\n",
       " 'sudhanshu',\n",
       " 'sudhanshu',\n",
       " 'sudhanshu',\n",
       " 'sudhanshu',\n",
       " 'sudhanshu',\n",
       " 'sudhanshu',\n",
       " 'sudhanshu',\n",
       " 'sudhanshu',\n",
       " 'sudhanshu',\n",
       " 'sudhanshu',\n",
       " 'sudhanshu',\n",
       " 'sudhanshu',\n",
       " 'sudhanshu',\n",
       " 'sudhanshu',\n",
       " 'sudhanshu',\n",
       " 'sudhanshu',\n",
       " 'sudhanshu',\n",
       " 'sudhanshu')"
      ]
     },
     "execution_count": 64,
     "metadata": {},
     "output_type": "execute_result"
    }
   ],
   "source": [
    "t1"
   ]
  },
  {
   "cell_type": "code",
   "execution_count": 65,
   "id": "bae21cde-4376-4fc8-85cd-38ce20d1f8bd",
   "metadata": {},
   "outputs": [
    {
     "data": {
      "text/plain": [
       "['about',\n",
       " 'culminated',\n",
       " 'Scientific',\n",
       " 'bodies,',\n",
       " 'geocentric',\n",
       " 'considered',\n",
       " 'If',\n",
       " 'for',\n",
       " 'motion',\n",
       " 'tendency',\n",
       " 'wanted',\n",
       " 'place-of-belonging.',\n",
       " 'at',\n",
       " 'Revolution,',\n",
       " 'displaced',\n",
       " \"Newton's\",\n",
       " 'movement',\n",
       " 'naturally',\n",
       " 'Ptolemaic',\n",
       " 'planets—including',\n",
       " 'a',\n",
       " 'including',\n",
       " 'move',\n",
       " 'belief',\n",
       " 'space,',\n",
       " 'ideas',\n",
       " 'Physics,',\n",
       " 'idea—that',\n",
       " 'celestial',\n",
       " 'revised',\n",
       " 'the',\n",
       " 'another',\n",
       " 'which',\n",
       " 'matter,',\n",
       " 'sun.',\n",
       " 'objects.',\n",
       " 'rest',\n",
       " 'understood',\n",
       " 'have',\n",
       " 'He',\n",
       " 'Earth,',\n",
       " 'explain',\n",
       " 'theories',\n",
       " 'pioneers',\n",
       " 'science,',\n",
       " 'circles.',\n",
       " 'gravitated',\n",
       " 'inclined',\n",
       " 'Principia',\n",
       " 'him',\n",
       " 'natural',\n",
       " 'modern',\n",
       " 'all',\n",
       " 'publication',\n",
       " 'Galilean',\n",
       " 'state',\n",
       " 'objects',\n",
       " 'is',\n",
       " 'Cartesian',\n",
       " 'Aristotelian',\n",
       " 'Earth',\n",
       " 'theory',\n",
       " 'space',\n",
       " 'sun',\n",
       " 'While',\n",
       " 'view',\n",
       " 'around',\n",
       " 'remain',\n",
       " 'question.',\n",
       " 'that',\n",
       " 'were',\n",
       " \"predecessors'\",\n",
       " 'to',\n",
       " 'other',\n",
       " 'and',\n",
       " 'center',\n",
       " 'an',\n",
       " 'from',\n",
       " 'backed',\n",
       " 'emerged',\n",
       " 'prove',\n",
       " 'influential',\n",
       " 'helped',\n",
       " 'its',\n",
       " '1687.[5]',\n",
       " 'in',\n",
       " 'words,',\n",
       " 'Galileo,',\n",
       " 'as',\n",
       " 'towards',\n",
       " 'his',\n",
       " 'one',\n",
       " 'Earth—revolving',\n",
       " 'axis,',\n",
       " 'cosmos.',\n",
       " 'with',\n",
       " 'foundation',\n",
       " 'are',\n",
       " 'designated',\n",
       " 'stationary',\n",
       " 'moved,',\n",
       " 'their',\n",
       " 'established',\n",
       " 'it',\n",
       " 'Galileo',\n",
       " 'heliocentric,',\n",
       " 'Copernican',\n",
       " 'In',\n",
       " 'As',\n",
       " 'This',\n",
       " 'moved',\n",
       " 'was',\n",
       " 'of',\n",
       " 'instead',\n",
       " 'rest.',\n",
       " 'most',\n",
       " 'time',\n",
       " 'object',\n",
       " 'same.',\n",
       " 'universe']"
      ]
     },
     "execution_count": 65,
     "metadata": {},
     "output_type": "execute_result"
    }
   ],
   "source": [
    "l1=list(d1.keys())\n",
    "l1"
   ]
  },
  {
   "cell_type": "code",
   "execution_count": 104,
   "id": "6687efde-f931-4ac3-934e-97b8302e2793",
   "metadata": {},
   "outputs": [],
   "source": [
    "dc={'company':'ineuron','year':2022}"
   ]
  },
  {
   "cell_type": "code",
   "execution_count": 105,
   "id": "b8e71853-d47b-42bd-9f4a-b60e72afa9ab",
   "metadata": {},
   "outputs": [
    {
     "name": "stdout",
     "output_type": "stream",
     "text": [
      "key is  company  and values is  ineuron\n",
      "key is  year  and values is  2022\n"
     ]
    }
   ],
   "source": [
    "for i in dc:\n",
    "    print('key is ',i, ' and values is ', dc[i]) # fetching kys and values"
   ]
  },
  {
   "cell_type": "code",
   "execution_count": 70,
   "id": "666e9d52-86cb-4bf1-aec8-208fae1cfff8",
   "metadata": {},
   "outputs": [],
   "source": [
    "for i in dc:\n",
    "    if i=='year':\n",
    "        if dc[i]> 2023:\n",
    "            print('fine !!!')\n",
    "        else:\n",
    "            dc[i]=2023 # if its not 2023, update 2023"
   ]
  },
  {
   "cell_type": "code",
   "execution_count": 71,
   "id": "3f1e1122-a881-4f5a-a19a-af9550afde8d",
   "metadata": {},
   "outputs": [
    {
     "data": {
      "text/plain": [
       "{'company': 'ineuron', 'year': 2023}"
      ]
     },
     "execution_count": 71,
     "metadata": {},
     "output_type": "execute_result"
    }
   ],
   "source": [
    "dc"
   ]
  },
  {
   "cell_type": "code",
   "execution_count": 111,
   "id": "8d674044-515f-40ae-84e9-b5907e34dc04",
   "metadata": {},
   "outputs": [],
   "source": [
    "# dic comprehension\n",
    "rs={}\n",
    "for i in range(11):\n",
    "    rs[i]=i*i #key is value from 0-10 and value is sqr"
   ]
  },
  {
   "cell_type": "code",
   "execution_count": 112,
   "id": "0c613445-171b-465c-83f2-f52fddb139d2",
   "metadata": {},
   "outputs": [
    {
     "data": {
      "text/plain": [
       "{0: 0, 1: 1, 2: 4, 3: 9, 4: 16, 5: 25, 6: 36, 7: 49, 8: 64, 9: 81, 10: 100}"
      ]
     },
     "execution_count": 112,
     "metadata": {},
     "output_type": "execute_result"
    }
   ],
   "source": [
    "rs"
   ]
  },
  {
   "cell_type": "code",
   "execution_count": null,
   "id": "fba56b04-f998-4af7-b809-4113a1536acb",
   "metadata": {},
   "outputs": [],
   "source": []
  },
  {
   "cell_type": "code",
   "execution_count": null,
   "id": "dcabeeb1-aeff-45ac-86ee-f0af62e92ee1",
   "metadata": {},
   "outputs": [],
   "source": []
  }
 ],
 "metadata": {
  "kernelspec": {
   "display_name": "Python 3 (ipykernel)",
   "language": "python",
   "name": "python3"
  },
  "language_info": {
   "codemirror_mode": {
    "name": "ipython",
    "version": 3
   },
   "file_extension": ".py",
   "mimetype": "text/x-python",
   "name": "python",
   "nbconvert_exporter": "python",
   "pygments_lexer": "ipython3",
   "version": "3.9.12"
  }
 },
 "nbformat": 4,
 "nbformat_minor": 5
}
