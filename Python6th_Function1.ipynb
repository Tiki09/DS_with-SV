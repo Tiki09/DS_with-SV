{
 "cells": [
  {
   "cell_type": "markdown",
   "id": "883dd236-8d41-4016-b79e-c5ab1265d606",
   "metadata": {},
   "source": [
    "## Function\n",
    "Starts with def keyword.\n",
    "used in reususbility, block of codes that we can used again and again.\n",
    "\n",
    "syn : \n",
    "\n",
    "def func_name(num of args):\n",
    "\n",
    "          body of func\n",
    "          \n",
    "          return"
   ]
  },
  {
   "cell_type": "code",
   "execution_count": 14,
   "id": "dbea58ad-6a07-4291-b532-14002405866b",
   "metadata": {},
   "outputs": [],
   "source": [
    "\n",
    "# addn operation\n",
    "def add():\n",
    "    a=int(input('enter 1st num:'))\n",
    "    b=int(input('enter 2nd num:'))\n",
    "    return a+b\n",
    "    "
   ]
  },
  {
   "cell_type": "code",
   "execution_count": 15,
   "id": "c7afd671-2dc4-4d85-b5d4-fd957d138f1b",
   "metadata": {},
   "outputs": [
    {
     "name": "stdin",
     "output_type": "stream",
     "text": [
      "enter 1st num: 10\n",
      "enter 2nd num: 10\n"
     ]
    },
    {
     "data": {
      "text/plain": [
       "20"
      ]
     },
     "execution_count": 15,
     "metadata": {},
     "output_type": "execute_result"
    }
   ],
   "source": [
    "add() # function call"
   ]
  },
  {
   "cell_type": "code",
   "execution_count": 27,
   "id": "af1fc23d-6f6a-4726-bcab-378e3d33211d",
   "metadata": {},
   "outputs": [
    {
     "data": {
      "text/plain": [
       "15"
      ]
     },
     "execution_count": 27,
     "metadata": {},
     "output_type": "execute_result"
    }
   ],
   "source": [
    "def add(x,y):\n",
    "    return x+y\n",
    "\n",
    "add(10,5)"
   ]
  },
  {
   "cell_type": "code",
   "execution_count": 16,
   "id": "edc4d531-7c63-4a11-88b0-2631bc04b679",
   "metadata": {},
   "outputs": [],
   "source": [
    "# quadratic eqn\n",
    "def quad(a,b,c):\n",
    "    d=((b*b)-4*a*c)\n",
    "    if d<0:\n",
    "        print('complex roots are present')\n",
    "        return d\n",
    "    x=(-b-d**(1/2))/2*a\n",
    "    y=(-b+d**(1/2))/2*a\n",
    "    if x<0 and y<0:\n",
    "        print('both -ve')\n",
    "        return x,y\n",
    "    elif x<0 and y>0:\n",
    "        print('x -ve, y value:')\n",
    "        return y\n",
    "    elif x>0 and y<0:\n",
    "        print('y -ve, x value:')\n",
    "        return x\n",
    "    else:\n",
    "        print('both +ve')\n",
    "        return x,y"
   ]
  },
  {
   "cell_type": "code",
   "execution_count": 17,
   "id": "b3c24786-b5be-4ce8-b3df-f01aae7e3209",
   "metadata": {},
   "outputs": [
    {
     "name": "stdout",
     "output_type": "stream",
     "text": [
      "both +ve\n"
     ]
    },
    {
     "data": {
      "text/plain": [
       "(3.0, 4.0)"
      ]
     },
     "execution_count": 17,
     "metadata": {},
     "output_type": "execute_result"
    }
   ],
   "source": [
    "quad(1,-7,12)"
   ]
  },
  {
   "cell_type": "code",
   "execution_count": 18,
   "id": "10739c0a-942f-4330-ab2e-d2339a32a7e0",
   "metadata": {},
   "outputs": [
    {
     "name": "stdout",
     "output_type": "stream",
     "text": [
      "complex roots are present\n"
     ]
    },
    {
     "data": {
      "text/plain": [
       "-3"
      ]
     },
     "execution_count": 18,
     "metadata": {},
     "output_type": "execute_result"
    }
   ],
   "source": [
    "quad(1,1,1)"
   ]
  },
  {
   "cell_type": "code",
   "execution_count": 22,
   "id": "983e1977-c8ba-4b7b-9a4d-0e9be53a1189",
   "metadata": {},
   "outputs": [
    {
     "data": {
      "text/plain": [
       "100"
      ]
     },
     "execution_count": 22,
     "metadata": {},
     "output_type": "execute_result"
    }
   ],
   "source": [
    "def test1(p,q):\n",
    "    return p*q #multiplication\n",
    "\n",
    "test1(2,50)"
   ]
  },
  {
   "cell_type": "code",
   "execution_count": 23,
   "id": "2cb6e2ae-3ce5-4a7a-9939-f39d5a5466da",
   "metadata": {},
   "outputs": [
    {
     "data": {
      "text/plain": [
       "205"
      ]
     },
     "execution_count": 23,
     "metadata": {},
     "output_type": "execute_result"
    }
   ],
   "source": [
    "test1(20,10)+5"
   ]
  },
  {
   "cell_type": "code",
   "execution_count": 30,
   "id": "ce00d959-c6bf-4819-8e08-3818ad54e589",
   "metadata": {},
   "outputs": [
    {
     "data": {
      "text/plain": [
       "10"
      ]
     },
     "execution_count": 30,
     "metadata": {},
     "output_type": "execute_result"
    }
   ],
   "source": [
    "add(3,5)+2\n",
    "# in return statement we can add an additional arg like this , but incase of print \n",
    "# statemnet inside function it gives error"
   ]
  },
  {
   "cell_type": "code",
   "execution_count": null,
   "id": "eead55ad-5f93-412b-9841-02a299535b74",
   "metadata": {},
   "outputs": [
    {
     "data": {
      "text/plain": [
       "200"
      ]
     },
     "execution_count": 1,
     "metadata": {},
     "output_type": "execute_result"
    }
   ],
   "source": [
    "def test2(p,q,r):\n",
    "    return p*r\n",
    "\n",
    "test2(10,10,20)"
   ]
  },
  {
   "cell_type": "code",
   "execution_count": 44,
   "id": "9a1bdb72-2fb6-4d96-830e-44fe876f65a5",
   "metadata": {},
   "outputs": [
    {
     "data": {
      "text/plain": [
       "(50, 30, 2)"
      ]
     },
     "execution_count": 44,
     "metadata": {},
     "output_type": "execute_result"
    }
   ],
   "source": [
    "def test4(n,m):\n",
    "    return n*10,m*10,n-m\n",
    "\n",
    "test4(5,3)"
   ]
  },
  {
   "cell_type": "code",
   "execution_count": 45,
   "id": "e1cffdf8-e16a-4983-ba52-daff3256819e",
   "metadata": {},
   "outputs": [
    {
     "data": {
      "text/plain": [
       "tuple"
      ]
     },
     "execution_count": 45,
     "metadata": {},
     "output_type": "execute_result"
    }
   ],
   "source": [
    "type(test4(5,3))"
   ]
  },
  {
   "cell_type": "code",
   "execution_count": 46,
   "id": "4f571df1-8295-4f94-96f1-185857f488e3",
   "metadata": {},
   "outputs": [],
   "source": [
    "i,_,j =test4(5,3)"
   ]
  },
  {
   "cell_type": "code",
   "execution_count": 47,
   "id": "899789a3-5dc5-4c55-b539-313b856ff1be",
   "metadata": {},
   "outputs": [
    {
     "data": {
      "text/plain": [
       "30"
      ]
     },
     "execution_count": 47,
     "metadata": {},
     "output_type": "execute_result"
    }
   ],
   "source": [
    "_"
   ]
  },
  {
   "cell_type": "code",
   "execution_count": 48,
   "id": "018dd7bf-5be8-4d51-89b8-e36de8d15b83",
   "metadata": {},
   "outputs": [
    {
     "data": {
      "text/plain": [
       "50"
      ]
     },
     "execution_count": 48,
     "metadata": {},
     "output_type": "execute_result"
    }
   ],
   "source": [
    "i"
   ]
  },
  {
   "cell_type": "code",
   "execution_count": 50,
   "id": "db4687da-2f66-4227-95f2-979c2b659fdd",
   "metadata": {},
   "outputs": [
    {
     "data": {
      "text/plain": [
       "2"
      ]
     },
     "execution_count": 50,
     "metadata": {},
     "output_type": "execute_result"
    }
   ],
   "source": [
    "j"
   ]
  },
  {
   "cell_type": "code",
   "execution_count": null,
   "id": "d186529d-ac59-4e2e-8886-8be508816c90",
   "metadata": {},
   "outputs": [
    {
     "data": {
      "text/plain": [
       "10"
      ]
     },
     "execution_count": 2,
     "metadata": {},
     "output_type": "execute_result"
    }
   ],
   "source": [
    "def test5(n):\n",
    "    return n*2\n",
    "\n",
    "test5([1,2,3])"
   ]
  },
  {
   "cell_type": "code",
   "execution_count": 8,
   "id": "f4f6f3da-3119-404c-89be-080ad028b42d",
   "metadata": {},
   "outputs": [
    {
     "data": {
      "text/plain": [
       "12"
      ]
     },
     "execution_count": 8,
     "metadata": {},
     "output_type": "execute_result"
    }
   ],
   "source": [
    "# assigning default value\n",
    "def prac(n=2,m=4):\n",
    "    return n*m\n",
    "\n",
    "prac(3)"
   ]
  },
  {
   "cell_type": "code",
   "execution_count": 56,
   "id": "0faf597d-84ed-462c-8032-bf132f63c7ca",
   "metadata": {},
   "outputs": [
    {
     "data": {
      "text/plain": [
       "0"
      ]
     },
     "execution_count": 56,
     "metadata": {},
     "output_type": "execute_result"
    }
   ],
   "source": [
    "def boolx(x=True,y=False):\n",
    "    return x*y\n",
    "\n",
    "boolx()"
   ]
  },
  {
   "cell_type": "code",
   "execution_count": 58,
   "id": "c07b4ac6-d614-4a89-b47a-d1010b7de6fe",
   "metadata": {},
   "outputs": [
    {
     "data": {
      "text/plain": [
       "1"
      ]
     },
     "execution_count": 58,
     "metadata": {},
     "output_type": "execute_result"
    }
   ],
   "source": [
    "boolx(1,True)"
   ]
  },
  {
   "cell_type": "code",
   "execution_count": 59,
   "id": "f82f9f8d-ee31-495c-9cff-16c95f59fb67",
   "metadata": {},
   "outputs": [
    {
     "data": {
      "text/plain": [
       "(True, False, False)"
      ]
     },
     "execution_count": 59,
     "metadata": {},
     "output_type": "execute_result"
    }
   ],
   "source": [
    "def travel(bike=True,car=False):\n",
    "    plan=bike and car\n",
    "    return bike,car,plan\n",
    "\n",
    "travel()"
   ]
  },
  {
   "cell_type": "code",
   "execution_count": 10,
   "id": "2ba8a82a-86ea-4928-8a1a-f431e8b47af1",
   "metadata": {},
   "outputs": [
    {
     "name": "stdout",
     "output_type": "stream",
     "text": [
      "([1, 2, 3], 'tiku,c,d', 67)\n"
     ]
    },
    {
     "data": {
      "text/plain": [
       "(([1, 2, 3], 'tiku,c,d', 67), 'tiki')"
      ]
     },
     "execution_count": 10,
     "metadata": {},
     "output_type": "execute_result"
    }
   ],
   "source": [
    "#take multiple value as an arg by using *args\n",
    "def prac1(*args,z='tiki'):\n",
    "    print(args)#returns a tuples\n",
    "    return args,z\n",
    "\n",
    "prac1([1,2,3],'tiku,c,d',67)\n"
   ]
  },
  {
   "cell_type": "code",
   "execution_count": 68,
   "id": "c68cd18c-8d79-439d-82b7-0fdb6a3f8518",
   "metadata": {},
   "outputs": [
    {
     "data": {
      "text/plain": [
       "[1, 2, 3, 4, 5, 6, 7, 8, 9]"
      ]
     },
     "execution_count": 68,
     "metadata": {},
     "output_type": "execute_result"
    }
   ],
   "source": [
    "def prac2(*args):\n",
    "    l=[]\n",
    "    for i in args:\n",
    "        #l.append(i)\n",
    "        l=l+i\n",
    "    return l\n",
    "\n",
    "prac2([1,2,3],[4,5,6],[7,8,9])\n",
    "        "
   ]
  },
  {
   "cell_type": "code",
   "execution_count": 69,
   "id": "e50db3b3-5974-4a29-a061-60cc821591b4",
   "metadata": {},
   "outputs": [
    {
     "data": {
      "text/plain": [
       "[1, 2, 3, 4, 5, 6, 7, 8, 9]"
      ]
     },
     "execution_count": 69,
     "metadata": {},
     "output_type": "execute_result"
    }
   ],
   "source": [
    "#extend func\n",
    "def prac3(*args):\n",
    "    l=[]\n",
    "    for i in args:\n",
    "        l.extend(i)\n",
    "        #l=l+i\n",
    "    return l\n",
    "\n",
    "prac2([1,2,3],[4,5,6],[7,8,9])\n",
    "        "
   ]
  },
  {
   "cell_type": "code",
   "execution_count": 74,
   "id": "534fbcd7-03ca-4870-99ae-d4903aba5e7b",
   "metadata": {},
   "outputs": [
    {
     "data": {
      "text/plain": [
       "{'a': 8, 'b': 10, 'c': 11, 'd': 'tiki'}"
      ]
     },
     "execution_count": 74,
     "metadata": {},
     "output_type": "execute_result"
    }
   ],
   "source": [
    "def prac4(**arg): #it accept only key,value pair args,returns a dict\n",
    "    return arg\n",
    "\n",
    "prac4(a=8,b=10,c=11,d='tiki')"
   ]
  },
  {
   "cell_type": "code",
   "execution_count": 75,
   "id": "036ede21-acb1-40ca-ab32-37f73bf17ccf",
   "metadata": {},
   "outputs": [
    {
     "ename": "TypeError",
     "evalue": "prac4() takes 0 positional arguments but 3 were given",
     "output_type": "error",
     "traceback": [
      "\u001b[1;31m---------------------------------------------------------------------------\u001b[0m",
      "\u001b[1;31mTypeError\u001b[0m                                 Traceback (most recent call last)",
      "Input \u001b[1;32mIn [75]\u001b[0m, in \u001b[0;36m<cell line: 1>\u001b[1;34m()\u001b[0m\n\u001b[1;32m----> 1\u001b[0m \u001b[43mprac4\u001b[49m\u001b[43m(\u001b[49m\u001b[38;5;241;43m1\u001b[39;49m\u001b[43m,\u001b[49m\u001b[38;5;241;43m2\u001b[39;49m\u001b[43m,\u001b[49m\u001b[38;5;241;43m3\u001b[39;49m\u001b[43m)\u001b[49m\n",
      "\u001b[1;31mTypeError\u001b[0m: prac4() takes 0 positional arguments but 3 were given"
     ]
    }
   ],
   "source": [
    "prac4(1,2,3)"
   ]
  },
  {
   "cell_type": "code",
   "execution_count": null,
   "id": "e7499b45-a8fe-462c-aef7-23be36d9f209",
   "metadata": {},
   "outputs": [],
   "source": []
  },
  {
   "cell_type": "code",
   "execution_count": null,
   "id": "0658799d-8be8-4b69-a2a6-4d1cf41ef02b",
   "metadata": {},
   "outputs": [],
   "source": []
  }
 ],
 "metadata": {
  "kernelspec": {
   "display_name": "Python 3 (ipykernel)",
   "language": "python",
   "name": "python3"
  },
  "language_info": {
   "codemirror_mode": {
    "name": "ipython",
    "version": 3
   },
   "file_extension": ".py",
   "mimetype": "text/x-python",
   "name": "python",
   "nbconvert_exporter": "python",
   "pygments_lexer": "ipython3",
   "version": "3.9.12"
  }
 },
 "nbformat": 4,
 "nbformat_minor": 5
}
